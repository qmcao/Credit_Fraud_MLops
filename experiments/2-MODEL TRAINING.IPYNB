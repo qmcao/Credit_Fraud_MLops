{
 "cells": [
  {
   "cell_type": "markdown",
   "metadata": {},
   "source": [
    "### 1. Data Cleaning and Preprocessing"
   ]
  },
  {
   "cell_type": "markdown",
   "metadata": {},
   "source": [
    "- Workflow:\n",
    "\n",
    "1. Split your data into train and test sets.\n",
    "2. Drop, Impute missing values (fit on train, transform test).\n",
    "3. Select features (fit on train, apply to test).\n",
    "4. Scale numerical features (fit on train, transform test).\n",
    "5. Encode categorical features (fit on train, transform test)."
   ]
  },
  {
   "cell_type": "code",
   "execution_count": 1,
   "metadata": {},
   "outputs": [],
   "source": [
    "import numpy as np\n",
    "import pandas as pd\n",
    "import seaborn as sns\n",
    "import matplotlib.pyplot as plt\n",
    "\n",
    "# Define Random State\n",
    "RANDOM_STATE = 42"
   ]
  },
  {
   "cell_type": "markdown",
   "metadata": {},
   "source": [
    "#### 1.1 Find Missing Values"
   ]
  },
  {
   "cell_type": "markdown",
   "metadata": {},
   "source": [
    "#### Note : Some variables contains negative values, this indicate missing data that need to be processed"
   ]
  },
  {
   "cell_type": "code",
   "execution_count": 2,
   "metadata": {},
   "outputs": [
    {
     "data": {
      "text/html": [
       "<div>\n",
       "<style scoped>\n",
       "    .dataframe tbody tr th:only-of-type {\n",
       "        vertical-align: middle;\n",
       "    }\n",
       "\n",
       "    .dataframe tbody tr th {\n",
       "        vertical-align: top;\n",
       "    }\n",
       "\n",
       "    .dataframe thead th {\n",
       "        text-align: right;\n",
       "    }\n",
       "</style>\n",
       "<table border=\"1\" class=\"dataframe\">\n",
       "  <thead>\n",
       "    <tr style=\"text-align: right;\">\n",
       "      <th></th>\n",
       "      <th>fraud_bool</th>\n",
       "      <th>income</th>\n",
       "      <th>name_email_similarity</th>\n",
       "      <th>prev_address_months_count</th>\n",
       "      <th>current_address_months_count</th>\n",
       "      <th>customer_age</th>\n",
       "      <th>days_since_request</th>\n",
       "      <th>intended_balcon_amount</th>\n",
       "      <th>payment_type</th>\n",
       "      <th>zip_count_4w</th>\n",
       "      <th>...</th>\n",
       "      <th>has_other_cards</th>\n",
       "      <th>proposed_credit_limit</th>\n",
       "      <th>foreign_request</th>\n",
       "      <th>source</th>\n",
       "      <th>session_length_in_minutes</th>\n",
       "      <th>device_os</th>\n",
       "      <th>keep_alive_session</th>\n",
       "      <th>device_distinct_emails_8w</th>\n",
       "      <th>device_fraud_count</th>\n",
       "      <th>month</th>\n",
       "    </tr>\n",
       "  </thead>\n",
       "  <tbody>\n",
       "    <tr>\n",
       "      <th>0</th>\n",
       "      <td>0</td>\n",
       "      <td>0.9</td>\n",
       "      <td>0.990415</td>\n",
       "      <td>11</td>\n",
       "      <td>4</td>\n",
       "      <td>40</td>\n",
       "      <td>0.014640</td>\n",
       "      <td>-0.897718</td>\n",
       "      <td>AC</td>\n",
       "      <td>1853</td>\n",
       "      <td>...</td>\n",
       "      <td>0</td>\n",
       "      <td>200.0</td>\n",
       "      <td>0</td>\n",
       "      <td>INTERNET</td>\n",
       "      <td>6.150317</td>\n",
       "      <td>windows</td>\n",
       "      <td>0</td>\n",
       "      <td>1</td>\n",
       "      <td>0</td>\n",
       "      <td>0</td>\n",
       "    </tr>\n",
       "    <tr>\n",
       "      <th>1</th>\n",
       "      <td>0</td>\n",
       "      <td>0.4</td>\n",
       "      <td>0.781728</td>\n",
       "      <td>-1</td>\n",
       "      <td>151</td>\n",
       "      <td>30</td>\n",
       "      <td>0.013269</td>\n",
       "      <td>11.501507</td>\n",
       "      <td>AA</td>\n",
       "      <td>5447</td>\n",
       "      <td>...</td>\n",
       "      <td>0</td>\n",
       "      <td>1500.0</td>\n",
       "      <td>0</td>\n",
       "      <td>INTERNET</td>\n",
       "      <td>4.521952</td>\n",
       "      <td>windows</td>\n",
       "      <td>1</td>\n",
       "      <td>1</td>\n",
       "      <td>0</td>\n",
       "      <td>0</td>\n",
       "    </tr>\n",
       "    <tr>\n",
       "      <th>2</th>\n",
       "      <td>0</td>\n",
       "      <td>0.7</td>\n",
       "      <td>0.274290</td>\n",
       "      <td>-1</td>\n",
       "      <td>92</td>\n",
       "      <td>20</td>\n",
       "      <td>0.010669</td>\n",
       "      <td>23.943928</td>\n",
       "      <td>AA</td>\n",
       "      <td>2312</td>\n",
       "      <td>...</td>\n",
       "      <td>0</td>\n",
       "      <td>200.0</td>\n",
       "      <td>0</td>\n",
       "      <td>INTERNET</td>\n",
       "      <td>8.361707</td>\n",
       "      <td>other</td>\n",
       "      <td>1</td>\n",
       "      <td>1</td>\n",
       "      <td>0</td>\n",
       "      <td>0</td>\n",
       "    </tr>\n",
       "    <tr>\n",
       "      <th>3</th>\n",
       "      <td>0</td>\n",
       "      <td>0.9</td>\n",
       "      <td>0.722684</td>\n",
       "      <td>-1</td>\n",
       "      <td>55</td>\n",
       "      <td>20</td>\n",
       "      <td>0.021849</td>\n",
       "      <td>48.202774</td>\n",
       "      <td>AA</td>\n",
       "      <td>2413</td>\n",
       "      <td>...</td>\n",
       "      <td>0</td>\n",
       "      <td>1500.0</td>\n",
       "      <td>0</td>\n",
       "      <td>INTERNET</td>\n",
       "      <td>7.339743</td>\n",
       "      <td>other</td>\n",
       "      <td>0</td>\n",
       "      <td>1</td>\n",
       "      <td>0</td>\n",
       "      <td>0</td>\n",
       "    </tr>\n",
       "    <tr>\n",
       "      <th>4</th>\n",
       "      <td>0</td>\n",
       "      <td>0.9</td>\n",
       "      <td>0.121661</td>\n",
       "      <td>-1</td>\n",
       "      <td>51</td>\n",
       "      <td>20</td>\n",
       "      <td>0.021491</td>\n",
       "      <td>-1.602116</td>\n",
       "      <td>AB</td>\n",
       "      <td>1227</td>\n",
       "      <td>...</td>\n",
       "      <td>0</td>\n",
       "      <td>1500.0</td>\n",
       "      <td>0</td>\n",
       "      <td>INTERNET</td>\n",
       "      <td>4.338063</td>\n",
       "      <td>other</td>\n",
       "      <td>0</td>\n",
       "      <td>1</td>\n",
       "      <td>0</td>\n",
       "      <td>0</td>\n",
       "    </tr>\n",
       "  </tbody>\n",
       "</table>\n",
       "<p>5 rows × 32 columns</p>\n",
       "</div>"
      ],
      "text/plain": [
       "   fraud_bool  income  name_email_similarity  prev_address_months_count  \\\n",
       "0           0     0.9               0.990415                         11   \n",
       "1           0     0.4               0.781728                         -1   \n",
       "2           0     0.7               0.274290                         -1   \n",
       "3           0     0.9               0.722684                         -1   \n",
       "4           0     0.9               0.121661                         -1   \n",
       "\n",
       "   current_address_months_count  customer_age  days_since_request  \\\n",
       "0                             4            40            0.014640   \n",
       "1                           151            30            0.013269   \n",
       "2                            92            20            0.010669   \n",
       "3                            55            20            0.021849   \n",
       "4                            51            20            0.021491   \n",
       "\n",
       "   intended_balcon_amount payment_type  zip_count_4w  ...  has_other_cards  \\\n",
       "0               -0.897718           AC          1853  ...                0   \n",
       "1               11.501507           AA          5447  ...                0   \n",
       "2               23.943928           AA          2312  ...                0   \n",
       "3               48.202774           AA          2413  ...                0   \n",
       "4               -1.602116           AB          1227  ...                0   \n",
       "\n",
       "   proposed_credit_limit  foreign_request    source  \\\n",
       "0                  200.0                0  INTERNET   \n",
       "1                 1500.0                0  INTERNET   \n",
       "2                  200.0                0  INTERNET   \n",
       "3                 1500.0                0  INTERNET   \n",
       "4                 1500.0                0  INTERNET   \n",
       "\n",
       "   session_length_in_minutes device_os  keep_alive_session  \\\n",
       "0                   6.150317   windows                   0   \n",
       "1                   4.521952   windows                   1   \n",
       "2                   8.361707     other                   1   \n",
       "3                   7.339743     other                   0   \n",
       "4                   4.338063     other                   0   \n",
       "\n",
       "   device_distinct_emails_8w device_fraud_count  month  \n",
       "0                          1                  0      0  \n",
       "1                          1                  0      0  \n",
       "2                          1                  0      0  \n",
       "3                          1                  0      0  \n",
       "4                          1                  0      0  \n",
       "\n",
       "[5 rows x 32 columns]"
      ]
     },
     "execution_count": 2,
     "metadata": {},
     "output_type": "execute_result"
    }
   ],
   "source": [
    "df = pd.read_csv(\"s3://ml-feature-store-029552764749/credit_fraud/data/fraud_1.csv\")\n",
    "df.head()"
   ]
  },
  {
   "cell_type": "code",
   "execution_count": 3,
   "metadata": {},
   "outputs": [],
   "source": [
    "columns_to_check = ['prev_address_months_count', 'current_address_months_count', 'intended_balcon_amount', 'bank_months_count', \n",
    "                    'session_length_in_minutes', 'device_distinct_emails_8w']  \n",
    "\n",
    "# Convert negative value to nan\n",
    "df[columns_to_check] = df[columns_to_check].where(df[columns_to_check] >= 0, np.nan)"
   ]
  },
  {
   "cell_type": "markdown",
   "metadata": {},
   "source": [
    "##### Columns with 70% of their value missing"
   ]
  },
  {
   "cell_type": "code",
   "execution_count": 5,
   "metadata": {},
   "outputs": [
    {
     "data": {
      "text/plain": [
       "['prev_address_months_count', 'intended_balcon_amount']"
      ]
     },
     "execution_count": 5,
     "metadata": {},
     "output_type": "execute_result"
    }
   ],
   "source": [
    "missing_ratio = df.isnull().sum() / len(df)        \n",
    "missing_ratio[missing_ratio > 0.7].index.tolist()"
   ]
  },
  {
   "cell_type": "code",
   "execution_count": 6,
   "metadata": {},
   "outputs": [
    {
     "data": {
      "text/plain": [
       "fraud_bool                               0\n",
       "income                                   0\n",
       "name_email_similarity                    0\n",
       "prev_address_months_count           704367\n",
       "current_address_months_count          4442\n",
       "customer_age                             0\n",
       "days_since_request                       0\n",
       "intended_balcon_amount              739988\n",
       "payment_type                             0\n",
       "zip_count_4w                             0\n",
       "velocity_6h                              0\n",
       "velocity_24h                             0\n",
       "velocity_4w                              0\n",
       "bank_branch_count_8w                     0\n",
       "date_of_birth_distinct_emails_4w         0\n",
       "employment_status                        0\n",
       "credit_risk_score                        0\n",
       "email_is_free                            0\n",
       "housing_status                           0\n",
       "phone_home_valid                         0\n",
       "phone_mobile_valid                       0\n",
       "bank_months_count                   254905\n",
       "has_other_cards                          0\n",
       "proposed_credit_limit                    0\n",
       "foreign_request                          0\n",
       "source                                   0\n",
       "session_length_in_minutes             1842\n",
       "device_os                                0\n",
       "keep_alive_session                       0\n",
       "device_distinct_emails_8w              318\n",
       "device_fraud_count                       0\n",
       "month                                    0\n",
       "dtype: int64"
      ]
     },
     "execution_count": 6,
     "metadata": {},
     "output_type": "execute_result"
    }
   ],
   "source": [
    "df.isnull().sum()"
   ]
  },
  {
   "cell_type": "markdown",
   "metadata": {},
   "source": [
    "#### Draw box plot of all missing data"
   ]
  },
  {
   "cell_type": "code",
   "execution_count": 7,
   "metadata": {},
   "outputs": [
    {
     "data": {
      "image/png": "[encoded data removed]",
      "text/plain": [
       "<Figure size 3000x500 with 6 Axes>"
      ]
     },
     "metadata": {},
     "output_type": "display_data"
    }
   ],
   "source": [
    "df_missing = df[['prev_address_months_count', 'current_address_months_count', 'intended_balcon_amount', 'bank_months_count', 'session_length_in_minutes', \n",
    "                 'device_distinct_emails_8w']]\n",
    "\n",
    "# Create box plots for multiple features\n",
    "# Determine the number of features\n",
    "num_features = len(df_missing.columns)\n",
    "\n",
    "# Create subplots\n",
    "fig, axes = plt.subplots(nrows=1, ncols=num_features, figsize=(num_features * 5, 5))\n",
    "\n",
    "# Ensure axes is iterable\n",
    "if num_features == 1:\n",
    "    axes = [axes]\n",
    "\n",
    "# Define a color palette\n",
    "colors = sns.color_palette('Set2', num_features)\n",
    "\n",
    "# Loop through each feature\n",
    "for i, (ax, column) in enumerate(zip(axes, df_missing.columns)):\n",
    "    # Plot the KDE plot\n",
    "    #sns.kdeplot(data=df_missing[column], ax=ax, color=colors[i], fill=True, alpha=0.3)\n",
    "    \n",
    "    # Add the box plot on the same axes\n",
    "    sns.boxplot(y=df_missing[column], ax=ax, width=0.1, color=colors[i])\n",
    "\n",
    "    ax.set_title(f'Box Plot of {column}')\n",
    "    ax.set_xlabel('')\n",
    "    ax.set_ylabel('Density')\n",
    "\n",
    "# Adjust layout\n",
    "plt.tight_layout()\n",
    "plt.show()"
   ]
  },
  {
   "cell_type": "markdown",
   "metadata": {},
   "source": [
    "#### Insights\n",
    "- Filling NA:\n",
    "    - **device_distinct_emails_8w**: SimpleImputer(strategy='most_frequent')\n",
    "    - **session_length_in_minutes**: SimpleImputer(strategy='median')\n",
    "    - **intended_balcon_amount**: consider dropping (High percentage of missing in a feature)\n",
    "    - **current_address_months_count**: SimpleImputer(strategy='median') (outliers)\n",
    "    - **prev_address_months_count**: consider dropping (High percentage of missing in a feature)\n",
    "\n",
    "- Scaling, encoding: \n",
    "    - **device_distinct_emails_8w**: One-Hot Encoding (nominal categorical)\n",
    "    - **session_length_in_minutes**: Robust Scaling (outliers)\n",
    "    - **intended_balcon_amount**: consider dropping (High percentage of missing in a feature)\n",
    "    - **current_address_months_count**: Robust Scaling (outliers)\n",
    "    - **prev_address_months_count**: consider dropping (High percentage of missing in a feature)"
   ]
  },
  {
   "cell_type": "markdown",
   "metadata": {},
   "source": [
    "#### Dropping features \n",
    "- Drop value with high percentage of missing"
   ]
  },
  {
   "cell_type": "code",
   "execution_count": 8,
   "metadata": {},
   "outputs": [
    {
     "data": {
      "text/plain": [
       "(1000000, 29)"
      ]
     },
     "execution_count": 8,
     "metadata": {},
     "output_type": "execute_result"
    }
   ],
   "source": [
    "#drop intended_balcon_amount and prev_address_months_count\n",
    "df.drop(['prev_address_months_count', 'intended_balcon_amount', 'device_fraud_count'], axis=1, inplace=True)\n",
    "df.shape"
   ]
  },
  {
   "cell_type": "markdown",
   "metadata": {},
   "source": [
    "## 2. Data Preprocessing"
   ]
  },
  {
   "cell_type": "markdown",
   "metadata": {},
   "source": [
    "##### Split your dataset BEFORE fitting any preprocessing to avoid data leakage"
   ]
  },
  {
   "cell_type": "code",
   "execution_count": 9,
   "metadata": {},
   "outputs": [],
   "source": [
    "from sklearn.model_selection import train_test_split\n",
    "\n",
    "X = df.drop(['fraud_bool'], axis=1)\n",
    "y = df['fraud_bool']\n",
    "\n",
    "\n",
    "X_train, X_test, y_train, y_test = train_test_split(\n",
    "    X, y, \n",
    "    test_size=0.2, \n",
    "    random_state=RANDOM_STATE, \n",
    "    stratify=y\n",
    ")"
   ]
  },
  {
   "cell_type": "code",
   "execution_count": 10,
   "metadata": {},
   "outputs": [
    {
     "data": {
      "text/plain": [
       "((800000, 28), (200000, 28))"
      ]
     },
     "execution_count": 10,
     "metadata": {},
     "output_type": "execute_result"
    }
   ],
   "source": [
    "X_train.shape, X_test.shape\n"
   ]
  },
  {
   "cell_type": "code",
   "execution_count": 11,
   "metadata": {},
   "outputs": [
    {
     "name": "stdout",
     "output_type": "stream",
     "text": [
      "Number of numerical features: 17\n",
      "Number of categorical features: 10\n"
     ]
    },
    {
     "data": {
      "text/html": [
       "<div>\n",
       "<style scoped>\n",
       "    .dataframe tbody tr th:only-of-type {\n",
       "        vertical-align: middle;\n",
       "    }\n",
       "\n",
       "    .dataframe tbody tr th {\n",
       "        vertical-align: top;\n",
       "    }\n",
       "\n",
       "    .dataframe thead th {\n",
       "        text-align: right;\n",
       "    }\n",
       "</style>\n",
       "<table border=\"1\" class=\"dataframe\">\n",
       "  <thead>\n",
       "    <tr style=\"text-align: right;\">\n",
       "      <th></th>\n",
       "      <th>income</th>\n",
       "      <th>name_email_similarity</th>\n",
       "      <th>current_address_months_count</th>\n",
       "      <th>customer_age</th>\n",
       "      <th>days_since_request</th>\n",
       "      <th>zip_count_4w</th>\n",
       "      <th>velocity_6h</th>\n",
       "      <th>velocity_24h</th>\n",
       "      <th>velocity_4w</th>\n",
       "      <th>bank_branch_count_8w</th>\n",
       "      <th>date_of_birth_distinct_emails_4w</th>\n",
       "      <th>credit_risk_score</th>\n",
       "      <th>bank_months_count</th>\n",
       "      <th>proposed_credit_limit</th>\n",
       "      <th>session_length_in_minutes</th>\n",
       "      <th>device_distinct_emails_8w</th>\n",
       "      <th>month</th>\n",
       "    </tr>\n",
       "  </thead>\n",
       "  <tbody>\n",
       "    <tr>\n",
       "      <th>0</th>\n",
       "      <td>0.9</td>\n",
       "      <td>0.990415</td>\n",
       "      <td>4.0</td>\n",
       "      <td>40</td>\n",
       "      <td>0.014640</td>\n",
       "      <td>1853</td>\n",
       "      <td>6711.523027</td>\n",
       "      <td>4868.779488</td>\n",
       "      <td>4988.827961</td>\n",
       "      <td>0</td>\n",
       "      <td>19</td>\n",
       "      <td>113</td>\n",
       "      <td>NaN</td>\n",
       "      <td>200.0</td>\n",
       "      <td>6.150317</td>\n",
       "      <td>1.0</td>\n",
       "      <td>0</td>\n",
       "    </tr>\n",
       "    <tr>\n",
       "      <th>1</th>\n",
       "      <td>0.4</td>\n",
       "      <td>0.781728</td>\n",
       "      <td>151.0</td>\n",
       "      <td>30</td>\n",
       "      <td>0.013269</td>\n",
       "      <td>5447</td>\n",
       "      <td>8948.772349</td>\n",
       "      <td>5824.765506</td>\n",
       "      <td>6451.180606</td>\n",
       "      <td>16</td>\n",
       "      <td>14</td>\n",
       "      <td>83</td>\n",
       "      <td>5.0</td>\n",
       "      <td>1500.0</td>\n",
       "      <td>4.521952</td>\n",
       "      <td>1.0</td>\n",
       "      <td>0</td>\n",
       "    </tr>\n",
       "    <tr>\n",
       "      <th>2</th>\n",
       "      <td>0.7</td>\n",
       "      <td>0.274290</td>\n",
       "      <td>92.0</td>\n",
       "      <td>20</td>\n",
       "      <td>0.010669</td>\n",
       "      <td>2312</td>\n",
       "      <td>11727.292100</td>\n",
       "      <td>7679.867045</td>\n",
       "      <td>6731.304261</td>\n",
       "      <td>1351</td>\n",
       "      <td>15</td>\n",
       "      <td>70</td>\n",
       "      <td>28.0</td>\n",
       "      <td>200.0</td>\n",
       "      <td>8.361707</td>\n",
       "      <td>1.0</td>\n",
       "      <td>0</td>\n",
       "    </tr>\n",
       "    <tr>\n",
       "      <th>3</th>\n",
       "      <td>0.9</td>\n",
       "      <td>0.722684</td>\n",
       "      <td>55.0</td>\n",
       "      <td>20</td>\n",
       "      <td>0.021849</td>\n",
       "      <td>2413</td>\n",
       "      <td>4126.145203</td>\n",
       "      <td>4458.366351</td>\n",
       "      <td>6356.833258</td>\n",
       "      <td>30</td>\n",
       "      <td>8</td>\n",
       "      <td>222</td>\n",
       "      <td>20.0</td>\n",
       "      <td>1500.0</td>\n",
       "      <td>7.339743</td>\n",
       "      <td>1.0</td>\n",
       "      <td>0</td>\n",
       "    </tr>\n",
       "    <tr>\n",
       "      <th>4</th>\n",
       "      <td>0.9</td>\n",
       "      <td>0.121661</td>\n",
       "      <td>51.0</td>\n",
       "      <td>20</td>\n",
       "      <td>0.021491</td>\n",
       "      <td>1227</td>\n",
       "      <td>9730.276231</td>\n",
       "      <td>5544.081678</td>\n",
       "      <td>6721.196241</td>\n",
       "      <td>505</td>\n",
       "      <td>12</td>\n",
       "      <td>126</td>\n",
       "      <td>1.0</td>\n",
       "      <td>1500.0</td>\n",
       "      <td>4.338063</td>\n",
       "      <td>1.0</td>\n",
       "      <td>0</td>\n",
       "    </tr>\n",
       "    <tr>\n",
       "      <th>...</th>\n",
       "      <td>...</td>\n",
       "      <td>...</td>\n",
       "      <td>...</td>\n",
       "      <td>...</td>\n",
       "      <td>...</td>\n",
       "      <td>...</td>\n",
       "      <td>...</td>\n",
       "      <td>...</td>\n",
       "      <td>...</td>\n",
       "      <td>...</td>\n",
       "      <td>...</td>\n",
       "      <td>...</td>\n",
       "      <td>...</td>\n",
       "      <td>...</td>\n",
       "      <td>...</td>\n",
       "      <td>...</td>\n",
       "      <td>...</td>\n",
       "    </tr>\n",
       "    <tr>\n",
       "      <th>999995</th>\n",
       "      <td>0.9</td>\n",
       "      <td>0.173671</td>\n",
       "      <td>110.0</td>\n",
       "      <td>30</td>\n",
       "      <td>0.004057</td>\n",
       "      <td>979</td>\n",
       "      <td>1290.193422</td>\n",
       "      <td>3509.677630</td>\n",
       "      <td>3696.222287</td>\n",
       "      <td>6</td>\n",
       "      <td>5</td>\n",
       "      <td>217</td>\n",
       "      <td>25.0</td>\n",
       "      <td>200.0</td>\n",
       "      <td>5.740367</td>\n",
       "      <td>1.0</td>\n",
       "      <td>7</td>\n",
       "    </tr>\n",
       "    <tr>\n",
       "      <th>999996</th>\n",
       "      <td>0.9</td>\n",
       "      <td>0.566285</td>\n",
       "      <td>29.0</td>\n",
       "      <td>50</td>\n",
       "      <td>0.014215</td>\n",
       "      <td>1190</td>\n",
       "      <td>1244.988645</td>\n",
       "      <td>2476.158833</td>\n",
       "      <td>3136.372338</td>\n",
       "      <td>14</td>\n",
       "      <td>3</td>\n",
       "      <td>212</td>\n",
       "      <td>1.0</td>\n",
       "      <td>200.0</td>\n",
       "      <td>26.319296</td>\n",
       "      <td>1.0</td>\n",
       "      <td>7</td>\n",
       "    </tr>\n",
       "    <tr>\n",
       "      <th>999997</th>\n",
       "      <td>0.6</td>\n",
       "      <td>0.807476</td>\n",
       "      <td>164.0</td>\n",
       "      <td>30</td>\n",
       "      <td>0.040160</td>\n",
       "      <td>1571</td>\n",
       "      <td>4452.976672</td>\n",
       "      <td>3441.533927</td>\n",
       "      <td>3009.209161</td>\n",
       "      <td>16</td>\n",
       "      <td>4</td>\n",
       "      <td>185</td>\n",
       "      <td>25.0</td>\n",
       "      <td>1000.0</td>\n",
       "      <td>1.614444</td>\n",
       "      <td>1.0</td>\n",
       "      <td>7</td>\n",
       "    </tr>\n",
       "    <tr>\n",
       "      <th>999998</th>\n",
       "      <td>0.8</td>\n",
       "      <td>0.151376</td>\n",
       "      <td>12.0</td>\n",
       "      <td>30</td>\n",
       "      <td>0.016871</td>\n",
       "      <td>1435</td>\n",
       "      <td>2989.280984</td>\n",
       "      <td>2846.053283</td>\n",
       "      <td>3004.093680</td>\n",
       "      <td>1</td>\n",
       "      <td>10</td>\n",
       "      <td>142</td>\n",
       "      <td>NaN</td>\n",
       "      <td>200.0</td>\n",
       "      <td>3.682591</td>\n",
       "      <td>1.0</td>\n",
       "      <td>7</td>\n",
       "    </tr>\n",
       "    <tr>\n",
       "      <th>999999</th>\n",
       "      <td>0.8</td>\n",
       "      <td>0.145820</td>\n",
       "      <td>4.0</td>\n",
       "      <td>30</td>\n",
       "      <td>0.026896</td>\n",
       "      <td>629</td>\n",
       "      <td>4572.951587</td>\n",
       "      <td>1911.967174</td>\n",
       "      <td>3159.574357</td>\n",
       "      <td>3</td>\n",
       "      <td>5</td>\n",
       "      <td>110</td>\n",
       "      <td>1.0</td>\n",
       "      <td>200.0</td>\n",
       "      <td>15.761976</td>\n",
       "      <td>1.0</td>\n",
       "      <td>7</td>\n",
       "    </tr>\n",
       "  </tbody>\n",
       "</table>\n",
       "<p>1000000 rows × 17 columns</p>\n",
       "</div>"
      ],
      "text/plain": [
       "        income  name_email_similarity  current_address_months_count  \\\n",
       "0          0.9               0.990415                           4.0   \n",
       "1          0.4               0.781728                         151.0   \n",
       "2          0.7               0.274290                          92.0   \n",
       "3          0.9               0.722684                          55.0   \n",
       "4          0.9               0.121661                          51.0   \n",
       "...        ...                    ...                           ...   \n",
       "999995     0.9               0.173671                         110.0   \n",
       "999996     0.9               0.566285                          29.0   \n",
       "999997     0.6               0.807476                         164.0   \n",
       "999998     0.8               0.151376                          12.0   \n",
       "999999     0.8               0.145820                           4.0   \n",
       "\n",
       "        customer_age  days_since_request  zip_count_4w   velocity_6h  \\\n",
       "0                 40            0.014640          1853   6711.523027   \n",
       "1                 30            0.013269          5447   8948.772349   \n",
       "2                 20            0.010669          2312  11727.292100   \n",
       "3                 20            0.021849          2413   4126.145203   \n",
       "4                 20            0.021491          1227   9730.276231   \n",
       "...              ...                 ...           ...           ...   \n",
       "999995            30            0.004057           979   1290.193422   \n",
       "999996            50            0.014215          1190   1244.988645   \n",
       "999997            30            0.040160          1571   4452.976672   \n",
       "999998            30            0.016871          1435   2989.280984   \n",
       "999999            30            0.026896           629   4572.951587   \n",
       "\n",
       "        velocity_24h  velocity_4w  bank_branch_count_8w  \\\n",
       "0        4868.779488  4988.827961                     0   \n",
       "1        5824.765506  6451.180606                    16   \n",
       "2        7679.867045  6731.304261                  1351   \n",
       "3        4458.366351  6356.833258                    30   \n",
       "4        5544.081678  6721.196241                   505   \n",
       "...              ...          ...                   ...   \n",
       "999995   3509.677630  3696.222287                     6   \n",
       "999996   2476.158833  3136.372338                    14   \n",
       "999997   3441.533927  3009.209161                    16   \n",
       "999998   2846.053283  3004.093680                     1   \n",
       "999999   1911.967174  3159.574357                     3   \n",
       "\n",
       "        date_of_birth_distinct_emails_4w  credit_risk_score  \\\n",
       "0                                     19                113   \n",
       "1                                     14                 83   \n",
       "2                                     15                 70   \n",
       "3                                      8                222   \n",
       "4                                     12                126   \n",
       "...                                  ...                ...   \n",
       "999995                                 5                217   \n",
       "999996                                 3                212   \n",
       "999997                                 4                185   \n",
       "999998                                10                142   \n",
       "999999                                 5                110   \n",
       "\n",
       "        bank_months_count  proposed_credit_limit  session_length_in_minutes  \\\n",
       "0                     NaN                  200.0                   6.150317   \n",
       "1                     5.0                 1500.0                   4.521952   \n",
       "2                    28.0                  200.0                   8.361707   \n",
       "3                    20.0                 1500.0                   7.339743   \n",
       "4                     1.0                 1500.0                   4.338063   \n",
       "...                   ...                    ...                        ...   \n",
       "999995               25.0                  200.0                   5.740367   \n",
       "999996                1.0                  200.0                  26.319296   \n",
       "999997               25.0                 1000.0                   1.614444   \n",
       "999998                NaN                  200.0                   3.682591   \n",
       "999999                1.0                  200.0                  15.761976   \n",
       "\n",
       "        device_distinct_emails_8w  month  \n",
       "0                             1.0      0  \n",
       "1                             1.0      0  \n",
       "2                             1.0      0  \n",
       "3                             1.0      0  \n",
       "4                             1.0      0  \n",
       "...                           ...    ...  \n",
       "999995                        1.0      7  \n",
       "999996                        1.0      7  \n",
       "999997                        1.0      7  \n",
       "999998                        1.0      7  \n",
       "999999                        1.0      7  \n",
       "\n",
       "[1000000 rows x 17 columns]"
      ]
     },
     "execution_count": 11,
     "metadata": {},
     "output_type": "execute_result"
    }
   ],
   "source": [
    "# Define feature types\n",
    "\n",
    "num_features = [\n",
    "        \"income\", \"name_email_similarity\", \"current_address_months_count\",\n",
    "        \"customer_age\", \"days_since_request\", \"zip_count_4w\", \"velocity_6h\",\n",
    "        \"velocity_24h\", \"velocity_4w\", \"bank_branch_count_8w\",\n",
    "        \"date_of_birth_distinct_emails_4w\", \"credit_risk_score\",\n",
    "        \"bank_months_count\", \"proposed_credit_limit\",\n",
    "        \"session_length_in_minutes\", \"device_distinct_emails_8w\", \"month\",\n",
    "    ]\n",
    "\n",
    "\n",
    "cat_features = [\n",
    "        \"payment_type\", \"employment_status\", \"housing_status\", \"source\",\n",
    "        \"device_os\", \"email_is_free\", \"phone_home_valid\",\n",
    "        \"phone_mobile_valid\", \"has_other_cards\", \"foreign_request\",\n",
    "        \n",
    "        ]\n",
    "\n",
    "\n",
    "\n",
    "print(f\"Number of numerical features: {len(num_features)}\")\n",
    "print(f\"Number of categorical features: {len(cat_features)}\")       \n",
    "\n",
    "df[num_features]"
   ]
  },
  {
   "cell_type": "markdown",
   "metadata": {},
   "source": [
    "### 2.1 Filling missing value using SimpletImputer"
   ]
  },
  {
   "cell_type": "code",
   "execution_count": 12,
   "metadata": {},
   "outputs": [],
   "source": [
    "from sklearn.impute import SimpleImputer"
   ]
  },
  {
   "cell_type": "markdown",
   "metadata": {},
   "source": [
    "##### Median imputation is preferred when the distribution is skewed"
   ]
  },
  {
   "cell_type": "code",
   "execution_count": 13,
   "metadata": {},
   "outputs": [],
   "source": [
    "# a. Impute Numerical Features\n",
    "\n",
    "num_imputer = SimpleImputer(strategy=\"median\")\n",
    "\n",
    "# Fit the imputer on the training data\n",
    "num_imputer.fit(X_train[num_features])\n",
    "\n",
    "# Transform both training and test data\n",
    "X_train_numeric = pd.DataFrame(\n",
    "    num_imputer.transform(X_train[num_features]),\n",
    "    columns=num_features,\n",
    "    index=X_train.index\n",
    ")\n",
    "\n",
    "X_test_numeric = pd.DataFrame(\n",
    "    num_imputer.transform(X_test[num_features]),\n",
    "    columns=num_features,\n",
    "    index=X_test.index\n",
    ")\n"
   ]
  },
  {
   "cell_type": "code",
   "execution_count": 14,
   "metadata": {},
   "outputs": [],
   "source": [
    "# b. Impute Categorical\n",
    "# Initialize the imputer for categorical features\n",
    "categorical_imputer = SimpleImputer(strategy='most_frequent')\n",
    "\n",
    "# Fit the imputer on the training data\n",
    "categorical_imputer.fit(X_train[cat_features])\n",
    "\n",
    "# Transform both training and test data\n",
    "X_train_categorical = pd.DataFrame(\n",
    "    categorical_imputer.transform(X_train[cat_features]),\n",
    "    columns=cat_features,\n",
    "    index=X_train.index\n",
    ")\n",
    "\n",
    "X_test_categorical = pd.DataFrame(\n",
    "    categorical_imputer.transform(X_test[cat_features]),\n",
    "    columns=cat_features,\n",
    "    index=X_test.index\n",
    ")\n"
   ]
  },
  {
   "cell_type": "code",
   "execution_count": 15,
   "metadata": {},
   "outputs": [
    {
     "name": "stdout",
     "output_type": "stream",
     "text": [
      "Imputed Training Data:\n"
     ]
    },
    {
     "data": {
      "text/html": [
       "<div>\n",
       "<style scoped>\n",
       "    .dataframe tbody tr th:only-of-type {\n",
       "        vertical-align: middle;\n",
       "    }\n",
       "\n",
       "    .dataframe tbody tr th {\n",
       "        vertical-align: top;\n",
       "    }\n",
       "\n",
       "    .dataframe thead th {\n",
       "        text-align: right;\n",
       "    }\n",
       "</style>\n",
       "<table border=\"1\" class=\"dataframe\">\n",
       "  <thead>\n",
       "    <tr style=\"text-align: right;\">\n",
       "      <th></th>\n",
       "      <th>income</th>\n",
       "      <th>name_email_similarity</th>\n",
       "      <th>current_address_months_count</th>\n",
       "      <th>customer_age</th>\n",
       "      <th>days_since_request</th>\n",
       "      <th>zip_count_4w</th>\n",
       "      <th>velocity_6h</th>\n",
       "      <th>velocity_24h</th>\n",
       "      <th>velocity_4w</th>\n",
       "      <th>bank_branch_count_8w</th>\n",
       "      <th>...</th>\n",
       "      <th>payment_type</th>\n",
       "      <th>employment_status</th>\n",
       "      <th>housing_status</th>\n",
       "      <th>source</th>\n",
       "      <th>device_os</th>\n",
       "      <th>email_is_free</th>\n",
       "      <th>phone_home_valid</th>\n",
       "      <th>phone_mobile_valid</th>\n",
       "      <th>has_other_cards</th>\n",
       "      <th>foreign_request</th>\n",
       "    </tr>\n",
       "  </thead>\n",
       "  <tbody>\n",
       "    <tr>\n",
       "      <th>39067</th>\n",
       "      <td>0.1</td>\n",
       "      <td>0.754015</td>\n",
       "      <td>36.0</td>\n",
       "      <td>30.0</td>\n",
       "      <td>0.003672</td>\n",
       "      <td>2602.0</td>\n",
       "      <td>4663.026888</td>\n",
       "      <td>4256.962394</td>\n",
       "      <td>6379.542660</td>\n",
       "      <td>732.0</td>\n",
       "      <td>...</td>\n",
       "      <td>AA</td>\n",
       "      <td>CA</td>\n",
       "      <td>BC</td>\n",
       "      <td>INTERNET</td>\n",
       "      <td>linux</td>\n",
       "      <td>1</td>\n",
       "      <td>0</td>\n",
       "      <td>1</td>\n",
       "      <td>0</td>\n",
       "      <td>0</td>\n",
       "    </tr>\n",
       "    <tr>\n",
       "      <th>822675</th>\n",
       "      <td>0.9</td>\n",
       "      <td>0.230411</td>\n",
       "      <td>115.0</td>\n",
       "      <td>40.0</td>\n",
       "      <td>0.020899</td>\n",
       "      <td>808.0</td>\n",
       "      <td>7587.134717</td>\n",
       "      <td>4026.475119</td>\n",
       "      <td>4344.400191</td>\n",
       "      <td>0.0</td>\n",
       "      <td>...</td>\n",
       "      <td>AB</td>\n",
       "      <td>CB</td>\n",
       "      <td>BC</td>\n",
       "      <td>INTERNET</td>\n",
       "      <td>other</td>\n",
       "      <td>0</td>\n",
       "      <td>1</td>\n",
       "      <td>1</td>\n",
       "      <td>1</td>\n",
       "      <td>0</td>\n",
       "    </tr>\n",
       "    <tr>\n",
       "      <th>914427</th>\n",
       "      <td>0.1</td>\n",
       "      <td>0.611803</td>\n",
       "      <td>111.0</td>\n",
       "      <td>20.0</td>\n",
       "      <td>0.012643</td>\n",
       "      <td>874.0</td>\n",
       "      <td>5529.530254</td>\n",
       "      <td>3028.941069</td>\n",
       "      <td>3077.985496</td>\n",
       "      <td>1.0</td>\n",
       "      <td>...</td>\n",
       "      <td>AC</td>\n",
       "      <td>CA</td>\n",
       "      <td>BE</td>\n",
       "      <td>INTERNET</td>\n",
       "      <td>other</td>\n",
       "      <td>1</td>\n",
       "      <td>0</td>\n",
       "      <td>1</td>\n",
       "      <td>0</td>\n",
       "      <td>0</td>\n",
       "    </tr>\n",
       "    <tr>\n",
       "      <th>581316</th>\n",
       "      <td>0.9</td>\n",
       "      <td>0.393472</td>\n",
       "      <td>185.0</td>\n",
       "      <td>20.0</td>\n",
       "      <td>3.217992</td>\n",
       "      <td>2431.0</td>\n",
       "      <td>2215.750401</td>\n",
       "      <td>3607.207578</td>\n",
       "      <td>4954.087127</td>\n",
       "      <td>1.0</td>\n",
       "      <td>...</td>\n",
       "      <td>AC</td>\n",
       "      <td>CA</td>\n",
       "      <td>BE</td>\n",
       "      <td>INTERNET</td>\n",
       "      <td>windows</td>\n",
       "      <td>1</td>\n",
       "      <td>0</td>\n",
       "      <td>1</td>\n",
       "      <td>0</td>\n",
       "      <td>0</td>\n",
       "    </tr>\n",
       "    <tr>\n",
       "      <th>603125</th>\n",
       "      <td>0.4</td>\n",
       "      <td>0.437082</td>\n",
       "      <td>8.0</td>\n",
       "      <td>30.0</td>\n",
       "      <td>0.007311</td>\n",
       "      <td>1779.0</td>\n",
       "      <td>5883.125540</td>\n",
       "      <td>3357.761415</td>\n",
       "      <td>5075.613790</td>\n",
       "      <td>7.0</td>\n",
       "      <td>...</td>\n",
       "      <td>AB</td>\n",
       "      <td>CF</td>\n",
       "      <td>BB</td>\n",
       "      <td>INTERNET</td>\n",
       "      <td>linux</td>\n",
       "      <td>0</td>\n",
       "      <td>0</td>\n",
       "      <td>0</td>\n",
       "      <td>0</td>\n",
       "      <td>0</td>\n",
       "    </tr>\n",
       "  </tbody>\n",
       "</table>\n",
       "<p>5 rows × 27 columns</p>\n",
       "</div>"
      ],
      "text/plain": [
       "        income  name_email_similarity  current_address_months_count  \\\n",
       "39067      0.1               0.754015                          36.0   \n",
       "822675     0.9               0.230411                         115.0   \n",
       "914427     0.1               0.611803                         111.0   \n",
       "581316     0.9               0.393472                         185.0   \n",
       "603125     0.4               0.437082                           8.0   \n",
       "\n",
       "        customer_age  days_since_request  zip_count_4w  velocity_6h  \\\n",
       "39067           30.0            0.003672        2602.0  4663.026888   \n",
       "822675          40.0            0.020899         808.0  7587.134717   \n",
       "914427          20.0            0.012643         874.0  5529.530254   \n",
       "581316          20.0            3.217992        2431.0  2215.750401   \n",
       "603125          30.0            0.007311        1779.0  5883.125540   \n",
       "\n",
       "        velocity_24h  velocity_4w  bank_branch_count_8w  ...  payment_type  \\\n",
       "39067    4256.962394  6379.542660                 732.0  ...            AA   \n",
       "822675   4026.475119  4344.400191                   0.0  ...            AB   \n",
       "914427   3028.941069  3077.985496                   1.0  ...            AC   \n",
       "581316   3607.207578  4954.087127                   1.0  ...            AC   \n",
       "603125   3357.761415  5075.613790                   7.0  ...            AB   \n",
       "\n",
       "        employment_status  housing_status    source  device_os  email_is_free  \\\n",
       "39067                  CA              BC  INTERNET      linux              1   \n",
       "822675                 CB              BC  INTERNET      other              0   \n",
       "914427                 CA              BE  INTERNET      other              1   \n",
       "581316                 CA              BE  INTERNET    windows              1   \n",
       "603125                 CF              BB  INTERNET      linux              0   \n",
       "\n",
       "        phone_home_valid phone_mobile_valid has_other_cards foreign_request  \n",
       "39067                  0                  1               0               0  \n",
       "822675                 1                  1               1               0  \n",
       "914427                 0                  1               0               0  \n",
       "581316                 0                  1               0               0  \n",
       "603125                 0                  0               0               0  \n",
       "\n",
       "[5 rows x 27 columns]"
      ]
     },
     "execution_count": 15,
     "metadata": {},
     "output_type": "execute_result"
    }
   ],
   "source": [
    "# Combine numerical and categorical features and binary features\n",
    "X_train_imputed = pd.concat([X_train_numeric, X_train_categorical], axis=1)\n",
    "X_test_imputed = pd.concat([X_test_numeric, X_test_categorical], axis=1)\n",
    "\n",
    "print(\"Imputed Training Data:\")\n",
    "X_train_imputed.head()\n",
    "\n",
    "# print(\"\\nImputed Test Data:\")\n",
    "# print(X_test_imputed.head())"
   ]
  },
  {
   "cell_type": "markdown",
   "metadata": {},
   "source": [
    "##### Let's check if we have clean the data completely"
   ]
  },
  {
   "cell_type": "code",
   "execution_count": 17,
   "metadata": {},
   "outputs": [
    {
     "data": {
      "text/plain": [
       "income                              0\n",
       "name_email_similarity               0\n",
       "current_address_months_count        0\n",
       "customer_age                        0\n",
       "days_since_request                  0\n",
       "zip_count_4w                        0\n",
       "velocity_6h                         0\n",
       "velocity_24h                        0\n",
       "velocity_4w                         0\n",
       "bank_branch_count_8w                0\n",
       "date_of_birth_distinct_emails_4w    0\n",
       "credit_risk_score                   0\n",
       "bank_months_count                   0\n",
       "proposed_credit_limit               0\n",
       "session_length_in_minutes           0\n",
       "device_distinct_emails_8w           0\n",
       "month                               0\n",
       "payment_type                        0\n",
       "employment_status                   0\n",
       "housing_status                      0\n",
       "source                              0\n",
       "device_os                           0\n",
       "email_is_free                       0\n",
       "phone_home_valid                    0\n",
       "phone_mobile_valid                  0\n",
       "has_other_cards                     0\n",
       "foreign_request                     0\n",
       "dtype: int64"
      ]
     },
     "execution_count": 17,
     "metadata": {},
     "output_type": "execute_result"
    }
   ],
   "source": [
    "X_train_imputed.isna().sum()"
   ]
  },
  {
   "cell_type": "markdown",
   "metadata": {},
   "source": [
    "- No more misssing value"
   ]
  },
  {
   "cell_type": "markdown",
   "metadata": {},
   "source": [
    "### 2.2 Data Scalling and Encoding"
   ]
  },
  {
   "cell_type": "code",
   "execution_count": 18,
   "metadata": {},
   "outputs": [],
   "source": [
    "from sklearn.preprocessing import RobustScaler, OneHotEncoder"
   ]
  },
  {
   "cell_type": "code",
   "execution_count": 22,
   "metadata": {},
   "outputs": [],
   "source": [
    "# a. Scale Numerical Features\n",
    "# Initialize the scaler\n",
    "scaler = RobustScaler()\n",
    "\n",
    "# Fit the scaler on the training data\n",
    "scaler.fit(X_train_imputed[num_features])\n",
    "\n",
    "# Transform both training and test data\n",
    "X_train_scaled = pd.DataFrame(\n",
    "    scaler.transform(X_train_imputed[num_features]),\n",
    "    columns=num_features,\n",
    "    index=X_train_imputed.index\n",
    ")\n",
    "\n",
    "X_test_scaled = pd.DataFrame(\n",
    "    scaler.transform(X_test_imputed[num_features]),\n",
    "    columns=num_features,\n",
    "    index=X_test_imputed.index\n",
    ")"
   ]
  },
  {
   "cell_type": "code",
   "execution_count": 23,
   "metadata": {},
   "outputs": [],
   "source": [
    "# b. Encode Categorical Features\n",
    "# Initialize the encoder\n",
    "encoder = OneHotEncoder(sparse_output=False)\n",
    "\n",
    "# Fit the encoder on the training data\n",
    "encoder.fit(X_train_imputed[cat_features])\n",
    "\n",
    "# Transform both training and test data\n",
    "X_train_encoded = pd.DataFrame(\n",
    "    encoder.transform(X_train_imputed[cat_features]),\n",
    "    columns=encoder.get_feature_names_out(cat_features),\n",
    "    index=X_train_imputed.index\n",
    ")\n",
    "\n",
    "X_test_encoded = pd.DataFrame(\n",
    "    encoder.transform(X_test_imputed[cat_features]),\n",
    "    columns=encoder.get_feature_names_out(cat_features),\n",
    "    index=X_test_imputed.index\n",
    ")\n"
   ]
  },
  {
   "cell_type": "markdown",
   "metadata": {},
   "source": []
  },
  {
   "cell_type": "code",
   "execution_count": 24,
   "metadata": {},
   "outputs": [
    {
     "data": {
      "text/plain": [
       "((800000, 36), (800000, 17))"
      ]
     },
     "execution_count": 24,
     "metadata": {},
     "output_type": "execute_result"
    }
   ],
   "source": [
    "X_train_encoded.shape, X_train_scaled.shape"
   ]
  },
  {
   "cell_type": "code",
   "execution_count": 26,
   "metadata": {},
   "outputs": [
    {
     "name": "stdout",
     "output_type": "stream",
     "text": [
      "Processed Training Data:\n"
     ]
    },
    {
     "data": {
      "text/html": [
       "<div>\n",
       "<style scoped>\n",
       "    .dataframe tbody tr th:only-of-type {\n",
       "        vertical-align: middle;\n",
       "    }\n",
       "\n",
       "    .dataframe tbody tr th {\n",
       "        vertical-align: top;\n",
       "    }\n",
       "\n",
       "    .dataframe thead th {\n",
       "        text-align: right;\n",
       "    }\n",
       "</style>\n",
       "<table border=\"1\" class=\"dataframe\">\n",
       "  <thead>\n",
       "    <tr style=\"text-align: right;\">\n",
       "      <th></th>\n",
       "      <th>income</th>\n",
       "      <th>name_email_similarity</th>\n",
       "      <th>current_address_months_count</th>\n",
       "      <th>customer_age</th>\n",
       "      <th>days_since_request</th>\n",
       "      <th>zip_count_4w</th>\n",
       "      <th>velocity_6h</th>\n",
       "      <th>velocity_24h</th>\n",
       "      <th>velocity_4w</th>\n",
       "      <th>bank_branch_count_8w</th>\n",
       "      <th>...</th>\n",
       "      <th>email_is_free_0</th>\n",
       "      <th>email_is_free_1</th>\n",
       "      <th>phone_home_valid_0</th>\n",
       "      <th>phone_home_valid_1</th>\n",
       "      <th>phone_mobile_valid_0</th>\n",
       "      <th>phone_mobile_valid_1</th>\n",
       "      <th>has_other_cards_0</th>\n",
       "      <th>has_other_cards_1</th>\n",
       "      <th>foreign_request_0</th>\n",
       "      <th>foreign_request_1</th>\n",
       "    </tr>\n",
       "  </thead>\n",
       "  <tbody>\n",
       "    <tr>\n",
       "      <th>count</th>\n",
       "      <td>800000.000000</td>\n",
       "      <td>8.000000e+05</td>\n",
       "      <td>800000.000000</td>\n",
       "      <td>800000.000000</td>\n",
       "      <td>8.000000e+05</td>\n",
       "      <td>800000.000000</td>\n",
       "      <td>800000.000000</td>\n",
       "      <td>800000.000000</td>\n",
       "      <td>800000.000000</td>\n",
       "      <td>800000.000000</td>\n",
       "      <td>...</td>\n",
       "      <td>800000.000000</td>\n",
       "      <td>800000.000000</td>\n",
       "      <td>800000.000000</td>\n",
       "      <td>800000.000000</td>\n",
       "      <td>800000.000000</td>\n",
       "      <td>800000.000000</td>\n",
       "      <td>800000.000000</td>\n",
       "      <td>800000.000000</td>\n",
       "      <td>800000.00000</td>\n",
       "      <td>800000.00000</td>\n",
       "    </tr>\n",
       "    <tr>\n",
       "      <th>mean</th>\n",
       "      <td>-0.078224</td>\n",
       "      <td>4.353857e-03</td>\n",
       "      <td>0.312352</td>\n",
       "      <td>0.099159</td>\n",
       "      <td>5.457662e+01</td>\n",
       "      <td>0.288764</td>\n",
       "      <td>0.085251</td>\n",
       "      <td>0.010216</td>\n",
       "      <td>-0.046345</td>\n",
       "      <td>7.487571</td>\n",
       "      <td>...</td>\n",
       "      <td>0.469074</td>\n",
       "      <td>0.530926</td>\n",
       "      <td>0.600181</td>\n",
       "      <td>0.399819</td>\n",
       "      <td>0.101576</td>\n",
       "      <td>0.898424</td>\n",
       "      <td>0.781716</td>\n",
       "      <td>0.218284</td>\n",
       "      <td>0.97511</td>\n",
       "      <td>0.02489</td>\n",
       "    </tr>\n",
       "    <tr>\n",
       "      <th>std</th>\n",
       "      <td>0.580723</td>\n",
       "      <td>5.458789e-01</td>\n",
       "      <td>0.821416</td>\n",
       "      <td>0.545086</td>\n",
       "      <td>2.881041e+02</td>\n",
       "      <td>0.948539</td>\n",
       "      <td>0.707129</td>\n",
       "      <td>0.683734</td>\n",
       "      <td>0.754235</td>\n",
       "      <td>19.897935</td>\n",
       "      <td>...</td>\n",
       "      <td>0.499043</td>\n",
       "      <td>0.499043</td>\n",
       "      <td>0.489861</td>\n",
       "      <td>0.489861</td>\n",
       "      <td>0.302090</td>\n",
       "      <td>0.302090</td>\n",
       "      <td>0.413081</td>\n",
       "      <td>0.413081</td>\n",
       "      <td>0.15579</td>\n",
       "      <td>0.15579</td>\n",
       "    </tr>\n",
       "    <tr>\n",
       "      <th>min</th>\n",
       "      <td>-1.000000</td>\n",
       "      <td>-9.303328e-01</td>\n",
       "      <td>-0.485714</td>\n",
       "      <td>-1.000000</td>\n",
       "      <td>-7.933077e-01</td>\n",
       "      <td>-1.197356</td>\n",
       "      <td>-1.285453</td>\n",
       "      <td>-1.579568</td>\n",
       "      <td>-1.688427</td>\n",
       "      <td>-0.391304</td>\n",
       "      <td>...</td>\n",
       "      <td>0.000000</td>\n",
       "      <td>0.000000</td>\n",
       "      <td>0.000000</td>\n",
       "      <td>0.000000</td>\n",
       "      <td>0.000000</td>\n",
       "      <td>0.000000</td>\n",
       "      <td>0.000000</td>\n",
       "      <td>0.000000</td>\n",
       "      <td>0.00000</td>\n",
       "      <td>0.00000</td>\n",
       "    </tr>\n",
       "    <tr>\n",
       "      <th>25%</th>\n",
       "      <td>-0.600000</td>\n",
       "      <td>-5.020386e-01</td>\n",
       "      <td>-0.304762</td>\n",
       "      <td>-0.500000</td>\n",
       "      <td>-4.182054e-01</td>\n",
       "      <td>-0.355052</td>\n",
       "      <td>-0.438281</td>\n",
       "      <td>-0.534694</td>\n",
       "      <td>-0.528545</td>\n",
       "      <td>-0.347826</td>\n",
       "      <td>...</td>\n",
       "      <td>0.000000</td>\n",
       "      <td>0.000000</td>\n",
       "      <td>0.000000</td>\n",
       "      <td>0.000000</td>\n",
       "      <td>0.000000</td>\n",
       "      <td>1.000000</td>\n",
       "      <td>1.000000</td>\n",
       "      <td>0.000000</td>\n",
       "      <td>1.00000</td>\n",
       "      <td>0.00000</td>\n",
       "    </tr>\n",
       "    <tr>\n",
       "      <th>50%</th>\n",
       "      <td>0.000000</td>\n",
       "      <td>5.245336e-17</td>\n",
       "      <td>0.000000</td>\n",
       "      <td>0.000000</td>\n",
       "      <td>4.556338e-17</td>\n",
       "      <td>0.000000</td>\n",
       "      <td>0.000000</td>\n",
       "      <td>0.000000</td>\n",
       "      <td>0.000000</td>\n",
       "      <td>0.000000</td>\n",
       "      <td>...</td>\n",
       "      <td>0.000000</td>\n",
       "      <td>1.000000</td>\n",
       "      <td>1.000000</td>\n",
       "      <td>0.000000</td>\n",
       "      <td>0.000000</td>\n",
       "      <td>1.000000</td>\n",
       "      <td>1.000000</td>\n",
       "      <td>0.000000</td>\n",
       "      <td>1.00000</td>\n",
       "      <td>0.00000</td>\n",
       "    </tr>\n",
       "    <tr>\n",
       "      <th>75%</th>\n",
       "      <td>0.400000</td>\n",
       "      <td>4.979614e-01</td>\n",
       "      <td>0.695238</td>\n",
       "      <td>0.500000</td>\n",
       "      <td>5.817946e-01</td>\n",
       "      <td>0.644948</td>\n",
       "      <td>0.561719</td>\n",
       "      <td>0.465306</td>\n",
       "      <td>0.471455</td>\n",
       "      <td>0.652174</td>\n",
       "      <td>...</td>\n",
       "      <td>1.000000</td>\n",
       "      <td>1.000000</td>\n",
       "      <td>1.000000</td>\n",
       "      <td>1.000000</td>\n",
       "      <td>0.000000</td>\n",
       "      <td>1.000000</td>\n",
       "      <td>1.000000</td>\n",
       "      <td>0.000000</td>\n",
       "      <td>1.00000</td>\n",
       "      <td>0.00000</td>\n",
       "    </tr>\n",
       "    <tr>\n",
       "      <th>max</th>\n",
       "      <td>0.600000</td>\n",
       "      <td>9.594955e-01</td>\n",
       "      <td>3.600000</td>\n",
       "      <td>3.000000</td>\n",
       "      <td>4.024920e+03</td>\n",
       "      <td>5.107649</td>\n",
       "      <td>2.704805</td>\n",
       "      <td>2.213631</td>\n",
       "      <td>1.687264</td>\n",
       "      <td>103.347826</td>\n",
       "      <td>...</td>\n",
       "      <td>1.000000</td>\n",
       "      <td>1.000000</td>\n",
       "      <td>1.000000</td>\n",
       "      <td>1.000000</td>\n",
       "      <td>1.000000</td>\n",
       "      <td>1.000000</td>\n",
       "      <td>1.000000</td>\n",
       "      <td>1.000000</td>\n",
       "      <td>1.00000</td>\n",
       "      <td>1.00000</td>\n",
       "    </tr>\n",
       "  </tbody>\n",
       "</table>\n",
       "<p>8 rows × 53 columns</p>\n",
       "</div>"
      ],
      "text/plain": [
       "              income  name_email_similarity  current_address_months_count  \\\n",
       "count  800000.000000           8.000000e+05                 800000.000000   \n",
       "mean       -0.078224           4.353857e-03                      0.312352   \n",
       "std         0.580723           5.458789e-01                      0.821416   \n",
       "min        -1.000000          -9.303328e-01                     -0.485714   \n",
       "25%        -0.600000          -5.020386e-01                     -0.304762   \n",
       "50%         0.000000           5.245336e-17                      0.000000   \n",
       "75%         0.400000           4.979614e-01                      0.695238   \n",
       "max         0.600000           9.594955e-01                      3.600000   \n",
       "\n",
       "        customer_age  days_since_request   zip_count_4w    velocity_6h  \\\n",
       "count  800000.000000        8.000000e+05  800000.000000  800000.000000   \n",
       "mean        0.099159        5.457662e+01       0.288764       0.085251   \n",
       "std         0.545086        2.881041e+02       0.948539       0.707129   \n",
       "min        -1.000000       -7.933077e-01      -1.197356      -1.285453   \n",
       "25%        -0.500000       -4.182054e-01      -0.355052      -0.438281   \n",
       "50%         0.000000        4.556338e-17       0.000000       0.000000   \n",
       "75%         0.500000        5.817946e-01       0.644948       0.561719   \n",
       "max         3.000000        4.024920e+03       5.107649       2.704805   \n",
       "\n",
       "        velocity_24h    velocity_4w  bank_branch_count_8w  ...  \\\n",
       "count  800000.000000  800000.000000         800000.000000  ...   \n",
       "mean        0.010216      -0.046345              7.487571  ...   \n",
       "std         0.683734       0.754235             19.897935  ...   \n",
       "min        -1.579568      -1.688427             -0.391304  ...   \n",
       "25%        -0.534694      -0.528545             -0.347826  ...   \n",
       "50%         0.000000       0.000000              0.000000  ...   \n",
       "75%         0.465306       0.471455              0.652174  ...   \n",
       "max         2.213631       1.687264            103.347826  ...   \n",
       "\n",
       "       email_is_free_0  email_is_free_1  phone_home_valid_0  \\\n",
       "count    800000.000000    800000.000000       800000.000000   \n",
       "mean          0.469074         0.530926            0.600181   \n",
       "std           0.499043         0.499043            0.489861   \n",
       "min           0.000000         0.000000            0.000000   \n",
       "25%           0.000000         0.000000            0.000000   \n",
       "50%           0.000000         1.000000            1.000000   \n",
       "75%           1.000000         1.000000            1.000000   \n",
       "max           1.000000         1.000000            1.000000   \n",
       "\n",
       "       phone_home_valid_1  phone_mobile_valid_0  phone_mobile_valid_1  \\\n",
       "count       800000.000000         800000.000000         800000.000000   \n",
       "mean             0.399819              0.101576              0.898424   \n",
       "std              0.489861              0.302090              0.302090   \n",
       "min              0.000000              0.000000              0.000000   \n",
       "25%              0.000000              0.000000              1.000000   \n",
       "50%              0.000000              0.000000              1.000000   \n",
       "75%              1.000000              0.000000              1.000000   \n",
       "max              1.000000              1.000000              1.000000   \n",
       "\n",
       "       has_other_cards_0  has_other_cards_1  foreign_request_0  \\\n",
       "count      800000.000000      800000.000000       800000.00000   \n",
       "mean            0.781716           0.218284            0.97511   \n",
       "std             0.413081           0.413081            0.15579   \n",
       "min             0.000000           0.000000            0.00000   \n",
       "25%             1.000000           0.000000            1.00000   \n",
       "50%             1.000000           0.000000            1.00000   \n",
       "75%             1.000000           0.000000            1.00000   \n",
       "max             1.000000           1.000000            1.00000   \n",
       "\n",
       "       foreign_request_1  \n",
       "count       800000.00000  \n",
       "mean             0.02489  \n",
       "std              0.15579  \n",
       "min              0.00000  \n",
       "25%              0.00000  \n",
       "50%              0.00000  \n",
       "75%              0.00000  \n",
       "max              1.00000  \n",
       "\n",
       "[8 rows x 53 columns]"
      ]
     },
     "execution_count": 26,
     "metadata": {},
     "output_type": "execute_result"
    }
   ],
   "source": [
    "# Combine scaled numerical and encoded categorical features\n",
    "X_train_preprocessed = pd.concat([X_train_scaled, X_train_encoded], axis=1)\n",
    "X_test_preprocessed = pd.concat([X_test_scaled, X_test_encoded], axis=1)\n",
    "\n",
    "print(\"Processed Training Data:\")\n",
    "X_train_preprocessed.describe()"
   ]
  },
  {
   "cell_type": "markdown",
   "metadata": {},
   "source": [
    "- We have finished scalling and encoding the data"
   ]
  },
  {
   "cell_type": "markdown",
   "metadata": {},
   "source": [
    "## 3. Model Trainning"
   ]
  },
  {
   "cell_type": "markdown",
   "metadata": {},
   "source": [
    "#### We will perform sampling technique such as NearMiss or SMOTE to address class imbalance. "
   ]
  },
  {
   "cell_type": "code",
   "execution_count": 28,
   "metadata": {},
   "outputs": [],
   "source": [
    "# Imbalanced-learn for NearMiss and Pipeline\n",
    "from imblearn.pipeline import Pipeline as ImbPipeline\n",
    "from imblearn.under_sampling import NearMiss\n",
    "from imblearn.over_sampling import SMOTE\n",
    "\n",
    "#Grid SearchCV\n",
    "from sklearn.model_selection import GridSearchCV, StratifiedKFold\n",
    "\n",
    "# Scoring\n",
    "from sklearn.metrics import make_scorer, fbeta_score\n",
    "from sklearn.metrics import classification_report, confusion_matrix, roc_curve, roc_auc_score\n",
    "\n",
    "#Model\n",
    "from lightgbm import LGBMClassifier as lgb\n",
    "from sklearn.linear_model import LogisticRegression\n"
   ]
  },
  {
   "cell_type": "markdown",
   "metadata": {},
   "source": [
    "Both methods address class imbalance but in opposite ways:\n",
    "\n",
    "- **NearMiss (Under-sampling):** Reduces the majority class samples, only keep the most informative instances.\n",
    "- **SMOTE (Over-sampling):** Increases the minority class by generating synthetic samples, creating new instances along the feature space between existing minority samples.\n"
   ]
  },
  {
   "cell_type": "markdown",
   "metadata": {},
   "source": [
    "#### Sampling"
   ]
  },
  {
   "cell_type": "markdown",
   "metadata": {},
   "source": [
    "#### Let's try to compare the performance of undersampling and oversampling with our baseline model logistic regression"
   ]
  },
  {
   "cell_type": "code",
   "execution_count": 29,
   "metadata": {},
   "outputs": [
    {
     "name": "stderr",
     "output_type": "stream",
     "text": [
      "/var/folders/rq/29s55l_x6y97hf1zppzzshpw0000gn/T/ipykernel_34586/2332181103.py:5: FutureWarning: Series.ravel is deprecated. The underlying array is already 1D, so ravel is not necessary.  Use `to_numpy()` for conversion to a numpy array instead.\n",
      "  X_train_over, y_train_res_over = smote_obj.fit_resample(X_train_preprocessed, y_train.ravel())\n",
      "/var/folders/rq/29s55l_x6y97hf1zppzzshpw0000gn/T/ipykernel_34586/2332181103.py:6: FutureWarning: Series.ravel is deprecated. The underlying array is already 1D, so ravel is not necessary.  Use `to_numpy()` for conversion to a numpy array instead.\n",
      "  X_train_under, y_train_res_under = near_miss_obj.fit_resample(X_train_preprocessed, y_train.ravel())\n"
     ]
    },
    {
     "name": "stdout",
     "output_type": "stream",
     "text": [
      "After OverSampling, the shape of train_X: (1582354, 53)\n",
      "After OverSampling, the shape of train_y: (1582354,) \n",
      "\n",
      "After UnderSampling, the shape of train_X: (17646, 53)\n",
      "After UnderSampling, the shape of train_y: (17646,) \n",
      "\n"
     ]
    }
   ],
   "source": [
    "near_miss_obj = NearMiss()\n",
    "smote_obj = SMOTE()\n",
    "#smoteen_obj = SMOTEENN()\n",
    "\n",
    "X_train_over, y_train_res_over = smote_obj.fit_resample(X_train_preprocessed, y_train.ravel())\n",
    "X_train_under, y_train_res_under = near_miss_obj.fit_resample(X_train_preprocessed, y_train.ravel())\n",
    "\n",
    "print('After OverSampling, the shape of train_X: {}'.format(X_train_over.shape))\n",
    "print('After OverSampling, the shape of train_y: {} \\n'.format(y_train_res_over.shape))\n",
    "print('After UnderSampling, the shape of train_X: {}'.format(X_train_under.shape))\n",
    "print('After UnderSampling, the shape of train_y: {} \\n'.format(y_train_res_under.shape))"
   ]
  },
  {
   "cell_type": "code",
   "execution_count": null,
   "metadata": {},
   "outputs": [],
   "source": [
    "logis_smote_model = LogisticRegression(max_iter = 100, solver=\"saga\", random_state=RANDOM_STATE)\n",
    "logis_smote_model.fit(X_train_over, y_train_res_over)\n",
    "\n",
    "logis_nearmiss_model = logis_model = LogisticRegression(max_iter = 100, random_state=RANDOM_STATE)\n",
    "logis_nearmiss_model.fit(X_train_under, y_train_res_under)"
   ]
  },
  {
   "cell_type": "code",
   "execution_count": null,
   "metadata": {},
   "outputs": [
    {
     "name": "stdout",
     "output_type": "stream",
     "text": [
      "Classification Report for Logistic Regression with Oversampling:\n",
      "              precision    recall  f1-score   support\n",
      "\n",
      "           0       1.00      0.82      0.90    197794\n",
      "           1       0.04      0.73      0.08      2206\n",
      "\n",
      "    accuracy                           0.82    200000\n",
      "   macro avg       0.52      0.78      0.49    200000\n",
      "weighted avg       0.99      0.82      0.89    200000\n",
      "\n",
      "Classification Report for Logistic Regression with Undersampling:\n",
      "              precision    recall  f1-score   support\n",
      "\n",
      "           0       0.98      0.14      0.24    197794\n",
      "           1       0.01      0.79      0.02      2206\n",
      "\n",
      "    accuracy                           0.15    200000\n",
      "   macro avg       0.50      0.46      0.13    200000\n",
      "weighted avg       0.97      0.15      0.24    200000\n",
      "\n"
     ]
    }
   ],
   "source": [
    "y_pred_logis_smote = logis_smote_model.predict(X_test_preprocessed)\n",
    "smote_report = classification_report(y_test, y_pred_logis_smote)\n",
    "print(f\"Classification Report for Logistic Regression with Oversampling:\\n{smote_report}\")\n",
    "\n",
    "y_pred_logis_nearmiss = logis_nearmiss_model.predict(X_test_preprocessed)\n",
    "nearmiss_report = classification_report(y_test, y_pred_logis_nearmiss)\n",
    "print(f\"Classification Report for Logistic Regression with Undersampling:\\n{nearmiss_report}\")\n",
    "\n"
   ]
  },
  {
   "cell_type": "markdown",
   "metadata": {},
   "source": [
    "#### Insights\n",
    "\n",
    "**Oversampling**\n",
    "\n",
    "- Oversampling performs **better overall**, with **higher accuracy** and a reasonable trade-off between recall and precision for the minority class.\n",
    "\n",
    "**Undersampling**\n",
    "- Undersampling struggles with majority class recall and precision while slightly improving minority class recall.\n",
    "\n",
    "\n",
    "=> We will choose oversampling as our main sampling method"
   ]
  },
  {
   "cell_type": "code",
   "execution_count": null,
   "metadata": {},
   "outputs": [
    {
     "data": {
      "image/png": "[encoded data removed]",
      "text/plain": [
       "<Figure size 800x600 with 2 Axes>"
      ]
     },
     "metadata": {},
     "output_type": "display_data"
    }
   ],
   "source": [
    "cm_losgitic = confusion_matrix(y_test, y_pred_logis_smote)\n",
    "# 5. Visualize the confusion matrix using Seaborn's heatmap\n",
    "plt.figure(figsize=(8, 6))\n",
    "sns.heatmap(cm_losgitic, annot=True, fmt='d', cmap='Blues', xticklabels=['Non-Fraud', 'Fraud'], yticklabels=['Non-Fraud', 'Fraud'])\n",
    "plt.xlabel('Predicted Label')\n",
    "plt.ylabel('True Label')\n",
    "plt.title('Confusion Matrix for Logistic Regerssion with Oversampling')\n",
    "plt.show()  \n"
   ]
  },
  {
   "cell_type": "code",
   "execution_count": null,
   "metadata": {},
   "outputs": [],
   "source": [
    "#predict probability\n",
    "y_pred_prob = logis_smote_model.predict_proba(X_test_preprocessed)\n",
    "# retrieve just the probabilities for the positive class\n",
    "pos_probs = y_pred_prob[:, 1]\n"
   ]
  },
  {
   "cell_type": "code",
   "execution_count": null,
   "metadata": {},
   "outputs": [
    {
     "data": {
      "image/png": "[encoded data removed]",
      "text/plain": [
       "<Figure size 640x480 with 1 Axes>"
      ]
     },
     "metadata": {},
     "output_type": "display_data"
    },
    {
     "name": "stdout",
     "output_type": "stream",
     "text": [
      "Logistic ROC AUC 0.857\n"
     ]
    }
   ],
   "source": [
    "from matplotlib import pyplot\n",
    "# plot no skill roc curve\n",
    "pyplot.plot([0, 1], [0, 1], linestyle='--', label='No Skill')\n",
    "# calculate roc curve for model\n",
    "fpr, tpr, _ = roc_curve(y_test, pos_probs)\n",
    "# plot model roc curve\n",
    "pyplot.plot(fpr, tpr, marker='.', label='Logistic')\n",
    "# axis labels\n",
    "pyplot.xlabel('False Positive Rate')\n",
    "pyplot.ylabel('True Positive Rate')\n",
    "# show the legend\n",
    "pyplot.legend()\n",
    "# show the plot\n",
    "pyplot.show()\n",
    "# calculate roc auc\n",
    "roc_auc = roc_auc_score(y_test, pos_probs)\n",
    "print('Logistic ROC AUC %.3f' % roc_auc)"
   ]
  },
  {
   "cell_type": "markdown",
   "metadata": {},
   "source": [
    "An ROC curve (or receiver operating characteristic curve) is a plot that summarizes the performance of a binary classification model on the positive class.\n",
    "\n",
    "The x-axis indicates the False Positive Rate and the y-axis indicates the True Positive Rate."
   ]
  },
  {
   "cell_type": "markdown",
   "metadata": {},
   "source": [
    "source: https://machinelearningmastery.com/roc-curves-and-precision-recall-curves-for-imbalanced-classification/"
   ]
  },
  {
   "cell_type": "markdown",
   "metadata": {},
   "source": [
    "#### Let's try to fit different models and evaluate their performance"
   ]
  },
  {
   "cell_type": "markdown",
   "metadata": {},
   "source": [
    "- For the sake of efficiency, I will try different models and chose the best model for hyperparameter tunning"
   ]
  },
  {
   "cell_type": "code",
   "execution_count": null,
   "metadata": {},
   "outputs": [],
   "source": [
    "from sklearn.model_selection import cross_val_score\n",
    "from sklearn.metrics import make_scorer, roc_auc_score\n",
    "from imblearn.over_sampling import SMOTE\n",
    "import sys\n",
    "import os"
   ]
  },
  {
   "cell_type": "code",
   "execution_count": null,
   "metadata": {},
   "outputs": [
    {
     "name": "stdout",
     "output_type": "stream",
     "text": [
      "RandomForestClassifier - CV Mean: 0.8350, Test Score: 0.8448\n",
      "[LightGBM] [Info] Number of positive: 791177, number of negative: 791177\n",
      "[LightGBM] [Info] Auto-choosing row-wise multi-threading, the overhead of testing was 0.089430 seconds.\n",
      "You can set `force_row_wise=true` to remove the overhead.\n",
      "And if memory is not enough, you can set `force_col_wise=true`.\n",
      "[LightGBM] [Info] Total Bins 6640\n",
      "[LightGBM] [Info] Number of data points in the train set: 1582354, number of used features: 31\n",
      "[LightGBM] [Info] [binary:BoostFromScore]: pavg=0.500000 -> initscore=0.000000\n",
      "LightGBM - CV Mean: 0.8670, Test Score: 0.8692\n",
      "LogisticRegression - CV Mean: 0.8532, Test Score: 0.8569\n"
     ]
    }
   ],
   "source": [
    "models = {\n",
    "    \"RandomForestClassifier\": RandomForestClassifier(random_state=42),\n",
    "    \"LightGBM\": lgb(random_state=42),\n",
    "    \"LogisticRegression\": LogisticRegression(max_iter= 10000, random_state=42)\n",
    "}\n",
    "\n",
    "report = eval_models(X_train_preprocessed, y_train, X_test_preprocessed, y_test, models)\n"
   ]
  },
  {
   "cell_type": "markdown",
   "metadata": {},
   "source": [
    "#### LighGBM has the highest Test Score (0.8711), let's print out model metric and try to tune the model for better result!"
   ]
  },
  {
   "cell_type": "code",
   "execution_count": null,
   "metadata": {},
   "outputs": [
    {
     "name": "stdout",
     "output_type": "stream",
     "text": [
      "[LightGBM] [Info] Number of positive: 791177, number of negative: 791177\n",
      "[LightGBM] [Info] Auto-choosing row-wise multi-threading, the overhead of testing was 0.096181 seconds.\n",
      "You can set `force_row_wise=true` to remove the overhead.\n",
      "And if memory is not enough, you can set `force_col_wise=true`.\n",
      "[LightGBM] [Info] Total Bins 6640\n",
      "[LightGBM] [Info] Number of data points in the train set: 1582354, number of used features: 31\n",
      "[LightGBM] [Info] [binary:BoostFromScore]: pavg=0.500000 -> initscore=0.000000\n"
     ]
    },
    {
     "data": {
      "text/html": [
       "<style>#sk-container-id-2 {color: black;}#sk-container-id-2 pre{padding: 0;}#sk-container-id-2 div.sk-toggleable {background-color: white;}#sk-container-id-2 label.sk-toggleable__label {cursor: pointer;display: block;width: 100%;margin-bottom: 0;padding: 0.3em;box-sizing: border-box;text-align: center;}#sk-container-id-2 label.sk-toggleable__label-arrow:before {content: \"▸\";float: left;margin-right: 0.25em;color: #696969;}#sk-container-id-2 label.sk-toggleable__label-arrow:hover:before {color: black;}#sk-container-id-2 div.sk-estimator:hover label.sk-toggleable__label-arrow:before {color: black;}#sk-container-id-2 div.sk-toggleable__content {max-height: 0;max-width: 0;overflow: hidden;text-align: left;background-color: #f0f8ff;}#sk-container-id-2 div.sk-toggleable__content pre {margin: 0.2em;color: black;border-radius: 0.25em;background-color: #f0f8ff;}#sk-container-id-2 input.sk-toggleable__control:checked~div.sk-toggleable__content {max-height: 200px;max-width: 100%;overflow: auto;}#sk-container-id-2 input.sk-toggleable__control:checked~label.sk-toggleable__label-arrow:before {content: \"▾\";}#sk-container-id-2 div.sk-estimator input.sk-toggleable__control:checked~label.sk-toggleable__label {background-color: #d4ebff;}#sk-container-id-2 div.sk-label input.sk-toggleable__control:checked~label.sk-toggleable__label {background-color: #d4ebff;}#sk-container-id-2 input.sk-hidden--visually {border: 0;clip: rect(1px 1px 1px 1px);clip: rect(1px, 1px, 1px, 1px);height: 1px;margin: -1px;overflow: hidden;padding: 0;position: absolute;width: 1px;}#sk-container-id-2 div.sk-estimator {font-family: monospace;background-color: #f0f8ff;border: 1px dotted black;border-radius: 0.25em;box-sizing: border-box;margin-bottom: 0.5em;}#sk-container-id-2 div.sk-estimator:hover {background-color: #d4ebff;}#sk-container-id-2 div.sk-parallel-item::after {content: \"\";width: 100%;border-bottom: 1px solid gray;flex-grow: 1;}#sk-container-id-2 div.sk-label:hover label.sk-toggleable__label {background-color: #d4ebff;}#sk-container-id-2 div.sk-serial::before {content: \"\";position: absolute;border-left: 1px solid gray;box-sizing: border-box;top: 0;bottom: 0;left: 50%;z-index: 0;}#sk-container-id-2 div.sk-serial {display: flex;flex-direction: column;align-items: center;background-color: white;padding-right: 0.2em;padding-left: 0.2em;position: relative;}#sk-container-id-2 div.sk-item {position: relative;z-index: 1;}#sk-container-id-2 div.sk-parallel {display: flex;align-items: stretch;justify-content: center;background-color: white;position: relative;}#sk-container-id-2 div.sk-item::before, #sk-container-id-2 div.sk-parallel-item::before {content: \"\";position: absolute;border-left: 1px solid gray;box-sizing: border-box;top: 0;bottom: 0;left: 50%;z-index: -1;}#sk-container-id-2 div.sk-parallel-item {display: flex;flex-direction: column;z-index: 1;position: relative;background-color: white;}#sk-container-id-2 div.sk-parallel-item:first-child::after {align-self: flex-end;width: 50%;}#sk-container-id-2 div.sk-parallel-item:last-child::after {align-self: flex-start;width: 50%;}#sk-container-id-2 div.sk-parallel-item:only-child::after {width: 0;}#sk-container-id-2 div.sk-dashed-wrapped {border: 1px dashed gray;margin: 0 0.4em 0.5em 0.4em;box-sizing: border-box;padding-bottom: 0.4em;background-color: white;}#sk-container-id-2 div.sk-label label {font-family: monospace;font-weight: bold;display: inline-block;line-height: 1.2em;}#sk-container-id-2 div.sk-label-container {text-align: center;}#sk-container-id-2 div.sk-container {/* jupyter's `normalize.less` sets `[hidden] { display: none; }` but bootstrap.min.css set `[hidden] { display: none !important; }` so we also need the `!important` here to be able to override the default hidden behavior on the sphinx rendered scikit-learn.org. See: https://github.com/scikit-learn/scikit-learn/issues/21755 */display: inline-block !important;position: relative;}#sk-container-id-2 div.sk-text-repr-fallback {display: none;}</style><div id=\"sk-container-id-2\" class=\"sk-top-container\"><div class=\"sk-text-repr-fallback\"><pre>LGBMClassifier()</pre><b>In a Jupyter environment, please rerun this cell to show the HTML representation or trust the notebook. <br />On GitHub, the HTML representation is unable to render, please try loading this page with nbviewer.org.</b></div><div class=\"sk-container\" hidden><div class=\"sk-item\"><div class=\"sk-estimator sk-toggleable\"><input class=\"sk-toggleable__control sk-hidden--visually\" id=\"sk-estimator-id-2\" type=\"checkbox\" checked><label for=\"sk-estimator-id-2\" class=\"sk-toggleable__label sk-toggleable__label-arrow\">LGBMClassifier</label><div class=\"sk-toggleable__content\"><pre>LGBMClassifier()</pre></div></div></div></div></div>"
      ],
      "text/plain": [
       "LGBMClassifier()"
      ]
     },
     "execution_count": 41,
     "metadata": {},
     "output_type": "execute_result"
    }
   ],
   "source": [
    "# Fit model with LightGBM\n",
    "lgb_model = lgb(random_state=42)\n",
    "lgb_model.fit(X_train_over, y_train_res_over)"
   ]
  },
  {
   "cell_type": "code",
   "execution_count": null,
   "metadata": {},
   "outputs": [
    {
     "name": "stdout",
     "output_type": "stream",
     "text": [
      "Classification Report for LightGBM with Oversampling:\n",
      "              precision    recall  f1-score   support\n",
      "\n",
      "           0       0.99      1.00      0.99    197794\n",
      "           1       0.30      0.09      0.14      2206\n",
      "\n",
      "    accuracy                           0.99    200000\n",
      "   macro avg       0.64      0.54      0.56    200000\n",
      "weighted avg       0.98      0.99      0.98    200000\n",
      "\n"
     ]
    }
   ],
   "source": [
    "#Predict\n",
    "y_pred_lgb = lgb_model.predict(X_test_preprocessed)\n",
    "lgb_report = classification_report(y_test, y_pred_lgb)\n",
    "print(f\"Classification Report for LightGBM with Oversampling:\\n{lgb_report}\")"
   ]
  },
  {
   "cell_type": "markdown",
   "metadata": {},
   "source": [
    "#### Insights\n",
    "- Recall score is very low, this is probably due to threshold at 0.5 is not optimal for imbalance test set, we need to lower threshold yo predict minority class better"
   ]
  },
  {
   "cell_type": "markdown",
   "metadata": {},
   "source": [
    "#### Let's plot precision-recall curve for Positive class"
   ]
  },
  {
   "cell_type": "code",
   "execution_count": null,
   "metadata": {},
   "outputs": [
    {
     "data": {
      "image/png": "[encoded data removed]",
      "text/plain": [
       "<Figure size 640x480 with 1 Axes>"
      ]
     },
     "metadata": {},
     "output_type": "display_data"
    }
   ],
   "source": [
    "from sklearn.metrics import precision_recall_curve\n",
    "\n",
    "y_pred_probs = lgb_model.predict_proba(X_test_preprocessed)[:, 1]  # Predicted probabilities for the positive class\n",
    "precisions, recalls, thresholds = precision_recall_curve(y_test, y_pred_probs)\n",
    "\n",
    "# Plot Precision-Recall curve\n",
    "import matplotlib.pyplot as plt\n",
    "plt.plot(recalls, precisions)\n",
    "plt.xlabel('Recall')\n",
    "plt.ylabel('Precision')\n",
    "plt.title('Precision-Recall Curve')\n",
    "plt.show()\n"
   ]
  },
  {
   "cell_type": "markdown",
   "metadata": {},
   "source": [
    "#### insight\n",
    "- We need higher recall (i.e., fewer false negatives) => might lower the threshold (e.g., from 0.5 down to 0.03). This typically **raises recall but drops precision**."
   ]
  },
  {
   "cell_type": "code",
   "execution_count": null,
   "metadata": {},
   "outputs": [
    {
     "name": "stdout",
     "output_type": "stream",
     "text": [
      "Classification Report for LightGBM with Oversampling at 0.04 threshold:\n",
      "              precision    recall  f1-score   support\n",
      "\n",
      "           0       1.00      0.79      0.88    197794\n",
      "           1       0.04      0.81      0.08      2206\n",
      "\n",
      "    accuracy                           0.79    200000\n",
      "   macro avg       0.52      0.80      0.48    200000\n",
      "weighted avg       0.99      0.79      0.87    200000\n",
      "\n"
     ]
    }
   ],
   "source": [
    "optimal_threshold = 0.015  # Adjusting threshold\n",
    "y_pred_adjusted = (y_pred_probs >= optimal_threshold).astype(int)\n",
    "\n",
    "adjusted_report = classification_report(y_test, y_pred_adjusted)\n",
    "print(f\"Classification Report for LightGBM with Oversampling at 0.04 threshold:\\n{adjusted_report}\")\n"
   ]
  },
  {
   "cell_type": "markdown",
   "metadata": {},
   "source": [
    "#### Insights\n",
    "1. Improved Fraud Detection (Recall):\n",
    "\n",
    "- The recall for Class 1 (fraud cases) **increased to 77%**, meaning the model now detects most fraud cases. This is a significant improvement over the earlier recall (likely **near 8%** or so when using the default threshold of 0.5).\n",
    "\n",
    "2. Precision Tradeoff:\n",
    "- Precision for fraud cases dropped to 4%, indicating that many non-fraud cases are misclassified as fraud (false positives). This is the expected tradeoff when adjusting the threshold to prioritize recall in highly imbalanced datasets.\n",
    "\n",
    "3. Accuracy\n",
    "- Achieve good overall accuracy (0.82)."
   ]
  },
  {
   "cell_type": "code",
   "execution_count": null,
   "metadata": {},
   "outputs": [
    {
     "data": {
      "image/png": "[encoded data removed]",
      "text/plain": [
       "<Figure size 800x600 with 2 Axes>"
      ]
     },
     "metadata": {},
     "output_type": "display_data"
    }
   ],
   "source": [
    "cm_lgbm = confusion_matrix(y_test, y_pred_adjusted)\n",
    "# 5. Visualize the confusion matrix using Seaborn's heatmap\n",
    "plt.figure(figsize=(8, 6))\n",
    "sns.heatmap(cm_lgbm, annot=True, fmt='d', cmap='Blues', xticklabels=['Non-Fraud', 'Fraud'], yticklabels=['Non-Fraud', 'Fraud'])\n",
    "plt.xlabel('Predicted Label')\n",
    "plt.ylabel('True Label')\n",
    "plt.title('Confusion Matrix for LightGBM with Oversampling')\n",
    "plt.show()  "
   ]
  },
  {
   "cell_type": "markdown",
   "metadata": {},
   "source": [
    "## Hyper Parameter Tunning"
   ]
  },
  {
   "cell_type": "markdown",
   "metadata": {},
   "source": [
    "#### Bayesian Optimization (Optuna)"
   ]
  },
  {
   "cell_type": "code",
   "execution_count": null,
   "metadata": {},
   "outputs": [
    {
     "name": "stderr",
     "output_type": "stream",
     "text": [
      "[I 2025-01-10 12:57:18,896] A new study created in memory with name: no-name-bb7087c6-e084-434b-8c44-0083ad170b09\n",
      "[I 2025-01-10 12:57:36,724] Trial 0 finished with value: 0.8667686354491181 and parameters: {'num_leaves': 75, 'max_depth': 9, 'learning_rate': 0.07469223063228352, 'subsample': 0.9784007510409554, 'colsample_bytree': 0.8902121654817391, 'lambda_l1': 4.1833496601121265, 'lambda_l2': 0.7562236879337636}. Best is trial 0 with value: 0.8667686354491181.\n",
      "[I 2025-01-10 12:57:53,884] Trial 1 finished with value: 0.877965807857597 and parameters: {'num_leaves': 36, 'max_depth': 14, 'learning_rate': 0.11995095084703278, 'subsample': 0.7871711621163053, 'colsample_bytree': 0.7725484539476711, 'lambda_l1': 1.6132092018972322, 'lambda_l2': 3.422430959613992}. Best is trial 1 with value: 0.877965807857597.\n",
      "[I 2025-01-10 12:58:08,740] Trial 2 finished with value: 0.875281474754507 and parameters: {'num_leaves': 20, 'max_depth': 12, 'learning_rate': 0.11270417566101053, 'subsample': 0.861762218930143, 'colsample_bytree': 0.7019240310032805, 'lambda_l1': 6.424492289466253, 'lambda_l2': 5.953531578450345}. Best is trial 1 with value: 0.877965807857597.\n",
      "[I 2025-01-10 12:58:27,623] Trial 3 finished with value: 0.8700334453362593 and parameters: {'num_leaves': 87, 'max_depth': 14, 'learning_rate': 0.07146233151779206, 'subsample': 0.896767811056064, 'colsample_bytree': 0.8418968043349859, 'lambda_l1': 2.9000489099770688, 'lambda_l2': 7.770031425416729}. Best is trial 1 with value: 0.877965807857597.\n",
      "[I 2025-01-10 12:58:40,631] Trial 4 finished with value: 0.8504639653139309 and parameters: {'num_leaves': 59, 'max_depth': 13, 'learning_rate': 0.032581837782437055, 'subsample': 0.9637129995909748, 'colsample_bytree': 0.9294166420631969, 'lambda_l1': 8.139526943846723, 'lambda_l2': 2.992404404321989}. Best is trial 1 with value: 0.877965807857597.\n",
      "[I 2025-01-10 12:58:49,485] Trial 5 finished with value: 0.8708229526577401 and parameters: {'num_leaves': 90, 'max_depth': 4, 'learning_rate': 0.19711136493135842, 'subsample': 0.8739445211427538, 'colsample_bytree': 0.9810812754774343, 'lambda_l1': 7.797170869232404, 'lambda_l2': 9.851426255404213}. Best is trial 1 with value: 0.877965807857597.\n",
      "[I 2025-01-10 12:59:00,384] Trial 6 finished with value: 0.8416488061085431 and parameters: {'num_leaves': 82, 'max_depth': 5, 'learning_rate': 0.026972430171085957, 'subsample': 0.7091703235637888, 'colsample_bytree': 0.7168514993917448, 'lambda_l1': 2.170208095275854, 'lambda_l2': 9.786037172092941}. Best is trial 1 with value: 0.877965807857597.\n",
      "[I 2025-01-10 12:59:13,130] Trial 7 finished with value: 0.876189935831596 and parameters: {'num_leaves': 48, 'max_depth': 13, 'learning_rate': 0.16903221555719078, 'subsample': 0.8965752852470473, 'colsample_bytree': 0.7627034622449507, 'lambda_l1': 1.8442694719631525, 'lambda_l2': 0.8908685650611259}. Best is trial 1 with value: 0.877965807857597.\n",
      "[I 2025-01-10 12:59:25,102] Trial 8 finished with value: 0.8771179150480366 and parameters: {'num_leaves': 35, 'max_depth': 9, 'learning_rate': 0.14523612943789813, 'subsample': 0.8983322002789444, 'colsample_bytree': 0.8182048576845541, 'lambda_l1': 7.932193222302653, 'lambda_l2': 2.700254248020788}. Best is trial 1 with value: 0.877965807857597.\n",
      "[I 2025-01-10 12:59:36,480] Trial 9 finished with value: 0.8434274083518044 and parameters: {'num_leaves': 42, 'max_depth': 7, 'learning_rate': 0.028526790819031193, 'subsample': 0.9327166731341747, 'colsample_bytree': 0.9745999078319302, 'lambda_l1': 2.157475466364062, 'lambda_l2': 7.783044770936049}. Best is trial 1 with value: 0.877965807857597.\n",
      "[I 2025-01-10 12:59:47,583] Trial 10 finished with value: 0.8772204810510512 and parameters: {'num_leaves': 23, 'max_depth': 15, 'learning_rate': 0.11811115884415312, 'subsample': 0.7730756226107918, 'colsample_bytree': 0.7727736409179676, 'lambda_l1': 0.1075305800584827, 'lambda_l2': 3.969792108551182}. Best is trial 1 with value: 0.877965807857597.\n",
      "[I 2025-01-10 12:59:59,597] Trial 11 finished with value: 0.8757687449001147 and parameters: {'num_leaves': 21, 'max_depth': 15, 'learning_rate': 0.11701445642431801, 'subsample': 0.7746803119044918, 'colsample_bytree': 0.7870384618914575, 'lambda_l1': 0.0455219046449847, 'lambda_l2': 4.082955091124584}. Best is trial 1 with value: 0.877965807857597.\n",
      "[I 2025-01-10 13:00:12,308] Trial 12 finished with value: 0.878018613937546 and parameters: {'num_leaves': 31, 'max_depth': 11, 'learning_rate': 0.1333569631121863, 'subsample': 0.7957308874878448, 'colsample_bytree': 0.7592817935626536, 'lambda_l1': 0.047176321956238665, 'lambda_l2': 5.422947307602862}. Best is trial 12 with value: 0.878018613937546.\n",
      "[I 2025-01-10 13:00:24,154] Trial 13 finished with value: 0.878590920803101 and parameters: {'num_leaves': 35, 'max_depth': 11, 'learning_rate': 0.15051752891429615, 'subsample': 0.8039469048230972, 'colsample_bytree': 0.7461489902164551, 'lambda_l1': 4.5517807961322925, 'lambda_l2': 6.117597309580907}. Best is trial 13 with value: 0.878590920803101.\n",
      "[I 2025-01-10 13:00:38,135] Trial 14 finished with value: 0.8765100259569145 and parameters: {'num_leaves': 57, 'max_depth': 11, 'learning_rate': 0.15637442508828667, 'subsample': 0.8235227607794734, 'colsample_bytree': 0.7385007357998256, 'lambda_l1': 5.209407074498815, 'lambda_l2': 6.000845446491238}. Best is trial 13 with value: 0.878590920803101.\n",
      "[I 2025-01-10 13:00:51,389] Trial 15 finished with value: 0.87321586176714 and parameters: {'num_leaves': 70, 'max_depth': 11, 'learning_rate': 0.1847001790725409, 'subsample': 0.7200079840603768, 'colsample_bytree': 0.8183595526096431, 'lambda_l1': 9.810012060616504, 'lambda_l2': 5.638296139472157}. Best is trial 13 with value: 0.878590920803101.\n",
      "[I 2025-01-10 13:01:02,738] Trial 16 finished with value: 0.8745246546806419 and parameters: {'num_leaves': 32, 'max_depth': 7, 'learning_rate': 0.14396831531946713, 'subsample': 0.819994775352474, 'colsample_bytree': 0.8825968481378349, 'lambda_l1': 4.445508561303639, 'lambda_l2': 7.746952732839244}. Best is trial 13 with value: 0.878590920803101.\n",
      "[I 2025-01-10 13:01:15,159] Trial 17 finished with value: 0.8728368043797364 and parameters: {'num_leaves': 45, 'max_depth': 10, 'learning_rate': 0.08579224973273523, 'subsample': 0.7431245319201286, 'colsample_bytree': 0.7350719050532949, 'lambda_l1': 5.650156027592137, 'lambda_l2': 6.809251949508533}. Best is trial 13 with value: 0.878590920803101.\n",
      "[I 2025-01-10 13:01:27,684] Trial 18 finished with value: 0.8652723147735736 and parameters: {'num_leaves': 100, 'max_depth': 7, 'learning_rate': 0.13307668634928674, 'subsample': 0.8268640843179403, 'colsample_bytree': 0.8077128137095897, 'lambda_l1': 3.4841595475516423, 'lambda_l2': 4.869698392431629}. Best is trial 13 with value: 0.878590920803101.\n",
      "[I 2025-01-10 13:01:40,494] Trial 19 finished with value: 0.874767756705103 and parameters: {'num_leaves': 50, 'max_depth': 10, 'learning_rate': 0.17008288346083925, 'subsample': 0.796501000378926, 'colsample_bytree': 0.7399679893243152, 'lambda_l1': 1.0278299137743772, 'lambda_l2': 1.964802408219275}. Best is trial 13 with value: 0.878590920803101.\n",
      "[I 2025-01-10 13:01:52,414] Trial 20 finished with value: 0.8732636411275588 and parameters: {'num_leaves': 29, 'max_depth': 12, 'learning_rate': 0.09364500054992378, 'subsample': 0.7640291937710504, 'colsample_bytree': 0.860941518839679, 'lambda_l1': 6.516772443105824, 'lambda_l2': 8.623810750548717}. Best is trial 13 with value: 0.878590920803101.\n",
      "[I 2025-01-10 13:02:05,037] Trial 21 finished with value: 0.8778920629044181 and parameters: {'num_leaves': 37, 'max_depth': 13, 'learning_rate': 0.1312097099617326, 'subsample': 0.8047421648086994, 'colsample_bytree': 0.7630867559629679, 'lambda_l1': 0.9287572608236818, 'lambda_l2': 4.8021763881642805}. Best is trial 13 with value: 0.878590920803101.\n",
      "[I 2025-01-10 13:02:16,445] Trial 22 finished with value: 0.880225334291727 and parameters: {'num_leaves': 28, 'max_depth': 14, 'learning_rate': 0.15810073123375362, 'subsample': 0.7469133084921817, 'colsample_bytree': 0.7927668681854012, 'lambda_l1': 0.8260978470847093, 'lambda_l2': 3.8013895658147416}. Best is trial 22 with value: 0.880225334291727.\n",
      "[I 2025-01-10 13:02:28,277] Trial 23 finished with value: 0.8776707333064032 and parameters: {'num_leaves': 28, 'max_depth': 11, 'learning_rate': 0.16112141013479386, 'subsample': 0.7421281906559204, 'colsample_bytree': 0.7990347008846606, 'lambda_l1': 3.1953948185649432, 'lambda_l2': 6.469137638339683}. Best is trial 22 with value: 0.880225334291727.\n",
      "[I 2025-01-10 13:02:39,950] Trial 24 finished with value: 0.8748036010418146 and parameters: {'num_leaves': 40, 'max_depth': 8, 'learning_rate': 0.18312295216836574, 'subsample': 0.7446329564377085, 'colsample_bytree': 0.8439726769246384, 'lambda_l1': 0.9231450326371101, 'lambda_l2': 5.129842522889478}. Best is trial 22 with value: 0.880225334291727.\n",
      "[I 2025-01-10 13:02:53,017] Trial 25 finished with value: 0.8763245605953457 and parameters: {'num_leaves': 54, 'max_depth': 12, 'learning_rate': 0.14596301508828677, 'subsample': 0.846118451053281, 'colsample_bytree': 0.7460688835065912, 'lambda_l1': 2.730666873712, 'lambda_l2': 2.0945292126040007}. Best is trial 22 with value: 0.880225334291727.\n",
      "[I 2025-01-10 13:03:06,504] Trial 26 finished with value: 0.8735597275782151 and parameters: {'num_leaves': 65, 'max_depth': 10, 'learning_rate': 0.0967380483793453, 'subsample': 0.7522622897567096, 'colsample_bytree': 0.7878064878274454, 'lambda_l1': 0.144868852442265, 'lambda_l2': 4.092256595163871}. Best is trial 22 with value: 0.880225334291727.\n",
      "[I 2025-01-10 13:03:19,217] Trial 27 finished with value: 0.8781316370135127 and parameters: {'num_leaves': 29, 'max_depth': 14, 'learning_rate': 0.13358985807214013, 'subsample': 0.7257883659413755, 'colsample_bytree': 0.7127580437865424, 'lambda_l1': 4.009080950124302, 'lambda_l2': 4.977047576280414}. Best is trial 22 with value: 0.880225334291727.\n",
      "[I 2025-01-10 13:03:31,203] Trial 28 finished with value: 0.8790420829825297 and parameters: {'num_leaves': 25, 'max_depth': 14, 'learning_rate': 0.15661945854926126, 'subsample': 0.7206804294547164, 'colsample_bytree': 0.7149521737806327, 'lambda_l1': 3.85425483384358, 'lambda_l2': 6.577339053822608}. Best is trial 22 with value: 0.880225334291727.\n",
      "[I 2025-01-10 13:03:43,171] Trial 29 finished with value: 0.8661376208979655 and parameters: {'num_leaves': 25, 'max_depth': 15, 'learning_rate': 0.06568838132856172, 'subsample': 0.705004853945415, 'colsample_bytree': 0.7209960919275437, 'lambda_l1': 5.944884847519086, 'lambda_l2': 6.996872073694891}. Best is trial 22 with value: 0.880225334291727.\n",
      "[I 2025-01-10 13:03:55,607] Trial 30 finished with value: 0.8777452134184229 and parameters: {'num_leaves': 41, 'max_depth': 14, 'learning_rate': 0.19973751968957237, 'subsample': 0.7001224029801852, 'colsample_bytree': 0.7023369667033207, 'lambda_l1': 4.580276966473258, 'lambda_l2': 8.781184196078634}. Best is trial 22 with value: 0.880225334291727.\n",
      "[I 2025-01-10 13:04:07,623] Trial 31 finished with value: 0.880062320082505 and parameters: {'num_leaves': 26, 'max_depth': 14, 'learning_rate': 0.15542102016173354, 'subsample': 0.7256851160320189, 'colsample_bytree': 0.7216716859953243, 'lambda_l1': 3.9901026702143714, 'lambda_l2': 4.5516929107172555}. Best is trial 22 with value: 0.880225334291727.\n",
      "[I 2025-01-10 13:04:18,989] Trial 32 finished with value: 0.8794669220723544 and parameters: {'num_leaves': 25, 'max_depth': 13, 'learning_rate': 0.17849782677164527, 'subsample': 0.7273925937912553, 'colsample_bytree': 0.7258446148688202, 'lambda_l1': 3.836591871026836, 'lambda_l2': 3.494919981212659}. Best is trial 22 with value: 0.880225334291727.\n",
      "[I 2025-01-10 13:04:30,787] Trial 33 finished with value: 0.8794949485401135 and parameters: {'num_leaves': 25, 'max_depth': 14, 'learning_rate': 0.18072952951062687, 'subsample': 0.7263532707730576, 'colsample_bytree': 0.7277594141271582, 'lambda_l1': 4.002976355016146, 'lambda_l2': 3.325141547754724}. Best is trial 22 with value: 0.880225334291727.\n",
      "[I 2025-01-10 13:04:42,026] Trial 34 finished with value: 0.8802641141886466 and parameters: {'num_leaves': 21, 'max_depth': 13, 'learning_rate': 0.1793399668830563, 'subsample': 0.7289290441819585, 'colsample_bytree': 0.7257258511188363, 'lambda_l1': 2.4518254725440594, 'lambda_l2': 3.4350784646508674}. Best is trial 34 with value: 0.8802641141886466.\n",
      "[I 2025-01-10 13:04:52,876] Trial 35 finished with value: 0.8801555226682121 and parameters: {'num_leaves': 21, 'max_depth': 15, 'learning_rate': 0.18928567161175786, 'subsample': 0.757521135734745, 'colsample_bytree': 0.7790890192093467, 'lambda_l1': 2.885807665405659, 'lambda_l2': 1.7235028179485508}. Best is trial 34 with value: 0.8802641141886466.\n",
      "[I 2025-01-10 13:05:03,386] Trial 36 finished with value: 0.8807346475458416 and parameters: {'num_leaves': 20, 'max_depth': 15, 'learning_rate': 0.1905441292440359, 'subsample': 0.7617415774808679, 'colsample_bytree': 0.7842587204022807, 'lambda_l1': 2.5531108613392197, 'lambda_l2': 0.08517806756088131}. Best is trial 36 with value: 0.8807346475458416.\n",
      "[I 2025-01-10 13:05:14,938] Trial 37 finished with value: 0.8789342119712428 and parameters: {'num_leaves': 22, 'max_depth': 15, 'learning_rate': 0.19162347288271775, 'subsample': 0.7617763617204947, 'colsample_bytree': 0.8344850149322656, 'lambda_l1': 2.6098135558080604, 'lambda_l2': 0.20323240894882422}. Best is trial 36 with value: 0.8807346475458416.\n",
      "[I 2025-01-10 13:05:25,543] Trial 38 finished with value: 0.8786424789972317 and parameters: {'num_leaves': 20, 'max_depth': 15, 'learning_rate': 0.17003495990159576, 'subsample': 0.7652871341525478, 'colsample_bytree': 0.8685543817919064, 'lambda_l1': 1.386360810473049, 'lambda_l2': 1.1377057310298446}. Best is trial 36 with value: 0.8807346475458416.\n",
      "[I 2025-01-10 13:05:37,358] Trial 39 finished with value: 0.8789524769491228 and parameters: {'num_leaves': 20, 'max_depth': 13, 'learning_rate': 0.1901847971463245, 'subsample': 0.9988180461180511, 'colsample_bytree': 0.9106293582076735, 'lambda_l1': 1.630714190996553, 'lambda_l2': 0.057015403459620195}. Best is trial 36 with value: 0.8807346475458416.\n",
      "[I 2025-01-10 13:05:48,010] Trial 40 finished with value: 0.8385191936060253 and parameters: {'num_leaves': 33, 'max_depth': 13, 'learning_rate': 0.013126325191473165, 'subsample': 0.7830855006250671, 'colsample_bytree': 0.7783549703788157, 'lambda_l1': 2.3535720794068076, 'lambda_l2': 1.5119392347221952}. Best is trial 36 with value: 0.8807346475458416.\n",
      "[I 2025-01-10 13:06:00,632] Trial 41 finished with value: 0.8797313369196132 and parameters: {'num_leaves': 28, 'max_depth': 15, 'learning_rate': 0.17259561929493522, 'subsample': 0.7435884561262506, 'colsample_bytree': 0.7535928404379334, 'lambda_l1': 3.3130830287232325, 'lambda_l2': 2.4959096525688653}. Best is trial 36 with value: 0.8807346475458416.\n",
      "[I 2025-01-10 13:06:12,510] Trial 42 finished with value: 0.8775732535153518 and parameters: {'num_leaves': 36, 'max_depth': 14, 'learning_rate': 0.16431387279880338, 'subsample': 0.7565274515609938, 'colsample_bytree': 0.7980095737246479, 'lambda_l1': 2.8328161137207015, 'lambda_l2': 0.5208725159429543}. Best is trial 36 with value: 0.8807346475458416.\n",
      "[I 2025-01-10 13:06:20,866] Trial 43 finished with value: 0.8663845307890905 and parameters: {'num_leaves': 20, 'max_depth': 3, 'learning_rate': 0.19081751694590557, 'subsample': 0.7813951572066525, 'colsample_bytree': 0.8265261033588015, 'lambda_l1': 2.026940399561288, 'lambda_l2': 1.4627188275634961}. Best is trial 36 with value: 0.8807346475458416.\n",
      "[I 2025-01-10 13:06:32,107] Trial 44 finished with value: 0.8796577890140554 and parameters: {'num_leaves': 26, 'max_depth': 14, 'learning_rate': 0.17866544089904637, 'subsample': 0.713519174526889, 'colsample_bytree': 0.7712154661038204, 'lambda_l1': 1.3106669468593481, 'lambda_l2': 3.1295018603328364}. Best is trial 36 with value: 0.8807346475458416.\n",
      "[I 2025-01-10 13:06:43,627] Trial 45 finished with value: 0.8783144658983205 and parameters: {'num_leaves': 31, 'max_depth': 12, 'learning_rate': 0.19856838867575416, 'subsample': 0.7387520206206065, 'colsample_bytree': 0.7041956940867606, 'lambda_l1': 3.069400859832939, 'lambda_l2': 4.415415703400447}. Best is trial 36 with value: 0.8807346475458416.\n",
      "[I 2025-01-10 13:06:55,005] Trial 46 finished with value: 0.8807389350774762 and parameters: {'num_leaves': 23, 'max_depth': 15, 'learning_rate': 0.1753766368235759, 'subsample': 0.7332850088150694, 'colsample_bytree': 0.7851260467608571, 'lambda_l1': 0.5945840471601576, 'lambda_l2': 2.6519086625399213}. Best is trial 46 with value: 0.8807389350774762.\n",
      "[I 2025-01-10 13:07:08,416] Trial 47 finished with value: 0.8625036641156482 and parameters: {'num_leaves': 78, 'max_depth': 15, 'learning_rate': 0.04891187869296431, 'subsample': 0.9419810824778416, 'colsample_bytree': 0.7846963556654897, 'lambda_l1': 0.5977246764905617, 'lambda_l2': 2.5674583941007283}. Best is trial 46 with value: 0.8807389350774762.\n",
      "[I 2025-01-10 13:07:20,340] Trial 48 finished with value: 0.8734050080375871 and parameters: {'num_leaves': 39, 'max_depth': 15, 'learning_rate': 0.18694755820866527, 'subsample': 0.7730602053699465, 'colsample_bytree': 0.9965531521589488, 'lambda_l1': 0.5266378487679857, 'lambda_l2': 3.7478203805123353}. Best is trial 46 with value: 0.8807389350774762.\n",
      "[I 2025-01-10 13:07:33,144] Trial 49 finished with value: 0.8756626156325891 and parameters: {'num_leaves': 45, 'max_depth': 12, 'learning_rate': 0.1730607630263307, 'subsample': 0.7330778914005495, 'colsample_bytree': 0.804200821379583, 'lambda_l1': 1.7907956313763078, 'lambda_l2': 2.146807233890682}. Best is trial 46 with value: 0.8807389350774762.\n"
     ]
    },
    {
     "ename": "AttributeError",
     "evalue": "'Study' object has no attribute 'best_params_'",
     "output_type": "error",
     "traceback": [
      "\u001b[1;31m---------------------------------------------------------------------------\u001b[0m",
      "\u001b[1;31mAttributeError\u001b[0m                            Traceback (most recent call last)",
      "\u001b[1;32m~\\AppData\\Local\\Temp\\ipykernel_17184\\576528284.py\u001b[0m in \u001b[0;36m<cell line: 47>\u001b[1;34m()\u001b[0m\n\u001b[0;32m     45\u001b[0m \u001b[0mstudy\u001b[0m\u001b[1;33m.\u001b[0m\u001b[0moptimize\u001b[0m\u001b[1;33m(\u001b[0m\u001b[0mobjective\u001b[0m\u001b[1;33m,\u001b[0m \u001b[0mn_trials\u001b[0m\u001b[1;33m=\u001b[0m\u001b[1;36m50\u001b[0m\u001b[1;33m)\u001b[0m\u001b[1;33m\u001b[0m\u001b[1;33m\u001b[0m\u001b[0m\n\u001b[0;32m     46\u001b[0m \u001b[1;33m\u001b[0m\u001b[0m\n\u001b[1;32m---> 47\u001b[1;33m \u001b[0mprint\u001b[0m\u001b[1;33m(\u001b[0m\u001b[1;34m\"Best Parameters:\"\u001b[0m\u001b[1;33m,\u001b[0m \u001b[0mstudy\u001b[0m\u001b[1;33m.\u001b[0m\u001b[0mbest_params_\u001b[0m\u001b[1;33m)\u001b[0m\u001b[1;33m\u001b[0m\u001b[1;33m\u001b[0m\u001b[0m\n\u001b[0m",
      "\u001b[1;31mAttributeError\u001b[0m: 'Study' object has no attribute 'best_params_'"
     ]
    }
   ],
   "source": [
    "import optuna\n",
    "from lightgbm import LGBMClassifier as lgb\n",
    "from sklearn.model_selection import train_test_split\n",
    "from imblearn.pipeline import Pipeline as ImbPipeline\n",
    "from imblearn.over_sampling import SMOTE\n",
    "\n",
    "def objective(trial):\n",
    "    params = {\n",
    "        'objective': 'binary',\n",
    "        'metric': 'auc',\n",
    "        'boosting_type': 'gbdt',\n",
    "        'num_leaves': trial.suggest_int('num_leaves', 20, 100),\n",
    "        'max_depth': trial.suggest_int('max_depth', 3, 15),\n",
    "        'learning_rate': trial.suggest_float('learning_rate', 0.01, 0.2),\n",
    "        'subsample': trial.suggest_float('subsample', 0.7, 1.0),\n",
    "        'colsample_bytree': trial.suggest_float('colsample_bytree', 0.7, 1.0),\n",
    "        'lambda_l1': trial.suggest_float('lambda_l1', 0.0, 10.0),\n",
    "        'lambda_l2': trial.suggest_float('lambda_l2', 0.0, 10.0),\n",
    "        'scale_pos_weight': len(y_train[y_train == 0]) / len(y_train[y_train == 1])\n",
    "    }\n",
    "    \n",
    "    # --- Build Pipeline: SMOTE + Classifier ---\n",
    "    model = lgb(random_state = RANDOM_STATE)\n",
    "    model.set_params(**params)\n",
    "    smote_pipeline = ImbPipeline([\n",
    "        \n",
    "        ('resampler', SMOTE()),\n",
    "        ('classifier', model)\n",
    "    ])\n",
    "    # --- Cross-Validation ---\n",
    "    skf = StratifiedKFold(n_splits=3, shuffle= True, random_state=RANDOM_STATE)\n",
    "    scorer = make_scorer(roc_auc_score, needs_proba=True)\n",
    "    scores = cross_val_score(\n",
    "        smote_pipeline,\n",
    "        X_train_preprocessed,\n",
    "        y_train,\n",
    "        scoring= scorer,\n",
    "        cv= skf,\n",
    "        n_jobs= -1\n",
    "    )\n",
    "    \n",
    "    return scores.mean()\n",
    "\n",
    "study = optuna.create_study(direction='maximize')\n",
    "study.optimize(objective, n_trials=50)\n"
   ]
  },
  {
   "cell_type": "code",
   "execution_count": null,
   "metadata": {},
   "outputs": [
    {
     "name": "stdout",
     "output_type": "stream",
     "text": [
      "Best Parameters: {'num_leaves': 23, 'max_depth': 15, 'learning_rate': 0.1753766368235759, 'subsample': 0.7332850088150694, 'colsample_bytree': 0.7851260467608571, 'lambda_l1': 0.5945840471601576, 'lambda_l2': 2.6519086625399213}\n"
     ]
    }
   ],
   "source": [
    "print(\"Best Parameters:\", study.best_params)"
   ]
  },
  {
   "cell_type": "code",
   "execution_count": null,
   "metadata": {},
   "outputs": [
    {
     "name": "stdout",
     "output_type": "stream",
     "text": [
      "[LightGBM] [Warning] lambda_l1 is set=0.5945840471601576, reg_alpha=0.0 will be ignored. Current value: lambda_l1=0.5945840471601576\n",
      "[LightGBM] [Warning] lambda_l2 is set=2.6519086625399213, reg_lambda=0.0 will be ignored. Current value: lambda_l2=2.6519086625399213\n",
      "[LightGBM] [Warning] lambda_l1 is set=0.5945840471601576, reg_alpha=0.0 will be ignored. Current value: lambda_l1=0.5945840471601576\n",
      "[LightGBM] [Warning] lambda_l2 is set=2.6519086625399213, reg_lambda=0.0 will be ignored. Current value: lambda_l2=2.6519086625399213\n",
      "[LightGBM] [Info] Number of positive: 791177, number of negative: 791177\n",
      "[LightGBM] [Info] Auto-choosing row-wise multi-threading, the overhead of testing was 0.092654 seconds.\n",
      "You can set `force_row_wise=true` to remove the overhead.\n",
      "And if memory is not enough, you can set `force_col_wise=true`.\n",
      "[LightGBM] [Info] Total Bins 10031\n",
      "[LightGBM] [Info] Number of data points in the train set: 1582354, number of used features: 49\n",
      "[LightGBM] [Info] [binary:BoostFromScore]: pavg=0.500000 -> initscore=0.000000\n",
      "[LightGBM] [Warning] lambda_l1 is set=0.5945840471601576, reg_alpha=0.0 will be ignored. Current value: lambda_l1=0.5945840471601576\n",
      "[LightGBM] [Warning] lambda_l2 is set=2.6519086625399213, reg_lambda=0.0 will be ignored. Current value: lambda_l2=2.6519086625399213\n",
      "[LightGBM] [Warning] lambda_l1 is set=0.5945840471601576, reg_alpha=0.0 will be ignored. Current value: lambda_l1=0.5945840471601576\n",
      "[LightGBM] [Warning] lambda_l2 is set=2.6519086625399213, reg_lambda=0.0 will be ignored. Current value: lambda_l2=2.6519086625399213\n",
      "Final Test ROC AUC: 0.8797\n",
      "Classofication report with best hyper param:               precision    recall  f1-score   support\n",
      "\n",
      "           0       0.99      1.00      0.99    197794\n",
      "           1       0.40      0.06      0.11      2206\n",
      "\n",
      "    accuracy                           0.99    200000\n",
      "   macro avg       0.69      0.53      0.55    200000\n",
      "weighted avg       0.98      0.99      0.98    200000\n",
      "\n"
     ]
    }
   ],
   "source": [
    "# Train the final model with the best parameters\n",
    "best_params = study.best_params\n",
    "final_model = lgb(**best_params)\n",
    "final_pipeline = ImbPipeline([\n",
    "    ('resampler', SMOTE(random_state=RANDOM_STATE)),\n",
    "    ('classifier', final_model)\n",
    "])\n",
    "\n",
    "final_pipeline.fit(X_train_preprocessed, y_train)\n",
    "\n",
    "# Test set evaluation\n",
    "y_pred_probs = final_pipeline.predict_proba(X_test_preprocessed)[:, 1]\n",
    "y_pred = final_pipeline.predict(X_test_preprocessed)\n",
    "roc_auc = roc_auc_score(y_test, y_pred_probs)\n",
    "final_report = classification_report(y_test, y_pred)\n",
    "print(f\"Final Test ROC AUC: {roc_auc:.4f}\")\n",
    "print(f\"Classofication report with best hyper param: {final_report}\")\n"
   ]
  },
  {
   "cell_type": "code",
   "execution_count": null,
   "metadata": {},
   "outputs": [
    {
     "name": "stdout",
     "output_type": "stream",
     "text": [
      "Classification Report for LightGBM with Oversampling at 0.015 threshold:\n",
      "              precision    recall  f1-score   support\n",
      "\n",
      "           0       1.00      0.79      0.88    197794\n",
      "           1       0.04      0.81      0.08      2206\n",
      "\n",
      "    accuracy                           0.79    200000\n",
      "   macro avg       0.52      0.80      0.48    200000\n",
      "weighted avg       0.99      0.79      0.87    200000\n",
      "\n"
     ]
    }
   ],
   "source": [
    "optimal_threshold = 0.015  # Example threshold based on the curve\n",
    "y_pred_adjusted = (y_pred_probs >= optimal_threshold).astype(int)\n",
    "\n",
    "adjusted_report = classification_report(y_test, y_pred_adjusted)\n",
    "print(f\"Classification Report for LightGBM with Oversampling at 0.015 threshold:\\n{adjusted_report}\")\n"
   ]
  },
  {
   "cell_type": "code",
   "execution_count": null,
   "metadata": {},
   "outputs": [],
   "source": []
  }
 ],
 "metadata": {
  "kernelspec": {
   "display_name": "env",
   "language": "python",
   "name": "python3"
  },
  "language_info": {
   "codemirror_mode": {
    "name": "ipython",
    "version": 3
   },
   "file_extension": ".py",
   "mimetype": "text/x-python",
   "name": "python",
   "nbconvert_exporter": "python",
   "pygments_lexer": "ipython3",
   "version": "3.10.18"
  }
 },
 "nbformat": 4,
 "nbformat_minor": 2
}
