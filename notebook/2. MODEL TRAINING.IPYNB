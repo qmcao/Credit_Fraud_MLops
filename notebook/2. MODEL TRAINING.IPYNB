{
 "cells": [
  {
   "cell_type": "markdown",
   "metadata": {},
   "source": [
    "### 1. Data Cleaning and Preprocessing"
   ]
  },
  {
   "cell_type": "markdown",
   "metadata": {},
   "source": [
    "- Workflow:\n",
    "\n",
    "1. Split your data into train and test sets.\n",
    "2. Drop, Impute missing values (fit on train, transform test).\n",
    "3. Select features (fit on train, apply to test).\n",
    "4. Scale numerical features (fit on train, transform test).\n",
    "5. Encode categorical features (fit on train, transform test)."
   ]
  },
  {
   "cell_type": "code",
   "execution_count": 2,
   "metadata": {},
   "outputs": [],
   "source": [
    "import numpy as np\n",
    "import pandas as pd\n",
    "import seaborn as sns\n",
    "import matplotlib.pyplot as plt\n",
    "\n",
    "# Define Random State\n",
    "RANDOM_STATE = 42"
   ]
  },
  {
   "cell_type": "markdown",
   "metadata": {},
   "source": [
    "#### 1.1 Find Missing Values"
   ]
  },
  {
   "cell_type": "code",
   "execution_count": 3,
   "metadata": {},
   "outputs": [
    {
     "data": {
      "text/html": [
       "<div>\n",
       "<style scoped>\n",
       "    .dataframe tbody tr th:only-of-type {\n",
       "        vertical-align: middle;\n",
       "    }\n",
       "\n",
       "    .dataframe tbody tr th {\n",
       "        vertical-align: top;\n",
       "    }\n",
       "\n",
       "    .dataframe thead th {\n",
       "        text-align: right;\n",
       "    }\n",
       "</style>\n",
       "<table border=\"1\" class=\"dataframe\">\n",
       "  <thead>\n",
       "    <tr style=\"text-align: right;\">\n",
       "      <th></th>\n",
       "      <th>fraud_bool</th>\n",
       "      <th>income</th>\n",
       "      <th>name_email_similarity</th>\n",
       "      <th>prev_address_months_count</th>\n",
       "      <th>current_address_months_count</th>\n",
       "      <th>customer_age</th>\n",
       "      <th>days_since_request</th>\n",
       "      <th>intended_balcon_amount</th>\n",
       "      <th>zip_count_4w</th>\n",
       "      <th>velocity_6h</th>\n",
       "      <th>...</th>\n",
       "      <th>phone_mobile_valid</th>\n",
       "      <th>bank_months_count</th>\n",
       "      <th>has_other_cards</th>\n",
       "      <th>proposed_credit_limit</th>\n",
       "      <th>foreign_request</th>\n",
       "      <th>session_length_in_minutes</th>\n",
       "      <th>keep_alive_session</th>\n",
       "      <th>device_distinct_emails_8w</th>\n",
       "      <th>device_fraud_count</th>\n",
       "      <th>month</th>\n",
       "    </tr>\n",
       "  </thead>\n",
       "  <tbody>\n",
       "    <tr>\n",
       "      <th>count</th>\n",
       "      <td>1000000.000000</td>\n",
       "      <td>1000000.000000</td>\n",
       "      <td>1000000.000000</td>\n",
       "      <td>1000000.000000</td>\n",
       "      <td>1000000.000000</td>\n",
       "      <td>1000000.000000</td>\n",
       "      <td>1.000000e+06</td>\n",
       "      <td>1000000.000000</td>\n",
       "      <td>1000000.000000</td>\n",
       "      <td>1000000.000000</td>\n",
       "      <td>...</td>\n",
       "      <td>1000000.000000</td>\n",
       "      <td>1000000.000000</td>\n",
       "      <td>1000000.000000</td>\n",
       "      <td>1000000.000000</td>\n",
       "      <td>1000000.000000</td>\n",
       "      <td>1000000.000000</td>\n",
       "      <td>1000000.000000</td>\n",
       "      <td>1000000.000000</td>\n",
       "      <td>1000000.0</td>\n",
       "      <td>1000000.000000</td>\n",
       "    </tr>\n",
       "    <tr>\n",
       "      <th>mean</th>\n",
       "      <td>0.011029</td>\n",
       "      <td>0.562696</td>\n",
       "      <td>0.493694</td>\n",
       "      <td>16.718568</td>\n",
       "      <td>86.587867</td>\n",
       "      <td>33.689080</td>\n",
       "      <td>1.025705e+00</td>\n",
       "      <td>8.661499</td>\n",
       "      <td>1572.692049</td>\n",
       "      <td>5665.296605</td>\n",
       "      <td>...</td>\n",
       "      <td>0.889676</td>\n",
       "      <td>10.839303</td>\n",
       "      <td>0.222988</td>\n",
       "      <td>515.851010</td>\n",
       "      <td>0.025242</td>\n",
       "      <td>7.544940</td>\n",
       "      <td>0.576947</td>\n",
       "      <td>1.018312</td>\n",
       "      <td>0.0</td>\n",
       "      <td>3.288674</td>\n",
       "    </tr>\n",
       "    <tr>\n",
       "      <th>std</th>\n",
       "      <td>0.104438</td>\n",
       "      <td>0.290343</td>\n",
       "      <td>0.289125</td>\n",
       "      <td>44.046230</td>\n",
       "      <td>88.406599</td>\n",
       "      <td>12.025799</td>\n",
       "      <td>5.381835e+00</td>\n",
       "      <td>20.236155</td>\n",
       "      <td>1005.374565</td>\n",
       "      <td>3009.380665</td>\n",
       "      <td>...</td>\n",
       "      <td>0.313293</td>\n",
       "      <td>12.116875</td>\n",
       "      <td>0.416251</td>\n",
       "      <td>487.559902</td>\n",
       "      <td>0.156859</td>\n",
       "      <td>8.033106</td>\n",
       "      <td>0.494044</td>\n",
       "      <td>0.180761</td>\n",
       "      <td>0.0</td>\n",
       "      <td>2.209994</td>\n",
       "    </tr>\n",
       "    <tr>\n",
       "      <th>min</th>\n",
       "      <td>0.000000</td>\n",
       "      <td>0.100000</td>\n",
       "      <td>0.000001</td>\n",
       "      <td>-1.000000</td>\n",
       "      <td>-1.000000</td>\n",
       "      <td>10.000000</td>\n",
       "      <td>4.036860e-09</td>\n",
       "      <td>-15.530555</td>\n",
       "      <td>1.000000</td>\n",
       "      <td>-170.603072</td>\n",
       "      <td>...</td>\n",
       "      <td>0.000000</td>\n",
       "      <td>-1.000000</td>\n",
       "      <td>0.000000</td>\n",
       "      <td>190.000000</td>\n",
       "      <td>0.000000</td>\n",
       "      <td>-1.000000</td>\n",
       "      <td>0.000000</td>\n",
       "      <td>-1.000000</td>\n",
       "      <td>0.0</td>\n",
       "      <td>0.000000</td>\n",
       "    </tr>\n",
       "    <tr>\n",
       "      <th>25%</th>\n",
       "      <td>0.000000</td>\n",
       "      <td>0.300000</td>\n",
       "      <td>0.225216</td>\n",
       "      <td>-1.000000</td>\n",
       "      <td>19.000000</td>\n",
       "      <td>20.000000</td>\n",
       "      <td>7.193246e-03</td>\n",
       "      <td>-1.181488</td>\n",
       "      <td>894.000000</td>\n",
       "      <td>3436.365848</td>\n",
       "      <td>...</td>\n",
       "      <td>1.000000</td>\n",
       "      <td>-1.000000</td>\n",
       "      <td>0.000000</td>\n",
       "      <td>200.000000</td>\n",
       "      <td>0.000000</td>\n",
       "      <td>3.103053</td>\n",
       "      <td>0.000000</td>\n",
       "      <td>1.000000</td>\n",
       "      <td>0.0</td>\n",
       "      <td>1.000000</td>\n",
       "    </tr>\n",
       "    <tr>\n",
       "      <th>50%</th>\n",
       "      <td>0.000000</td>\n",
       "      <td>0.600000</td>\n",
       "      <td>0.492153</td>\n",
       "      <td>-1.000000</td>\n",
       "      <td>52.000000</td>\n",
       "      <td>30.000000</td>\n",
       "      <td>1.517574e-02</td>\n",
       "      <td>-0.830507</td>\n",
       "      <td>1263.000000</td>\n",
       "      <td>5319.769349</td>\n",
       "      <td>...</td>\n",
       "      <td>1.000000</td>\n",
       "      <td>5.000000</td>\n",
       "      <td>0.000000</td>\n",
       "      <td>200.000000</td>\n",
       "      <td>0.000000</td>\n",
       "      <td>5.114321</td>\n",
       "      <td>1.000000</td>\n",
       "      <td>1.000000</td>\n",
       "      <td>0.0</td>\n",
       "      <td>3.000000</td>\n",
       "    </tr>\n",
       "    <tr>\n",
       "      <th>75%</th>\n",
       "      <td>0.000000</td>\n",
       "      <td>0.800000</td>\n",
       "      <td>0.755567</td>\n",
       "      <td>12.000000</td>\n",
       "      <td>130.000000</td>\n",
       "      <td>40.000000</td>\n",
       "      <td>2.633069e-02</td>\n",
       "      <td>4.984176</td>\n",
       "      <td>1944.000000</td>\n",
       "      <td>7680.717827</td>\n",
       "      <td>...</td>\n",
       "      <td>1.000000</td>\n",
       "      <td>25.000000</td>\n",
       "      <td>0.000000</td>\n",
       "      <td>500.000000</td>\n",
       "      <td>0.000000</td>\n",
       "      <td>8.866131</td>\n",
       "      <td>1.000000</td>\n",
       "      <td>1.000000</td>\n",
       "      <td>0.0</td>\n",
       "      <td>5.000000</td>\n",
       "    </tr>\n",
       "    <tr>\n",
       "      <th>max</th>\n",
       "      <td>1.000000</td>\n",
       "      <td>0.900000</td>\n",
       "      <td>0.999999</td>\n",
       "      <td>383.000000</td>\n",
       "      <td>428.000000</td>\n",
       "      <td>90.000000</td>\n",
       "      <td>7.845690e+01</td>\n",
       "      <td>112.956928</td>\n",
       "      <td>6700.000000</td>\n",
       "      <td>16715.565404</td>\n",
       "      <td>...</td>\n",
       "      <td>1.000000</td>\n",
       "      <td>32.000000</td>\n",
       "      <td>1.000000</td>\n",
       "      <td>2100.000000</td>\n",
       "      <td>1.000000</td>\n",
       "      <td>85.899143</td>\n",
       "      <td>1.000000</td>\n",
       "      <td>2.000000</td>\n",
       "      <td>0.0</td>\n",
       "      <td>7.000000</td>\n",
       "    </tr>\n",
       "  </tbody>\n",
       "</table>\n",
       "<p>8 rows × 27 columns</p>\n",
       "</div>"
      ],
      "text/plain": [
       "           fraud_bool          income  name_email_similarity  \\\n",
       "count  1000000.000000  1000000.000000         1000000.000000   \n",
       "mean         0.011029        0.562696               0.493694   \n",
       "std          0.104438        0.290343               0.289125   \n",
       "min          0.000000        0.100000               0.000001   \n",
       "25%          0.000000        0.300000               0.225216   \n",
       "50%          0.000000        0.600000               0.492153   \n",
       "75%          0.000000        0.800000               0.755567   \n",
       "max          1.000000        0.900000               0.999999   \n",
       "\n",
       "       prev_address_months_count  current_address_months_count  \\\n",
       "count             1000000.000000                1000000.000000   \n",
       "mean                   16.718568                     86.587867   \n",
       "std                    44.046230                     88.406599   \n",
       "min                    -1.000000                     -1.000000   \n",
       "25%                    -1.000000                     19.000000   \n",
       "50%                    -1.000000                     52.000000   \n",
       "75%                    12.000000                    130.000000   \n",
       "max                   383.000000                    428.000000   \n",
       "\n",
       "         customer_age  days_since_request  intended_balcon_amount  \\\n",
       "count  1000000.000000        1.000000e+06          1000000.000000   \n",
       "mean        33.689080        1.025705e+00                8.661499   \n",
       "std         12.025799        5.381835e+00               20.236155   \n",
       "min         10.000000        4.036860e-09              -15.530555   \n",
       "25%         20.000000        7.193246e-03               -1.181488   \n",
       "50%         30.000000        1.517574e-02               -0.830507   \n",
       "75%         40.000000        2.633069e-02                4.984176   \n",
       "max         90.000000        7.845690e+01              112.956928   \n",
       "\n",
       "         zip_count_4w     velocity_6h  ...  phone_mobile_valid  \\\n",
       "count  1000000.000000  1000000.000000  ...      1000000.000000   \n",
       "mean      1572.692049     5665.296605  ...            0.889676   \n",
       "std       1005.374565     3009.380665  ...            0.313293   \n",
       "min          1.000000     -170.603072  ...            0.000000   \n",
       "25%        894.000000     3436.365848  ...            1.000000   \n",
       "50%       1263.000000     5319.769349  ...            1.000000   \n",
       "75%       1944.000000     7680.717827  ...            1.000000   \n",
       "max       6700.000000    16715.565404  ...            1.000000   \n",
       "\n",
       "       bank_months_count  has_other_cards  proposed_credit_limit  \\\n",
       "count     1000000.000000   1000000.000000         1000000.000000   \n",
       "mean           10.839303         0.222988             515.851010   \n",
       "std            12.116875         0.416251             487.559902   \n",
       "min            -1.000000         0.000000             190.000000   \n",
       "25%            -1.000000         0.000000             200.000000   \n",
       "50%             5.000000         0.000000             200.000000   \n",
       "75%            25.000000         0.000000             500.000000   \n",
       "max            32.000000         1.000000            2100.000000   \n",
       "\n",
       "       foreign_request  session_length_in_minutes  keep_alive_session  \\\n",
       "count   1000000.000000             1000000.000000      1000000.000000   \n",
       "mean          0.025242                   7.544940            0.576947   \n",
       "std           0.156859                   8.033106            0.494044   \n",
       "min           0.000000                  -1.000000            0.000000   \n",
       "25%           0.000000                   3.103053            0.000000   \n",
       "50%           0.000000                   5.114321            1.000000   \n",
       "75%           0.000000                   8.866131            1.000000   \n",
       "max           1.000000                  85.899143            1.000000   \n",
       "\n",
       "       device_distinct_emails_8w  device_fraud_count           month  \n",
       "count             1000000.000000           1000000.0  1000000.000000  \n",
       "mean                    1.018312                 0.0        3.288674  \n",
       "std                     0.180761                 0.0        2.209994  \n",
       "min                    -1.000000                 0.0        0.000000  \n",
       "25%                     1.000000                 0.0        1.000000  \n",
       "50%                     1.000000                 0.0        3.000000  \n",
       "75%                     1.000000                 0.0        5.000000  \n",
       "max                     2.000000                 0.0        7.000000  \n",
       "\n",
       "[8 rows x 27 columns]"
      ]
     },
     "execution_count": 3,
     "metadata": {},
     "output_type": "execute_result"
    }
   ],
   "source": [
    "df = pd.read_csv('data/fraud.csv')\n",
    "df.describe()"
   ]
  },
  {
   "cell_type": "markdown",
   "metadata": {},
   "source": [
    "#### Note : Some variables contains negative values, this indicate missing data that need to be processed"
   ]
  },
  {
   "cell_type": "code",
   "execution_count": 4,
   "metadata": {},
   "outputs": [],
   "source": [
    "columns_to_check = ['prev_address_months_count', 'current_address_months_count', 'intended_balcon_amount', 'bank_months_count', \n",
    "                    'session_length_in_minutes', 'device_distinct_emails_8w']  \n",
    "\n",
    "# Convert negative value to nan\n",
    "df[columns_to_check] = df[columns_to_check].where(df[columns_to_check] >= 0, np.nan)"
   ]
  },
  {
   "cell_type": "code",
   "execution_count": 5,
   "metadata": {},
   "outputs": [
    {
     "name": "stdout",
     "output_type": "stream",
     "text": [
      "<class 'pandas.core.frame.DataFrame'>\n",
      "RangeIndex: 1000000 entries, 0 to 999999\n",
      "Data columns (total 32 columns):\n",
      " #   Column                            Non-Null Count    Dtype  \n",
      "---  ------                            --------------    -----  \n",
      " 0   fraud_bool                        1000000 non-null  int64  \n",
      " 1   income                            1000000 non-null  float64\n",
      " 2   name_email_similarity             1000000 non-null  float64\n",
      " 3   prev_address_months_count         287080 non-null   float64\n",
      " 4   current_address_months_count      995746 non-null   float64\n",
      " 5   customer_age                      1000000 non-null  int64  \n",
      " 6   days_since_request                1000000 non-null  float64\n",
      " 7   intended_balcon_amount            257477 non-null   float64\n",
      " 8   payment_type                      1000000 non-null  object \n",
      " 9   zip_count_4w                      1000000 non-null  int64  \n",
      " 10  velocity_6h                       1000000 non-null  float64\n",
      " 11  velocity_24h                      1000000 non-null  float64\n",
      " 12  velocity_4w                       1000000 non-null  float64\n",
      " 13  bank_branch_count_8w              1000000 non-null  int64  \n",
      " 14  date_of_birth_distinct_emails_4w  1000000 non-null  int64  \n",
      " 15  employment_status                 1000000 non-null  object \n",
      " 16  credit_risk_score                 1000000 non-null  int64  \n",
      " 17  email_is_free                     1000000 non-null  int64  \n",
      " 18  housing_status                    1000000 non-null  object \n",
      " 19  phone_home_valid                  1000000 non-null  int64  \n",
      " 20  phone_mobile_valid                1000000 non-null  int64  \n",
      " 21  bank_months_count                 746365 non-null   float64\n",
      " 22  has_other_cards                   1000000 non-null  int64  \n",
      " 23  proposed_credit_limit             1000000 non-null  float64\n",
      " 24  foreign_request                   1000000 non-null  int64  \n",
      " 25  source                            1000000 non-null  object \n",
      " 26  session_length_in_minutes         997985 non-null   float64\n",
      " 27  device_os                         1000000 non-null  object \n",
      " 28  keep_alive_session                1000000 non-null  int64  \n",
      " 29  device_distinct_emails_8w         999641 non-null   float64\n",
      " 30  device_fraud_count                1000000 non-null  int64  \n",
      " 31  month                             1000000 non-null  int64  \n",
      "dtypes: float64(13), int64(14), object(5)\n",
      "memory usage: 244.1+ MB\n"
     ]
    }
   ],
   "source": [
    "df.info()"
   ]
  },
  {
   "cell_type": "markdown",
   "metadata": {},
   "source": [
    "#### 1.1.2 Draw box plot of all missing data"
   ]
  },
  {
   "cell_type": "code",
   "execution_count": 6,
   "metadata": {},
   "outputs": [
    {
     "data": {
      "text/html": [
       "<div>\n",
       "<style scoped>\n",
       "    .dataframe tbody tr th:only-of-type {\n",
       "        vertical-align: middle;\n",
       "    }\n",
       "\n",
       "    .dataframe tbody tr th {\n",
       "        vertical-align: top;\n",
       "    }\n",
       "\n",
       "    .dataframe thead th {\n",
       "        text-align: right;\n",
       "    }\n",
       "</style>\n",
       "<table border=\"1\" class=\"dataframe\">\n",
       "  <thead>\n",
       "    <tr style=\"text-align: right;\">\n",
       "      <th></th>\n",
       "      <th>prev_address_months_count</th>\n",
       "      <th>current_address_months_count</th>\n",
       "      <th>intended_balcon_amount</th>\n",
       "      <th>bank_months_count</th>\n",
       "      <th>session_length_in_minutes</th>\n",
       "      <th>device_distinct_emails_8w</th>\n",
       "    </tr>\n",
       "  </thead>\n",
       "  <tbody>\n",
       "    <tr>\n",
       "      <th>0</th>\n",
       "      <td>NaN</td>\n",
       "      <td>25.0</td>\n",
       "      <td>102.453711</td>\n",
       "      <td>9.0</td>\n",
       "      <td>16.224843</td>\n",
       "      <td>1.0</td>\n",
       "    </tr>\n",
       "    <tr>\n",
       "      <th>1</th>\n",
       "      <td>NaN</td>\n",
       "      <td>89.0</td>\n",
       "      <td>NaN</td>\n",
       "      <td>2.0</td>\n",
       "      <td>3.363854</td>\n",
       "      <td>1.0</td>\n",
       "    </tr>\n",
       "    <tr>\n",
       "      <th>2</th>\n",
       "      <td>9.0</td>\n",
       "      <td>14.0</td>\n",
       "      <td>NaN</td>\n",
       "      <td>30.0</td>\n",
       "      <td>22.730559</td>\n",
       "      <td>1.0</td>\n",
       "    </tr>\n",
       "    <tr>\n",
       "      <th>3</th>\n",
       "      <td>11.0</td>\n",
       "      <td>14.0</td>\n",
       "      <td>NaN</td>\n",
       "      <td>1.0</td>\n",
       "      <td>15.215816</td>\n",
       "      <td>1.0</td>\n",
       "    </tr>\n",
       "    <tr>\n",
       "      <th>4</th>\n",
       "      <td>NaN</td>\n",
       "      <td>29.0</td>\n",
       "      <td>47.152498</td>\n",
       "      <td>26.0</td>\n",
       "      <td>3.743048</td>\n",
       "      <td>1.0</td>\n",
       "    </tr>\n",
       "    <tr>\n",
       "      <th>...</th>\n",
       "      <td>...</td>\n",
       "      <td>...</td>\n",
       "      <td>...</td>\n",
       "      <td>...</td>\n",
       "      <td>...</td>\n",
       "      <td>...</td>\n",
       "    </tr>\n",
       "    <tr>\n",
       "      <th>999995</th>\n",
       "      <td>NaN</td>\n",
       "      <td>143.0</td>\n",
       "      <td>NaN</td>\n",
       "      <td>31.0</td>\n",
       "      <td>16.967770</td>\n",
       "      <td>1.0</td>\n",
       "    </tr>\n",
       "    <tr>\n",
       "      <th>999996</th>\n",
       "      <td>NaN</td>\n",
       "      <td>193.0</td>\n",
       "      <td>0.008307</td>\n",
       "      <td>NaN</td>\n",
       "      <td>1.504109</td>\n",
       "      <td>1.0</td>\n",
       "    </tr>\n",
       "    <tr>\n",
       "      <th>999997</th>\n",
       "      <td>NaN</td>\n",
       "      <td>202.0</td>\n",
       "      <td>50.609995</td>\n",
       "      <td>31.0</td>\n",
       "      <td>16.068595</td>\n",
       "      <td>1.0</td>\n",
       "    </tr>\n",
       "    <tr>\n",
       "      <th>999998</th>\n",
       "      <td>52.0</td>\n",
       "      <td>3.0</td>\n",
       "      <td>NaN</td>\n",
       "      <td>1.0</td>\n",
       "      <td>1.378683</td>\n",
       "      <td>1.0</td>\n",
       "    </tr>\n",
       "    <tr>\n",
       "      <th>999999</th>\n",
       "      <td>NaN</td>\n",
       "      <td>174.0</td>\n",
       "      <td>14.942456</td>\n",
       "      <td>15.0</td>\n",
       "      <td>1.947926</td>\n",
       "      <td>1.0</td>\n",
       "    </tr>\n",
       "  </tbody>\n",
       "</table>\n",
       "<p>1000000 rows × 6 columns</p>\n",
       "</div>"
      ],
      "text/plain": [
       "        prev_address_months_count  current_address_months_count  \\\n",
       "0                             NaN                          25.0   \n",
       "1                             NaN                          89.0   \n",
       "2                             9.0                          14.0   \n",
       "3                            11.0                          14.0   \n",
       "4                             NaN                          29.0   \n",
       "...                           ...                           ...   \n",
       "999995                        NaN                         143.0   \n",
       "999996                        NaN                         193.0   \n",
       "999997                        NaN                         202.0   \n",
       "999998                       52.0                           3.0   \n",
       "999999                        NaN                         174.0   \n",
       "\n",
       "        intended_balcon_amount  bank_months_count  session_length_in_minutes  \\\n",
       "0                   102.453711                9.0                  16.224843   \n",
       "1                          NaN                2.0                   3.363854   \n",
       "2                          NaN               30.0                  22.730559   \n",
       "3                          NaN                1.0                  15.215816   \n",
       "4                    47.152498               26.0                   3.743048   \n",
       "...                        ...                ...                        ...   \n",
       "999995                     NaN               31.0                  16.967770   \n",
       "999996                0.008307                NaN                   1.504109   \n",
       "999997               50.609995               31.0                  16.068595   \n",
       "999998                     NaN                1.0                   1.378683   \n",
       "999999               14.942456               15.0                   1.947926   \n",
       "\n",
       "        device_distinct_emails_8w  \n",
       "0                             1.0  \n",
       "1                             1.0  \n",
       "2                             1.0  \n",
       "3                             1.0  \n",
       "4                             1.0  \n",
       "...                           ...  \n",
       "999995                        1.0  \n",
       "999996                        1.0  \n",
       "999997                        1.0  \n",
       "999998                        1.0  \n",
       "999999                        1.0  \n",
       "\n",
       "[1000000 rows x 6 columns]"
      ]
     },
     "execution_count": 6,
     "metadata": {},
     "output_type": "execute_result"
    }
   ],
   "source": [
    "df_missing = df[['prev_address_months_count', 'current_address_months_count', 'intended_balcon_amount', 'bank_months_count', 'session_length_in_minutes', \n",
    "                 'device_distinct_emails_8w']]\n",
    "df_missing"
   ]
  },
  {
   "cell_type": "code",
   "execution_count": 7,
   "metadata": {},
   "outputs": [
    {
     "data": {
      "image/png": "[encoded data removed]",
      "text/plain": [
       "<Figure size 3000x500 with 6 Axes>"
      ]
     },
     "metadata": {},
     "output_type": "display_data"
    }
   ],
   "source": [
    "# Create box plots for multiple features\n",
    "# Determine the number of features\n",
    "num_features = len(df_missing.columns)\n",
    "\n",
    "# Create subplots\n",
    "fig, axes = plt.subplots(nrows=1, ncols=num_features, figsize=(num_features * 5, 5))\n",
    "\n",
    "# Ensure axes is iterable\n",
    "if num_features == 1:\n",
    "    axes = [axes]\n",
    "\n",
    "# Define a color palette\n",
    "colors = sns.color_palette('Set2', num_features)\n",
    "\n",
    "# Loop through each feature\n",
    "for i, (ax, column) in enumerate(zip(axes, df_missing.columns)):\n",
    "    # Plot the KDE plot\n",
    "    #sns.kdeplot(data=df_missing[column], ax=ax, color=colors[i], fill=True, alpha=0.3)\n",
    "    \n",
    "    # Add the box plot on the same axes\n",
    "    sns.boxplot(y=df_missing[column], ax=ax, width=0.1, color=colors[i])\n",
    "\n",
    "    ax.set_title(f'Box Plot of {column}')\n",
    "    ax.set_xlabel('')\n",
    "    ax.set_ylabel('Density')\n",
    "\n",
    "# Adjust layout\n",
    "plt.tight_layout()\n",
    "plt.show()"
   ]
  },
  {
   "cell_type": "markdown",
   "metadata": {},
   "source": [
    "#### Insights\n",
    "\n",
    "- Scaling, encoding: \n",
    "    - **device_distinct_emails_8w**: One-Hot Encoding (nominal categorical)\n",
    "    - **session_length_in_minutes**: Robust Scaling (outliers)\n",
    "    - **intended_balcon_amount**: consider dropping (High percentage of missing in a feature)\n",
    "    - **current_address_months_count**: Robust Scaling (outliers)\n",
    "    - **prev_address_months_count**: consider dropping (High percentage of missing in a feature)\n",
    "- Filling NA:\n",
    "    - **device_distinct_emails_8w**: SimpleImputer(strategy='most_frequent')\n",
    "    - **session_length_in_minutes**: SimpleImputer(strategy='median')\n",
    "    - **intended_balcon_amount**: consider dropping (High percentage of missing in a feature)\n",
    "    - **current_address_months_count**: SimpleImputer(strategy='median') (outliers)\n",
    "    - **prev_address_months_count**: consider dropping (High percentage of missing in a feature)"
   ]
  },
  {
   "cell_type": "markdown",
   "metadata": {},
   "source": [
    "#### 1.1.3 Dropping features "
   ]
  },
  {
   "cell_type": "code",
   "execution_count": 8,
   "metadata": {},
   "outputs": [
    {
     "data": {
      "text/plain": [
       "(1000000, 29)"
      ]
     },
     "execution_count": 8,
     "metadata": {},
     "output_type": "execute_result"
    }
   ],
   "source": [
    "#drop intended_balcon_amount and prev_address_months_count\n",
    "\n",
    "df.drop(['prev_address_months_count', 'intended_balcon_amount', 'device_fraud_count'], axis=1, inplace=True)\n",
    "df.shape"
   ]
  },
  {
   "cell_type": "markdown",
   "metadata": {},
   "source": [
    "## 2. Data Preprocessing"
   ]
  },
  {
   "cell_type": "code",
   "execution_count": 10,
   "metadata": {},
   "outputs": [],
   "source": [
    "# Split your dataset BEFORE fitting any preprocessing to avoid data leakage\n",
    "from sklearn.model_selection import train_test_split\n",
    "\n",
    "X = df.drop(['fraud_bool'], axis=1)\n",
    "y = df['fraud_bool']\n",
    "\n",
    "\n",
    "X_train, X_test, y_train, y_test = train_test_split(\n",
    "    X, y, \n",
    "    test_size=0.2, \n",
    "    random_state=RANDOM_STATE, \n",
    "    stratify=y\n",
    ")"
   ]
  },
  {
   "cell_type": "code",
   "execution_count": 11,
   "metadata": {},
   "outputs": [
    {
     "data": {
      "text/plain": [
       "((800000, 28), (200000, 28))"
      ]
     },
     "execution_count": 11,
     "metadata": {},
     "output_type": "execute_result"
    }
   ],
   "source": [
    "X_train.shape, X_test.shape\n"
   ]
  },
  {
   "cell_type": "code",
   "execution_count": 12,
   "metadata": {},
   "outputs": [
    {
     "name": "stdout",
     "output_type": "stream",
     "text": [
      "Number of numerical features: 17\n",
      "Number of categorical features: 5\n",
      "Number of binary features: 6\n"
     ]
    }
   ],
   "source": [
    "# Define feature types\n",
    "\n",
    "num_features = ['income', 'name_email_similarity', 'current_address_months_count', 'customer_age', 'days_since_request'\n",
    "                    , 'zip_count_4w', 'velocity_6h', 'velocity_24h', 'velocity_4w', 'bank_branch_count_8w', \n",
    "                    'date_of_birth_distinct_emails_4w', 'credit_risk_score', 'bank_months_count', 'proposed_credit_limit',  'session_length_in_minutes',\n",
    "                    'device_distinct_emails_8w', 'month']\n",
    "\n",
    "\n",
    "cat_features = ['payment_type', 'employment_status', 'housing_status',\n",
    "                         'source', 'device_os']\n",
    "\n",
    "binary_features = [\n",
    "    'email_is_free',\n",
    "    'phone_home_valid',\n",
    "    'phone_mobile_valid',\n",
    "    'has_other_cards',\n",
    "    'foreign_request',\n",
    "    'keep_alive_session',\n",
    "]\n",
    "\n",
    "print(f\"Number of numerical features: {len(num_features)}\")\n",
    "print(f\"Number of categorical features: {len(cat_features)}\")       \n",
    "print(f\"Number of binary features: {len(binary_features)}\")"
   ]
  },
  {
   "cell_type": "markdown",
   "metadata": {},
   "source": [
    "### 2.1 Filling missing value using SimpletImputer"
   ]
  },
  {
   "cell_type": "code",
   "execution_count": 13,
   "metadata": {},
   "outputs": [],
   "source": [
    "from sklearn.impute import SimpleImputer"
   ]
  },
  {
   "cell_type": "code",
   "execution_count": 14,
   "metadata": {},
   "outputs": [],
   "source": [
    "# a. Impute Numerical Features\n",
    "# Median imputation is preferred when the distribution is skewed\n",
    "num_imputer = SimpleImputer(strategy=\"median\")\n",
    "\n",
    "# Fit the imputer on the training data\n",
    "num_imputer.fit(X_train[num_features])\n",
    "\n",
    "# Transform both training and test data\n",
    "X_train_numeric = pd.DataFrame(\n",
    "    num_imputer.transform(X_train[num_features]),\n",
    "    columns=num_features,\n",
    "    index=X_train.index\n",
    ")\n",
    "\n",
    "X_test_numeric = pd.DataFrame(\n",
    "    num_imputer.transform(X_test[num_features]),\n",
    "    columns=num_features,\n",
    "    index=X_test.index\n",
    ")\n"
   ]
  },
  {
   "cell_type": "code",
   "execution_count": 15,
   "metadata": {},
   "outputs": [],
   "source": [
    "# b. Impute Categorical\n",
    "# Initialize the imputer for categorical features\n",
    "categorical_imputer = SimpleImputer(strategy='most_frequent')\n",
    "\n",
    "# Fit the imputer on the training data\n",
    "categorical_imputer.fit(X_train[cat_features])\n",
    "\n",
    "# Transform both training and test data\n",
    "X_train_categorical = pd.DataFrame(\n",
    "    categorical_imputer.transform(X_train[cat_features]),\n",
    "    columns=cat_features,\n",
    "    index=X_train.index\n",
    ")\n",
    "\n",
    "X_test_categorical = pd.DataFrame(\n",
    "    categorical_imputer.transform(X_test[cat_features]),\n",
    "    columns=cat_features,\n",
    "    index=X_test.index\n",
    ")\n"
   ]
  },
  {
   "cell_type": "code",
   "execution_count": 16,
   "metadata": {},
   "outputs": [],
   "source": [
    "# c. Impute Binary Features\n",
    "\n",
    "# Initialize the imputer for binary features\n",
    "binary_imputer = SimpleImputer(strategy='most_frequent')\n",
    "\n",
    "# Fit the imputer on the training data\n",
    "binary_imputer.fit(X_train[binary_features])\n",
    "\n",
    "# Transform both training and test data\n",
    "X_train_bin = pd.DataFrame(\n",
    "    binary_imputer.transform(X_train[binary_features]),\n",
    "    columns=binary_features,\n",
    "    index=X_train.index\n",
    ")\n",
    "\n",
    "X_test_bin = pd.DataFrame(\n",
    "    binary_imputer.transform(X_test[binary_features]),\n",
    "    columns=binary_features,\n",
    "    index=X_test.index\n",
    ")"
   ]
  },
  {
   "cell_type": "code",
   "execution_count": 17,
   "metadata": {},
   "outputs": [
    {
     "name": "stdout",
     "output_type": "stream",
     "text": [
      "Imputed Training Data:\n"
     ]
    },
    {
     "data": {
      "text/html": [
       "<div>\n",
       "<style scoped>\n",
       "    .dataframe tbody tr th:only-of-type {\n",
       "        vertical-align: middle;\n",
       "    }\n",
       "\n",
       "    .dataframe tbody tr th {\n",
       "        vertical-align: top;\n",
       "    }\n",
       "\n",
       "    .dataframe thead th {\n",
       "        text-align: right;\n",
       "    }\n",
       "</style>\n",
       "<table border=\"1\" class=\"dataframe\">\n",
       "  <thead>\n",
       "    <tr style=\"text-align: right;\">\n",
       "      <th></th>\n",
       "      <th>income</th>\n",
       "      <th>name_email_similarity</th>\n",
       "      <th>current_address_months_count</th>\n",
       "      <th>customer_age</th>\n",
       "      <th>days_since_request</th>\n",
       "      <th>zip_count_4w</th>\n",
       "      <th>velocity_6h</th>\n",
       "      <th>velocity_24h</th>\n",
       "      <th>velocity_4w</th>\n",
       "      <th>bank_branch_count_8w</th>\n",
       "      <th>...</th>\n",
       "      <th>employment_status</th>\n",
       "      <th>housing_status</th>\n",
       "      <th>source</th>\n",
       "      <th>device_os</th>\n",
       "      <th>email_is_free</th>\n",
       "      <th>phone_home_valid</th>\n",
       "      <th>phone_mobile_valid</th>\n",
       "      <th>has_other_cards</th>\n",
       "      <th>foreign_request</th>\n",
       "      <th>keep_alive_session</th>\n",
       "    </tr>\n",
       "  </thead>\n",
       "  <tbody>\n",
       "    <tr>\n",
       "      <th>39111</th>\n",
       "      <td>0.7</td>\n",
       "      <td>0.229712</td>\n",
       "      <td>63.0</td>\n",
       "      <td>50.0</td>\n",
       "      <td>0.024720</td>\n",
       "      <td>1305.0</td>\n",
       "      <td>12764.326278</td>\n",
       "      <td>6418.672862</td>\n",
       "      <td>5998.527006</td>\n",
       "      <td>7.0</td>\n",
       "      <td>...</td>\n",
       "      <td>CA</td>\n",
       "      <td>BC</td>\n",
       "      <td>INTERNET</td>\n",
       "      <td>linux</td>\n",
       "      <td>1</td>\n",
       "      <td>0</td>\n",
       "      <td>1</td>\n",
       "      <td>1</td>\n",
       "      <td>0</td>\n",
       "      <td>0</td>\n",
       "    </tr>\n",
       "    <tr>\n",
       "      <th>822700</th>\n",
       "      <td>0.2</td>\n",
       "      <td>0.928428</td>\n",
       "      <td>24.0</td>\n",
       "      <td>70.0</td>\n",
       "      <td>0.014153</td>\n",
       "      <td>833.0</td>\n",
       "      <td>9717.635327</td>\n",
       "      <td>6342.913428</td>\n",
       "      <td>4814.609668</td>\n",
       "      <td>1.0</td>\n",
       "      <td>...</td>\n",
       "      <td>CC</td>\n",
       "      <td>BD</td>\n",
       "      <td>INTERNET</td>\n",
       "      <td>other</td>\n",
       "      <td>0</td>\n",
       "      <td>1</td>\n",
       "      <td>0</td>\n",
       "      <td>0</td>\n",
       "      <td>0</td>\n",
       "      <td>1</td>\n",
       "    </tr>\n",
       "    <tr>\n",
       "      <th>914415</th>\n",
       "      <td>0.1</td>\n",
       "      <td>0.658630</td>\n",
       "      <td>2.0</td>\n",
       "      <td>40.0</td>\n",
       "      <td>0.045801</td>\n",
       "      <td>237.0</td>\n",
       "      <td>2201.833206</td>\n",
       "      <td>2753.815567</td>\n",
       "      <td>3076.055489</td>\n",
       "      <td>14.0</td>\n",
       "      <td>...</td>\n",
       "      <td>CA</td>\n",
       "      <td>BC</td>\n",
       "      <td>INTERNET</td>\n",
       "      <td>other</td>\n",
       "      <td>1</td>\n",
       "      <td>1</td>\n",
       "      <td>1</td>\n",
       "      <td>0</td>\n",
       "      <td>0</td>\n",
       "      <td>1</td>\n",
       "    </tr>\n",
       "    <tr>\n",
       "      <th>581307</th>\n",
       "      <td>0.8</td>\n",
       "      <td>0.774858</td>\n",
       "      <td>122.0</td>\n",
       "      <td>30.0</td>\n",
       "      <td>0.005569</td>\n",
       "      <td>895.0</td>\n",
       "      <td>5377.254660</td>\n",
       "      <td>4551.599208</td>\n",
       "      <td>4223.827504</td>\n",
       "      <td>0.0</td>\n",
       "      <td>...</td>\n",
       "      <td>CA</td>\n",
       "      <td>BE</td>\n",
       "      <td>INTERNET</td>\n",
       "      <td>other</td>\n",
       "      <td>0</td>\n",
       "      <td>0</td>\n",
       "      <td>1</td>\n",
       "      <td>1</td>\n",
       "      <td>0</td>\n",
       "      <td>1</td>\n",
       "    </tr>\n",
       "    <tr>\n",
       "      <th>603136</th>\n",
       "      <td>0.9</td>\n",
       "      <td>0.993460</td>\n",
       "      <td>9.0</td>\n",
       "      <td>20.0</td>\n",
       "      <td>0.010832</td>\n",
       "      <td>4105.0</td>\n",
       "      <td>7428.775954</td>\n",
       "      <td>4872.930234</td>\n",
       "      <td>4250.760719</td>\n",
       "      <td>14.0</td>\n",
       "      <td>...</td>\n",
       "      <td>CB</td>\n",
       "      <td>BC</td>\n",
       "      <td>INTERNET</td>\n",
       "      <td>linux</td>\n",
       "      <td>1</td>\n",
       "      <td>1</td>\n",
       "      <td>1</td>\n",
       "      <td>1</td>\n",
       "      <td>0</td>\n",
       "      <td>0</td>\n",
       "    </tr>\n",
       "  </tbody>\n",
       "</table>\n",
       "<p>5 rows × 28 columns</p>\n",
       "</div>"
      ],
      "text/plain": [
       "        income  name_email_similarity  current_address_months_count  \\\n",
       "39111      0.7               0.229712                          63.0   \n",
       "822700     0.2               0.928428                          24.0   \n",
       "914415     0.1               0.658630                           2.0   \n",
       "581307     0.8               0.774858                         122.0   \n",
       "603136     0.9               0.993460                           9.0   \n",
       "\n",
       "        customer_age  days_since_request  zip_count_4w   velocity_6h  \\\n",
       "39111           50.0            0.024720        1305.0  12764.326278   \n",
       "822700          70.0            0.014153         833.0   9717.635327   \n",
       "914415          40.0            0.045801         237.0   2201.833206   \n",
       "581307          30.0            0.005569         895.0   5377.254660   \n",
       "603136          20.0            0.010832        4105.0   7428.775954   \n",
       "\n",
       "        velocity_24h  velocity_4w  bank_branch_count_8w  ...  \\\n",
       "39111    6418.672862  5998.527006                   7.0  ...   \n",
       "822700   6342.913428  4814.609668                   1.0  ...   \n",
       "914415   2753.815567  3076.055489                  14.0  ...   \n",
       "581307   4551.599208  4223.827504                   0.0  ...   \n",
       "603136   4872.930234  4250.760719                  14.0  ...   \n",
       "\n",
       "        employment_status  housing_status    source  device_os  email_is_free  \\\n",
       "39111                  CA              BC  INTERNET      linux              1   \n",
       "822700                 CC              BD  INTERNET      other              0   \n",
       "914415                 CA              BC  INTERNET      other              1   \n",
       "581307                 CA              BE  INTERNET      other              0   \n",
       "603136                 CB              BC  INTERNET      linux              1   \n",
       "\n",
       "        phone_home_valid  phone_mobile_valid has_other_cards foreign_request  \\\n",
       "39111                  0                   1               1               0   \n",
       "822700                 1                   0               0               0   \n",
       "914415                 1                   1               0               0   \n",
       "581307                 0                   1               1               0   \n",
       "603136                 1                   1               1               0   \n",
       "\n",
       "       keep_alive_session  \n",
       "39111                   0  \n",
       "822700                  1  \n",
       "914415                  1  \n",
       "581307                  1  \n",
       "603136                  0  \n",
       "\n",
       "[5 rows x 28 columns]"
      ]
     },
     "execution_count": 17,
     "metadata": {},
     "output_type": "execute_result"
    }
   ],
   "source": [
    "# Combine numerical and categorical features and binary features\n",
    "X_train_imputed = pd.concat([X_train_numeric, X_train_categorical, X_train_bin], axis=1)\n",
    "X_test_imputed = pd.concat([X_test_numeric, X_test_categorical, X_test_bin], axis=1)\n",
    "\n",
    "print(\"Imputed Training Data:\")\n",
    "X_train_imputed.head()\n",
    "\n",
    "# print(\"\\nImputed Test Data:\")\n",
    "# print(X_test_imputed.head())"
   ]
  },
  {
   "cell_type": "code",
   "execution_count": 18,
   "metadata": {},
   "outputs": [
    {
     "data": {
      "text/plain": [
       "income                              0\n",
       "name_email_similarity               0\n",
       "current_address_months_count        0\n",
       "customer_age                        0\n",
       "days_since_request                  0\n",
       "zip_count_4w                        0\n",
       "velocity_6h                         0\n",
       "velocity_24h                        0\n",
       "velocity_4w                         0\n",
       "bank_branch_count_8w                0\n",
       "date_of_birth_distinct_emails_4w    0\n",
       "credit_risk_score                   0\n",
       "bank_months_count                   0\n",
       "proposed_credit_limit               0\n",
       "session_length_in_minutes           0\n",
       "device_distinct_emails_8w           0\n",
       "month                               0\n",
       "payment_type                        0\n",
       "employment_status                   0\n",
       "housing_status                      0\n",
       "source                              0\n",
       "device_os                           0\n",
       "email_is_free                       0\n",
       "phone_home_valid                    0\n",
       "phone_mobile_valid                  0\n",
       "has_other_cards                     0\n",
       "foreign_request                     0\n",
       "keep_alive_session                  0\n",
       "dtype: int64"
      ]
     },
     "execution_count": 18,
     "metadata": {},
     "output_type": "execute_result"
    }
   ],
   "source": [
    "X_train_imputed.isna().sum()"
   ]
  },
  {
   "cell_type": "markdown",
   "metadata": {},
   "source": [
    "- No more misssing value"
   ]
  },
  {
   "cell_type": "markdown",
   "metadata": {},
   "source": [
    "### 2.2 Data Scalling and Encoding"
   ]
  },
  {
   "cell_type": "code",
   "execution_count": 19,
   "metadata": {},
   "outputs": [],
   "source": [
    "from sklearn.preprocessing import RobustScaler, OneHotEncoder"
   ]
  },
  {
   "cell_type": "code",
   "execution_count": 20,
   "metadata": {},
   "outputs": [],
   "source": [
    "# a. Scale Numerical Features\n",
    "# Initialize the scaler\n",
    "scaler = RobustScaler()\n",
    "\n",
    "# Fit the scaler on the training data\n",
    "scaler.fit(X_train_imputed[num_features])\n",
    "\n",
    "# Transform both training and test data\n",
    "X_train_scaled = pd.DataFrame(\n",
    "    scaler.transform(X_train_imputed[num_features]),\n",
    "    columns=num_features,\n",
    "    index=X_train_imputed.index\n",
    ")\n",
    "\n",
    "X_test_scaled = pd.DataFrame(\n",
    "    scaler.transform(X_test_imputed[num_features]),\n",
    "    columns=num_features,\n",
    "    index=X_test_imputed.index\n",
    ")"
   ]
  },
  {
   "cell_type": "code",
   "execution_count": 21,
   "metadata": {},
   "outputs": [
    {
     "name": "stderr",
     "output_type": "stream",
     "text": [
      "d:\\project\\Credit_Fraud_endToEnd\\venv\\lib\\site-packages\\sklearn\\preprocessing\\_encoders.py:975: FutureWarning: `sparse` was renamed to `sparse_output` in version 1.2 and will be removed in 1.4. `sparse_output` is ignored unless you leave `sparse` to its default value.\n",
      "  warnings.warn(\n"
     ]
    }
   ],
   "source": [
    "# b. Encode Categorical Features\n",
    "# Initialize the encoder\n",
    "encoder = OneHotEncoder(sparse=False)\n",
    "\n",
    "# Fit the encoder on the training data\n",
    "encoder.fit(X_train_imputed[cat_features])\n",
    "\n",
    "# Transform both training and test data\n",
    "X_train_encoded = pd.DataFrame(\n",
    "    encoder.transform(X_train_imputed[cat_features]),\n",
    "    columns=encoder.get_feature_names_out(cat_features),\n",
    "    index=X_train_imputed.index\n",
    ")\n",
    "\n",
    "X_test_encoded = pd.DataFrame(\n",
    "    encoder.transform(X_test_imputed[cat_features]),\n",
    "    columns=encoder.get_feature_names_out(cat_features),\n",
    "    index=X_test_imputed.index\n",
    ")\n"
   ]
  },
  {
   "cell_type": "code",
   "execution_count": 22,
   "metadata": {},
   "outputs": [
    {
     "data": {
      "text/plain": [
       "((800000, 26), (800000, 17), (800000, 6))"
      ]
     },
     "execution_count": 22,
     "metadata": {},
     "output_type": "execute_result"
    }
   ],
   "source": [
    "X_train_encoded.shape, X_train_scaled.shape, X_train_bin.shape"
   ]
  },
  {
   "cell_type": "code",
   "execution_count": 23,
   "metadata": {},
   "outputs": [
    {
     "name": "stdout",
     "output_type": "stream",
     "text": [
      "Preprocessed Training Data:\n"
     ]
    },
    {
     "data": {
      "text/html": [
       "<div>\n",
       "<style scoped>\n",
       "    .dataframe tbody tr th:only-of-type {\n",
       "        vertical-align: middle;\n",
       "    }\n",
       "\n",
       "    .dataframe tbody tr th {\n",
       "        vertical-align: top;\n",
       "    }\n",
       "\n",
       "    .dataframe thead th {\n",
       "        text-align: right;\n",
       "    }\n",
       "</style>\n",
       "<table border=\"1\" class=\"dataframe\">\n",
       "  <thead>\n",
       "    <tr style=\"text-align: right;\">\n",
       "      <th></th>\n",
       "      <th>income</th>\n",
       "      <th>name_email_similarity</th>\n",
       "      <th>current_address_months_count</th>\n",
       "      <th>customer_age</th>\n",
       "      <th>days_since_request</th>\n",
       "      <th>zip_count_4w</th>\n",
       "      <th>velocity_6h</th>\n",
       "      <th>velocity_24h</th>\n",
       "      <th>velocity_4w</th>\n",
       "      <th>bank_branch_count_8w</th>\n",
       "      <th>...</th>\n",
       "      <th>device_os_macintosh</th>\n",
       "      <th>device_os_other</th>\n",
       "      <th>device_os_windows</th>\n",
       "      <th>device_os_x11</th>\n",
       "      <th>email_is_free</th>\n",
       "      <th>phone_home_valid</th>\n",
       "      <th>phone_mobile_valid</th>\n",
       "      <th>has_other_cards</th>\n",
       "      <th>foreign_request</th>\n",
       "      <th>keep_alive_session</th>\n",
       "    </tr>\n",
       "  </thead>\n",
       "  <tbody>\n",
       "    <tr>\n",
       "      <th>count</th>\n",
       "      <td>800000.000000</td>\n",
       "      <td>8.000000e+05</td>\n",
       "      <td>800000.000000</td>\n",
       "      <td>800000.000000</td>\n",
       "      <td>8.000000e+05</td>\n",
       "      <td>800000.000000</td>\n",
       "      <td>800000.000000</td>\n",
       "      <td>8.000000e+05</td>\n",
       "      <td>8.000000e+05</td>\n",
       "      <td>800000.000000</td>\n",
       "      <td>...</td>\n",
       "      <td>800000.000000</td>\n",
       "      <td>800000.000000</td>\n",
       "      <td>800000.000000</td>\n",
       "      <td>800000.000000</td>\n",
       "      <td>800000.000000</td>\n",
       "      <td>800000.000000</td>\n",
       "      <td>800000.000000</td>\n",
       "      <td>800000.000000</td>\n",
       "      <td>800000.000000</td>\n",
       "      <td>800000.000000</td>\n",
       "    </tr>\n",
       "    <tr>\n",
       "      <th>mean</th>\n",
       "      <td>-0.074280</td>\n",
       "      <td>2.798224e-03</td>\n",
       "      <td>0.307664</td>\n",
       "      <td>0.185004</td>\n",
       "      <td>5.273293e+01</td>\n",
       "      <td>0.295015</td>\n",
       "      <td>0.081889</td>\n",
       "      <td>8.995807e-03</td>\n",
       "      <td>-4.718713e-02</td>\n",
       "      <td>7.304238</td>\n",
       "      <td>...</td>\n",
       "      <td>0.053825</td>\n",
       "      <td>0.342586</td>\n",
       "      <td>0.263595</td>\n",
       "      <td>0.007250</td>\n",
       "      <td>0.530068</td>\n",
       "      <td>0.417243</td>\n",
       "      <td>0.889406</td>\n",
       "      <td>0.222726</td>\n",
       "      <td>0.025313</td>\n",
       "      <td>0.577194</td>\n",
       "    </tr>\n",
       "    <tr>\n",
       "      <th>std</th>\n",
       "      <td>0.580686</td>\n",
       "      <td>5.451920e-01</td>\n",
       "      <td>0.802124</td>\n",
       "      <td>0.601413</td>\n",
       "      <td>2.810498e+02</td>\n",
       "      <td>0.957365</td>\n",
       "      <td>0.708788</td>\n",
       "      <td>6.849424e-01</td>\n",
       "      <td>7.541731e-01</td>\n",
       "      <td>19.145093</td>\n",
       "      <td>...</td>\n",
       "      <td>0.225672</td>\n",
       "      <td>0.474575</td>\n",
       "      <td>0.440582</td>\n",
       "      <td>0.084838</td>\n",
       "      <td>0.499095</td>\n",
       "      <td>0.493104</td>\n",
       "      <td>0.313629</td>\n",
       "      <td>0.416076</td>\n",
       "      <td>0.157073</td>\n",
       "      <td>0.494005</td>\n",
       "    </tr>\n",
       "    <tr>\n",
       "      <th>min</th>\n",
       "      <td>-1.000000</td>\n",
       "      <td>-9.284185e-01</td>\n",
       "      <td>-0.481818</td>\n",
       "      <td>-1.000000</td>\n",
       "      <td>-7.926162e-01</td>\n",
       "      <td>-1.201905</td>\n",
       "      <td>-1.292183</td>\n",
       "      <td>-1.588173e+00</td>\n",
       "      <td>-1.712184e+00</td>\n",
       "      <td>-0.375000</td>\n",
       "      <td>...</td>\n",
       "      <td>0.000000</td>\n",
       "      <td>0.000000</td>\n",
       "      <td>0.000000</td>\n",
       "      <td>0.000000</td>\n",
       "      <td>0.000000</td>\n",
       "      <td>0.000000</td>\n",
       "      <td>0.000000</td>\n",
       "      <td>0.000000</td>\n",
       "      <td>0.000000</td>\n",
       "      <td>0.000000</td>\n",
       "    </tr>\n",
       "    <tr>\n",
       "      <th>25%</th>\n",
       "      <td>-0.600000</td>\n",
       "      <td>-5.034958e-01</td>\n",
       "      <td>-0.300000</td>\n",
       "      <td>-0.500000</td>\n",
       "      <td>-4.172591e-01</td>\n",
       "      <td>-0.351429</td>\n",
       "      <td>-0.443109</td>\n",
       "      <td>-5.359755e-01</td>\n",
       "      <td>-5.291511e-01</td>\n",
       "      <td>-0.333333</td>\n",
       "      <td>...</td>\n",
       "      <td>0.000000</td>\n",
       "      <td>0.000000</td>\n",
       "      <td>0.000000</td>\n",
       "      <td>0.000000</td>\n",
       "      <td>0.000000</td>\n",
       "      <td>0.000000</td>\n",
       "      <td>1.000000</td>\n",
       "      <td>0.000000</td>\n",
       "      <td>0.000000</td>\n",
       "      <td>0.000000</td>\n",
       "    </tr>\n",
       "    <tr>\n",
       "      <th>50%</th>\n",
       "      <td>0.000000</td>\n",
       "      <td>5.234240e-17</td>\n",
       "      <td>0.000000</td>\n",
       "      <td>0.000000</td>\n",
       "      <td>-4.533352e-17</td>\n",
       "      <td>0.000000</td>\n",
       "      <td>0.000000</td>\n",
       "      <td>2.105272e-16</td>\n",
       "      <td>-3.729348e-16</td>\n",
       "      <td>0.000000</td>\n",
       "      <td>...</td>\n",
       "      <td>0.000000</td>\n",
       "      <td>0.000000</td>\n",
       "      <td>0.000000</td>\n",
       "      <td>0.000000</td>\n",
       "      <td>1.000000</td>\n",
       "      <td>0.000000</td>\n",
       "      <td>1.000000</td>\n",
       "      <td>0.000000</td>\n",
       "      <td>0.000000</td>\n",
       "      <td>1.000000</td>\n",
       "    </tr>\n",
       "    <tr>\n",
       "      <th>75%</th>\n",
       "      <td>0.400000</td>\n",
       "      <td>4.965042e-01</td>\n",
       "      <td>0.700000</td>\n",
       "      <td>0.500000</td>\n",
       "      <td>5.827409e-01</td>\n",
       "      <td>0.648571</td>\n",
       "      <td>0.556891</td>\n",
       "      <td>4.640245e-01</td>\n",
       "      <td>4.708489e-01</td>\n",
       "      <td>0.666667</td>\n",
       "      <td>...</td>\n",
       "      <td>0.000000</td>\n",
       "      <td>1.000000</td>\n",
       "      <td>1.000000</td>\n",
       "      <td>0.000000</td>\n",
       "      <td>1.000000</td>\n",
       "      <td>1.000000</td>\n",
       "      <td>1.000000</td>\n",
       "      <td>0.000000</td>\n",
       "      <td>0.000000</td>\n",
       "      <td>1.000000</td>\n",
       "    </tr>\n",
       "    <tr>\n",
       "      <th>max</th>\n",
       "      <td>0.600000</td>\n",
       "      <td>9.574090e-01</td>\n",
       "      <td>3.409091</td>\n",
       "      <td>3.000000</td>\n",
       "      <td>4.099835e+03</td>\n",
       "      <td>5.178095</td>\n",
       "      <td>2.684560</td>\n",
       "      <td>2.201853e+00</td>\n",
       "      <td>1.706794e+00</td>\n",
       "      <td>99.000000</td>\n",
       "      <td>...</td>\n",
       "      <td>1.000000</td>\n",
       "      <td>1.000000</td>\n",
       "      <td>1.000000</td>\n",
       "      <td>1.000000</td>\n",
       "      <td>1.000000</td>\n",
       "      <td>1.000000</td>\n",
       "      <td>1.000000</td>\n",
       "      <td>1.000000</td>\n",
       "      <td>1.000000</td>\n",
       "      <td>1.000000</td>\n",
       "    </tr>\n",
       "  </tbody>\n",
       "</table>\n",
       "<p>8 rows × 49 columns</p>\n",
       "</div>"
      ],
      "text/plain": [
       "              income  name_email_similarity  current_address_months_count  \\\n",
       "count  800000.000000           8.000000e+05                 800000.000000   \n",
       "mean       -0.074280           2.798224e-03                      0.307664   \n",
       "std         0.580686           5.451920e-01                      0.802124   \n",
       "min        -1.000000          -9.284185e-01                     -0.481818   \n",
       "25%        -0.600000          -5.034958e-01                     -0.300000   \n",
       "50%         0.000000           5.234240e-17                      0.000000   \n",
       "75%         0.400000           4.965042e-01                      0.700000   \n",
       "max         0.600000           9.574090e-01                      3.409091   \n",
       "\n",
       "        customer_age  days_since_request   zip_count_4w    velocity_6h  \\\n",
       "count  800000.000000        8.000000e+05  800000.000000  800000.000000   \n",
       "mean        0.185004        5.273293e+01       0.295015       0.081889   \n",
       "std         0.601413        2.810498e+02       0.957365       0.708788   \n",
       "min        -1.000000       -7.926162e-01      -1.201905      -1.292183   \n",
       "25%        -0.500000       -4.172591e-01      -0.351429      -0.443109   \n",
       "50%         0.000000       -4.533352e-17       0.000000       0.000000   \n",
       "75%         0.500000        5.827409e-01       0.648571       0.556891   \n",
       "max         3.000000        4.099835e+03       5.178095       2.684560   \n",
       "\n",
       "       velocity_24h   velocity_4w  bank_branch_count_8w  ...  \\\n",
       "count  8.000000e+05  8.000000e+05         800000.000000  ...   \n",
       "mean   8.995807e-03 -4.718713e-02              7.304238  ...   \n",
       "std    6.849424e-01  7.541731e-01             19.145093  ...   \n",
       "min   -1.588173e+00 -1.712184e+00             -0.375000  ...   \n",
       "25%   -5.359755e-01 -5.291511e-01             -0.333333  ...   \n",
       "50%    2.105272e-16 -3.729348e-16              0.000000  ...   \n",
       "75%    4.640245e-01  4.708489e-01              0.666667  ...   \n",
       "max    2.201853e+00  1.706794e+00             99.000000  ...   \n",
       "\n",
       "       device_os_macintosh  device_os_other  device_os_windows  device_os_x11  \\\n",
       "count        800000.000000    800000.000000      800000.000000  800000.000000   \n",
       "mean              0.053825         0.342586           0.263595       0.007250   \n",
       "std               0.225672         0.474575           0.440582       0.084838   \n",
       "min               0.000000         0.000000           0.000000       0.000000   \n",
       "25%               0.000000         0.000000           0.000000       0.000000   \n",
       "50%               0.000000         0.000000           0.000000       0.000000   \n",
       "75%               0.000000         1.000000           1.000000       0.000000   \n",
       "max               1.000000         1.000000           1.000000       1.000000   \n",
       "\n",
       "       email_is_free  phone_home_valid  phone_mobile_valid  has_other_cards  \\\n",
       "count  800000.000000     800000.000000       800000.000000    800000.000000   \n",
       "mean        0.530068          0.417243            0.889406         0.222726   \n",
       "std         0.499095          0.493104            0.313629         0.416076   \n",
       "min         0.000000          0.000000            0.000000         0.000000   \n",
       "25%         0.000000          0.000000            1.000000         0.000000   \n",
       "50%         1.000000          0.000000            1.000000         0.000000   \n",
       "75%         1.000000          1.000000            1.000000         0.000000   \n",
       "max         1.000000          1.000000            1.000000         1.000000   \n",
       "\n",
       "       foreign_request  keep_alive_session  \n",
       "count    800000.000000       800000.000000  \n",
       "mean          0.025313            0.577194  \n",
       "std           0.157073            0.494005  \n",
       "min           0.000000            0.000000  \n",
       "25%           0.000000            0.000000  \n",
       "50%           0.000000            1.000000  \n",
       "75%           0.000000            1.000000  \n",
       "max           1.000000            1.000000  \n",
       "\n",
       "[8 rows x 49 columns]"
      ]
     },
     "execution_count": 23,
     "metadata": {},
     "output_type": "execute_result"
    }
   ],
   "source": [
    "# Combine scaled numerical and encoded categorical features\n",
    "X_train_preprocessed = pd.concat([X_train_scaled, X_train_encoded, X_train_bin], axis=1)\n",
    "X_test_preprocessed = pd.concat([X_test_scaled, X_test_encoded, X_test_bin], axis=1)\n",
    "\n",
    "print(\"Preprocessed Training Data:\")\n",
    "X_train_preprocessed.describe()"
   ]
  },
  {
   "cell_type": "markdown",
   "metadata": {},
   "source": [
    "- We have finished scalling and encoding the data"
   ]
  },
  {
   "cell_type": "markdown",
   "metadata": {},
   "source": [
    "### 2.3 Features selection"
   ]
  },
  {
   "cell_type": "markdown",
   "metadata": {},
   "source": [
    "#### 2.3.1 Features selection using chi2 and f test"
   ]
  },
  {
   "cell_type": "code",
   "execution_count": 24,
   "metadata": {},
   "outputs": [],
   "source": [
    "from sklearn.feature_selection import SelectKBest, f_classif, chi2\n",
    "# For demonstration, let's train a simple classifier\n",
    "from sklearn.ensemble import RandomForestClassifier\n",
    "from sklearn.metrics import classification_report"
   ]
  },
  {
   "cell_type": "code",
   "execution_count": 25,
   "metadata": {},
   "outputs": [],
   "source": [
    "# feature numerical selection\n",
    "def select_features_f_classif(X_train, y_train, X_test):\n",
    "\tfs = SelectKBest(score_func=f_classif, k='all')\n",
    "\tfs.fit(X_train, y_train)\n",
    "\tX_train_fs = fs.transform(X_train)\n",
    "\tX_test_fs = fs.transform(X_test)\n",
    "\treturn X_train_fs, X_test_fs, fs\n",
    "\n",
    "# categorical feature selection\n",
    "def select_features_chi2(X_train, y_train, X_test):\n",
    "\tfs = SelectKBest(score_func=chi2, k='all')\n",
    "\tfs.fit(X_train, y_train)\n",
    "\tX_train_fs = fs.transform(X_train)\n",
    "\tX_test_fs = fs.transform(X_test)\n",
    "\treturn X_train_fs, X_test_fs, fs"
   ]
  },
  {
   "cell_type": "code",
   "execution_count": 26,
   "metadata": {},
   "outputs": [
    {
     "name": "stdout",
     "output_type": "stream",
     "text": [
      "Features sorted by F Score (Descending):\n",
      "\n",
      "                             Feature      F_Score        p_value\n",
      "0                  credit_risk_score  3999.427892   0.000000e+00\n",
      "1              proposed_credit_limit  3710.984979   0.000000e+00\n",
      "2                       customer_age  3218.444228   0.000000e+00\n",
      "3                             income  1638.735992   0.000000e+00\n",
      "4   date_of_birth_distinct_emails_4w  1515.647607   0.000000e+00\n",
      "5              name_email_similarity  1067.344207  5.906042e-234\n",
      "6          device_distinct_emails_8w  1004.172931  3.049533e-220\n",
      "7       current_address_months_count   860.511963  4.752446e-189\n",
      "8                  bank_months_count   244.564258   4.052413e-55\n",
      "9                        velocity_6h   235.337868   4.157938e-53\n",
      "10                             month   142.034920   9.616608e-33\n",
      "11                       velocity_4w   114.158516   1.207964e-26\n",
      "12              bank_branch_count_8w   111.736530   4.097173e-26\n",
      "13                      velocity_24h    97.922064   4.365101e-23\n",
      "14         session_length_in_minutes    46.382508   9.734829e-12\n",
      "15                      zip_count_4w    27.456301   1.607251e-07\n",
      "16                days_since_request     0.824238   3.639442e-01\n"
     ]
    }
   ],
   "source": [
    "# a. f_classif for Numerical\n",
    "# Initialize SelectKBest for numerical features\n",
    "\n",
    "#Prepare numerical features\n",
    "X_train_num = X_train_preprocessed[num_features]\n",
    "X_test_num = X_test_preprocessed[num_features]\n",
    "\n",
    "X_train_num_fs, X_test_num_fs, num_fs = select_features_f_classif(X_train_num, y_train, X_test_num)\n",
    "\n",
    "import pandas as pd\n",
    "\n",
    "# Create a DataFrame with feature names, F scores, and p-values\n",
    "feature_scores_df = pd.DataFrame({\n",
    "    'Feature': num_fs.feature_names_in_,\n",
    "    'F_Score': num_fs.scores_,\n",
    "    'p_value': num_fs.pvalues_\n",
    "})\n",
    "\n",
    "# Sort the DataFrame by F_Score in descending order\n",
    "feature_scores_sorted = feature_scores_df.sort_values(by='F_Score', ascending=False).reset_index(drop=True)\n",
    "\n",
    "# Step 3: Print the sorted DataFrame\n",
    "print(\"Features sorted by F Score (Descending):\\n\")\n",
    "print(feature_scores_sorted)"
   ]
  },
  {
   "cell_type": "markdown",
   "metadata": {},
   "source": [
    "- Using alpha = 0.05, we reject non-significant feature \"days_since_request\" with p-value (0.3639442)"
   ]
  },
  {
   "cell_type": "code",
   "execution_count": 27,
   "metadata": {},
   "outputs": [
    {
     "name": "stdout",
     "output_type": "stream",
     "text": [
      "Categorical features sorted by Chi-Squared (Descending):\n",
      "\n",
      "                 Feature  Chi-Squared_Score        p_value\n",
      "0      housing_status_BA        8790.840406   0.000000e+00\n",
      "1      device_os_windows        3542.113893   0.000000e+00\n",
      "2        device_os_linux         833.674705  2.574900e-183\n",
      "3      housing_status_BE         700.334706  2.528833e-154\n",
      "4        device_os_other         675.145343  7.597174e-149\n",
      "5      housing_status_BC         673.626752  1.625165e-148\n",
      "6        payment_type_AA         619.972054  7.582900e-137\n",
      "7        payment_type_AC         585.923780  1.929964e-129\n",
      "8   employment_status_CC         529.935285  2.917614e-117\n",
      "9      housing_status_BB         489.585282  1.754083e-108\n",
      "10  employment_status_CF         256.971092   7.848026e-58\n",
      "11  employment_status_CB         167.031160   3.293241e-38\n",
      "12  employment_status_CE         125.877037   3.271384e-29\n",
      "13  employment_status_CD          95.650790   1.370450e-22\n",
      "14  employment_status_CA          66.205556   4.062659e-16\n",
      "15   device_os_macintosh          31.226178   2.296483e-08\n",
      "16        source_TELEAPP           9.890039   1.661758e-03\n",
      "17     housing_status_BD           9.877384   1.673226e-03\n",
      "18     housing_status_BF           5.562652   1.834760e-02\n",
      "19       payment_type_AB           1.827746   1.763940e-01\n",
      "20       payment_type_AE           0.950646   3.295550e-01\n",
      "21       payment_type_AD           0.715690   3.975614e-01\n",
      "22     housing_status_BG           0.648788   4.205464e-01\n",
      "23  employment_status_CG           0.198439   6.559837e-01\n",
      "24       source_INTERNET           0.070345   7.908348e-01\n",
      "25         device_os_x11           0.016876   8.966391e-01\n"
     ]
    }
   ],
   "source": [
    "# b. chi2 for Categorical\n",
    "# Initialize SelectKBest for numerical features\n",
    "\n",
    "#Prepare categorical features\n",
    "X_train_cat = X_train_preprocessed.drop(columns= num_features + binary_features, axis=1)\n",
    "X_test_cat = X_test_preprocessed.drop(columns= num_features + binary_features, axis=1)\n",
    "\n",
    "X_train_cat_fs, X_test_cat_fs, cat_fs = select_features_chi2(X_train_cat, y_train, X_test_cat)\n",
    "\n",
    "import pandas as pd\n",
    "\n",
    "# Create a DataFrame with feature names, F scores, and p-values\n",
    "cat_feature_scores_df = pd.DataFrame({\n",
    "    'Feature': cat_fs.feature_names_in_,\n",
    "    'Chi-Squared_Score': cat_fs.scores_,\n",
    "    'p_value': cat_fs.pvalues_\n",
    "})\n",
    "\n",
    "# Sort the DataFrame by F_Score in descending order\n",
    "cat_feature_scores_sorted = cat_feature_scores_df.sort_values(by='Chi-Squared_Score', ascending=False).reset_index(drop=True)\n",
    "\n",
    "# Step 3: Print the sorted DataFrame\n",
    "print(\"Categorical features sorted by Chi-Squared (Descending):\\n\")\n",
    "print(cat_feature_scores_sorted)"
   ]
  },
  {
   "cell_type": "markdown",
   "metadata": {},
   "source": [
    "Standard Thresholds:\n",
    "\n",
    "- p-value < 0.05: The feature is statistically significant and should be kept.\n",
    "\n",
    "- p-value ≥ 0.05: The feature is not statistically significant and can be dropped.\n",
    "\n",
    "- Features to Keep: All features with p-values less than 0.05. In your case, this includes features from index 0 to 24.\n",
    "\n",
    "- Features to Drop: All features with p-values greater than or equal to 0.05. This includes features from index 25 to 31."
   ]
  },
  {
   "cell_type": "markdown",
   "metadata": {},
   "source": [
    "#### 2.3.2 Use Mutual Information for numerical features"
   ]
  },
  {
   "cell_type": "code",
   "execution_count": 26,
   "metadata": {},
   "outputs": [
    {
     "data": {
      "text/plain": [
       "array([2.63050589e-02, 1.00999118e-03, 2.52495773e-03, 2.25945546e-02,\n",
       "       4.62905343e-04, 1.80737963e-04, 2.83024506e-04, 4.02906456e-04,\n",
       "       3.63747776e-04, 1.07401203e-03, 7.50903803e-03, 3.03558894e-03,\n",
       "       1.53118550e-02, 1.72012984e-02, 1.53359052e-04, 1.43734375e-03,\n",
       "       1.58987345e-02, 3.53967424e-02, 6.84286102e-02, 3.29360750e-02,\n",
       "       7.28962146e-03, 0.00000000e+00, 1.55237724e-01, 9.89141714e-03,\n",
       "       1.72277558e-03, 8.83326950e-04, 6.20948025e-04, 2.24630996e-03,\n",
       "       0.00000000e+00, 1.91628244e-02, 3.56144553e-02, 7.02218303e-02,\n",
       "       1.01454901e-03, 1.58863187e-02, 1.71001165e-04, 3.53180157e-05,\n",
       "       1.68221928e-01, 4.99661303e-05, 5.74779223e-02, 3.02672943e-03,\n",
       "       6.02421635e-02, 3.73751725e-02, 5.07482875e-04, 1.22447735e-01,\n",
       "       8.59126486e-02, 1.42094253e-01, 2.68217529e-02, 6.79444695e-04,\n",
       "       1.35200827e-01])"
      ]
     },
     "execution_count": 26,
     "metadata": {},
     "output_type": "execute_result"
    }
   ],
   "source": [
    "# a. Mutual information \n",
    "from sklearn.feature_selection import mutual_info_classif\n",
    "#Prepare numerical features\n",
    "\n",
    "mutual_info = mutual_info_classif(X_train_preprocessed, y_train)\n",
    "mutual_info"
   ]
  },
  {
   "cell_type": "code",
   "execution_count": 27,
   "metadata": {},
   "outputs": [
    {
     "data": {
      "text/plain": [
       "source_INTERNET                     0.168222\n",
       "employment_status_CA                0.155238\n",
       "phone_mobile_valid                  0.142094\n",
       "keep_alive_session                  0.135201\n",
       "email_is_free                       0.122448\n",
       "phone_home_valid                    0.085913\n",
       "housing_status_BC                   0.070222\n",
       "payment_type_AB                     0.068429\n",
       "device_os_other                     0.060242\n",
       "device_os_linux                     0.057478\n",
       "device_os_windows                   0.037375\n",
       "housing_status_BB                   0.035614\n",
       "payment_type_AA                     0.035397\n",
       "payment_type_AC                     0.032936\n",
       "has_other_cards                     0.026822\n",
       "income                              0.026305\n",
       "customer_age                        0.022595\n",
       "housing_status_BA                   0.019163\n",
       "proposed_credit_limit               0.017201\n",
       "month                               0.015899\n",
       "housing_status_BE                   0.015886\n",
       "bank_months_count                   0.015312\n",
       "employment_status_CB                0.009891\n",
       "date_of_birth_distinct_emails_4w    0.007509\n",
       "payment_type_AD                     0.007290\n",
       "credit_risk_score                   0.003036\n",
       "device_os_macintosh                 0.003027\n",
       "current_address_months_count        0.002525\n",
       "employment_status_CF                0.002246\n",
       "employment_status_CC                0.001723\n",
       "device_distinct_emails_8w           0.001437\n",
       "bank_branch_count_8w                0.001074\n",
       "housing_status_BD                   0.001015\n",
       "name_email_similarity               0.001010\n",
       "employment_status_CD                0.000883\n",
       "foreign_request                     0.000679\n",
       "employment_status_CE                0.000621\n",
       "device_os_x11                       0.000507\n",
       "days_since_request                  0.000463\n",
       "velocity_24h                        0.000403\n",
       "velocity_4w                         0.000364\n",
       "velocity_6h                         0.000283\n",
       "zip_count_4w                        0.000181\n",
       "housing_status_BF                   0.000171\n",
       "session_length_in_minutes           0.000153\n",
       "source_TELEAPP                      0.000050\n",
       "housing_status_BG                   0.000035\n",
       "payment_type_AE                     0.000000\n",
       "employment_status_CG                0.000000\n",
       "dtype: float64"
      ]
     },
     "execution_count": 27,
     "metadata": {},
     "output_type": "execute_result"
    }
   ],
   "source": [
    "mutual_info = pd.Series(mutual_info)\n",
    "mutual_info.index = X_train_preprocessed.columns\n",
    "mutual_info.sort_values(ascending=False)"
   ]
  },
  {
   "cell_type": "code",
   "execution_count": 28,
   "metadata": {},
   "outputs": [
    {
     "data": {
      "text/plain": [
       "<Axes: >"
      ]
     },
     "execution_count": 28,
     "metadata": {},
     "output_type": "execute_result"
    },
    {
     "data": {
      "image/png": "[encoded data removed]",
      "text/plain": [
       "<Figure size 2000x800 with 1 Axes>"
      ]
     },
     "metadata": {},
     "output_type": "display_data"
    }
   ],
   "source": [
    "mutual_info.sort_values(ascending=False).plot.bar(figsize=(20, 8))"
   ]
  },
  {
   "cell_type": "markdown",
   "metadata": {},
   "source": [
    "#### Insight\n",
    "- For now, I will choose top 30 categorical features."
   ]
  },
  {
   "cell_type": "code",
   "execution_count": 29,
   "metadata": {},
   "outputs": [
    {
     "name": "stdout",
     "output_type": "stream",
     "text": [
      "['bank_branch_count_8w', 'housing_status_BD', 'name_email_similarity', 'employment_status_CD', 'foreign_request', 'employment_status_CE', 'device_os_x11', 'days_since_request', 'velocity_24h', 'velocity_4w', 'velocity_6h', 'zip_count_4w', 'housing_status_BF', 'session_length_in_minutes', 'source_TELEAPP', 'housing_status_BG', 'payment_type_AE', 'employment_status_CG']\n",
      "18\n"
     ]
    }
   ],
   "source": [
    "feature_to_drop = mutual_info.sort_values(ascending=False)[31:].index.tolist()\n",
    "print(feature_to_drop)\n",
    "print(len(feature_to_drop))"
   ]
  },
  {
   "cell_type": "code",
   "execution_count": 30,
   "metadata": {},
   "outputs": [
    {
     "data": {
      "text/plain": [
       "((800000, 31), (200000, 31))"
      ]
     },
     "execution_count": 30,
     "metadata": {},
     "output_type": "execute_result"
    }
   ],
   "source": [
    "# Drop 7 categorical features and 1 numerical feature\n",
    "\n",
    "df_train_drop = X_train_preprocessed.drop(columns=feature_to_drop, axis=1, inplace=True)\n",
    "df_test_drop = X_test_preprocessed.drop(columns=feature_to_drop, axis=1, inplace=True)\n",
    "X_train_preprocessed.shape, X_test_preprocessed.shape"
   ]
  },
  {
   "cell_type": "markdown",
   "metadata": {},
   "source": [
    "source: https://guhanesvar.medium.com/feature-selection-based-on-mutual-information-gain-for-classification-and-regression-d0f86ea5262a"
   ]
  },
  {
   "cell_type": "markdown",
   "metadata": {},
   "source": [
    "## 3. Model Trainning"
   ]
  },
  {
   "cell_type": "markdown",
   "metadata": {},
   "source": [
    "#### We will perform sampling technique such as NearMiss or SMOTE to address class imbalance. "
   ]
  },
  {
   "cell_type": "code",
   "execution_count": 34,
   "metadata": {},
   "outputs": [],
   "source": [
    "# Imbalanced-learn for NearMiss and Pipeline\n",
    "from imblearn.pipeline import Pipeline as ImbPipeline\n",
    "from imblearn.under_sampling import NearMiss\n",
    "from imblearn.over_sampling import SMOTE\n",
    "\n",
    "#Grid SearchCV\n",
    "from sklearn.model_selection import GridSearchCV, StratifiedKFold\n",
    "\n",
    "# Scoring\n",
    "from sklearn.metrics import make_scorer, fbeta_score\n",
    "from sklearn.metrics import classification_report, confusion_matrix, roc_curve, roc_auc_score\n",
    "\n",
    "#Model\n",
    "from lightgbm import LGBMClassifier as lgb\n",
    "from sklearn.linear_model import LogisticRegression\n"
   ]
  },
  {
   "cell_type": "markdown",
   "metadata": {},
   "source": [
    "#### Sampling"
   ]
  },
  {
   "cell_type": "markdown",
   "metadata": {},
   "source": [
    "#### Let's try to compare the performance of undersampling and oversampling with our baseline model logistic regression"
   ]
  },
  {
   "cell_type": "code",
   "execution_count": 32,
   "metadata": {},
   "outputs": [
    {
     "name": "stdout",
     "output_type": "stream",
     "text": [
      "After OverSampling, the shape of train_X: (1582354, 31)\n",
      "After OverSampling, the shape of train_y: (1582354,) \n",
      "\n",
      "After UnderSampling, the shape of train_X: (17646, 31)\n",
      "After UnderSampling, the shape of train_y: (17646,) \n",
      "\n"
     ]
    }
   ],
   "source": [
    "near_miss_obj = NearMiss()\n",
    "smote_obj = SMOTE()\n",
    "#smoteen_obj = SMOTEENN()\n",
    "\n",
    "X_train_over, y_train_res_over = smote_obj.fit_resample(X_train_preprocessed, y_train.ravel())\n",
    "X_train_under, y_train_res_under = near_miss_obj.fit_resample(X_train_preprocessed, y_train.ravel())\n",
    "\n",
    "print('After OverSampling, the shape of train_X: {}'.format(X_train_over.shape))\n",
    "print('After OverSampling, the shape of train_y: {} \\n'.format(y_train_res_over.shape))\n",
    "print('After UnderSampling, the shape of train_X: {}'.format(X_train_under.shape))\n",
    "print('After UnderSampling, the shape of train_y: {} \\n'.format(y_train_res_under.shape))"
   ]
  },
  {
   "cell_type": "code",
   "execution_count": 33,
   "metadata": {},
   "outputs": [
    {
     "data": {
      "text/html": [
       "<style>#sk-container-id-1 {color: black;}#sk-container-id-1 pre{padding: 0;}#sk-container-id-1 div.sk-toggleable {background-color: white;}#sk-container-id-1 label.sk-toggleable__label {cursor: pointer;display: block;width: 100%;margin-bottom: 0;padding: 0.3em;box-sizing: border-box;text-align: center;}#sk-container-id-1 label.sk-toggleable__label-arrow:before {content: \"▸\";float: left;margin-right: 0.25em;color: #696969;}#sk-container-id-1 label.sk-toggleable__label-arrow:hover:before {color: black;}#sk-container-id-1 div.sk-estimator:hover label.sk-toggleable__label-arrow:before {color: black;}#sk-container-id-1 div.sk-toggleable__content {max-height: 0;max-width: 0;overflow: hidden;text-align: left;background-color: #f0f8ff;}#sk-container-id-1 div.sk-toggleable__content pre {margin: 0.2em;color: black;border-radius: 0.25em;background-color: #f0f8ff;}#sk-container-id-1 input.sk-toggleable__control:checked~div.sk-toggleable__content {max-height: 200px;max-width: 100%;overflow: auto;}#sk-container-id-1 input.sk-toggleable__control:checked~label.sk-toggleable__label-arrow:before {content: \"▾\";}#sk-container-id-1 div.sk-estimator input.sk-toggleable__control:checked~label.sk-toggleable__label {background-color: #d4ebff;}#sk-container-id-1 div.sk-label input.sk-toggleable__control:checked~label.sk-toggleable__label {background-color: #d4ebff;}#sk-container-id-1 input.sk-hidden--visually {border: 0;clip: rect(1px 1px 1px 1px);clip: rect(1px, 1px, 1px, 1px);height: 1px;margin: -1px;overflow: hidden;padding: 0;position: absolute;width: 1px;}#sk-container-id-1 div.sk-estimator {font-family: monospace;background-color: #f0f8ff;border: 1px dotted black;border-radius: 0.25em;box-sizing: border-box;margin-bottom: 0.5em;}#sk-container-id-1 div.sk-estimator:hover {background-color: #d4ebff;}#sk-container-id-1 div.sk-parallel-item::after {content: \"\";width: 100%;border-bottom: 1px solid gray;flex-grow: 1;}#sk-container-id-1 div.sk-label:hover label.sk-toggleable__label {background-color: #d4ebff;}#sk-container-id-1 div.sk-serial::before {content: \"\";position: absolute;border-left: 1px solid gray;box-sizing: border-box;top: 0;bottom: 0;left: 50%;z-index: 0;}#sk-container-id-1 div.sk-serial {display: flex;flex-direction: column;align-items: center;background-color: white;padding-right: 0.2em;padding-left: 0.2em;position: relative;}#sk-container-id-1 div.sk-item {position: relative;z-index: 1;}#sk-container-id-1 div.sk-parallel {display: flex;align-items: stretch;justify-content: center;background-color: white;position: relative;}#sk-container-id-1 div.sk-item::before, #sk-container-id-1 div.sk-parallel-item::before {content: \"\";position: absolute;border-left: 1px solid gray;box-sizing: border-box;top: 0;bottom: 0;left: 50%;z-index: -1;}#sk-container-id-1 div.sk-parallel-item {display: flex;flex-direction: column;z-index: 1;position: relative;background-color: white;}#sk-container-id-1 div.sk-parallel-item:first-child::after {align-self: flex-end;width: 50%;}#sk-container-id-1 div.sk-parallel-item:last-child::after {align-self: flex-start;width: 50%;}#sk-container-id-1 div.sk-parallel-item:only-child::after {width: 0;}#sk-container-id-1 div.sk-dashed-wrapped {border: 1px dashed gray;margin: 0 0.4em 0.5em 0.4em;box-sizing: border-box;padding-bottom: 0.4em;background-color: white;}#sk-container-id-1 div.sk-label label {font-family: monospace;font-weight: bold;display: inline-block;line-height: 1.2em;}#sk-container-id-1 div.sk-label-container {text-align: center;}#sk-container-id-1 div.sk-container {/* jupyter's `normalize.less` sets `[hidden] { display: none; }` but bootstrap.min.css set `[hidden] { display: none !important; }` so we also need the `!important` here to be able to override the default hidden behavior on the sphinx rendered scikit-learn.org. See: https://github.com/scikit-learn/scikit-learn/issues/21755 */display: inline-block !important;position: relative;}#sk-container-id-1 div.sk-text-repr-fallback {display: none;}</style><div id=\"sk-container-id-1\" class=\"sk-top-container\"><div class=\"sk-text-repr-fallback\"><pre>LogisticRegression(max_iter=1000000)</pre><b>In a Jupyter environment, please rerun this cell to show the HTML representation or trust the notebook. <br />On GitHub, the HTML representation is unable to render, please try loading this page with nbviewer.org.</b></div><div class=\"sk-container\" hidden><div class=\"sk-item\"><div class=\"sk-estimator sk-toggleable\"><input class=\"sk-toggleable__control sk-hidden--visually\" id=\"sk-estimator-id-1\" type=\"checkbox\" checked><label for=\"sk-estimator-id-1\" class=\"sk-toggleable__label sk-toggleable__label-arrow\">LogisticRegression</label><div class=\"sk-toggleable__content\"><pre>LogisticRegression(max_iter=1000000)</pre></div></div></div></div></div>"
      ],
      "text/plain": [
       "LogisticRegression(max_iter=1000000)"
      ]
     },
     "execution_count": 33,
     "metadata": {},
     "output_type": "execute_result"
    }
   ],
   "source": [
    "logis_smote_model = LogisticRegression(max_iter = 1000000, solver=\"saga\", random_state=RANDOM_STATE)\n",
    "logis_smote_model.fit(X_train_over, y_train_res_over)\n",
    "\n",
    "logis_nearmiss_model = logis_model = LogisticRegression(max_iter = 1000000, random_state=RANDOM_STATE)\n",
    "logis_nearmiss_model.fit(X_train_under, y_train_res_under)"
   ]
  },
  {
   "cell_type": "code",
   "execution_count": 34,
   "metadata": {},
   "outputs": [
    {
     "name": "stdout",
     "output_type": "stream",
     "text": [
      "Classification Report for Logistic Regression with Oversampling:\n",
      "              precision    recall  f1-score   support\n",
      "\n",
      "           0       1.00      0.82      0.90    197794\n",
      "           1       0.04      0.73      0.08      2206\n",
      "\n",
      "    accuracy                           0.82    200000\n",
      "   macro avg       0.52      0.78      0.49    200000\n",
      "weighted avg       0.99      0.82      0.89    200000\n",
      "\n",
      "Classification Report for Logistic Regression with Undersampling:\n",
      "              precision    recall  f1-score   support\n",
      "\n",
      "           0       0.98      0.14      0.24    197794\n",
      "           1       0.01      0.79      0.02      2206\n",
      "\n",
      "    accuracy                           0.15    200000\n",
      "   macro avg       0.50      0.46      0.13    200000\n",
      "weighted avg       0.97      0.15      0.24    200000\n",
      "\n"
     ]
    }
   ],
   "source": [
    "y_pred_logis_smote = logis_smote_model.predict(X_test_preprocessed)\n",
    "smote_report = classification_report(y_test, y_pred_logis_smote)\n",
    "print(f\"Classification Report for Logistic Regression with Oversampling:\\n{smote_report}\")\n",
    "\n",
    "y_pred_logis_nearmiss = logis_nearmiss_model.predict(X_test_preprocessed)\n",
    "nearmiss_report = classification_report(y_test, y_pred_logis_nearmiss)\n",
    "print(f\"Classification Report for Logistic Regression with Undersampling:\\n{nearmiss_report}\")\n",
    "\n"
   ]
  },
  {
   "cell_type": "markdown",
   "metadata": {},
   "source": [
    "#### Insights\n",
    "\n",
    "**Oversampling**\n",
    "\n",
    "- Oversampling performs **better overall**, with **higher accuracy** and a reasonable trade-off between recall and precision for the minority class.\n",
    "\n",
    "**Undersampling**\n",
    "- Undersampling struggles with majority class recall and precision while slightly improving minority class recall.\n",
    "\n",
    "\n",
    "=> We will choose oversampling as our main sampling method"
   ]
  },
  {
   "cell_type": "code",
   "execution_count": 35,
   "metadata": {},
   "outputs": [
    {
     "data": {
      "image/png": "[encoded data removed]",
      "text/plain": [
       "<Figure size 800x600 with 2 Axes>"
      ]
     },
     "metadata": {},
     "output_type": "display_data"
    }
   ],
   "source": [
    "cm_losgitic = confusion_matrix(y_test, y_pred_logis_smote)\n",
    "# 5. Visualize the confusion matrix using Seaborn's heatmap\n",
    "plt.figure(figsize=(8, 6))\n",
    "sns.heatmap(cm_losgitic, annot=True, fmt='d', cmap='Blues', xticklabels=['Non-Fraud', 'Fraud'], yticklabels=['Non-Fraud', 'Fraud'])\n",
    "plt.xlabel('Predicted Label')\n",
    "plt.ylabel('True Label')\n",
    "plt.title('Confusion Matrix for Logistic Regerssion with Oversampling')\n",
    "plt.show()  \n"
   ]
  },
  {
   "cell_type": "code",
   "execution_count": 53,
   "metadata": {},
   "outputs": [],
   "source": [
    "#predict probability\n",
    "y_pred_prob = logis_smote_model.predict_proba(X_test_preprocessed)\n",
    "# retrieve just the probabilities for the positive class\n",
    "pos_probs = y_pred_prob[:, 1]\n"
   ]
  },
  {
   "cell_type": "code",
   "execution_count": 54,
   "metadata": {},
   "outputs": [
    {
     "data": {
      "image/png": "[encoded data removed]",
      "text/plain": [
       "<Figure size 640x480 with 1 Axes>"
      ]
     },
     "metadata": {},
     "output_type": "display_data"
    },
    {
     "name": "stdout",
     "output_type": "stream",
     "text": [
      "Logistic ROC AUC 0.857\n"
     ]
    }
   ],
   "source": [
    "from matplotlib import pyplot\n",
    "# plot no skill roc curve\n",
    "pyplot.plot([0, 1], [0, 1], linestyle='--', label='No Skill')\n",
    "# calculate roc curve for model\n",
    "fpr, tpr, _ = roc_curve(y_test, pos_probs)\n",
    "# plot model roc curve\n",
    "pyplot.plot(fpr, tpr, marker='.', label='Logistic')\n",
    "# axis labels\n",
    "pyplot.xlabel('False Positive Rate')\n",
    "pyplot.ylabel('True Positive Rate')\n",
    "# show the legend\n",
    "pyplot.legend()\n",
    "# show the plot\n",
    "pyplot.show()\n",
    "# calculate roc auc\n",
    "roc_auc = roc_auc_score(y_test, pos_probs)\n",
    "print('Logistic ROC AUC %.3f' % roc_auc)"
   ]
  },
  {
   "cell_type": "markdown",
   "metadata": {},
   "source": [
    "An ROC curve (or receiver operating characteristic curve) is a plot that summarizes the performance of a binary classification model on the positive class.\n",
    "\n",
    "The x-axis indicates the False Positive Rate and the y-axis indicates the True Positive Rate."
   ]
  },
  {
   "cell_type": "markdown",
   "metadata": {},
   "source": [
    "source: https://machinelearningmastery.com/roc-curves-and-precision-recall-curves-for-imbalanced-classification/"
   ]
  },
  {
   "cell_type": "markdown",
   "metadata": {},
   "source": [
    "#### Let's try to fit different models and evaluate their performance"
   ]
  },
  {
   "cell_type": "markdown",
   "metadata": {},
   "source": [
    "- For the sake of efficiency, I will try different models and chose the best model for hyperparameter tunning"
   ]
  },
  {
   "cell_type": "code",
   "execution_count": 32,
   "metadata": {},
   "outputs": [],
   "source": [
    "from sklearn.model_selection import cross_val_score\n",
    "from sklearn.metrics import make_scorer, roc_auc_score\n",
    "from imblearn.over_sampling import SMOTE\n",
    "import sys\n",
    "import os"
   ]
  },
  {
   "cell_type": "markdown",
   "metadata": {},
   "source": [
    "#### Scoring Metric: ROC AUC\n",
    "\n",
    "- Why: To balance the trade off between TPR and FPR. We want to caught fraud application but at the same time we don't want to reject many good applications"
   ]
  },
  {
   "cell_type": "code",
   "execution_count": 39,
   "metadata": {},
   "outputs": [],
   "source": [
    "# Eval_models function from utils.py\n",
    "\n",
    "def eval_models(X_train, y_train, X_test, y_test, models):\n",
    "    report = {}\n",
    "    \n",
    "    for i in range(len(list(models))):\n",
    "        model = list(models.values())[i]\n",
    "        model_name = list(models.keys())[i]\n",
    "        \n",
    "        # Define pipeline\n",
    "        final_pipeline = ImbPipeline([\n",
    "            ('resampler', SMOTE()),\n",
    "            ('classifier', model)\n",
    "        ])\n",
    "        # Choose scoring metric\n",
    "        scorer = make_scorer(roc_auc_score, needs_proba=True)\n",
    "        \n",
    "        # Cross-validation\n",
    "        skf = StratifiedKFold(n_splits=3, shuffle= True, random_state=42 )\n",
    "        cv_scores = cross_val_score(final_pipeline, X_train, y_train, cv=skf, scoring=scorer, n_jobs=-1)\n",
    "        \n",
    "        #fit on full training set and test performance\n",
    "        final_pipeline.fit(X_train, y_train)\n",
    "        test_score = roc_auc_score(y_test, final_pipeline.predict_proba(X_test)[:, 1]) \n",
    "        \n",
    "        # Save results\n",
    "        report[model_name] = {\n",
    "            'cv_mean': np.mean(cv_scores),\n",
    "            'cv_std': np.std(cv_scores),\n",
    "            'test_score': test_score\n",
    "        }\n",
    "        print(f\"{model_name} - CV Mean: {np.mean(cv_scores):.4f}, Test Score: {test_score:.4f}\")\n",
    "    return report\n"
   ]
  },
  {
   "cell_type": "markdown",
   "metadata": {},
   "source": [
    "#### Remark\n",
    "**Resampling in Each Fold:**\n",
    "\n",
    "- Currently, SMOTE is applied in the pipeline, which is correct, but ensure that SMOTE is applied within each fold of cross-validation to avoid data leakage.\n",
    "\n",
    "source:https://www.kaggle.com/code/janiobachmann/credit-fraud-dealing-with-imbalanced-datasets"
   ]
  },
  {
   "cell_type": "code",
   "execution_count": null,
   "metadata": {},
   "outputs": [
    {
     "name": "stdout",
     "output_type": "stream",
     "text": [
      "RandomForestClassifier - CV Mean: 0.8350, Test Score: 0.8448\n",
      "[LightGBM] [Info] Number of positive: 791177, number of negative: 791177\n",
      "[LightGBM] [Info] Auto-choosing row-wise multi-threading, the overhead of testing was 0.089430 seconds.\n",
      "You can set `force_row_wise=true` to remove the overhead.\n",
      "And if memory is not enough, you can set `force_col_wise=true`.\n",
      "[LightGBM] [Info] Total Bins 6640\n",
      "[LightGBM] [Info] Number of data points in the train set: 1582354, number of used features: 31\n",
      "[LightGBM] [Info] [binary:BoostFromScore]: pavg=0.500000 -> initscore=0.000000\n",
      "LightGBM - CV Mean: 0.8670, Test Score: 0.8692\n",
      "LogisticRegression - CV Mean: 0.8532, Test Score: 0.8569\n"
     ]
    }
   ],
   "source": [
    "models = {\n",
    "    \"RandomForestClassifier\": RandomForestClassifier(random_state=42),\n",
    "    \"LightGBM\": lgb(random_state=42),\n",
    "    \"LogisticRegression\": LogisticRegression(max_iter= 1000000, random_state=42)\n",
    "}\n",
    "\n",
    "report = eval_models(X_train_preprocessed, y_train, X_test_preprocessed, y_test, models)\n"
   ]
  },
  {
   "cell_type": "markdown",
   "metadata": {},
   "source": [
    "#### LighGBM has the highest Test Score (0.8711), let's print out model metric and try to tune the model for better result!"
   ]
  },
  {
   "cell_type": "code",
   "execution_count": null,
   "metadata": {},
   "outputs": [
    {
     "name": "stdout",
     "output_type": "stream",
     "text": [
      "[LightGBM] [Info] Number of positive: 791177, number of negative: 791177\n",
      "[LightGBM] [Info] Auto-choosing row-wise multi-threading, the overhead of testing was 0.096181 seconds.\n",
      "You can set `force_row_wise=true` to remove the overhead.\n",
      "And if memory is not enough, you can set `force_col_wise=true`.\n",
      "[LightGBM] [Info] Total Bins 6640\n",
      "[LightGBM] [Info] Number of data points in the train set: 1582354, number of used features: 31\n",
      "[LightGBM] [Info] [binary:BoostFromScore]: pavg=0.500000 -> initscore=0.000000\n"
     ]
    },
    {
     "data": {
      "text/html": [
       "<style>#sk-container-id-2 {color: black;}#sk-container-id-2 pre{padding: 0;}#sk-container-id-2 div.sk-toggleable {background-color: white;}#sk-container-id-2 label.sk-toggleable__label {cursor: pointer;display: block;width: 100%;margin-bottom: 0;padding: 0.3em;box-sizing: border-box;text-align: center;}#sk-container-id-2 label.sk-toggleable__label-arrow:before {content: \"▸\";float: left;margin-right: 0.25em;color: #696969;}#sk-container-id-2 label.sk-toggleable__label-arrow:hover:before {color: black;}#sk-container-id-2 div.sk-estimator:hover label.sk-toggleable__label-arrow:before {color: black;}#sk-container-id-2 div.sk-toggleable__content {max-height: 0;max-width: 0;overflow: hidden;text-align: left;background-color: #f0f8ff;}#sk-container-id-2 div.sk-toggleable__content pre {margin: 0.2em;color: black;border-radius: 0.25em;background-color: #f0f8ff;}#sk-container-id-2 input.sk-toggleable__control:checked~div.sk-toggleable__content {max-height: 200px;max-width: 100%;overflow: auto;}#sk-container-id-2 input.sk-toggleable__control:checked~label.sk-toggleable__label-arrow:before {content: \"▾\";}#sk-container-id-2 div.sk-estimator input.sk-toggleable__control:checked~label.sk-toggleable__label {background-color: #d4ebff;}#sk-container-id-2 div.sk-label input.sk-toggleable__control:checked~label.sk-toggleable__label {background-color: #d4ebff;}#sk-container-id-2 input.sk-hidden--visually {border: 0;clip: rect(1px 1px 1px 1px);clip: rect(1px, 1px, 1px, 1px);height: 1px;margin: -1px;overflow: hidden;padding: 0;position: absolute;width: 1px;}#sk-container-id-2 div.sk-estimator {font-family: monospace;background-color: #f0f8ff;border: 1px dotted black;border-radius: 0.25em;box-sizing: border-box;margin-bottom: 0.5em;}#sk-container-id-2 div.sk-estimator:hover {background-color: #d4ebff;}#sk-container-id-2 div.sk-parallel-item::after {content: \"\";width: 100%;border-bottom: 1px solid gray;flex-grow: 1;}#sk-container-id-2 div.sk-label:hover label.sk-toggleable__label {background-color: #d4ebff;}#sk-container-id-2 div.sk-serial::before {content: \"\";position: absolute;border-left: 1px solid gray;box-sizing: border-box;top: 0;bottom: 0;left: 50%;z-index: 0;}#sk-container-id-2 div.sk-serial {display: flex;flex-direction: column;align-items: center;background-color: white;padding-right: 0.2em;padding-left: 0.2em;position: relative;}#sk-container-id-2 div.sk-item {position: relative;z-index: 1;}#sk-container-id-2 div.sk-parallel {display: flex;align-items: stretch;justify-content: center;background-color: white;position: relative;}#sk-container-id-2 div.sk-item::before, #sk-container-id-2 div.sk-parallel-item::before {content: \"\";position: absolute;border-left: 1px solid gray;box-sizing: border-box;top: 0;bottom: 0;left: 50%;z-index: -1;}#sk-container-id-2 div.sk-parallel-item {display: flex;flex-direction: column;z-index: 1;position: relative;background-color: white;}#sk-container-id-2 div.sk-parallel-item:first-child::after {align-self: flex-end;width: 50%;}#sk-container-id-2 div.sk-parallel-item:last-child::after {align-self: flex-start;width: 50%;}#sk-container-id-2 div.sk-parallel-item:only-child::after {width: 0;}#sk-container-id-2 div.sk-dashed-wrapped {border: 1px dashed gray;margin: 0 0.4em 0.5em 0.4em;box-sizing: border-box;padding-bottom: 0.4em;background-color: white;}#sk-container-id-2 div.sk-label label {font-family: monospace;font-weight: bold;display: inline-block;line-height: 1.2em;}#sk-container-id-2 div.sk-label-container {text-align: center;}#sk-container-id-2 div.sk-container {/* jupyter's `normalize.less` sets `[hidden] { display: none; }` but bootstrap.min.css set `[hidden] { display: none !important; }` so we also need the `!important` here to be able to override the default hidden behavior on the sphinx rendered scikit-learn.org. See: https://github.com/scikit-learn/scikit-learn/issues/21755 */display: inline-block !important;position: relative;}#sk-container-id-2 div.sk-text-repr-fallback {display: none;}</style><div id=\"sk-container-id-2\" class=\"sk-top-container\"><div class=\"sk-text-repr-fallback\"><pre>LGBMClassifier()</pre><b>In a Jupyter environment, please rerun this cell to show the HTML representation or trust the notebook. <br />On GitHub, the HTML representation is unable to render, please try loading this page with nbviewer.org.</b></div><div class=\"sk-container\" hidden><div class=\"sk-item\"><div class=\"sk-estimator sk-toggleable\"><input class=\"sk-toggleable__control sk-hidden--visually\" id=\"sk-estimator-id-2\" type=\"checkbox\" checked><label for=\"sk-estimator-id-2\" class=\"sk-toggleable__label sk-toggleable__label-arrow\">LGBMClassifier</label><div class=\"sk-toggleable__content\"><pre>LGBMClassifier()</pre></div></div></div></div></div>"
      ],
      "text/plain": [
       "LGBMClassifier()"
      ]
     },
     "execution_count": 41,
     "metadata": {},
     "output_type": "execute_result"
    }
   ],
   "source": [
    "# Fit model with LightGBM\n",
    "lgb_model = lgb(random_state=42)\n",
    "lgb_model.fit(X_train_over, y_train_res_over)"
   ]
  },
  {
   "cell_type": "code",
   "execution_count": 42,
   "metadata": {},
   "outputs": [
    {
     "name": "stdout",
     "output_type": "stream",
     "text": [
      "Classification Report for LightGBM with Oversampling:\n",
      "              precision    recall  f1-score   support\n",
      "\n",
      "           0       0.99      1.00      0.99    197794\n",
      "           1       0.30      0.09      0.14      2206\n",
      "\n",
      "    accuracy                           0.99    200000\n",
      "   macro avg       0.64      0.54      0.56    200000\n",
      "weighted avg       0.98      0.99      0.98    200000\n",
      "\n"
     ]
    }
   ],
   "source": [
    "#Predict\n",
    "y_pred_lgb = lgb_model.predict(X_test_preprocessed)\n",
    "lgb_report = classification_report(y_test, y_pred_lgb)\n",
    "print(f\"Classification Report for LightGBM with Oversampling:\\n{lgb_report}\")"
   ]
  },
  {
   "cell_type": "markdown",
   "metadata": {},
   "source": [
    "#### Insights\n",
    "- Recall score is very low, this is probably due to threshold at 0.5 is not optimal for imbalance test set, we need to lower threshold yo predict minority class better"
   ]
  },
  {
   "cell_type": "markdown",
   "metadata": {},
   "source": [
    "#### Let's plot precision-recall curve for Positive class"
   ]
  },
  {
   "cell_type": "code",
   "execution_count": 43,
   "metadata": {},
   "outputs": [
    {
     "data": {
      "image/png": "[encoded data removed]",
      "text/plain": [
       "<Figure size 640x480 with 1 Axes>"
      ]
     },
     "metadata": {},
     "output_type": "display_data"
    }
   ],
   "source": [
    "from sklearn.metrics import precision_recall_curve\n",
    "\n",
    "y_pred_probs = lgb_model.predict_proba(X_test_preprocessed)[:, 1]  # Predicted probabilities for the positive class\n",
    "precisions, recalls, thresholds = precision_recall_curve(y_test, y_pred_probs)\n",
    "\n",
    "# Plot Precision-Recall curve\n",
    "import matplotlib.pyplot as plt\n",
    "plt.plot(recalls, precisions)\n",
    "plt.xlabel('Recall')\n",
    "plt.ylabel('Precision')\n",
    "plt.title('Precision-Recall Curve')\n",
    "plt.show()\n"
   ]
  },
  {
   "cell_type": "code",
   "execution_count": 55,
   "metadata": {},
   "outputs": [
    {
     "name": "stdout",
     "output_type": "stream",
     "text": [
      "Classification Report for LightGBM with Oversampling at 0.04 threshold:\n",
      "              precision    recall  f1-score   support\n",
      "\n",
      "           0       1.00      0.76      0.86    197794\n",
      "           1       0.04      0.82      0.07      2206\n",
      "\n",
      "    accuracy                           0.76    200000\n",
      "   macro avg       0.52      0.79      0.46    200000\n",
      "weighted avg       0.99      0.76      0.85    200000\n",
      "\n"
     ]
    }
   ],
   "source": [
    "optimal_threshold = 0.03  # Example threshold based on the curve\n",
    "y_pred_adjusted = (y_pred_probs >= optimal_threshold).astype(int)\n",
    "\n",
    "adjusted_report = classification_report(y_test, y_pred_adjusted)\n",
    "print(f\"Classification Report for LightGBM with Oversampling at 0.04 threshold:\\n{adjusted_report}\")\n"
   ]
  },
  {
   "cell_type": "markdown",
   "metadata": {},
   "source": [
    "#### Insights\n",
    "1. Improved Fraud Detection (Recall):\n",
    "\n",
    "- The recall for Class 1 (fraud cases) **increased to 77%**, meaning the model now detects most fraud cases. This is a significant improvement over the earlier recall (likely **near 8%** or so when using the default threshold of 0.5).\n",
    "\n",
    "2. Precision Tradeoff:\n",
    "- Precision for fraud cases dropped to 4%, indicating that many non-fraud cases are misclassified as fraud (false positives). This is the expected tradeoff when adjusting the threshold to prioritize recall in highly imbalanced datasets.\n",
    "\n",
    "3. Accuracy\n",
    "- Achieve good overall accuracy (0.82)."
   ]
  },
  {
   "cell_type": "code",
   "execution_count": 45,
   "metadata": {},
   "outputs": [
    {
     "data": {
      "image/png": "[encoded data removed]",
      "text/plain": [
       "<Figure size 800x600 with 2 Axes>"
      ]
     },
     "metadata": {},
     "output_type": "display_data"
    }
   ],
   "source": [
    "cm_lgbm = confusion_matrix(y_test, y_pred_adjusted)\n",
    "# 5. Visualize the confusion matrix using Seaborn's heatmap\n",
    "plt.figure(figsize=(8, 6))\n",
    "sns.heatmap(cm_lgbm, annot=True, fmt='d', cmap='Blues', xticklabels=['Non-Fraud', 'Fraud'], yticklabels=['Non-Fraud', 'Fraud'])\n",
    "plt.xlabel('Predicted Label')\n",
    "plt.ylabel('True Label')\n",
    "plt.title('Confusion Matrix for LightGBM with Oversampling')\n",
    "plt.show()  "
   ]
  },
  {
   "cell_type": "markdown",
   "metadata": {},
   "source": [
    "## Hyper Parameter Tunning"
   ]
  },
  {
   "cell_type": "markdown",
   "metadata": {},
   "source": [
    "#### Bayesian Optimization (Optuna)"
   ]
  },
  {
   "cell_type": "code",
   "execution_count": 37,
   "metadata": {},
   "outputs": [
    {
     "name": "stderr",
     "output_type": "stream",
     "text": [
      "[I 2025-01-10 12:57:18,896] A new study created in memory with name: no-name-bb7087c6-e084-434b-8c44-0083ad170b09\n",
      "[I 2025-01-10 12:57:36,724] Trial 0 finished with value: 0.8667686354491181 and parameters: {'num_leaves': 75, 'max_depth': 9, 'learning_rate': 0.07469223063228352, 'subsample': 0.9784007510409554, 'colsample_bytree': 0.8902121654817391, 'lambda_l1': 4.1833496601121265, 'lambda_l2': 0.7562236879337636}. Best is trial 0 with value: 0.8667686354491181.\n",
      "[I 2025-01-10 12:57:53,884] Trial 1 finished with value: 0.877965807857597 and parameters: {'num_leaves': 36, 'max_depth': 14, 'learning_rate': 0.11995095084703278, 'subsample': 0.7871711621163053, 'colsample_bytree': 0.7725484539476711, 'lambda_l1': 1.6132092018972322, 'lambda_l2': 3.422430959613992}. Best is trial 1 with value: 0.877965807857597.\n",
      "[I 2025-01-10 12:58:08,740] Trial 2 finished with value: 0.875281474754507 and parameters: {'num_leaves': 20, 'max_depth': 12, 'learning_rate': 0.11270417566101053, 'subsample': 0.861762218930143, 'colsample_bytree': 0.7019240310032805, 'lambda_l1': 6.424492289466253, 'lambda_l2': 5.953531578450345}. Best is trial 1 with value: 0.877965807857597.\n",
      "[I 2025-01-10 12:58:27,623] Trial 3 finished with value: 0.8700334453362593 and parameters: {'num_leaves': 87, 'max_depth': 14, 'learning_rate': 0.07146233151779206, 'subsample': 0.896767811056064, 'colsample_bytree': 0.8418968043349859, 'lambda_l1': 2.9000489099770688, 'lambda_l2': 7.770031425416729}. Best is trial 1 with value: 0.877965807857597.\n",
      "[I 2025-01-10 12:58:40,631] Trial 4 finished with value: 0.8504639653139309 and parameters: {'num_leaves': 59, 'max_depth': 13, 'learning_rate': 0.032581837782437055, 'subsample': 0.9637129995909748, 'colsample_bytree': 0.9294166420631969, 'lambda_l1': 8.139526943846723, 'lambda_l2': 2.992404404321989}. Best is trial 1 with value: 0.877965807857597.\n",
      "[I 2025-01-10 12:58:49,485] Trial 5 finished with value: 0.8708229526577401 and parameters: {'num_leaves': 90, 'max_depth': 4, 'learning_rate': 0.19711136493135842, 'subsample': 0.8739445211427538, 'colsample_bytree': 0.9810812754774343, 'lambda_l1': 7.797170869232404, 'lambda_l2': 9.851426255404213}. Best is trial 1 with value: 0.877965807857597.\n",
      "[I 2025-01-10 12:59:00,384] Trial 6 finished with value: 0.8416488061085431 and parameters: {'num_leaves': 82, 'max_depth': 5, 'learning_rate': 0.026972430171085957, 'subsample': 0.7091703235637888, 'colsample_bytree': 0.7168514993917448, 'lambda_l1': 2.170208095275854, 'lambda_l2': 9.786037172092941}. Best is trial 1 with value: 0.877965807857597.\n",
      "[I 2025-01-10 12:59:13,130] Trial 7 finished with value: 0.876189935831596 and parameters: {'num_leaves': 48, 'max_depth': 13, 'learning_rate': 0.16903221555719078, 'subsample': 0.8965752852470473, 'colsample_bytree': 0.7627034622449507, 'lambda_l1': 1.8442694719631525, 'lambda_l2': 0.8908685650611259}. Best is trial 1 with value: 0.877965807857597.\n",
      "[I 2025-01-10 12:59:25,102] Trial 8 finished with value: 0.8771179150480366 and parameters: {'num_leaves': 35, 'max_depth': 9, 'learning_rate': 0.14523612943789813, 'subsample': 0.8983322002789444, 'colsample_bytree': 0.8182048576845541, 'lambda_l1': 7.932193222302653, 'lambda_l2': 2.700254248020788}. Best is trial 1 with value: 0.877965807857597.\n",
      "[I 2025-01-10 12:59:36,480] Trial 9 finished with value: 0.8434274083518044 and parameters: {'num_leaves': 42, 'max_depth': 7, 'learning_rate': 0.028526790819031193, 'subsample': 0.9327166731341747, 'colsample_bytree': 0.9745999078319302, 'lambda_l1': 2.157475466364062, 'lambda_l2': 7.783044770936049}. Best is trial 1 with value: 0.877965807857597.\n",
      "[I 2025-01-10 12:59:47,583] Trial 10 finished with value: 0.8772204810510512 and parameters: {'num_leaves': 23, 'max_depth': 15, 'learning_rate': 0.11811115884415312, 'subsample': 0.7730756226107918, 'colsample_bytree': 0.7727736409179676, 'lambda_l1': 0.1075305800584827, 'lambda_l2': 3.969792108551182}. Best is trial 1 with value: 0.877965807857597.\n",
      "[I 2025-01-10 12:59:59,597] Trial 11 finished with value: 0.8757687449001147 and parameters: {'num_leaves': 21, 'max_depth': 15, 'learning_rate': 0.11701445642431801, 'subsample': 0.7746803119044918, 'colsample_bytree': 0.7870384618914575, 'lambda_l1': 0.0455219046449847, 'lambda_l2': 4.082955091124584}. Best is trial 1 with value: 0.877965807857597.\n",
      "[I 2025-01-10 13:00:12,308] Trial 12 finished with value: 0.878018613937546 and parameters: {'num_leaves': 31, 'max_depth': 11, 'learning_rate': 0.1333569631121863, 'subsample': 0.7957308874878448, 'colsample_bytree': 0.7592817935626536, 'lambda_l1': 0.047176321956238665, 'lambda_l2': 5.422947307602862}. Best is trial 12 with value: 0.878018613937546.\n",
      "[I 2025-01-10 13:00:24,154] Trial 13 finished with value: 0.878590920803101 and parameters: {'num_leaves': 35, 'max_depth': 11, 'learning_rate': 0.15051752891429615, 'subsample': 0.8039469048230972, 'colsample_bytree': 0.7461489902164551, 'lambda_l1': 4.5517807961322925, 'lambda_l2': 6.117597309580907}. Best is trial 13 with value: 0.878590920803101.\n",
      "[I 2025-01-10 13:00:38,135] Trial 14 finished with value: 0.8765100259569145 and parameters: {'num_leaves': 57, 'max_depth': 11, 'learning_rate': 0.15637442508828667, 'subsample': 0.8235227607794734, 'colsample_bytree': 0.7385007357998256, 'lambda_l1': 5.209407074498815, 'lambda_l2': 6.000845446491238}. Best is trial 13 with value: 0.878590920803101.\n",
      "[I 2025-01-10 13:00:51,389] Trial 15 finished with value: 0.87321586176714 and parameters: {'num_leaves': 70, 'max_depth': 11, 'learning_rate': 0.1847001790725409, 'subsample': 0.7200079840603768, 'colsample_bytree': 0.8183595526096431, 'lambda_l1': 9.810012060616504, 'lambda_l2': 5.638296139472157}. Best is trial 13 with value: 0.878590920803101.\n",
      "[I 2025-01-10 13:01:02,738] Trial 16 finished with value: 0.8745246546806419 and parameters: {'num_leaves': 32, 'max_depth': 7, 'learning_rate': 0.14396831531946713, 'subsample': 0.819994775352474, 'colsample_bytree': 0.8825968481378349, 'lambda_l1': 4.445508561303639, 'lambda_l2': 7.746952732839244}. Best is trial 13 with value: 0.878590920803101.\n",
      "[I 2025-01-10 13:01:15,159] Trial 17 finished with value: 0.8728368043797364 and parameters: {'num_leaves': 45, 'max_depth': 10, 'learning_rate': 0.08579224973273523, 'subsample': 0.7431245319201286, 'colsample_bytree': 0.7350719050532949, 'lambda_l1': 5.650156027592137, 'lambda_l2': 6.809251949508533}. Best is trial 13 with value: 0.878590920803101.\n",
      "[I 2025-01-10 13:01:27,684] Trial 18 finished with value: 0.8652723147735736 and parameters: {'num_leaves': 100, 'max_depth': 7, 'learning_rate': 0.13307668634928674, 'subsample': 0.8268640843179403, 'colsample_bytree': 0.8077128137095897, 'lambda_l1': 3.4841595475516423, 'lambda_l2': 4.869698392431629}. Best is trial 13 with value: 0.878590920803101.\n",
      "[I 2025-01-10 13:01:40,494] Trial 19 finished with value: 0.874767756705103 and parameters: {'num_leaves': 50, 'max_depth': 10, 'learning_rate': 0.17008288346083925, 'subsample': 0.796501000378926, 'colsample_bytree': 0.7399679893243152, 'lambda_l1': 1.0278299137743772, 'lambda_l2': 1.964802408219275}. Best is trial 13 with value: 0.878590920803101.\n",
      "[I 2025-01-10 13:01:52,414] Trial 20 finished with value: 0.8732636411275588 and parameters: {'num_leaves': 29, 'max_depth': 12, 'learning_rate': 0.09364500054992378, 'subsample': 0.7640291937710504, 'colsample_bytree': 0.860941518839679, 'lambda_l1': 6.516772443105824, 'lambda_l2': 8.623810750548717}. Best is trial 13 with value: 0.878590920803101.\n",
      "[I 2025-01-10 13:02:05,037] Trial 21 finished with value: 0.8778920629044181 and parameters: {'num_leaves': 37, 'max_depth': 13, 'learning_rate': 0.1312097099617326, 'subsample': 0.8047421648086994, 'colsample_bytree': 0.7630867559629679, 'lambda_l1': 0.9287572608236818, 'lambda_l2': 4.8021763881642805}. Best is trial 13 with value: 0.878590920803101.\n",
      "[I 2025-01-10 13:02:16,445] Trial 22 finished with value: 0.880225334291727 and parameters: {'num_leaves': 28, 'max_depth': 14, 'learning_rate': 0.15810073123375362, 'subsample': 0.7469133084921817, 'colsample_bytree': 0.7927668681854012, 'lambda_l1': 0.8260978470847093, 'lambda_l2': 3.8013895658147416}. Best is trial 22 with value: 0.880225334291727.\n",
      "[I 2025-01-10 13:02:28,277] Trial 23 finished with value: 0.8776707333064032 and parameters: {'num_leaves': 28, 'max_depth': 11, 'learning_rate': 0.16112141013479386, 'subsample': 0.7421281906559204, 'colsample_bytree': 0.7990347008846606, 'lambda_l1': 3.1953948185649432, 'lambda_l2': 6.469137638339683}. Best is trial 22 with value: 0.880225334291727.\n",
      "[I 2025-01-10 13:02:39,950] Trial 24 finished with value: 0.8748036010418146 and parameters: {'num_leaves': 40, 'max_depth': 8, 'learning_rate': 0.18312295216836574, 'subsample': 0.7446329564377085, 'colsample_bytree': 0.8439726769246384, 'lambda_l1': 0.9231450326371101, 'lambda_l2': 5.129842522889478}. Best is trial 22 with value: 0.880225334291727.\n",
      "[I 2025-01-10 13:02:53,017] Trial 25 finished with value: 0.8763245605953457 and parameters: {'num_leaves': 54, 'max_depth': 12, 'learning_rate': 0.14596301508828677, 'subsample': 0.846118451053281, 'colsample_bytree': 0.7460688835065912, 'lambda_l1': 2.730666873712, 'lambda_l2': 2.0945292126040007}. Best is trial 22 with value: 0.880225334291727.\n",
      "[I 2025-01-10 13:03:06,504] Trial 26 finished with value: 0.8735597275782151 and parameters: {'num_leaves': 65, 'max_depth': 10, 'learning_rate': 0.0967380483793453, 'subsample': 0.7522622897567096, 'colsample_bytree': 0.7878064878274454, 'lambda_l1': 0.144868852442265, 'lambda_l2': 4.092256595163871}. Best is trial 22 with value: 0.880225334291727.\n",
      "[I 2025-01-10 13:03:19,217] Trial 27 finished with value: 0.8781316370135127 and parameters: {'num_leaves': 29, 'max_depth': 14, 'learning_rate': 0.13358985807214013, 'subsample': 0.7257883659413755, 'colsample_bytree': 0.7127580437865424, 'lambda_l1': 4.009080950124302, 'lambda_l2': 4.977047576280414}. Best is trial 22 with value: 0.880225334291727.\n",
      "[I 2025-01-10 13:03:31,203] Trial 28 finished with value: 0.8790420829825297 and parameters: {'num_leaves': 25, 'max_depth': 14, 'learning_rate': 0.15661945854926126, 'subsample': 0.7206804294547164, 'colsample_bytree': 0.7149521737806327, 'lambda_l1': 3.85425483384358, 'lambda_l2': 6.577339053822608}. Best is trial 22 with value: 0.880225334291727.\n",
      "[I 2025-01-10 13:03:43,171] Trial 29 finished with value: 0.8661376208979655 and parameters: {'num_leaves': 25, 'max_depth': 15, 'learning_rate': 0.06568838132856172, 'subsample': 0.705004853945415, 'colsample_bytree': 0.7209960919275437, 'lambda_l1': 5.944884847519086, 'lambda_l2': 6.996872073694891}. Best is trial 22 with value: 0.880225334291727.\n",
      "[I 2025-01-10 13:03:55,607] Trial 30 finished with value: 0.8777452134184229 and parameters: {'num_leaves': 41, 'max_depth': 14, 'learning_rate': 0.19973751968957237, 'subsample': 0.7001224029801852, 'colsample_bytree': 0.7023369667033207, 'lambda_l1': 4.580276966473258, 'lambda_l2': 8.781184196078634}. Best is trial 22 with value: 0.880225334291727.\n",
      "[I 2025-01-10 13:04:07,623] Trial 31 finished with value: 0.880062320082505 and parameters: {'num_leaves': 26, 'max_depth': 14, 'learning_rate': 0.15542102016173354, 'subsample': 0.7256851160320189, 'colsample_bytree': 0.7216716859953243, 'lambda_l1': 3.9901026702143714, 'lambda_l2': 4.5516929107172555}. Best is trial 22 with value: 0.880225334291727.\n",
      "[I 2025-01-10 13:04:18,989] Trial 32 finished with value: 0.8794669220723544 and parameters: {'num_leaves': 25, 'max_depth': 13, 'learning_rate': 0.17849782677164527, 'subsample': 0.7273925937912553, 'colsample_bytree': 0.7258446148688202, 'lambda_l1': 3.836591871026836, 'lambda_l2': 3.494919981212659}. Best is trial 22 with value: 0.880225334291727.\n",
      "[I 2025-01-10 13:04:30,787] Trial 33 finished with value: 0.8794949485401135 and parameters: {'num_leaves': 25, 'max_depth': 14, 'learning_rate': 0.18072952951062687, 'subsample': 0.7263532707730576, 'colsample_bytree': 0.7277594141271582, 'lambda_l1': 4.002976355016146, 'lambda_l2': 3.325141547754724}. Best is trial 22 with value: 0.880225334291727.\n",
      "[I 2025-01-10 13:04:42,026] Trial 34 finished with value: 0.8802641141886466 and parameters: {'num_leaves': 21, 'max_depth': 13, 'learning_rate': 0.1793399668830563, 'subsample': 0.7289290441819585, 'colsample_bytree': 0.7257258511188363, 'lambda_l1': 2.4518254725440594, 'lambda_l2': 3.4350784646508674}. Best is trial 34 with value: 0.8802641141886466.\n",
      "[I 2025-01-10 13:04:52,876] Trial 35 finished with value: 0.8801555226682121 and parameters: {'num_leaves': 21, 'max_depth': 15, 'learning_rate': 0.18928567161175786, 'subsample': 0.757521135734745, 'colsample_bytree': 0.7790890192093467, 'lambda_l1': 2.885807665405659, 'lambda_l2': 1.7235028179485508}. Best is trial 34 with value: 0.8802641141886466.\n",
      "[I 2025-01-10 13:05:03,386] Trial 36 finished with value: 0.8807346475458416 and parameters: {'num_leaves': 20, 'max_depth': 15, 'learning_rate': 0.1905441292440359, 'subsample': 0.7617415774808679, 'colsample_bytree': 0.7842587204022807, 'lambda_l1': 2.5531108613392197, 'lambda_l2': 0.08517806756088131}. Best is trial 36 with value: 0.8807346475458416.\n",
      "[I 2025-01-10 13:05:14,938] Trial 37 finished with value: 0.8789342119712428 and parameters: {'num_leaves': 22, 'max_depth': 15, 'learning_rate': 0.19162347288271775, 'subsample': 0.7617763617204947, 'colsample_bytree': 0.8344850149322656, 'lambda_l1': 2.6098135558080604, 'lambda_l2': 0.20323240894882422}. Best is trial 36 with value: 0.8807346475458416.\n",
      "[I 2025-01-10 13:05:25,543] Trial 38 finished with value: 0.8786424789972317 and parameters: {'num_leaves': 20, 'max_depth': 15, 'learning_rate': 0.17003495990159576, 'subsample': 0.7652871341525478, 'colsample_bytree': 0.8685543817919064, 'lambda_l1': 1.386360810473049, 'lambda_l2': 1.1377057310298446}. Best is trial 36 with value: 0.8807346475458416.\n",
      "[I 2025-01-10 13:05:37,358] Trial 39 finished with value: 0.8789524769491228 and parameters: {'num_leaves': 20, 'max_depth': 13, 'learning_rate': 0.1901847971463245, 'subsample': 0.9988180461180511, 'colsample_bytree': 0.9106293582076735, 'lambda_l1': 1.630714190996553, 'lambda_l2': 0.057015403459620195}. Best is trial 36 with value: 0.8807346475458416.\n",
      "[I 2025-01-10 13:05:48,010] Trial 40 finished with value: 0.8385191936060253 and parameters: {'num_leaves': 33, 'max_depth': 13, 'learning_rate': 0.013126325191473165, 'subsample': 0.7830855006250671, 'colsample_bytree': 0.7783549703788157, 'lambda_l1': 2.3535720794068076, 'lambda_l2': 1.5119392347221952}. Best is trial 36 with value: 0.8807346475458416.\n",
      "[I 2025-01-10 13:06:00,632] Trial 41 finished with value: 0.8797313369196132 and parameters: {'num_leaves': 28, 'max_depth': 15, 'learning_rate': 0.17259561929493522, 'subsample': 0.7435884561262506, 'colsample_bytree': 0.7535928404379334, 'lambda_l1': 3.3130830287232325, 'lambda_l2': 2.4959096525688653}. Best is trial 36 with value: 0.8807346475458416.\n",
      "[I 2025-01-10 13:06:12,510] Trial 42 finished with value: 0.8775732535153518 and parameters: {'num_leaves': 36, 'max_depth': 14, 'learning_rate': 0.16431387279880338, 'subsample': 0.7565274515609938, 'colsample_bytree': 0.7980095737246479, 'lambda_l1': 2.8328161137207015, 'lambda_l2': 0.5208725159429543}. Best is trial 36 with value: 0.8807346475458416.\n",
      "[I 2025-01-10 13:06:20,866] Trial 43 finished with value: 0.8663845307890905 and parameters: {'num_leaves': 20, 'max_depth': 3, 'learning_rate': 0.19081751694590557, 'subsample': 0.7813951572066525, 'colsample_bytree': 0.8265261033588015, 'lambda_l1': 2.026940399561288, 'lambda_l2': 1.4627188275634961}. Best is trial 36 with value: 0.8807346475458416.\n",
      "[I 2025-01-10 13:06:32,107] Trial 44 finished with value: 0.8796577890140554 and parameters: {'num_leaves': 26, 'max_depth': 14, 'learning_rate': 0.17866544089904637, 'subsample': 0.713519174526889, 'colsample_bytree': 0.7712154661038204, 'lambda_l1': 1.3106669468593481, 'lambda_l2': 3.1295018603328364}. Best is trial 36 with value: 0.8807346475458416.\n",
      "[I 2025-01-10 13:06:43,627] Trial 45 finished with value: 0.8783144658983205 and parameters: {'num_leaves': 31, 'max_depth': 12, 'learning_rate': 0.19856838867575416, 'subsample': 0.7387520206206065, 'colsample_bytree': 0.7041956940867606, 'lambda_l1': 3.069400859832939, 'lambda_l2': 4.415415703400447}. Best is trial 36 with value: 0.8807346475458416.\n",
      "[I 2025-01-10 13:06:55,005] Trial 46 finished with value: 0.8807389350774762 and parameters: {'num_leaves': 23, 'max_depth': 15, 'learning_rate': 0.1753766368235759, 'subsample': 0.7332850088150694, 'colsample_bytree': 0.7851260467608571, 'lambda_l1': 0.5945840471601576, 'lambda_l2': 2.6519086625399213}. Best is trial 46 with value: 0.8807389350774762.\n",
      "[I 2025-01-10 13:07:08,416] Trial 47 finished with value: 0.8625036641156482 and parameters: {'num_leaves': 78, 'max_depth': 15, 'learning_rate': 0.04891187869296431, 'subsample': 0.9419810824778416, 'colsample_bytree': 0.7846963556654897, 'lambda_l1': 0.5977246764905617, 'lambda_l2': 2.5674583941007283}. Best is trial 46 with value: 0.8807389350774762.\n",
      "[I 2025-01-10 13:07:20,340] Trial 48 finished with value: 0.8734050080375871 and parameters: {'num_leaves': 39, 'max_depth': 15, 'learning_rate': 0.18694755820866527, 'subsample': 0.7730602053699465, 'colsample_bytree': 0.9965531521589488, 'lambda_l1': 0.5266378487679857, 'lambda_l2': 3.7478203805123353}. Best is trial 46 with value: 0.8807389350774762.\n",
      "[I 2025-01-10 13:07:33,144] Trial 49 finished with value: 0.8756626156325891 and parameters: {'num_leaves': 45, 'max_depth': 12, 'learning_rate': 0.1730607630263307, 'subsample': 0.7330778914005495, 'colsample_bytree': 0.804200821379583, 'lambda_l1': 1.7907956313763078, 'lambda_l2': 2.146807233890682}. Best is trial 46 with value: 0.8807389350774762.\n"
     ]
    },
    {
     "ename": "AttributeError",
     "evalue": "'Study' object has no attribute 'best_params_'",
     "output_type": "error",
     "traceback": [
      "\u001b[1;31m---------------------------------------------------------------------------\u001b[0m",
      "\u001b[1;31mAttributeError\u001b[0m                            Traceback (most recent call last)",
      "\u001b[1;32m~\\AppData\\Local\\Temp\\ipykernel_17184\\576528284.py\u001b[0m in \u001b[0;36m<cell line: 47>\u001b[1;34m()\u001b[0m\n\u001b[0;32m     45\u001b[0m \u001b[0mstudy\u001b[0m\u001b[1;33m.\u001b[0m\u001b[0moptimize\u001b[0m\u001b[1;33m(\u001b[0m\u001b[0mobjective\u001b[0m\u001b[1;33m,\u001b[0m \u001b[0mn_trials\u001b[0m\u001b[1;33m=\u001b[0m\u001b[1;36m50\u001b[0m\u001b[1;33m)\u001b[0m\u001b[1;33m\u001b[0m\u001b[1;33m\u001b[0m\u001b[0m\n\u001b[0;32m     46\u001b[0m \u001b[1;33m\u001b[0m\u001b[0m\n\u001b[1;32m---> 47\u001b[1;33m \u001b[0mprint\u001b[0m\u001b[1;33m(\u001b[0m\u001b[1;34m\"Best Parameters:\"\u001b[0m\u001b[1;33m,\u001b[0m \u001b[0mstudy\u001b[0m\u001b[1;33m.\u001b[0m\u001b[0mbest_params_\u001b[0m\u001b[1;33m)\u001b[0m\u001b[1;33m\u001b[0m\u001b[1;33m\u001b[0m\u001b[0m\n\u001b[0m",
      "\u001b[1;31mAttributeError\u001b[0m: 'Study' object has no attribute 'best_params_'"
     ]
    }
   ],
   "source": [
    "import optuna\n",
    "from lightgbm import LGBMClassifier as lgb\n",
    "from sklearn.model_selection import train_test_split\n",
    "from imblearn.pipeline import Pipeline as ImbPipeline\n",
    "from imblearn.over_sampling import SMOTE\n",
    "\n",
    "def objective(trial):\n",
    "    params = {\n",
    "        'objective': 'binary',\n",
    "        'metric': 'auc',\n",
    "        'boosting_type': 'gbdt',\n",
    "        'num_leaves': trial.suggest_int('num_leaves', 20, 100),\n",
    "        'max_depth': trial.suggest_int('max_depth', 3, 15),\n",
    "        'learning_rate': trial.suggest_float('learning_rate', 0.01, 0.2),\n",
    "        'subsample': trial.suggest_float('subsample', 0.7, 1.0),\n",
    "        'colsample_bytree': trial.suggest_float('colsample_bytree', 0.7, 1.0),\n",
    "        'lambda_l1': trial.suggest_float('lambda_l1', 0.0, 10.0),\n",
    "        'lambda_l2': trial.suggest_float('lambda_l2', 0.0, 10.0),\n",
    "        'scale_pos_weight': len(y_train[y_train == 0]) / len(y_train[y_train == 1])\n",
    "    }\n",
    "    \n",
    "    # --- Build Pipeline: SMOTE + Classifier ---\n",
    "    model = lgb(random_state = RANDOM_STATE)\n",
    "    model.set_params(**params)\n",
    "    smote_pipeline = ImbPipeline([\n",
    "        \n",
    "        ('resampler', SMOTE()),\n",
    "        ('classifier', model)\n",
    "    ])\n",
    "    # --- Cross-Validation ---\n",
    "    skf = StratifiedKFold(n_splits=3, shuffle= True, random_state=RANDOM_STATE)\n",
    "    scorer = make_scorer(roc_auc_score, needs_proba=True)\n",
    "    scores = cross_val_score(\n",
    "        smote_pipeline,\n",
    "        X_train_preprocessed,\n",
    "        y_train,\n",
    "        scoring= scorer,\n",
    "        cv= skf,\n",
    "        n_jobs= -1\n",
    "    )\n",
    "    \n",
    "    return scores.mean()\n",
    "\n",
    "study = optuna.create_study(direction='maximize')\n",
    "study.optimize(objective, n_trials=50)\n"
   ]
  },
  {
   "cell_type": "code",
   "execution_count": 39,
   "metadata": {},
   "outputs": [
    {
     "name": "stdout",
     "output_type": "stream",
     "text": [
      "Best Parameters: {'num_leaves': 23, 'max_depth': 15, 'learning_rate': 0.1753766368235759, 'subsample': 0.7332850088150694, 'colsample_bytree': 0.7851260467608571, 'lambda_l1': 0.5945840471601576, 'lambda_l2': 2.6519086625399213}\n"
     ]
    }
   ],
   "source": [
    "print(\"Best Parameters:\", study.best_params)"
   ]
  },
  {
   "cell_type": "code",
   "execution_count": null,
   "metadata": {},
   "outputs": [],
   "source": []
  }
 ],
 "metadata": {
  "kernelspec": {
   "display_name": "Python 3",
   "language": "python",
   "name": "python3"
  },
  "language_info": {
   "codemirror_mode": {
    "name": "ipython",
    "version": 3
   },
   "file_extension": ".py",
   "mimetype": "text/x-python",
   "name": "python",
   "nbconvert_exporter": "python",
   "pygments_lexer": "ipython3",
   "version": "3.8.0"
  }
 },
 "nbformat": 4,
 "nbformat_minor": 2
}
