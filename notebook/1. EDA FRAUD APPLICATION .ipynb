{
 "cells": [
  {
   "attachments": {},
   "cell_type": "markdown",
   "id": "1e233234",
   "metadata": {},
   "source": [
    "## Credit Fraud Predictor\n"
   ]
  },
  {
   "cell_type": "markdown",
   "id": "62e05101",
   "metadata": {},
   "source": [
    "#### Life cycle of Machine learning Project\n",
    "\n",
    "- Understanding the Problem Statement\n",
    "- Data Collection\n",
    "- Data Checks to perform\n",
    "- Exploratory data analysis\n",
    "- Data Pre-Processing\n",
    "- Model Training\n",
    "- Choose best model"
   ]
  },
  {
   "cell_type": "markdown",
   "id": "dfcea981",
   "metadata": {},
   "source": [
    "### 1) Problem statement\n",
    "- Evaluating machine learning models, particularly in terms of fairness and performance, under various dynamic and biased conditions\n",
    "\n",
    "\n",
    "### 2) Data Collection\n",
    "- From: Bank Account Fraud Dataset Suite (NeurIPS 2022)\n",
    "- Dataset Source - https://www.kaggle.com/datasets/sgpjesus/bank-account-fraud-dataset-neurips-2022/data \n",
    "\n",
    "Each dataset is composed of:\n",
    "- 1 million instances;\n",
    "- 30 realistic features used in the fraud detection use-case;\n",
    "- A column of “month”, providing temporal information about the dataset;\n",
    "- Protected attributes, (age group, employment status and % income)."
   ]
  },
  {
   "cell_type": "markdown",
   "id": "15b1355f",
   "metadata": {},
   "source": [
    "### 2.1 Import Data and Required Packages\n",
    "####  Importing Pandas, Numpy, Matplotlib, Seaborn and Warings Library."
   ]
  },
  {
   "cell_type": "code",
   "execution_count": 2,
   "id": "7eaae1d7",
   "metadata": {},
   "outputs": [],
   "source": [
    "import numpy as np\n",
    "import pandas as pd\n",
    "import seaborn as sns\n",
    "import matplotlib.pyplot as plt\n",
    "%matplotlib inline\n",
    "from sklearn.model_selection import GridSearchCV, StratifiedKFold\n",
    "import warnings\n",
    "warnings.filterwarnings('ignore') "
   ]
  },
  {
   "cell_type": "code",
   "execution_count": 3,
   "id": "9113fe29",
   "metadata": {},
   "outputs": [],
   "source": [
    "from catboost import CatBoostClassifier"
   ]
  },
  {
   "cell_type": "markdown",
   "id": "3caeb0bb",
   "metadata": {},
   "source": [
    "#### Import the CSV Data as Pandas DataFrame"
   ]
  },
  {
   "cell_type": "code",
   "execution_count": 4,
   "id": "57907087",
   "metadata": {},
   "outputs": [],
   "source": [
    "df = pd.read_csv('data/fraud.csv')"
   ]
  },
  {
   "cell_type": "markdown",
   "id": "92c8fd8a",
   "metadata": {},
   "source": [
    "#### Show Top 5 Records"
   ]
  },
  {
   "cell_type": "code",
   "execution_count": 5,
   "id": "7d1a2a0b",
   "metadata": {},
   "outputs": [
    {
     "data": {
      "text/html": [
       "<div>\n",
       "<style scoped>\n",
       "    .dataframe tbody tr th:only-of-type {\n",
       "        vertical-align: middle;\n",
       "    }\n",
       "\n",
       "    .dataframe tbody tr th {\n",
       "        vertical-align: top;\n",
       "    }\n",
       "\n",
       "    .dataframe thead th {\n",
       "        text-align: right;\n",
       "    }\n",
       "</style>\n",
       "<table border=\"1\" class=\"dataframe\">\n",
       "  <thead>\n",
       "    <tr style=\"text-align: right;\">\n",
       "      <th></th>\n",
       "      <th>fraud_bool</th>\n",
       "      <th>income</th>\n",
       "      <th>name_email_similarity</th>\n",
       "      <th>prev_address_months_count</th>\n",
       "      <th>current_address_months_count</th>\n",
       "      <th>customer_age</th>\n",
       "      <th>days_since_request</th>\n",
       "      <th>intended_balcon_amount</th>\n",
       "      <th>payment_type</th>\n",
       "      <th>zip_count_4w</th>\n",
       "      <th>...</th>\n",
       "      <th>has_other_cards</th>\n",
       "      <th>proposed_credit_limit</th>\n",
       "      <th>foreign_request</th>\n",
       "      <th>source</th>\n",
       "      <th>session_length_in_minutes</th>\n",
       "      <th>device_os</th>\n",
       "      <th>keep_alive_session</th>\n",
       "      <th>device_distinct_emails_8w</th>\n",
       "      <th>device_fraud_count</th>\n",
       "      <th>month</th>\n",
       "    </tr>\n",
       "  </thead>\n",
       "  <tbody>\n",
       "    <tr>\n",
       "      <th>0</th>\n",
       "      <td>0</td>\n",
       "      <td>0.3</td>\n",
       "      <td>0.986506</td>\n",
       "      <td>-1</td>\n",
       "      <td>25</td>\n",
       "      <td>40</td>\n",
       "      <td>0.006735</td>\n",
       "      <td>102.453711</td>\n",
       "      <td>AA</td>\n",
       "      <td>1059</td>\n",
       "      <td>...</td>\n",
       "      <td>0</td>\n",
       "      <td>1500.0</td>\n",
       "      <td>0</td>\n",
       "      <td>INTERNET</td>\n",
       "      <td>16.224843</td>\n",
       "      <td>linux</td>\n",
       "      <td>1</td>\n",
       "      <td>1</td>\n",
       "      <td>0</td>\n",
       "      <td>0</td>\n",
       "    </tr>\n",
       "    <tr>\n",
       "      <th>1</th>\n",
       "      <td>0</td>\n",
       "      <td>0.8</td>\n",
       "      <td>0.617426</td>\n",
       "      <td>-1</td>\n",
       "      <td>89</td>\n",
       "      <td>20</td>\n",
       "      <td>0.010095</td>\n",
       "      <td>-0.849551</td>\n",
       "      <td>AD</td>\n",
       "      <td>1658</td>\n",
       "      <td>...</td>\n",
       "      <td>0</td>\n",
       "      <td>1500.0</td>\n",
       "      <td>0</td>\n",
       "      <td>INTERNET</td>\n",
       "      <td>3.363854</td>\n",
       "      <td>other</td>\n",
       "      <td>1</td>\n",
       "      <td>1</td>\n",
       "      <td>0</td>\n",
       "      <td>0</td>\n",
       "    </tr>\n",
       "    <tr>\n",
       "      <th>2</th>\n",
       "      <td>0</td>\n",
       "      <td>0.8</td>\n",
       "      <td>0.996707</td>\n",
       "      <td>9</td>\n",
       "      <td>14</td>\n",
       "      <td>40</td>\n",
       "      <td>0.012316</td>\n",
       "      <td>-1.490386</td>\n",
       "      <td>AB</td>\n",
       "      <td>1095</td>\n",
       "      <td>...</td>\n",
       "      <td>0</td>\n",
       "      <td>200.0</td>\n",
       "      <td>0</td>\n",
       "      <td>INTERNET</td>\n",
       "      <td>22.730559</td>\n",
       "      <td>windows</td>\n",
       "      <td>0</td>\n",
       "      <td>1</td>\n",
       "      <td>0</td>\n",
       "      <td>0</td>\n",
       "    </tr>\n",
       "    <tr>\n",
       "      <th>3</th>\n",
       "      <td>0</td>\n",
       "      <td>0.6</td>\n",
       "      <td>0.475100</td>\n",
       "      <td>11</td>\n",
       "      <td>14</td>\n",
       "      <td>30</td>\n",
       "      <td>0.006991</td>\n",
       "      <td>-1.863101</td>\n",
       "      <td>AB</td>\n",
       "      <td>3483</td>\n",
       "      <td>...</td>\n",
       "      <td>0</td>\n",
       "      <td>200.0</td>\n",
       "      <td>0</td>\n",
       "      <td>INTERNET</td>\n",
       "      <td>15.215816</td>\n",
       "      <td>linux</td>\n",
       "      <td>1</td>\n",
       "      <td>1</td>\n",
       "      <td>0</td>\n",
       "      <td>0</td>\n",
       "    </tr>\n",
       "    <tr>\n",
       "      <th>4</th>\n",
       "      <td>0</td>\n",
       "      <td>0.9</td>\n",
       "      <td>0.842307</td>\n",
       "      <td>-1</td>\n",
       "      <td>29</td>\n",
       "      <td>40</td>\n",
       "      <td>5.742626</td>\n",
       "      <td>47.152498</td>\n",
       "      <td>AA</td>\n",
       "      <td>2339</td>\n",
       "      <td>...</td>\n",
       "      <td>0</td>\n",
       "      <td>200.0</td>\n",
       "      <td>0</td>\n",
       "      <td>INTERNET</td>\n",
       "      <td>3.743048</td>\n",
       "      <td>other</td>\n",
       "      <td>0</td>\n",
       "      <td>1</td>\n",
       "      <td>0</td>\n",
       "      <td>0</td>\n",
       "    </tr>\n",
       "  </tbody>\n",
       "</table>\n",
       "<p>5 rows × 32 columns</p>\n",
       "</div>"
      ],
      "text/plain": [
       "   fraud_bool  income  name_email_similarity  prev_address_months_count  \\\n",
       "0           0     0.3               0.986506                         -1   \n",
       "1           0     0.8               0.617426                         -1   \n",
       "2           0     0.8               0.996707                          9   \n",
       "3           0     0.6               0.475100                         11   \n",
       "4           0     0.9               0.842307                         -1   \n",
       "\n",
       "   current_address_months_count  customer_age  days_since_request  \\\n",
       "0                            25            40            0.006735   \n",
       "1                            89            20            0.010095   \n",
       "2                            14            40            0.012316   \n",
       "3                            14            30            0.006991   \n",
       "4                            29            40            5.742626   \n",
       "\n",
       "   intended_balcon_amount payment_type  zip_count_4w  ...  has_other_cards  \\\n",
       "0              102.453711           AA          1059  ...                0   \n",
       "1               -0.849551           AD          1658  ...                0   \n",
       "2               -1.490386           AB          1095  ...                0   \n",
       "3               -1.863101           AB          3483  ...                0   \n",
       "4               47.152498           AA          2339  ...                0   \n",
       "\n",
       "   proposed_credit_limit  foreign_request    source  \\\n",
       "0                 1500.0                0  INTERNET   \n",
       "1                 1500.0                0  INTERNET   \n",
       "2                  200.0                0  INTERNET   \n",
       "3                  200.0                0  INTERNET   \n",
       "4                  200.0                0  INTERNET   \n",
       "\n",
       "   session_length_in_minutes device_os  keep_alive_session  \\\n",
       "0                  16.224843     linux                   1   \n",
       "1                   3.363854     other                   1   \n",
       "2                  22.730559   windows                   0   \n",
       "3                  15.215816     linux                   1   \n",
       "4                   3.743048     other                   0   \n",
       "\n",
       "   device_distinct_emails_8w device_fraud_count  month  \n",
       "0                          1                  0      0  \n",
       "1                          1                  0      0  \n",
       "2                          1                  0      0  \n",
       "3                          1                  0      0  \n",
       "4                          1                  0      0  \n",
       "\n",
       "[5 rows x 32 columns]"
      ]
     },
     "execution_count": 5,
     "metadata": {},
     "output_type": "execute_result"
    }
   ],
   "source": [
    "df.head()"
   ]
  },
  {
   "cell_type": "code",
   "execution_count": 6,
   "id": "650c7ced",
   "metadata": {},
   "outputs": [
    {
     "data": {
      "text/plain": [
       "array([1500.,  200.,  500., 1000.,  990.,  510., 2000.,  210.,  490.,\n",
       "        190., 1900., 2100.])"
      ]
     },
     "execution_count": 6,
     "metadata": {},
     "output_type": "execute_result"
    }
   ],
   "source": [
    "df['proposed_credit_limit'].unique()"
   ]
  },
  {
   "cell_type": "code",
   "execution_count": 7,
   "id": "e8c2662e",
   "metadata": {},
   "outputs": [
    {
     "data": {
      "text/plain": [
       "Index(['fraud_bool', 'income', 'name_email_similarity',\n",
       "       'prev_address_months_count', 'current_address_months_count',\n",
       "       'customer_age', 'days_since_request', 'intended_balcon_amount',\n",
       "       'payment_type', 'zip_count_4w', 'velocity_6h', 'velocity_24h',\n",
       "       'velocity_4w', 'bank_branch_count_8w',\n",
       "       'date_of_birth_distinct_emails_4w', 'employment_status',\n",
       "       'credit_risk_score', 'email_is_free', 'housing_status',\n",
       "       'phone_home_valid', 'phone_mobile_valid', 'bank_months_count',\n",
       "       'has_other_cards', 'proposed_credit_limit', 'foreign_request', 'source',\n",
       "       'session_length_in_minutes', 'device_os', 'keep_alive_session',\n",
       "       'device_distinct_emails_8w', 'device_fraud_count', 'month'],\n",
       "      dtype='object')"
      ]
     },
     "execution_count": 7,
     "metadata": {},
     "output_type": "execute_result"
    }
   ],
   "source": [
    "df.columns"
   ]
  },
  {
   "cell_type": "markdown",
   "id": "56a49220",
   "metadata": {},
   "source": [
    "#### Shape of the dataset"
   ]
  },
  {
   "cell_type": "code",
   "execution_count": 8,
   "id": "417e5820",
   "metadata": {},
   "outputs": [
    {
     "data": {
      "text/plain": [
       "(1000000, 32)"
      ]
     },
     "execution_count": 8,
     "metadata": {},
     "output_type": "execute_result"
    }
   ],
   "source": [
    "df.shape"
   ]
  },
  {
   "cell_type": "code",
   "execution_count": 9,
   "id": "2bb2000c",
   "metadata": {},
   "outputs": [
    {
     "name": "stdout",
     "output_type": "stream",
     "text": [
      "Fraud Applications: 11029 \n",
      "Non Fraud Applications: 988971\n",
      "Fraction of fraud and non fraud: 0.011151995356790038\n"
     ]
    }
   ],
   "source": [
    "# Determin number of fraud cases and plot\n",
    "\n",
    "fraud = df[df[\"fraud_bool\"] == 1]\n",
    "valid = df[df[\"fraud_bool\"] == 0]\n",
    "\n",
    "print(f\"Fraud Applications: {len(fraud)} \")\n",
    "print(f\"Non Fraud Applications: {len(valid)}\")\n",
    "print(f\"Fraction of fraud and non fraud: {len(fraud)/ len(valid)}\")"
   ]
  },
  {
   "cell_type": "code",
   "execution_count": 10,
   "id": "560bf4c6",
   "metadata": {},
   "outputs": [
    {
     "data": {
      "image/png": "[encoded data removed]",
      "text/plain": [
       "<Figure size 800x600 with 1 Axes>"
      ]
     },
     "metadata": {},
     "output_type": "display_data"
    }
   ],
   "source": [
    "import matplotlib.pyplot as plt\n",
    "import seaborn as sns\n",
    "# Set the aesthetic style of the plots\n",
    "sns.set(style=\"whitegrid\")\n",
    "\n",
    "# Create a figure and axis\n",
    "plt.figure(figsize=(8, 6))\n",
    "\n",
    "# Create a count plot\n",
    "sns.countplot(x='fraud_bool', data=df, palette=['skyblue', 'lightcoral'])\n",
    "\n",
    "# Customize the plot\n",
    "plt.title('Count of Fraud vs. Non-Fraud Applications', fontsize=16)\n",
    "plt.xlabel('Fraud Status', fontsize=14)\n",
    "plt.ylabel('Number of Applications', fontsize=14)\n",
    "\n",
    "# Show the plot\n",
    "plt.show()\n"
   ]
  },
  {
   "cell_type": "markdown",
   "id": "041aa39d",
   "metadata": {},
   "source": [
    "### 2.2 Dataset information"
   ]
  },
  {
   "cell_type": "markdown",
   "id": "7e3cff9d",
   "metadata": {},
   "source": [
    "#### Read from datasheet.pdf"
   ]
  },
  {
   "cell_type": "markdown",
   "id": "27c4b61b",
   "metadata": {},
   "source": [
    "### 3. Data Checks to perform\n",
    "\n",
    "- Check Missing values\n",
    "- Check Duplicates\n",
    "- Check data type\n",
    "- Check the number of unique values of each column\n",
    "- Check statistics of data set\n",
    "- Check various categories present in the different categorical column"
   ]
  },
  {
   "cell_type": "markdown",
   "id": "c31d4123",
   "metadata": {},
   "source": [
    "### 3.1 Check Missing values"
   ]
  },
  {
   "cell_type": "code",
   "execution_count": 11,
   "id": "707d6a7b",
   "metadata": {},
   "outputs": [
    {
     "data": {
      "text/plain": [
       "fraud_bool                          0\n",
       "income                              0\n",
       "name_email_similarity               0\n",
       "prev_address_months_count           0\n",
       "current_address_months_count        0\n",
       "customer_age                        0\n",
       "days_since_request                  0\n",
       "intended_balcon_amount              0\n",
       "payment_type                        0\n",
       "zip_count_4w                        0\n",
       "velocity_6h                         0\n",
       "velocity_24h                        0\n",
       "velocity_4w                         0\n",
       "bank_branch_count_8w                0\n",
       "date_of_birth_distinct_emails_4w    0\n",
       "employment_status                   0\n",
       "credit_risk_score                   0\n",
       "email_is_free                       0\n",
       "housing_status                      0\n",
       "phone_home_valid                    0\n",
       "phone_mobile_valid                  0\n",
       "bank_months_count                   0\n",
       "has_other_cards                     0\n",
       "proposed_credit_limit               0\n",
       "foreign_request                     0\n",
       "source                              0\n",
       "session_length_in_minutes           0\n",
       "device_os                           0\n",
       "keep_alive_session                  0\n",
       "device_distinct_emails_8w           0\n",
       "device_fraud_count                  0\n",
       "month                               0\n",
       "dtype: int64"
      ]
     },
     "execution_count": 11,
     "metadata": {},
     "output_type": "execute_result"
    }
   ],
   "source": [
    "df.isna().sum()"
   ]
  },
  {
   "cell_type": "markdown",
   "id": "ce8f7b83",
   "metadata": {},
   "source": [
    "#### There are no missing values in the data set"
   ]
  },
  {
   "cell_type": "markdown",
   "id": "5840ff7f",
   "metadata": {},
   "source": [
    "### 3.2 Check Duplicates"
   ]
  },
  {
   "cell_type": "code",
   "execution_count": 12,
   "id": "ae16686e",
   "metadata": {},
   "outputs": [
    {
     "data": {
      "text/plain": [
       "0"
      ]
     },
     "execution_count": 12,
     "metadata": {},
     "output_type": "execute_result"
    }
   ],
   "source": [
    "df.duplicated().sum()"
   ]
  },
  {
   "cell_type": "markdown",
   "id": "e5d7ae8e",
   "metadata": {},
   "source": [
    "#### There are no duplicates  values in the data set"
   ]
  },
  {
   "cell_type": "markdown",
   "id": "30dfacc8",
   "metadata": {},
   "source": [
    "### 3.3 Check data types"
   ]
  },
  {
   "cell_type": "code",
   "execution_count": 13,
   "id": "25f95bc8",
   "metadata": {},
   "outputs": [
    {
     "name": "stdout",
     "output_type": "stream",
     "text": [
      "<class 'pandas.core.frame.DataFrame'>\n",
      "RangeIndex: 1000000 entries, 0 to 999999\n",
      "Data columns (total 32 columns):\n",
      " #   Column                            Non-Null Count    Dtype  \n",
      "---  ------                            --------------    -----  \n",
      " 0   fraud_bool                        1000000 non-null  int64  \n",
      " 1   income                            1000000 non-null  float64\n",
      " 2   name_email_similarity             1000000 non-null  float64\n",
      " 3   prev_address_months_count         1000000 non-null  int64  \n",
      " 4   current_address_months_count      1000000 non-null  int64  \n",
      " 5   customer_age                      1000000 non-null  int64  \n",
      " 6   days_since_request                1000000 non-null  float64\n",
      " 7   intended_balcon_amount            1000000 non-null  float64\n",
      " 8   payment_type                      1000000 non-null  object \n",
      " 9   zip_count_4w                      1000000 non-null  int64  \n",
      " 10  velocity_6h                       1000000 non-null  float64\n",
      " 11  velocity_24h                      1000000 non-null  float64\n",
      " 12  velocity_4w                       1000000 non-null  float64\n",
      " 13  bank_branch_count_8w              1000000 non-null  int64  \n",
      " 14  date_of_birth_distinct_emails_4w  1000000 non-null  int64  \n",
      " 15  employment_status                 1000000 non-null  object \n",
      " 16  credit_risk_score                 1000000 non-null  int64  \n",
      " 17  email_is_free                     1000000 non-null  int64  \n",
      " 18  housing_status                    1000000 non-null  object \n",
      " 19  phone_home_valid                  1000000 non-null  int64  \n",
      " 20  phone_mobile_valid                1000000 non-null  int64  \n",
      " 21  bank_months_count                 1000000 non-null  int64  \n",
      " 22  has_other_cards                   1000000 non-null  int64  \n",
      " 23  proposed_credit_limit             1000000 non-null  float64\n",
      " 24  foreign_request                   1000000 non-null  int64  \n",
      " 25  source                            1000000 non-null  object \n",
      " 26  session_length_in_minutes         1000000 non-null  float64\n",
      " 27  device_os                         1000000 non-null  object \n",
      " 28  keep_alive_session                1000000 non-null  int64  \n",
      " 29  device_distinct_emails_8w         1000000 non-null  int64  \n",
      " 30  device_fraud_count                1000000 non-null  int64  \n",
      " 31  month                             1000000 non-null  int64  \n",
      "dtypes: float64(9), int64(18), object(5)\n",
      "memory usage: 244.1+ MB\n"
     ]
    }
   ],
   "source": [
    "# Check Null and Dtypes\n",
    "df.info()"
   ]
  },
  {
   "cell_type": "markdown",
   "id": "0dbbf5b4",
   "metadata": {},
   "source": [
    "### 3.4 Checking the number of unique values of each column"
   ]
  },
  {
   "cell_type": "code",
   "execution_count": 14,
   "id": "2c2b61b6",
   "metadata": {},
   "outputs": [
    {
     "data": {
      "text/plain": [
       "fraud_bool                               2\n",
       "income                                   9\n",
       "name_email_similarity               998861\n",
       "prev_address_months_count              374\n",
       "current_address_months_count           423\n",
       "customer_age                             9\n",
       "days_since_request                  989330\n",
       "intended_balcon_amount              994971\n",
       "payment_type                             5\n",
       "zip_count_4w                          6306\n",
       "velocity_6h                         998687\n",
       "velocity_24h                        998940\n",
       "velocity_4w                         998318\n",
       "bank_branch_count_8w                  2326\n",
       "date_of_birth_distinct_emails_4w        40\n",
       "employment_status                        7\n",
       "credit_risk_score                      551\n",
       "email_is_free                            2\n",
       "housing_status                           7\n",
       "phone_home_valid                         2\n",
       "phone_mobile_valid                       2\n",
       "bank_months_count                       33\n",
       "has_other_cards                          2\n",
       "proposed_credit_limit                   12\n",
       "foreign_request                          2\n",
       "source                                   2\n",
       "session_length_in_minutes           994887\n",
       "device_os                                5\n",
       "keep_alive_session                       2\n",
       "device_distinct_emails_8w                4\n",
       "device_fraud_count                       1\n",
       "month                                    8\n",
       "dtype: int64"
      ]
     },
     "execution_count": 14,
     "metadata": {},
     "output_type": "execute_result"
    }
   ],
   "source": [
    "df.nunique()"
   ]
  },
  {
   "cell_type": "markdown",
   "id": "a4f6b022",
   "metadata": {},
   "source": [
    "### 3.5 Check statistics of data set"
   ]
  },
  {
   "cell_type": "code",
   "execution_count": 15,
   "id": "76c608dc",
   "metadata": {},
   "outputs": [
    {
     "data": {
      "text/html": [
       "<div>\n",
       "<style scoped>\n",
       "    .dataframe tbody tr th:only-of-type {\n",
       "        vertical-align: middle;\n",
       "    }\n",
       "\n",
       "    .dataframe tbody tr th {\n",
       "        vertical-align: top;\n",
       "    }\n",
       "\n",
       "    .dataframe thead th {\n",
       "        text-align: right;\n",
       "    }\n",
       "</style>\n",
       "<table border=\"1\" class=\"dataframe\">\n",
       "  <thead>\n",
       "    <tr style=\"text-align: right;\">\n",
       "      <th></th>\n",
       "      <th>fraud_bool</th>\n",
       "      <th>income</th>\n",
       "      <th>name_email_similarity</th>\n",
       "      <th>prev_address_months_count</th>\n",
       "      <th>current_address_months_count</th>\n",
       "      <th>customer_age</th>\n",
       "      <th>days_since_request</th>\n",
       "      <th>intended_balcon_amount</th>\n",
       "      <th>zip_count_4w</th>\n",
       "      <th>velocity_6h</th>\n",
       "      <th>...</th>\n",
       "      <th>phone_mobile_valid</th>\n",
       "      <th>bank_months_count</th>\n",
       "      <th>has_other_cards</th>\n",
       "      <th>proposed_credit_limit</th>\n",
       "      <th>foreign_request</th>\n",
       "      <th>session_length_in_minutes</th>\n",
       "      <th>keep_alive_session</th>\n",
       "      <th>device_distinct_emails_8w</th>\n",
       "      <th>device_fraud_count</th>\n",
       "      <th>month</th>\n",
       "    </tr>\n",
       "  </thead>\n",
       "  <tbody>\n",
       "    <tr>\n",
       "      <th>count</th>\n",
       "      <td>1000000.000000</td>\n",
       "      <td>1000000.000000</td>\n",
       "      <td>1000000.000000</td>\n",
       "      <td>1000000.000000</td>\n",
       "      <td>1000000.000000</td>\n",
       "      <td>1000000.000000</td>\n",
       "      <td>1.000000e+06</td>\n",
       "      <td>1000000.000000</td>\n",
       "      <td>1000000.000000</td>\n",
       "      <td>1000000.000000</td>\n",
       "      <td>...</td>\n",
       "      <td>1000000.000000</td>\n",
       "      <td>1000000.000000</td>\n",
       "      <td>1000000.000000</td>\n",
       "      <td>1000000.000000</td>\n",
       "      <td>1000000.000000</td>\n",
       "      <td>1000000.000000</td>\n",
       "      <td>1000000.000000</td>\n",
       "      <td>1000000.000000</td>\n",
       "      <td>1000000.0</td>\n",
       "      <td>1000000.000000</td>\n",
       "    </tr>\n",
       "    <tr>\n",
       "      <th>mean</th>\n",
       "      <td>0.011029</td>\n",
       "      <td>0.562696</td>\n",
       "      <td>0.493694</td>\n",
       "      <td>16.718568</td>\n",
       "      <td>86.587867</td>\n",
       "      <td>33.689080</td>\n",
       "      <td>1.025705e+00</td>\n",
       "      <td>8.661499</td>\n",
       "      <td>1572.692049</td>\n",
       "      <td>5665.296605</td>\n",
       "      <td>...</td>\n",
       "      <td>0.889676</td>\n",
       "      <td>10.839303</td>\n",
       "      <td>0.222988</td>\n",
       "      <td>515.851010</td>\n",
       "      <td>0.025242</td>\n",
       "      <td>7.544940</td>\n",
       "      <td>0.576947</td>\n",
       "      <td>1.018312</td>\n",
       "      <td>0.0</td>\n",
       "      <td>3.288674</td>\n",
       "    </tr>\n",
       "    <tr>\n",
       "      <th>std</th>\n",
       "      <td>0.104438</td>\n",
       "      <td>0.290343</td>\n",
       "      <td>0.289125</td>\n",
       "      <td>44.046230</td>\n",
       "      <td>88.406599</td>\n",
       "      <td>12.025799</td>\n",
       "      <td>5.381835e+00</td>\n",
       "      <td>20.236155</td>\n",
       "      <td>1005.374565</td>\n",
       "      <td>3009.380665</td>\n",
       "      <td>...</td>\n",
       "      <td>0.313293</td>\n",
       "      <td>12.116875</td>\n",
       "      <td>0.416251</td>\n",
       "      <td>487.559902</td>\n",
       "      <td>0.156859</td>\n",
       "      <td>8.033106</td>\n",
       "      <td>0.494044</td>\n",
       "      <td>0.180761</td>\n",
       "      <td>0.0</td>\n",
       "      <td>2.209994</td>\n",
       "    </tr>\n",
       "    <tr>\n",
       "      <th>min</th>\n",
       "      <td>0.000000</td>\n",
       "      <td>0.100000</td>\n",
       "      <td>0.000001</td>\n",
       "      <td>-1.000000</td>\n",
       "      <td>-1.000000</td>\n",
       "      <td>10.000000</td>\n",
       "      <td>4.036860e-09</td>\n",
       "      <td>-15.530555</td>\n",
       "      <td>1.000000</td>\n",
       "      <td>-170.603072</td>\n",
       "      <td>...</td>\n",
       "      <td>0.000000</td>\n",
       "      <td>-1.000000</td>\n",
       "      <td>0.000000</td>\n",
       "      <td>190.000000</td>\n",
       "      <td>0.000000</td>\n",
       "      <td>-1.000000</td>\n",
       "      <td>0.000000</td>\n",
       "      <td>-1.000000</td>\n",
       "      <td>0.0</td>\n",
       "      <td>0.000000</td>\n",
       "    </tr>\n",
       "    <tr>\n",
       "      <th>25%</th>\n",
       "      <td>0.000000</td>\n",
       "      <td>0.300000</td>\n",
       "      <td>0.225216</td>\n",
       "      <td>-1.000000</td>\n",
       "      <td>19.000000</td>\n",
       "      <td>20.000000</td>\n",
       "      <td>7.193246e-03</td>\n",
       "      <td>-1.181488</td>\n",
       "      <td>894.000000</td>\n",
       "      <td>3436.365848</td>\n",
       "      <td>...</td>\n",
       "      <td>1.000000</td>\n",
       "      <td>-1.000000</td>\n",
       "      <td>0.000000</td>\n",
       "      <td>200.000000</td>\n",
       "      <td>0.000000</td>\n",
       "      <td>3.103053</td>\n",
       "      <td>0.000000</td>\n",
       "      <td>1.000000</td>\n",
       "      <td>0.0</td>\n",
       "      <td>1.000000</td>\n",
       "    </tr>\n",
       "    <tr>\n",
       "      <th>50%</th>\n",
       "      <td>0.000000</td>\n",
       "      <td>0.600000</td>\n",
       "      <td>0.492153</td>\n",
       "      <td>-1.000000</td>\n",
       "      <td>52.000000</td>\n",
       "      <td>30.000000</td>\n",
       "      <td>1.517574e-02</td>\n",
       "      <td>-0.830507</td>\n",
       "      <td>1263.000000</td>\n",
       "      <td>5319.769349</td>\n",
       "      <td>...</td>\n",
       "      <td>1.000000</td>\n",
       "      <td>5.000000</td>\n",
       "      <td>0.000000</td>\n",
       "      <td>200.000000</td>\n",
       "      <td>0.000000</td>\n",
       "      <td>5.114321</td>\n",
       "      <td>1.000000</td>\n",
       "      <td>1.000000</td>\n",
       "      <td>0.0</td>\n",
       "      <td>3.000000</td>\n",
       "    </tr>\n",
       "    <tr>\n",
       "      <th>75%</th>\n",
       "      <td>0.000000</td>\n",
       "      <td>0.800000</td>\n",
       "      <td>0.755567</td>\n",
       "      <td>12.000000</td>\n",
       "      <td>130.000000</td>\n",
       "      <td>40.000000</td>\n",
       "      <td>2.633069e-02</td>\n",
       "      <td>4.984176</td>\n",
       "      <td>1944.000000</td>\n",
       "      <td>7680.717827</td>\n",
       "      <td>...</td>\n",
       "      <td>1.000000</td>\n",
       "      <td>25.000000</td>\n",
       "      <td>0.000000</td>\n",
       "      <td>500.000000</td>\n",
       "      <td>0.000000</td>\n",
       "      <td>8.866131</td>\n",
       "      <td>1.000000</td>\n",
       "      <td>1.000000</td>\n",
       "      <td>0.0</td>\n",
       "      <td>5.000000</td>\n",
       "    </tr>\n",
       "    <tr>\n",
       "      <th>max</th>\n",
       "      <td>1.000000</td>\n",
       "      <td>0.900000</td>\n",
       "      <td>0.999999</td>\n",
       "      <td>383.000000</td>\n",
       "      <td>428.000000</td>\n",
       "      <td>90.000000</td>\n",
       "      <td>7.845690e+01</td>\n",
       "      <td>112.956928</td>\n",
       "      <td>6700.000000</td>\n",
       "      <td>16715.565404</td>\n",
       "      <td>...</td>\n",
       "      <td>1.000000</td>\n",
       "      <td>32.000000</td>\n",
       "      <td>1.000000</td>\n",
       "      <td>2100.000000</td>\n",
       "      <td>1.000000</td>\n",
       "      <td>85.899143</td>\n",
       "      <td>1.000000</td>\n",
       "      <td>2.000000</td>\n",
       "      <td>0.0</td>\n",
       "      <td>7.000000</td>\n",
       "    </tr>\n",
       "  </tbody>\n",
       "</table>\n",
       "<p>8 rows × 27 columns</p>\n",
       "</div>"
      ],
      "text/plain": [
       "           fraud_bool          income  name_email_similarity  \\\n",
       "count  1000000.000000  1000000.000000         1000000.000000   \n",
       "mean         0.011029        0.562696               0.493694   \n",
       "std          0.104438        0.290343               0.289125   \n",
       "min          0.000000        0.100000               0.000001   \n",
       "25%          0.000000        0.300000               0.225216   \n",
       "50%          0.000000        0.600000               0.492153   \n",
       "75%          0.000000        0.800000               0.755567   \n",
       "max          1.000000        0.900000               0.999999   \n",
       "\n",
       "       prev_address_months_count  current_address_months_count  \\\n",
       "count             1000000.000000                1000000.000000   \n",
       "mean                   16.718568                     86.587867   \n",
       "std                    44.046230                     88.406599   \n",
       "min                    -1.000000                     -1.000000   \n",
       "25%                    -1.000000                     19.000000   \n",
       "50%                    -1.000000                     52.000000   \n",
       "75%                    12.000000                    130.000000   \n",
       "max                   383.000000                    428.000000   \n",
       "\n",
       "         customer_age  days_since_request  intended_balcon_amount  \\\n",
       "count  1000000.000000        1.000000e+06          1000000.000000   \n",
       "mean        33.689080        1.025705e+00                8.661499   \n",
       "std         12.025799        5.381835e+00               20.236155   \n",
       "min         10.000000        4.036860e-09              -15.530555   \n",
       "25%         20.000000        7.193246e-03               -1.181488   \n",
       "50%         30.000000        1.517574e-02               -0.830507   \n",
       "75%         40.000000        2.633069e-02                4.984176   \n",
       "max         90.000000        7.845690e+01              112.956928   \n",
       "\n",
       "         zip_count_4w     velocity_6h  ...  phone_mobile_valid  \\\n",
       "count  1000000.000000  1000000.000000  ...      1000000.000000   \n",
       "mean      1572.692049     5665.296605  ...            0.889676   \n",
       "std       1005.374565     3009.380665  ...            0.313293   \n",
       "min          1.000000     -170.603072  ...            0.000000   \n",
       "25%        894.000000     3436.365848  ...            1.000000   \n",
       "50%       1263.000000     5319.769349  ...            1.000000   \n",
       "75%       1944.000000     7680.717827  ...            1.000000   \n",
       "max       6700.000000    16715.565404  ...            1.000000   \n",
       "\n",
       "       bank_months_count  has_other_cards  proposed_credit_limit  \\\n",
       "count     1000000.000000   1000000.000000         1000000.000000   \n",
       "mean           10.839303         0.222988             515.851010   \n",
       "std            12.116875         0.416251             487.559902   \n",
       "min            -1.000000         0.000000             190.000000   \n",
       "25%            -1.000000         0.000000             200.000000   \n",
       "50%             5.000000         0.000000             200.000000   \n",
       "75%            25.000000         0.000000             500.000000   \n",
       "max            32.000000         1.000000            2100.000000   \n",
       "\n",
       "       foreign_request  session_length_in_minutes  keep_alive_session  \\\n",
       "count   1000000.000000             1000000.000000      1000000.000000   \n",
       "mean          0.025242                   7.544940            0.576947   \n",
       "std           0.156859                   8.033106            0.494044   \n",
       "min           0.000000                  -1.000000            0.000000   \n",
       "25%           0.000000                   3.103053            0.000000   \n",
       "50%           0.000000                   5.114321            1.000000   \n",
       "75%           0.000000                   8.866131            1.000000   \n",
       "max           1.000000                  85.899143            1.000000   \n",
       "\n",
       "       device_distinct_emails_8w  device_fraud_count           month  \n",
       "count             1000000.000000           1000000.0  1000000.000000  \n",
       "mean                    1.018312                 0.0        3.288674  \n",
       "std                     0.180761                 0.0        2.209994  \n",
       "min                    -1.000000                 0.0        0.000000  \n",
       "25%                     1.000000                 0.0        1.000000  \n",
       "50%                     1.000000                 0.0        3.000000  \n",
       "75%                     1.000000                 0.0        5.000000  \n",
       "max                     2.000000                 0.0        7.000000  \n",
       "\n",
       "[8 rows x 27 columns]"
      ]
     },
     "execution_count": 15,
     "metadata": {},
     "output_type": "execute_result"
    }
   ],
   "source": [
    "df.describe()"
   ]
  },
  {
   "cell_type": "markdown",
   "id": "9dc41207",
   "metadata": {},
   "source": [
    "#### Insight\n",
    "- Mean customer age is 33\n",
    "- Some variables contains negative values, this indicate missing data that need to be processed"
   ]
  },
  {
   "cell_type": "markdown",
   "id": "ac52d9cb",
   "metadata": {},
   "source": [
    "### 3.7 Exploring Data"
   ]
  },
  {
   "cell_type": "code",
   "execution_count": 16,
   "id": "1afd3c09",
   "metadata": {},
   "outputs": [
    {
     "data": {
      "text/html": [
       "<div>\n",
       "<style scoped>\n",
       "    .dataframe tbody tr th:only-of-type {\n",
       "        vertical-align: middle;\n",
       "    }\n",
       "\n",
       "    .dataframe tbody tr th {\n",
       "        vertical-align: top;\n",
       "    }\n",
       "\n",
       "    .dataframe thead th {\n",
       "        text-align: right;\n",
       "    }\n",
       "</style>\n",
       "<table border=\"1\" class=\"dataframe\">\n",
       "  <thead>\n",
       "    <tr style=\"text-align: right;\">\n",
       "      <th></th>\n",
       "      <th>fraud_bool</th>\n",
       "      <th>income</th>\n",
       "      <th>name_email_similarity</th>\n",
       "      <th>prev_address_months_count</th>\n",
       "      <th>current_address_months_count</th>\n",
       "      <th>customer_age</th>\n",
       "      <th>days_since_request</th>\n",
       "      <th>intended_balcon_amount</th>\n",
       "      <th>payment_type</th>\n",
       "      <th>zip_count_4w</th>\n",
       "      <th>...</th>\n",
       "      <th>has_other_cards</th>\n",
       "      <th>proposed_credit_limit</th>\n",
       "      <th>foreign_request</th>\n",
       "      <th>source</th>\n",
       "      <th>session_length_in_minutes</th>\n",
       "      <th>device_os</th>\n",
       "      <th>keep_alive_session</th>\n",
       "      <th>device_distinct_emails_8w</th>\n",
       "      <th>device_fraud_count</th>\n",
       "      <th>month</th>\n",
       "    </tr>\n",
       "  </thead>\n",
       "  <tbody>\n",
       "    <tr>\n",
       "      <th>0</th>\n",
       "      <td>0</td>\n",
       "      <td>0.3</td>\n",
       "      <td>0.986506</td>\n",
       "      <td>-1</td>\n",
       "      <td>25</td>\n",
       "      <td>40</td>\n",
       "      <td>0.006735</td>\n",
       "      <td>102.453711</td>\n",
       "      <td>AA</td>\n",
       "      <td>1059</td>\n",
       "      <td>...</td>\n",
       "      <td>0</td>\n",
       "      <td>1500.0</td>\n",
       "      <td>0</td>\n",
       "      <td>INTERNET</td>\n",
       "      <td>16.224843</td>\n",
       "      <td>linux</td>\n",
       "      <td>1</td>\n",
       "      <td>1</td>\n",
       "      <td>0</td>\n",
       "      <td>0</td>\n",
       "    </tr>\n",
       "    <tr>\n",
       "      <th>1</th>\n",
       "      <td>0</td>\n",
       "      <td>0.8</td>\n",
       "      <td>0.617426</td>\n",
       "      <td>-1</td>\n",
       "      <td>89</td>\n",
       "      <td>20</td>\n",
       "      <td>0.010095</td>\n",
       "      <td>-0.849551</td>\n",
       "      <td>AD</td>\n",
       "      <td>1658</td>\n",
       "      <td>...</td>\n",
       "      <td>0</td>\n",
       "      <td>1500.0</td>\n",
       "      <td>0</td>\n",
       "      <td>INTERNET</td>\n",
       "      <td>3.363854</td>\n",
       "      <td>other</td>\n",
       "      <td>1</td>\n",
       "      <td>1</td>\n",
       "      <td>0</td>\n",
       "      <td>0</td>\n",
       "    </tr>\n",
       "    <tr>\n",
       "      <th>2</th>\n",
       "      <td>0</td>\n",
       "      <td>0.8</td>\n",
       "      <td>0.996707</td>\n",
       "      <td>9</td>\n",
       "      <td>14</td>\n",
       "      <td>40</td>\n",
       "      <td>0.012316</td>\n",
       "      <td>-1.490386</td>\n",
       "      <td>AB</td>\n",
       "      <td>1095</td>\n",
       "      <td>...</td>\n",
       "      <td>0</td>\n",
       "      <td>200.0</td>\n",
       "      <td>0</td>\n",
       "      <td>INTERNET</td>\n",
       "      <td>22.730559</td>\n",
       "      <td>windows</td>\n",
       "      <td>0</td>\n",
       "      <td>1</td>\n",
       "      <td>0</td>\n",
       "      <td>0</td>\n",
       "    </tr>\n",
       "    <tr>\n",
       "      <th>3</th>\n",
       "      <td>0</td>\n",
       "      <td>0.6</td>\n",
       "      <td>0.475100</td>\n",
       "      <td>11</td>\n",
       "      <td>14</td>\n",
       "      <td>30</td>\n",
       "      <td>0.006991</td>\n",
       "      <td>-1.863101</td>\n",
       "      <td>AB</td>\n",
       "      <td>3483</td>\n",
       "      <td>...</td>\n",
       "      <td>0</td>\n",
       "      <td>200.0</td>\n",
       "      <td>0</td>\n",
       "      <td>INTERNET</td>\n",
       "      <td>15.215816</td>\n",
       "      <td>linux</td>\n",
       "      <td>1</td>\n",
       "      <td>1</td>\n",
       "      <td>0</td>\n",
       "      <td>0</td>\n",
       "    </tr>\n",
       "    <tr>\n",
       "      <th>4</th>\n",
       "      <td>0</td>\n",
       "      <td>0.9</td>\n",
       "      <td>0.842307</td>\n",
       "      <td>-1</td>\n",
       "      <td>29</td>\n",
       "      <td>40</td>\n",
       "      <td>5.742626</td>\n",
       "      <td>47.152498</td>\n",
       "      <td>AA</td>\n",
       "      <td>2339</td>\n",
       "      <td>...</td>\n",
       "      <td>0</td>\n",
       "      <td>200.0</td>\n",
       "      <td>0</td>\n",
       "      <td>INTERNET</td>\n",
       "      <td>3.743048</td>\n",
       "      <td>other</td>\n",
       "      <td>0</td>\n",
       "      <td>1</td>\n",
       "      <td>0</td>\n",
       "      <td>0</td>\n",
       "    </tr>\n",
       "  </tbody>\n",
       "</table>\n",
       "<p>5 rows × 32 columns</p>\n",
       "</div>"
      ],
      "text/plain": [
       "   fraud_bool  income  name_email_similarity  prev_address_months_count  \\\n",
       "0           0     0.3               0.986506                         -1   \n",
       "1           0     0.8               0.617426                         -1   \n",
       "2           0     0.8               0.996707                          9   \n",
       "3           0     0.6               0.475100                         11   \n",
       "4           0     0.9               0.842307                         -1   \n",
       "\n",
       "   current_address_months_count  customer_age  days_since_request  \\\n",
       "0                            25            40            0.006735   \n",
       "1                            89            20            0.010095   \n",
       "2                            14            40            0.012316   \n",
       "3                            14            30            0.006991   \n",
       "4                            29            40            5.742626   \n",
       "\n",
       "   intended_balcon_amount payment_type  zip_count_4w  ...  has_other_cards  \\\n",
       "0              102.453711           AA          1059  ...                0   \n",
       "1               -0.849551           AD          1658  ...                0   \n",
       "2               -1.490386           AB          1095  ...                0   \n",
       "3               -1.863101           AB          3483  ...                0   \n",
       "4               47.152498           AA          2339  ...                0   \n",
       "\n",
       "   proposed_credit_limit  foreign_request    source  \\\n",
       "0                 1500.0                0  INTERNET   \n",
       "1                 1500.0                0  INTERNET   \n",
       "2                  200.0                0  INTERNET   \n",
       "3                  200.0                0  INTERNET   \n",
       "4                  200.0                0  INTERNET   \n",
       "\n",
       "   session_length_in_minutes device_os  keep_alive_session  \\\n",
       "0                  16.224843     linux                   1   \n",
       "1                   3.363854     other                   1   \n",
       "2                  22.730559   windows                   0   \n",
       "3                  15.215816     linux                   1   \n",
       "4                   3.743048     other                   0   \n",
       "\n",
       "   device_distinct_emails_8w device_fraud_count  month  \n",
       "0                          1                  0      0  \n",
       "1                          1                  0      0  \n",
       "2                          1                  0      0  \n",
       "3                          1                  0      0  \n",
       "4                          1                  0      0  \n",
       "\n",
       "[5 rows x 32 columns]"
      ]
     },
     "execution_count": 16,
     "metadata": {},
     "output_type": "execute_result"
    }
   ],
   "source": [
    "df.head()"
   ]
  },
  {
   "cell_type": "code",
   "execution_count": 17,
   "id": "cc96643e",
   "metadata": {},
   "outputs": [
    {
     "data": {
      "text/plain": [
       "<bound method Series.unique of 0         0\n",
       "1         0\n",
       "2         0\n",
       "3         0\n",
       "4         0\n",
       "         ..\n",
       "999995    0\n",
       "999996    0\n",
       "999997    0\n",
       "999998    0\n",
       "999999    0\n",
       "Name: device_fraud_count, Length: 1000000, dtype: int64>"
      ]
     },
     "execution_count": 17,
     "metadata": {},
     "output_type": "execute_result"
    }
   ],
   "source": [
    "df['device_fraud_count'].unique"
   ]
  },
  {
   "cell_type": "code",
   "execution_count": 18,
   "id": "b9081742",
   "metadata": {},
   "outputs": [
    {
     "name": "stdout",
     "output_type": "stream",
     "text": [
      "We have 20 numerical features : ['income', 'name_email_similarity', 'prev_address_months_count', 'current_address_months_count', 'customer_age', 'days_since_request', 'intended_balcon_amount', 'zip_count_4w', 'velocity_6h', 'velocity_24h', 'velocity_4w', 'bank_branch_count_8w', 'date_of_birth_distinct_emails_4w', 'credit_risk_score', 'bank_months_count', 'proposed_credit_limit', 'session_length_in_minutes', 'device_distinct_emails', 'device_fraud_count', 'month']\n",
      "\n",
      "We have 12 categorical features : ['payment_type', 'employment_status', 'email_is_free', 'housing_status', 'phone_home_valid', 'phone_mobile_valid', 'has_other_cards', 'foreign_request', 'source', 'device_os', 'keep_alive_session', 'fraud_bool']\n"
     ]
    }
   ],
   "source": [
    "# define numerical & categorical columns\n",
    "num_features = ['income', 'name_email_similarity', 'prev_address_months_count', 'current_address_months_count', 'customer_age', 'days_since_request'\n",
    "                    , 'intended_balcon_amount', 'zip_count_4w', 'velocity_6h', 'velocity_24h', 'velocity_4w', 'bank_branch_count_8w', \n",
    "                    'date_of_birth_distinct_emails_4w', 'credit_risk_score', 'bank_months_count', 'proposed_credit_limit',  'session_length_in_minutes',\n",
    "                    'device_distinct_emails', 'device_fraud_count', 'month']\n",
    "\n",
    "\n",
    "cat_features = ['payment_type', 'employment_status', 'email_is_free', 'housing_status', 'phone_home_valid','phone_mobile_valid', 'has_other_cards'\n",
    "                        , 'foreign_request', 'source', 'device_os', 'keep_alive_session', 'fraud_bool']\n",
    "\n",
    "# print columns\n",
    "print('We have {} numerical features : {}'.format(len(num_features), num_features))\n",
    "print('\\nWe have {} categorical features : {}'.format(len(cat_features), cat_features))"
   ]
  },
  {
   "cell_type": "markdown",
   "id": "00e298e5",
   "metadata": {},
   "source": [
    "### 3.8 Visualizing distribution of all the variables\n",
    "- Protected attributes, (age group, employment status and % income)."
   ]
  },
  {
   "cell_type": "code",
   "execution_count": 19,
   "id": "1aa39d3d",
   "metadata": {},
   "outputs": [
    {
     "data": {
      "image/png": "[encoded data removed]",
      "text/plain": [
       "<Figure size 2000x1500 with 30 Axes>"
      ]
     },
     "metadata": {},
     "output_type": "display_data"
    }
   ],
   "source": [
    "# Automatically plots histograms for all numerical columns\n",
    "df.hist(bins=30, figsize=(20, 15), color='skyblue', edgecolor='black')\n",
    "\n",
    "plt.tight_layout()  # Adjusts subplot params for a neat layout\n",
    "plt.show()"
   ]
  },
  {
   "cell_type": "markdown",
   "id": "3c73e0f4",
   "metadata": {},
   "source": [
    "#### Insights:\n",
    "- device_fraud_count only have unique value of 0 -> consider drop to reduce dimension"
   ]
  },
  {
   "cell_type": "markdown",
   "id": "3998cc6a",
   "metadata": {},
   "source": [
    "\n",
    "- Precision (Fraud_Detection) = TP / TP + FP = 157 / (157 + 9894) = 00156\n",
    "- Recall (Fraud_Detection) = TP / TP + FN = 157 / (157 + 2049) = 0.0711\n",
    "\n",
    "- Precision (Non-Fraud) = Actual and Labeled as Non Fraud / All Labeled non fraud = 187900 / (187900 + 2049) = 0.9892\n",
    "- Recall (Non-Fraud) = Actual and Labeled as Non Fraud / All Actual Non Fraud = TN / (TN + FP) = 187900 / (187900 + 9894) = 0.95\n",
    "\n",
    "\n",
    "- Accuracy = #Correctly Labeled instance / Total Instance = (187900 + 157) / 200,0000 = 0.94\n",
    "- False Positive Rate = FP / (FP + TN) = Actual Non Fraud labeled as Fraud / Actual Non Fraud labeled as Fraud + Actual Non Fraud label as Non Fraud \\\n",
    "                                                    = 9894 / (9894 + 187900) = 0.05\n"
   ]
  },
  {
   "cell_type": "code",
   "execution_count": 47,
   "id": "9d55cc1e",
   "metadata": {},
   "outputs": [],
   "source": [
    "# Cutom metrics for FPR <= 0.05\n",
    "import numpy as np\n",
    "from sklearn.metrics import roc_curve, make_scorer\n",
    "from sklearn.model_selection import StratifiedKFold, cross_val_score\n",
    "\n",
    "def tpr_at_fixed_fpr(y_true, y_proba, fpr_target=0.05):\n",
    "    \"\"\"\n",
    "    Returns the maximum TPR achieved at or below fpr_target (e.g. 0.05).\n",
    "    \n",
    "    :param y_true:   True binary labels (0 or 1).\n",
    "    :param y_proba:  Predicted probabilities of class=1.\n",
    "    :param fpr_target: The target (maximum) false-positive rate (e.g. 0.05).\n",
    "    :return: The highest TPR achievable with FPR <= fpr_target.\n",
    "    \"\"\"\n",
    "    fpr, tpr, thresholds = roc_curve(y_true, y_proba, pos_label=1)\n",
    "    # Find all points where FPR <= desired threshold\n",
    "    mask = (fpr <= fpr_target)\n",
    "    \n",
    "    if np.any(mask):\n",
    "        return np.max(tpr[mask])  # best TPR among those points\n",
    "    else:\n",
    "        # If we can't reach FPR <= 0.05, return 0\n",
    "        return 0\n",
    "    \n",
    "custom_scorer = make_scorer(\n",
    "    tpr_at_fixed_fpr,\n",
    "    needs_proba=True,      # We'll receive predicted probabilities\n",
    "    greater_is_better=True # We want to maximize TPR\n",
    ")\n",
    "recall_scorer = make_scorer(recall_score, greater_is_better=True)"
   ]
  },
  {
   "cell_type": "code",
   "execution_count": 87,
   "id": "e5281a89",
   "metadata": {},
   "outputs": [],
   "source": [
    "import lightgbm as lgb\n",
    "import numpy as np\n",
    "import optuna\n",
    "\n",
    "\n",
    "def objective(trial):\n",
    "    \"\"\"\n",
    "    Optuna objective function that returns the average TPR@5%FPR\n",
    "    across CV folds for a LightGBM model in a pipeline with NearMiss.\n",
    "    \"\"\"\n",
    "\n",
    "    # --- 1) Hyperparameter suggestions ---\n",
    "    n_estimators = trial.suggest_int('n_estimators', 50, 120)\n",
    "    max_depth = trial.suggest_int('max_depth', 7, 20)\n",
    "    learning_rate = trial.suggest_float('learning_rate', 1e-3, 0.1, log=True)\n",
    "    subsample = trial.suggest_float('subsample', 0.6, 0.8)\n",
    "    colsample_bytree = trial.suggest_float('colsample_bytree', 0.5, 0.8)\n",
    "    \n",
    "    # Optionally tune these as well:\n",
    "    num_leaves = trial.suggest_int('num_leaves', 50, 150)\n",
    "    reg_alpha = trial.suggest_float('reg_alpha', 1e-2, 10, log=True)\n",
    "    reg_lambda = trial.suggest_float('reg_lambda', 1e-2, 10, log=True)\n",
    "    # scale_pos_weight = trial.suggest_int('scale_pos_weight', 1, 10)\n",
    "\n",
    "    # --- 2) Instantiate LightGBM with suggested params ---\n",
    "    lgb_clf = lgb.LGBMClassifier(\n",
    "        n_estimators=n_estimators,\n",
    "        max_depth=max_depth,\n",
    "        learning_rate=learning_rate,\n",
    "        subsample=subsample,\n",
    "        colsample_bytree=colsample_bytree,\n",
    "        num_leaves = num_leaves,\n",
    "        reg_alpha=reg_alpha,\n",
    "        reg_lambda = reg_lambda,\n",
    "        random_state=42\n",
    "        # If you included num_leaves, reg_alpha, etc., set them here.\n",
    "    )\n",
    "\n",
    "    # --- 3) Build Pipeline: NearMiss + LightGBM ---\n",
    "    pipeline_lgb = ImbPipeline([\n",
    "        ('resampler', NearMiss()),\n",
    "        ('classifier', lgb_clf)\n",
    "    ])\n",
    "\n",
    "    # --- 4) Cross-Validation with your custom scorer ---\n",
    "    skf = StratifiedKFold(n_splits=3, shuffle=True, random_state=42)\n",
    "    scores = cross_val_score(pipeline_lgb, \n",
    "                             X_train_preprocessed, y_train,\n",
    "                             scoring=custom_scorer, \n",
    "                             cv=skf, \n",
    "                             n_jobs=-1)\n",
    "\n",
    "    # --- 5) Return average TPR@5%FPR across folds ---\n",
    "    return scores.mean()\n"
   ]
  },
  {
   "cell_type": "code",
   "execution_count": 88,
   "id": "2eb55ec5",
   "metadata": {},
   "outputs": [
    {
     "name": "stderr",
     "output_type": "stream",
     "text": [
      "[I 2025-01-05 20:16:05,840] A new study created in memory with name: no-name-3cf13304-a466-480e-8907-62e82d6d5eaa\n",
      "[I 2025-01-05 20:16:22,738] Trial 0 finished with value: 0.06358381502890173 and parameters: {'n_estimators': 64, 'max_depth': 9, 'learning_rate': 0.015350315223106658, 'subsample': 0.7355545625037642, 'colsample_bytree': 0.6085596440835097, 'num_leaves': 91, 'reg_alpha': 0.09020749606232092, 'reg_lambda': 7.537350392444874}. Best is trial 0 with value: 0.06358381502890173.\n",
      "[I 2025-01-05 20:16:39,835] Trial 1 finished with value: 0.051456420718576444 and parameters: {'n_estimators': 50, 'max_depth': 13, 'learning_rate': 0.0038990357426572884, 'subsample': 0.6067582460016241, 'colsample_bytree': 0.6377129087601274, 'num_leaves': 111, 'reg_alpha': 0.10984705310829067, 'reg_lambda': 0.06811589721819429}. Best is trial 0 with value: 0.06358381502890173.\n",
      "[I 2025-01-05 20:16:56,983] Trial 2 finished with value: 0.058483509010540634 and parameters: {'n_estimators': 57, 'max_depth': 11, 'learning_rate': 0.0010693296061445264, 'subsample': 0.6557893542191549, 'colsample_bytree': 0.516978213960549, 'num_leaves': 106, 'reg_alpha': 0.04670688024185891, 'reg_lambda': 0.17380140920935505}. Best is trial 0 with value: 0.06358381502890173.\n",
      "[I 2025-01-05 20:17:15,084] Trial 3 finished with value: 0.05542332539952397 and parameters: {'n_estimators': 97, 'max_depth': 20, 'learning_rate': 0.002076638321286039, 'subsample': 0.7996472141231633, 'colsample_bytree': 0.6636727808222163, 'num_leaves': 65, 'reg_alpha': 0.49919657701190856, 'reg_lambda': 0.1456560050505009}. Best is trial 0 with value: 0.06358381502890173.\n",
      "[I 2025-01-05 20:17:34,444] Trial 4 finished with value: 0.04454267256035362 and parameters: {'n_estimators': 120, 'max_depth': 18, 'learning_rate': 0.08630822354422434, 'subsample': 0.6162587520981462, 'colsample_bytree': 0.6407131177040302, 'num_leaves': 143, 'reg_alpha': 0.03916008722365182, 'reg_lambda': 1.5676251623343858}. Best is trial 0 with value: 0.06358381502890173.\n",
      "[I 2025-01-05 20:17:50,465] Trial 5 finished with value: 0.059730250481695564 and parameters: {'n_estimators': 89, 'max_depth': 11, 'learning_rate': 0.004573806477075451, 'subsample': 0.7526373190287845, 'colsample_bytree': 0.5192118791307373, 'num_leaves': 111, 'reg_alpha': 1.503281922968993, 'reg_lambda': 0.027599162918488167}. Best is trial 0 with value: 0.06358381502890173.\n",
      "[I 2025-01-05 20:18:07,076] Trial 6 finished with value: 0.04612943443273263 and parameters: {'n_estimators': 75, 'max_depth': 11, 'learning_rate': 0.007097753980727372, 'subsample': 0.7866193063832638, 'colsample_bytree': 0.7203717449031002, 'num_leaves': 65, 'reg_alpha': 0.12427500756969981, 'reg_lambda': 0.7034037032980783}. Best is trial 0 with value: 0.06358381502890173.\n"
     ]
    }
   ],
   "source": [
    "# Fit on training data\n",
    "study = optuna.create_study(direction='maximize')\n",
    "study.optimize(objective, n_trials=7)  # Try 20 different hyperparameter sets"
   ]
  },
  {
   "cell_type": "code",
   "execution_count": 98,
   "id": "f3663dad",
   "metadata": {},
   "outputs": [
    {
     "name": "stdout",
     "output_type": "stream",
     "text": [
      "Best Trial: 0\n",
      "Best Value (Mean TPR@5%FPR): 0.06358381502890173\n",
      "Best Params: {'n_estimators': 64, 'max_depth': 9, 'learning_rate': 0.015350315223106658, 'subsample': 0.7355545625037642, 'colsample_bytree': 0.6085596440835097, 'num_leaves': 91, 'reg_alpha': 0.09020749606232092, 'reg_lambda': 7.537350392444874}\n"
     ]
    }
   ],
   "source": [
    "print(\"Best Trial:\", study.best_trial.number)\n",
    "print(\"Best Value (Mean TPR@5%FPR):\", study.best_value)\n",
    "print(\"Best Params:\", study.best_trial.params)"
   ]
  },
  {
   "cell_type": "code",
   "execution_count": 95,
   "id": "7fbc8907",
   "metadata": {},
   "outputs": [],
   "source": [
    "params = study.best_trial.params\n",
    "final_model = XGBClassifier()\n",
    "final_model.set_params(**params)\n",
    "pipeline_lgb = ImbPipeline([\n",
    "    ('resampler', NearMiss()),\n",
    "    ('classifier', final_model)\n",
    "])\n",
    "pipeline_lgb.fit(X_train_preprocessed, y_train)\n",
    "y_test_pred = pipeline_lgb.predict(X_test_preprocessed)\n"
   ]
  },
  {
   "cell_type": "code",
   "execution_count": 96,
   "id": "14320666",
   "metadata": {},
   "outputs": [
    {
     "name": "stdout",
     "output_type": "stream",
     "text": [
      "              precision    recall  f1-score   support\n",
      "\n",
      "           0       0.99      0.21      0.34    197794\n",
      "           1       0.01      0.82      0.02      2206\n",
      "\n",
      "    accuracy                           0.21    200000\n",
      "   macro avg       0.50      0.51      0.18    200000\n",
      "weighted avg       0.98      0.21      0.34    200000\n",
      "\n"
     ]
    }
   ],
   "source": [
    "rep = classification_report(y_test, y_test_pred)\n",
    "print(rep)"
   ]
  },
  {
   "cell_type": "code",
   "execution_count": 97,
   "id": "f24fbc5a",
   "metadata": {},
   "outputs": [
    {
     "name": "stdout",
     "output_type": "stream",
     "text": [
      "              precision    recall  f1-score   support\n",
      "\n",
      "           0       0.99      0.21      0.34    791177\n",
      "           1       0.01      0.83      0.02      8823\n",
      "\n",
      "    accuracy                           0.21    800000\n",
      "   macro avg       0.50      0.52      0.18    800000\n",
      "weighted avg       0.98      0.21      0.34    800000\n",
      "\n"
     ]
    }
   ],
   "source": [
    "y_train_pred = pipeline_lgb.predict(X_train_preprocessed)\n",
    "rep = classification_report(y_train, y_train_pred)\n",
    "print(rep)"
   ]
  },
  {
   "cell_type": "code",
   "execution_count": 81,
   "id": "a0687eb1",
   "metadata": {},
   "outputs": [],
   "source": [
    "from sklearn.decomposition import PCA\n",
    "from sklearn.preprocessing import StandardScaler\n",
    "\n",
    "scaler = StandardScaler()\n",
    "X_scaled = scaler.fit_transform(X_train_preprocessed)\n",
    "\n",
    "pca = PCA(n_components=0.95)  # Retain 95% variance\n",
    "X_pca = pca.fit_transform(X_scaled)\n",
    "\n",
    "# Apply the same transformation to test data\n",
    "X_test_scaled = scaler.transform(X_test_preprocessed)\n",
    "X_test_pca = pca.transform(X_test_scaled)\n"
   ]
  },
  {
   "cell_type": "code",
   "execution_count": 82,
   "id": "fa7b3d12",
   "metadata": {},
   "outputs": [],
   "source": [
    "import lightgbm as lgb\n",
    "import numpy as np\n",
    "import optuna\n",
    "\n",
    "\n",
    "def objective(trial):\n",
    "    \"\"\"\n",
    "    Optuna objective function that returns the average TPR@5%FPR\n",
    "    across CV folds for a LightGBM model in a pipeline with NearMiss.\n",
    "    \"\"\"\n",
    "\n",
    "    # --- 1) Hyperparameter suggestions ---\n",
    "    n_estimators = trial.suggest_int('n_estimators', 50, 120)\n",
    "    max_depth = trial.suggest_int('max_depth', 7, 20)\n",
    "    learning_rate = trial.suggest_float('learning_rate', 1e-3, 0.1, log=True)\n",
    "    subsample = trial.suggest_float('subsample', 0.6, 0.8)\n",
    "    colsample_bytree = trial.suggest_float('colsample_bytree', 0.5, 0.8)\n",
    "    \n",
    "    # Optionally tune these as well:\n",
    "    num_leaves = trial.suggest_int('num_leaves', 50, 150)\n",
    "    reg_alpha = trial.suggest_float('reg_alpha', 1e-2, 10, log=True)\n",
    "    reg_lambda = trial.suggest_float('reg_lambda', 1e-2, 10, log=True)\n",
    "    # scale_pos_weight = trial.suggest_int('scale_pos_weight', 1, 10)\n",
    "\n",
    "    # --- 2) Instantiate LightGBM with suggested params ---\n",
    "    lgb_clf = lgb.LGBMClassifier(\n",
    "        n_estimators=n_estimators,\n",
    "        max_depth=max_depth,\n",
    "        learning_rate=learning_rate,\n",
    "        subsample=subsample,\n",
    "        colsample_bytree=colsample_bytree,\n",
    "        num_leaves = num_leaves,\n",
    "        reg_alpha=reg_alpha,\n",
    "        reg_lambda = reg_lambda,\n",
    "        random_state=42\n",
    "        # If you included num_leaves, reg_alpha, etc., set them here.\n",
    "    )\n",
    "\n",
    "    # --- 3) Build Pipeline: NearMiss + LightGBM ---\n",
    "    pipeline_lgb = ImbPipeline([\n",
    "        ('resampler', NearMiss()),\n",
    "        ('classifier', lgb_clf)\n",
    "    ])\n",
    "\n",
    "    # --- 4) Cross-Validation with your custom scorer ---\n",
    "    skf = StratifiedKFold(n_splits=3, shuffle=True, random_state=42)\n",
    "    scores = cross_val_score(pipeline_lgb, \n",
    "                             X_pca, y_train,\n",
    "                             scoring=recall_scorer, \n",
    "                             cv=skf, \n",
    "                             n_jobs=-1)\n",
    "\n",
    "    # --- 5) Return average TPR@5%FPR across folds ---\n",
    "    return scores.mean()"
   ]
  },
  {
   "cell_type": "code",
   "execution_count": 83,
   "id": "b8a1b540",
   "metadata": {},
   "outputs": [
    {
     "name": "stderr",
     "output_type": "stream",
     "text": [
      "[I 2025-01-05 20:11:14,723] A new study created in memory with name: no-name-0b8f6e14-7ad5-4a72-983b-9d95361b14ba\n",
      "[I 2025-01-05 20:11:32,954] Trial 0 finished with value: 0.8148022214666213 and parameters: {'n_estimators': 89, 'max_depth': 18, 'learning_rate': 0.00853034816404929, 'subsample': 0.6019051308175187, 'colsample_bytree': 0.536513426818499, 'num_leaves': 116, 'reg_alpha': 0.02230146005076824, 'reg_lambda': 2.4805821987446324}. Best is trial 0 with value: 0.8148022214666213.\n",
      "[I 2025-01-05 20:11:52,138] Trial 1 finished with value: 0.7907741131134535 and parameters: {'n_estimators': 117, 'max_depth': 10, 'learning_rate': 0.008601796003128888, 'subsample': 0.6185577309191003, 'colsample_bytree': 0.5632790066406641, 'num_leaves': 135, 'reg_alpha': 0.11068995777246575, 'reg_lambda': 0.020973996579367223}. Best is trial 0 with value: 0.8148022214666213.\n",
      "[I 2025-01-05 20:12:09,486] Trial 2 finished with value: 0.8234160716309645 and parameters: {'n_estimators': 54, 'max_depth': 20, 'learning_rate': 0.05800519108328372, 'subsample': 0.7817424318141272, 'colsample_bytree': 0.6371368050762013, 'num_leaves': 66, 'reg_alpha': 5.234856200956392, 'reg_lambda': 3.0708976767149245}. Best is trial 2 with value: 0.8234160716309645.\n",
      "[I 2025-01-05 20:12:25,930] Trial 3 finished with value: 0.8014280856851411 and parameters: {'n_estimators': 51, 'max_depth': 14, 'learning_rate': 0.0018385868298518555, 'subsample': 0.6786039433947147, 'colsample_bytree': 0.6857961602967739, 'num_leaves': 104, 'reg_alpha': 0.1205188875569717, 'reg_lambda': 0.41180069329995583}. Best is trial 2 with value: 0.8234160716309645.\n",
      "[I 2025-01-05 20:12:40,652] Trial 4 finished with value: 0.8104952963844497 and parameters: {'n_estimators': 69, 'max_depth': 17, 'learning_rate': 0.0018731680255589269, 'subsample': 0.6091964664388145, 'colsample_bytree': 0.621051640700337, 'num_leaves': 141, 'reg_alpha': 0.05739349029048208, 'reg_lambda': 1.014109066477829}. Best is trial 2 with value: 0.8234160716309645.\n",
      "[I 2025-01-05 20:12:55,854] Trial 5 finished with value: 0.8019947863538479 and parameters: {'n_estimators': 114, 'max_depth': 14, 'learning_rate': 0.0018891259606123381, 'subsample': 0.7096909726044988, 'colsample_bytree': 0.5736373703337924, 'num_leaves': 106, 'reg_alpha': 0.0171578927258265, 'reg_lambda': 0.021443410305559747}. Best is trial 2 with value: 0.8234160716309645.\n",
      "[I 2025-01-05 20:13:11,582] Trial 6 finished with value: 0.7937209565907288 and parameters: {'n_estimators': 119, 'max_depth': 12, 'learning_rate': 0.0024712064270360217, 'subsample': 0.7285389177508766, 'colsample_bytree': 0.5411068063523834, 'num_leaves': 101, 'reg_alpha': 0.3034181732934054, 'reg_lambda': 2.879165527941277}. Best is trial 2 with value: 0.8234160716309645.\n"
     ]
    }
   ],
   "source": [
    "# Fit on training data\n",
    "study = optuna.create_study(direction='maximize')\n",
    "study.optimize(objective, n_trials=7)  # Try 20 different hyperparameter sets"
   ]
  },
  {
   "cell_type": "code",
   "execution_count": 92,
   "id": "bb392728",
   "metadata": {},
   "outputs": [
    {
     "name": "stdout",
     "output_type": "stream",
     "text": [
      "Best Trial: 0\n",
      "Best Value (Mean TPR@5%FPR): 0.06358381502890173\n",
      "Best Params: {'n_estimators': 64, 'max_depth': 9, 'learning_rate': 0.015350315223106658, 'subsample': 0.7355545625037642, 'colsample_bytree': 0.6085596440835097, 'num_leaves': 91, 'reg_alpha': 0.09020749606232092, 'reg_lambda': 7.537350392444874}\n"
     ]
    }
   ],
   "source": [
    "print(\"Best Trial:\", study.best_trial.number)\n",
    "print(\"Best Value (Mean TPR@5%FPR):\", study.best_value)\n",
    "print(\"Best Params:\", study.best_trial.params)"
   ]
  },
  {
   "cell_type": "code",
   "execution_count": 93,
   "id": "60d8ed2e",
   "metadata": {},
   "outputs": [
    {
     "name": "stdout",
     "output_type": "stream",
     "text": [
      "              precision    recall  f1-score   support\n",
      "\n",
      "           0       0.98      0.14      0.25    197794\n",
      "           1       0.01      0.78      0.02      2206\n",
      "\n",
      "    accuracy                           0.15    200000\n",
      "   macro avg       0.50      0.46      0.13    200000\n",
      "weighted avg       0.97      0.15      0.25    200000\n",
      "\n"
     ]
    }
   ],
   "source": [
    "params = study.best_trial.params\n",
    "final_model = XGBClassifier()\n",
    "final_model.set_params(**params)\n",
    "pipeline_lgb = ImbPipeline([\n",
    "    ('resampler', NearMiss()),\n",
    "    ('classifier', final_model)\n",
    "])\n",
    "pipeline_lgb.fit(X_pca, y_train)\n",
    "y_test_pred = pipeline_lgb.predict(X_test_pca)\n",
    "\n",
    "tmp = classification_report(y_test, y_test_pred)\n",
    "print(tmp)"
   ]
  },
  {
   "cell_type": "markdown",
   "id": "c04c1512",
   "metadata": {},
   "source": [
    "# DUNG O DAY THOI"
   ]
  }
 ],
 "metadata": {
  "kernelspec": {
   "display_name": "Python 3",
   "language": "python",
   "name": "python3"
  },
  "language_info": {
   "codemirror_mode": {
    "name": "ipython",
    "version": 3
   },
   "file_extension": ".py",
   "mimetype": "text/x-python",
   "name": "python",
   "nbconvert_exporter": "python",
   "pygments_lexer": "ipython3",
   "version": "3.8.0"
  }
 },
 "nbformat": 4,
 "nbformat_minor": 5
}
