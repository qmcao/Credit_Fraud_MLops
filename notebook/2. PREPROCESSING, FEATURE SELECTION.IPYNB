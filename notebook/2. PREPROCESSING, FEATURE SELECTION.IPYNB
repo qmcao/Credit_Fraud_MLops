{
 "cells": [
  {
   "cell_type": "markdown",
   "metadata": {},
   "source": [
    "### 1. Data Cleaning and Preprocessing"
   ]
  },
  {
   "cell_type": "markdown",
   "metadata": {},
   "source": [
    "- Workflow:\n",
    "\n",
    "1. Split your data into train and test sets.\n",
    "2. Drop, Impute missing values (fit on train, transform test).\n",
    "3. Select features (fit on train, apply to test).\n",
    "4. Scale numerical features (fit on train, transform test).\n",
    "5. Encode categorical features (fit on train, transform test)."
   ]
  },
  {
   "cell_type": "code",
   "execution_count": 56,
   "metadata": {},
   "outputs": [],
   "source": [
    "import numpy as np\n",
    "import pandas as pd\n",
    "import seaborn as sns\n",
    "import matplotlib.pyplot as plt"
   ]
  },
  {
   "cell_type": "markdown",
   "metadata": {},
   "source": [
    "#### 1.1 Find Missing Values"
   ]
  },
  {
   "cell_type": "code",
   "execution_count": 57,
   "metadata": {},
   "outputs": [
    {
     "data": {
      "text/html": [
       "<div>\n",
       "<style scoped>\n",
       "    .dataframe tbody tr th:only-of-type {\n",
       "        vertical-align: middle;\n",
       "    }\n",
       "\n",
       "    .dataframe tbody tr th {\n",
       "        vertical-align: top;\n",
       "    }\n",
       "\n",
       "    .dataframe thead th {\n",
       "        text-align: right;\n",
       "    }\n",
       "</style>\n",
       "<table border=\"1\" class=\"dataframe\">\n",
       "  <thead>\n",
       "    <tr style=\"text-align: right;\">\n",
       "      <th></th>\n",
       "      <th>fraud_bool</th>\n",
       "      <th>income</th>\n",
       "      <th>name_email_similarity</th>\n",
       "      <th>prev_address_months_count</th>\n",
       "      <th>current_address_months_count</th>\n",
       "      <th>customer_age</th>\n",
       "      <th>days_since_request</th>\n",
       "      <th>intended_balcon_amount</th>\n",
       "      <th>zip_count_4w</th>\n",
       "      <th>velocity_6h</th>\n",
       "      <th>...</th>\n",
       "      <th>phone_mobile_valid</th>\n",
       "      <th>bank_months_count</th>\n",
       "      <th>has_other_cards</th>\n",
       "      <th>proposed_credit_limit</th>\n",
       "      <th>foreign_request</th>\n",
       "      <th>session_length_in_minutes</th>\n",
       "      <th>keep_alive_session</th>\n",
       "      <th>device_distinct_emails_8w</th>\n",
       "      <th>device_fraud_count</th>\n",
       "      <th>month</th>\n",
       "    </tr>\n",
       "  </thead>\n",
       "  <tbody>\n",
       "    <tr>\n",
       "      <th>count</th>\n",
       "      <td>1000000.000000</td>\n",
       "      <td>1000000.000000</td>\n",
       "      <td>1000000.000000</td>\n",
       "      <td>1000000.000000</td>\n",
       "      <td>1000000.000000</td>\n",
       "      <td>1000000.000000</td>\n",
       "      <td>1.000000e+06</td>\n",
       "      <td>1000000.000000</td>\n",
       "      <td>1000000.000000</td>\n",
       "      <td>1000000.000000</td>\n",
       "      <td>...</td>\n",
       "      <td>1000000.000000</td>\n",
       "      <td>1000000.000000</td>\n",
       "      <td>1000000.000000</td>\n",
       "      <td>1000000.000000</td>\n",
       "      <td>1000000.000000</td>\n",
       "      <td>1000000.000000</td>\n",
       "      <td>1000000.000000</td>\n",
       "      <td>1000000.000000</td>\n",
       "      <td>1000000.0</td>\n",
       "      <td>1000000.000000</td>\n",
       "    </tr>\n",
       "    <tr>\n",
       "      <th>mean</th>\n",
       "      <td>0.011029</td>\n",
       "      <td>0.562696</td>\n",
       "      <td>0.493694</td>\n",
       "      <td>16.718568</td>\n",
       "      <td>86.587867</td>\n",
       "      <td>33.689080</td>\n",
       "      <td>1.025705e+00</td>\n",
       "      <td>8.661499</td>\n",
       "      <td>1572.692049</td>\n",
       "      <td>5665.296605</td>\n",
       "      <td>...</td>\n",
       "      <td>0.889676</td>\n",
       "      <td>10.839303</td>\n",
       "      <td>0.222988</td>\n",
       "      <td>515.851010</td>\n",
       "      <td>0.025242</td>\n",
       "      <td>7.544940</td>\n",
       "      <td>0.576947</td>\n",
       "      <td>1.018312</td>\n",
       "      <td>0.0</td>\n",
       "      <td>3.288674</td>\n",
       "    </tr>\n",
       "    <tr>\n",
       "      <th>std</th>\n",
       "      <td>0.104438</td>\n",
       "      <td>0.290343</td>\n",
       "      <td>0.289125</td>\n",
       "      <td>44.046230</td>\n",
       "      <td>88.406599</td>\n",
       "      <td>12.025799</td>\n",
       "      <td>5.381835e+00</td>\n",
       "      <td>20.236155</td>\n",
       "      <td>1005.374565</td>\n",
       "      <td>3009.380665</td>\n",
       "      <td>...</td>\n",
       "      <td>0.313293</td>\n",
       "      <td>12.116875</td>\n",
       "      <td>0.416251</td>\n",
       "      <td>487.559902</td>\n",
       "      <td>0.156859</td>\n",
       "      <td>8.033106</td>\n",
       "      <td>0.494044</td>\n",
       "      <td>0.180761</td>\n",
       "      <td>0.0</td>\n",
       "      <td>2.209994</td>\n",
       "    </tr>\n",
       "    <tr>\n",
       "      <th>min</th>\n",
       "      <td>0.000000</td>\n",
       "      <td>0.100000</td>\n",
       "      <td>0.000001</td>\n",
       "      <td>-1.000000</td>\n",
       "      <td>-1.000000</td>\n",
       "      <td>10.000000</td>\n",
       "      <td>4.036860e-09</td>\n",
       "      <td>-15.530555</td>\n",
       "      <td>1.000000</td>\n",
       "      <td>-170.603072</td>\n",
       "      <td>...</td>\n",
       "      <td>0.000000</td>\n",
       "      <td>-1.000000</td>\n",
       "      <td>0.000000</td>\n",
       "      <td>190.000000</td>\n",
       "      <td>0.000000</td>\n",
       "      <td>-1.000000</td>\n",
       "      <td>0.000000</td>\n",
       "      <td>-1.000000</td>\n",
       "      <td>0.0</td>\n",
       "      <td>0.000000</td>\n",
       "    </tr>\n",
       "    <tr>\n",
       "      <th>25%</th>\n",
       "      <td>0.000000</td>\n",
       "      <td>0.300000</td>\n",
       "      <td>0.225216</td>\n",
       "      <td>-1.000000</td>\n",
       "      <td>19.000000</td>\n",
       "      <td>20.000000</td>\n",
       "      <td>7.193246e-03</td>\n",
       "      <td>-1.181488</td>\n",
       "      <td>894.000000</td>\n",
       "      <td>3436.365848</td>\n",
       "      <td>...</td>\n",
       "      <td>1.000000</td>\n",
       "      <td>-1.000000</td>\n",
       "      <td>0.000000</td>\n",
       "      <td>200.000000</td>\n",
       "      <td>0.000000</td>\n",
       "      <td>3.103053</td>\n",
       "      <td>0.000000</td>\n",
       "      <td>1.000000</td>\n",
       "      <td>0.0</td>\n",
       "      <td>1.000000</td>\n",
       "    </tr>\n",
       "    <tr>\n",
       "      <th>50%</th>\n",
       "      <td>0.000000</td>\n",
       "      <td>0.600000</td>\n",
       "      <td>0.492153</td>\n",
       "      <td>-1.000000</td>\n",
       "      <td>52.000000</td>\n",
       "      <td>30.000000</td>\n",
       "      <td>1.517574e-02</td>\n",
       "      <td>-0.830507</td>\n",
       "      <td>1263.000000</td>\n",
       "      <td>5319.769349</td>\n",
       "      <td>...</td>\n",
       "      <td>1.000000</td>\n",
       "      <td>5.000000</td>\n",
       "      <td>0.000000</td>\n",
       "      <td>200.000000</td>\n",
       "      <td>0.000000</td>\n",
       "      <td>5.114321</td>\n",
       "      <td>1.000000</td>\n",
       "      <td>1.000000</td>\n",
       "      <td>0.0</td>\n",
       "      <td>3.000000</td>\n",
       "    </tr>\n",
       "    <tr>\n",
       "      <th>75%</th>\n",
       "      <td>0.000000</td>\n",
       "      <td>0.800000</td>\n",
       "      <td>0.755567</td>\n",
       "      <td>12.000000</td>\n",
       "      <td>130.000000</td>\n",
       "      <td>40.000000</td>\n",
       "      <td>2.633069e-02</td>\n",
       "      <td>4.984176</td>\n",
       "      <td>1944.000000</td>\n",
       "      <td>7680.717827</td>\n",
       "      <td>...</td>\n",
       "      <td>1.000000</td>\n",
       "      <td>25.000000</td>\n",
       "      <td>0.000000</td>\n",
       "      <td>500.000000</td>\n",
       "      <td>0.000000</td>\n",
       "      <td>8.866131</td>\n",
       "      <td>1.000000</td>\n",
       "      <td>1.000000</td>\n",
       "      <td>0.0</td>\n",
       "      <td>5.000000</td>\n",
       "    </tr>\n",
       "    <tr>\n",
       "      <th>max</th>\n",
       "      <td>1.000000</td>\n",
       "      <td>0.900000</td>\n",
       "      <td>0.999999</td>\n",
       "      <td>383.000000</td>\n",
       "      <td>428.000000</td>\n",
       "      <td>90.000000</td>\n",
       "      <td>7.845690e+01</td>\n",
       "      <td>112.956928</td>\n",
       "      <td>6700.000000</td>\n",
       "      <td>16715.565404</td>\n",
       "      <td>...</td>\n",
       "      <td>1.000000</td>\n",
       "      <td>32.000000</td>\n",
       "      <td>1.000000</td>\n",
       "      <td>2100.000000</td>\n",
       "      <td>1.000000</td>\n",
       "      <td>85.899143</td>\n",
       "      <td>1.000000</td>\n",
       "      <td>2.000000</td>\n",
       "      <td>0.0</td>\n",
       "      <td>7.000000</td>\n",
       "    </tr>\n",
       "  </tbody>\n",
       "</table>\n",
       "<p>8 rows × 27 columns</p>\n",
       "</div>"
      ],
      "text/plain": [
       "           fraud_bool          income  name_email_similarity  \\\n",
       "count  1000000.000000  1000000.000000         1000000.000000   \n",
       "mean         0.011029        0.562696               0.493694   \n",
       "std          0.104438        0.290343               0.289125   \n",
       "min          0.000000        0.100000               0.000001   \n",
       "25%          0.000000        0.300000               0.225216   \n",
       "50%          0.000000        0.600000               0.492153   \n",
       "75%          0.000000        0.800000               0.755567   \n",
       "max          1.000000        0.900000               0.999999   \n",
       "\n",
       "       prev_address_months_count  current_address_months_count  \\\n",
       "count             1000000.000000                1000000.000000   \n",
       "mean                   16.718568                     86.587867   \n",
       "std                    44.046230                     88.406599   \n",
       "min                    -1.000000                     -1.000000   \n",
       "25%                    -1.000000                     19.000000   \n",
       "50%                    -1.000000                     52.000000   \n",
       "75%                    12.000000                    130.000000   \n",
       "max                   383.000000                    428.000000   \n",
       "\n",
       "         customer_age  days_since_request  intended_balcon_amount  \\\n",
       "count  1000000.000000        1.000000e+06          1000000.000000   \n",
       "mean        33.689080        1.025705e+00                8.661499   \n",
       "std         12.025799        5.381835e+00               20.236155   \n",
       "min         10.000000        4.036860e-09              -15.530555   \n",
       "25%         20.000000        7.193246e-03               -1.181488   \n",
       "50%         30.000000        1.517574e-02               -0.830507   \n",
       "75%         40.000000        2.633069e-02                4.984176   \n",
       "max         90.000000        7.845690e+01              112.956928   \n",
       "\n",
       "         zip_count_4w     velocity_6h  ...  phone_mobile_valid  \\\n",
       "count  1000000.000000  1000000.000000  ...      1000000.000000   \n",
       "mean      1572.692049     5665.296605  ...            0.889676   \n",
       "std       1005.374565     3009.380665  ...            0.313293   \n",
       "min          1.000000     -170.603072  ...            0.000000   \n",
       "25%        894.000000     3436.365848  ...            1.000000   \n",
       "50%       1263.000000     5319.769349  ...            1.000000   \n",
       "75%       1944.000000     7680.717827  ...            1.000000   \n",
       "max       6700.000000    16715.565404  ...            1.000000   \n",
       "\n",
       "       bank_months_count  has_other_cards  proposed_credit_limit  \\\n",
       "count     1000000.000000   1000000.000000         1000000.000000   \n",
       "mean           10.839303         0.222988             515.851010   \n",
       "std            12.116875         0.416251             487.559902   \n",
       "min            -1.000000         0.000000             190.000000   \n",
       "25%            -1.000000         0.000000             200.000000   \n",
       "50%             5.000000         0.000000             200.000000   \n",
       "75%            25.000000         0.000000             500.000000   \n",
       "max            32.000000         1.000000            2100.000000   \n",
       "\n",
       "       foreign_request  session_length_in_minutes  keep_alive_session  \\\n",
       "count   1000000.000000             1000000.000000      1000000.000000   \n",
       "mean          0.025242                   7.544940            0.576947   \n",
       "std           0.156859                   8.033106            0.494044   \n",
       "min           0.000000                  -1.000000            0.000000   \n",
       "25%           0.000000                   3.103053            0.000000   \n",
       "50%           0.000000                   5.114321            1.000000   \n",
       "75%           0.000000                   8.866131            1.000000   \n",
       "max           1.000000                  85.899143            1.000000   \n",
       "\n",
       "       device_distinct_emails_8w  device_fraud_count           month  \n",
       "count             1000000.000000           1000000.0  1000000.000000  \n",
       "mean                    1.018312                 0.0        3.288674  \n",
       "std                     0.180761                 0.0        2.209994  \n",
       "min                    -1.000000                 0.0        0.000000  \n",
       "25%                     1.000000                 0.0        1.000000  \n",
       "50%                     1.000000                 0.0        3.000000  \n",
       "75%                     1.000000                 0.0        5.000000  \n",
       "max                     2.000000                 0.0        7.000000  \n",
       "\n",
       "[8 rows x 27 columns]"
      ]
     },
     "execution_count": 57,
     "metadata": {},
     "output_type": "execute_result"
    }
   ],
   "source": [
    "df = pd.read_csv('data/fraud.csv')\n",
    "df.describe()"
   ]
  },
  {
   "cell_type": "markdown",
   "metadata": {},
   "source": [
    "#### Note : Some variables contains negative values, this indicate missing data that need to be processed"
   ]
  },
  {
   "cell_type": "code",
   "execution_count": 58,
   "metadata": {},
   "outputs": [],
   "source": [
    "columns_to_check = ['prev_address_months_count', 'current_address_months_count', 'intended_balcon_amount', 'bank_months_count', \n",
    "                    'session_length_in_minutes', 'device_distinct_emails_8w']  \n",
    "\n",
    "# Convert negative value to nan\n",
    "df[columns_to_check] = df[columns_to_check].where(df[columns_to_check] >= 0, np.nan)"
   ]
  },
  {
   "cell_type": "code",
   "execution_count": 59,
   "metadata": {},
   "outputs": [
    {
     "name": "stdout",
     "output_type": "stream",
     "text": [
      "<class 'pandas.core.frame.DataFrame'>\n",
      "RangeIndex: 1000000 entries, 0 to 999999\n",
      "Data columns (total 32 columns):\n",
      " #   Column                            Non-Null Count    Dtype  \n",
      "---  ------                            --------------    -----  \n",
      " 0   fraud_bool                        1000000 non-null  int64  \n",
      " 1   income                            1000000 non-null  float64\n",
      " 2   name_email_similarity             1000000 non-null  float64\n",
      " 3   prev_address_months_count         287080 non-null   float64\n",
      " 4   current_address_months_count      995746 non-null   float64\n",
      " 5   customer_age                      1000000 non-null  int64  \n",
      " 6   days_since_request                1000000 non-null  float64\n",
      " 7   intended_balcon_amount            257477 non-null   float64\n",
      " 8   payment_type                      1000000 non-null  object \n",
      " 9   zip_count_4w                      1000000 non-null  int64  \n",
      " 10  velocity_6h                       1000000 non-null  float64\n",
      " 11  velocity_24h                      1000000 non-null  float64\n",
      " 12  velocity_4w                       1000000 non-null  float64\n",
      " 13  bank_branch_count_8w              1000000 non-null  int64  \n",
      " 14  date_of_birth_distinct_emails_4w  1000000 non-null  int64  \n",
      " 15  employment_status                 1000000 non-null  object \n",
      " 16  credit_risk_score                 1000000 non-null  int64  \n",
      " 17  email_is_free                     1000000 non-null  int64  \n",
      " 18  housing_status                    1000000 non-null  object \n",
      " 19  phone_home_valid                  1000000 non-null  int64  \n",
      " 20  phone_mobile_valid                1000000 non-null  int64  \n",
      " 21  bank_months_count                 746365 non-null   float64\n",
      " 22  has_other_cards                   1000000 non-null  int64  \n",
      " 23  proposed_credit_limit             1000000 non-null  float64\n",
      " 24  foreign_request                   1000000 non-null  int64  \n",
      " 25  source                            1000000 non-null  object \n",
      " 26  session_length_in_minutes         997985 non-null   float64\n",
      " 27  device_os                         1000000 non-null  object \n",
      " 28  keep_alive_session                1000000 non-null  int64  \n",
      " 29  device_distinct_emails_8w         999641 non-null   float64\n",
      " 30  device_fraud_count                1000000 non-null  int64  \n",
      " 31  month                             1000000 non-null  int64  \n",
      "dtypes: float64(13), int64(14), object(5)\n",
      "memory usage: 244.1+ MB\n"
     ]
    }
   ],
   "source": [
    "df.info()"
   ]
  },
  {
   "cell_type": "markdown",
   "metadata": {},
   "source": [
    "#### 1.1.2 Draw box plot of all missing data"
   ]
  },
  {
   "cell_type": "code",
   "execution_count": 60,
   "metadata": {},
   "outputs": [
    {
     "data": {
      "text/html": [
       "<div>\n",
       "<style scoped>\n",
       "    .dataframe tbody tr th:only-of-type {\n",
       "        vertical-align: middle;\n",
       "    }\n",
       "\n",
       "    .dataframe tbody tr th {\n",
       "        vertical-align: top;\n",
       "    }\n",
       "\n",
       "    .dataframe thead th {\n",
       "        text-align: right;\n",
       "    }\n",
       "</style>\n",
       "<table border=\"1\" class=\"dataframe\">\n",
       "  <thead>\n",
       "    <tr style=\"text-align: right;\">\n",
       "      <th></th>\n",
       "      <th>prev_address_months_count</th>\n",
       "      <th>current_address_months_count</th>\n",
       "      <th>intended_balcon_amount</th>\n",
       "      <th>bank_months_count</th>\n",
       "      <th>session_length_in_minutes</th>\n",
       "      <th>device_distinct_emails_8w</th>\n",
       "    </tr>\n",
       "  </thead>\n",
       "  <tbody>\n",
       "    <tr>\n",
       "      <th>0</th>\n",
       "      <td>NaN</td>\n",
       "      <td>25.0</td>\n",
       "      <td>102.453711</td>\n",
       "      <td>9.0</td>\n",
       "      <td>16.224843</td>\n",
       "      <td>1.0</td>\n",
       "    </tr>\n",
       "    <tr>\n",
       "      <th>1</th>\n",
       "      <td>NaN</td>\n",
       "      <td>89.0</td>\n",
       "      <td>NaN</td>\n",
       "      <td>2.0</td>\n",
       "      <td>3.363854</td>\n",
       "      <td>1.0</td>\n",
       "    </tr>\n",
       "    <tr>\n",
       "      <th>2</th>\n",
       "      <td>9.0</td>\n",
       "      <td>14.0</td>\n",
       "      <td>NaN</td>\n",
       "      <td>30.0</td>\n",
       "      <td>22.730559</td>\n",
       "      <td>1.0</td>\n",
       "    </tr>\n",
       "    <tr>\n",
       "      <th>3</th>\n",
       "      <td>11.0</td>\n",
       "      <td>14.0</td>\n",
       "      <td>NaN</td>\n",
       "      <td>1.0</td>\n",
       "      <td>15.215816</td>\n",
       "      <td>1.0</td>\n",
       "    </tr>\n",
       "    <tr>\n",
       "      <th>4</th>\n",
       "      <td>NaN</td>\n",
       "      <td>29.0</td>\n",
       "      <td>47.152498</td>\n",
       "      <td>26.0</td>\n",
       "      <td>3.743048</td>\n",
       "      <td>1.0</td>\n",
       "    </tr>\n",
       "    <tr>\n",
       "      <th>...</th>\n",
       "      <td>...</td>\n",
       "      <td>...</td>\n",
       "      <td>...</td>\n",
       "      <td>...</td>\n",
       "      <td>...</td>\n",
       "      <td>...</td>\n",
       "    </tr>\n",
       "    <tr>\n",
       "      <th>999995</th>\n",
       "      <td>NaN</td>\n",
       "      <td>143.0</td>\n",
       "      <td>NaN</td>\n",
       "      <td>31.0</td>\n",
       "      <td>16.967770</td>\n",
       "      <td>1.0</td>\n",
       "    </tr>\n",
       "    <tr>\n",
       "      <th>999996</th>\n",
       "      <td>NaN</td>\n",
       "      <td>193.0</td>\n",
       "      <td>0.008307</td>\n",
       "      <td>NaN</td>\n",
       "      <td>1.504109</td>\n",
       "      <td>1.0</td>\n",
       "    </tr>\n",
       "    <tr>\n",
       "      <th>999997</th>\n",
       "      <td>NaN</td>\n",
       "      <td>202.0</td>\n",
       "      <td>50.609995</td>\n",
       "      <td>31.0</td>\n",
       "      <td>16.068595</td>\n",
       "      <td>1.0</td>\n",
       "    </tr>\n",
       "    <tr>\n",
       "      <th>999998</th>\n",
       "      <td>52.0</td>\n",
       "      <td>3.0</td>\n",
       "      <td>NaN</td>\n",
       "      <td>1.0</td>\n",
       "      <td>1.378683</td>\n",
       "      <td>1.0</td>\n",
       "    </tr>\n",
       "    <tr>\n",
       "      <th>999999</th>\n",
       "      <td>NaN</td>\n",
       "      <td>174.0</td>\n",
       "      <td>14.942456</td>\n",
       "      <td>15.0</td>\n",
       "      <td>1.947926</td>\n",
       "      <td>1.0</td>\n",
       "    </tr>\n",
       "  </tbody>\n",
       "</table>\n",
       "<p>1000000 rows × 6 columns</p>\n",
       "</div>"
      ],
      "text/plain": [
       "        prev_address_months_count  current_address_months_count  \\\n",
       "0                             NaN                          25.0   \n",
       "1                             NaN                          89.0   \n",
       "2                             9.0                          14.0   \n",
       "3                            11.0                          14.0   \n",
       "4                             NaN                          29.0   \n",
       "...                           ...                           ...   \n",
       "999995                        NaN                         143.0   \n",
       "999996                        NaN                         193.0   \n",
       "999997                        NaN                         202.0   \n",
       "999998                       52.0                           3.0   \n",
       "999999                        NaN                         174.0   \n",
       "\n",
       "        intended_balcon_amount  bank_months_count  session_length_in_minutes  \\\n",
       "0                   102.453711                9.0                  16.224843   \n",
       "1                          NaN                2.0                   3.363854   \n",
       "2                          NaN               30.0                  22.730559   \n",
       "3                          NaN                1.0                  15.215816   \n",
       "4                    47.152498               26.0                   3.743048   \n",
       "...                        ...                ...                        ...   \n",
       "999995                     NaN               31.0                  16.967770   \n",
       "999996                0.008307                NaN                   1.504109   \n",
       "999997               50.609995               31.0                  16.068595   \n",
       "999998                     NaN                1.0                   1.378683   \n",
       "999999               14.942456               15.0                   1.947926   \n",
       "\n",
       "        device_distinct_emails_8w  \n",
       "0                             1.0  \n",
       "1                             1.0  \n",
       "2                             1.0  \n",
       "3                             1.0  \n",
       "4                             1.0  \n",
       "...                           ...  \n",
       "999995                        1.0  \n",
       "999996                        1.0  \n",
       "999997                        1.0  \n",
       "999998                        1.0  \n",
       "999999                        1.0  \n",
       "\n",
       "[1000000 rows x 6 columns]"
      ]
     },
     "execution_count": 60,
     "metadata": {},
     "output_type": "execute_result"
    }
   ],
   "source": [
    "df_missing = df[['prev_address_months_count', 'current_address_months_count', 'intended_balcon_amount', 'bank_months_count', 'session_length_in_minutes', \n",
    "                 'device_distinct_emails_8w']]\n",
    "df_missing"
   ]
  },
  {
   "cell_type": "code",
   "execution_count": 61,
   "metadata": {},
   "outputs": [
    {
     "data": {
      "image/png": "[encoded data removed]",
      "text/plain": [
       "<Figure size 3000x500 with 6 Axes>"
      ]
     },
     "metadata": {},
     "output_type": "display_data"
    }
   ],
   "source": [
    "# Create box plots for multiple features\n",
    "# Determine the number of features\n",
    "num_features = len(df_missing.columns)\n",
    "\n",
    "# Create subplots\n",
    "fig, axes = plt.subplots(nrows=1, ncols=num_features, figsize=(num_features * 5, 5))\n",
    "\n",
    "# Ensure axes is iterable\n",
    "if num_features == 1:\n",
    "    axes = [axes]\n",
    "\n",
    "# Define a color palette\n",
    "colors = sns.color_palette('Set2', num_features)\n",
    "\n",
    "# Loop through each feature\n",
    "for i, (ax, column) in enumerate(zip(axes, df_missing.columns)):\n",
    "    # Plot the KDE plot\n",
    "    #sns.kdeplot(data=df_missing[column], ax=ax, color=colors[i], fill=True, alpha=0.3)\n",
    "    \n",
    "    # Add the box plot on the same axes\n",
    "    sns.boxplot(y=df_missing[column], ax=ax, width=0.1, color=colors[i])\n",
    "\n",
    "    ax.set_title(f'Box Plot of {column}')\n",
    "    ax.set_xlabel('')\n",
    "    ax.set_ylabel('Density')\n",
    "\n",
    "# Adjust layout\n",
    "plt.tight_layout()\n",
    "plt.show()"
   ]
  },
  {
   "cell_type": "markdown",
   "metadata": {},
   "source": [
    "#### Insights\n",
    "\n",
    "- Scaling, encoding: \n",
    "    - **device_distinct_emails_8w**: One-Hot Encoding (nominal categorical)\n",
    "    - **session_length_in_minutes**: Robust Scaling (outliers)\n",
    "    - **intended_balcon_amount**: consider dropping (High percentage of missing in a feature)\n",
    "    - **current_address_months_count**: Robust Scaling (outliers)\n",
    "    - **prev_address_months_count**: consider dropping (High percentage of missing in a feature)\n",
    "- Filling NA:\n",
    "    - **device_distinct_emails_8w**: SimpleImputer(strategy='most_frequent')\n",
    "    - **session_length_in_minutes**: SimpleImputer(strategy='median')\n",
    "    - **intended_balcon_amount**: consider dropping (High percentage of missing in a feature)\n",
    "    - **current_address_months_count**: SimpleImputer(strategy='median') (outliers)\n",
    "    - **prev_address_months_count**: consider dropping (High percentage of missing in a feature)"
   ]
  },
  {
   "cell_type": "markdown",
   "metadata": {},
   "source": [
    "#### 1.1.3 Dropping features "
   ]
  },
  {
   "cell_type": "code",
   "execution_count": 62,
   "metadata": {},
   "outputs": [
    {
     "data": {
      "text/plain": [
       "(1000000, 29)"
      ]
     },
     "execution_count": 62,
     "metadata": {},
     "output_type": "execute_result"
    }
   ],
   "source": [
    "#drop intended_balcon_amount and prev_address_months_count\n",
    "\n",
    "df.drop(['prev_address_months_count', 'intended_balcon_amount', 'device_fraud_count'], axis=1, inplace=True)\n",
    "df.shape"
   ]
  },
  {
   "cell_type": "markdown",
   "metadata": {},
   "source": [
    "## 2. Data Preprocessing"
   ]
  },
  {
   "cell_type": "code",
   "execution_count": 63,
   "metadata": {},
   "outputs": [],
   "source": [
    "# Split your dataset BEFORE fitting any preprocessing to avoid data leakage\n",
    "from sklearn.model_selection import train_test_split\n",
    "\n",
    "X = df.drop(['fraud_bool'], axis=1)\n",
    "y = df['fraud_bool']\n",
    "\n",
    "\n",
    "X_train, X_test, y_train, y_test = train_test_split(\n",
    "    X, y, \n",
    "    test_size=0.2, \n",
    "    random_state=42, \n",
    "    stratify=y\n",
    ")"
   ]
  },
  {
   "cell_type": "code",
   "execution_count": 64,
   "metadata": {},
   "outputs": [
    {
     "data": {
      "text/plain": [
       "((800000, 28), (200000, 28))"
      ]
     },
     "execution_count": 64,
     "metadata": {},
     "output_type": "execute_result"
    }
   ],
   "source": [
    "X_train.shape, X_test.shape\n"
   ]
  },
  {
   "cell_type": "code",
   "execution_count": 65,
   "metadata": {},
   "outputs": [
    {
     "name": "stdout",
     "output_type": "stream",
     "text": [
      "Number of numerical features: 17\n",
      "Number of categorical features: 5\n",
      "Number of binary features: 6\n"
     ]
    }
   ],
   "source": [
    "# Define feature types\n",
    "\n",
    "num_features = ['income', 'name_email_similarity', 'current_address_months_count', 'customer_age', 'days_since_request'\n",
    "                    , 'zip_count_4w', 'velocity_6h', 'velocity_24h', 'velocity_4w', 'bank_branch_count_8w', \n",
    "                    'date_of_birth_distinct_emails_4w', 'credit_risk_score', 'bank_months_count', 'proposed_credit_limit',  'session_length_in_minutes',\n",
    "                    'device_distinct_emails_8w', 'month']\n",
    "\n",
    "\n",
    "cat_features = ['payment_type', 'employment_status', 'housing_status',\n",
    "                         'source', 'device_os']\n",
    "\n",
    "binary_features = [\n",
    "    'email_is_free',\n",
    "    'phone_home_valid',\n",
    "    'phone_mobile_valid',\n",
    "    'has_other_cards',\n",
    "    'foreign_request',\n",
    "    'keep_alive_session',\n",
    "]\n",
    "\n",
    "print(f\"Number of numerical features: {len(num_features)}\")\n",
    "print(f\"Number of categorical features: {len(cat_features)}\")       \n",
    "print(f\"Number of binary features: {len(binary_features)}\")"
   ]
  },
  {
   "cell_type": "markdown",
   "metadata": {},
   "source": [
    "### 2.1 Filling missing value using SimpletImputer"
   ]
  },
  {
   "cell_type": "code",
   "execution_count": 66,
   "metadata": {},
   "outputs": [],
   "source": [
    "from sklearn.impute import SimpleImputer"
   ]
  },
  {
   "cell_type": "code",
   "execution_count": 67,
   "metadata": {},
   "outputs": [],
   "source": [
    "# a. Impute Numerical Features\n",
    "# Median imputation is preferred when the distribution is skewed\n",
    "num_imputer = SimpleImputer(strategy=\"median\")\n",
    "\n",
    "# Fit the imputer on the training data\n",
    "num_imputer.fit(X_train[num_features])\n",
    "\n",
    "# Transform both training and test data\n",
    "X_train_numeric = pd.DataFrame(\n",
    "    num_imputer.transform(X_train[num_features]),\n",
    "    columns=num_features,\n",
    "    index=X_train.index\n",
    ")\n",
    "\n",
    "X_test_numeric = pd.DataFrame(\n",
    "    num_imputer.transform(X_test[num_features]),\n",
    "    columns=num_features,\n",
    "    index=X_test.index\n",
    ")\n"
   ]
  },
  {
   "cell_type": "code",
   "execution_count": 68,
   "metadata": {},
   "outputs": [],
   "source": [
    "# b. Impute Categorical\n",
    "# Initialize the imputer for categorical features\n",
    "categorical_imputer = SimpleImputer(strategy='most_frequent')\n",
    "\n",
    "# Fit the imputer on the training data\n",
    "categorical_imputer.fit(X_train[cat_features])\n",
    "\n",
    "# Transform both training and test data\n",
    "X_train_categorical = pd.DataFrame(\n",
    "    categorical_imputer.transform(X_train[cat_features]),\n",
    "    columns=cat_features,\n",
    "    index=X_train.index\n",
    ")\n",
    "\n",
    "X_test_categorical = pd.DataFrame(\n",
    "    categorical_imputer.transform(X_test[cat_features]),\n",
    "    columns=cat_features,\n",
    "    index=X_test.index\n",
    ")\n"
   ]
  },
  {
   "cell_type": "code",
   "execution_count": 69,
   "metadata": {},
   "outputs": [],
   "source": [
    "# c. Impute Binary Features\n",
    "\n",
    "# Initialize the imputer for binary features\n",
    "binary_imputer = SimpleImputer(strategy='most_frequent')\n",
    "\n",
    "# Fit the imputer on the training data\n",
    "binary_imputer.fit(X_train[binary_features])\n",
    "\n",
    "# Transform both training and test data\n",
    "X_train_bin = pd.DataFrame(\n",
    "    binary_imputer.transform(X_train[binary_features]),\n",
    "    columns=binary_features,\n",
    "    index=X_train.index\n",
    ")\n",
    "\n",
    "X_test_bin = pd.DataFrame(\n",
    "    binary_imputer.transform(X_test[binary_features]),\n",
    "    columns=binary_features,\n",
    "    index=X_test.index\n",
    ")"
   ]
  },
  {
   "cell_type": "code",
   "execution_count": 70,
   "metadata": {},
   "outputs": [
    {
     "name": "stdout",
     "output_type": "stream",
     "text": [
      "Imputed Training Data:\n"
     ]
    },
    {
     "data": {
      "text/html": [
       "<div>\n",
       "<style scoped>\n",
       "    .dataframe tbody tr th:only-of-type {\n",
       "        vertical-align: middle;\n",
       "    }\n",
       "\n",
       "    .dataframe tbody tr th {\n",
       "        vertical-align: top;\n",
       "    }\n",
       "\n",
       "    .dataframe thead th {\n",
       "        text-align: right;\n",
       "    }\n",
       "</style>\n",
       "<table border=\"1\" class=\"dataframe\">\n",
       "  <thead>\n",
       "    <tr style=\"text-align: right;\">\n",
       "      <th></th>\n",
       "      <th>income</th>\n",
       "      <th>name_email_similarity</th>\n",
       "      <th>current_address_months_count</th>\n",
       "      <th>customer_age</th>\n",
       "      <th>days_since_request</th>\n",
       "      <th>zip_count_4w</th>\n",
       "      <th>velocity_6h</th>\n",
       "      <th>velocity_24h</th>\n",
       "      <th>velocity_4w</th>\n",
       "      <th>bank_branch_count_8w</th>\n",
       "      <th>...</th>\n",
       "      <th>employment_status</th>\n",
       "      <th>housing_status</th>\n",
       "      <th>source</th>\n",
       "      <th>device_os</th>\n",
       "      <th>email_is_free</th>\n",
       "      <th>phone_home_valid</th>\n",
       "      <th>phone_mobile_valid</th>\n",
       "      <th>has_other_cards</th>\n",
       "      <th>foreign_request</th>\n",
       "      <th>keep_alive_session</th>\n",
       "    </tr>\n",
       "  </thead>\n",
       "  <tbody>\n",
       "    <tr>\n",
       "      <th>39111</th>\n",
       "      <td>0.7</td>\n",
       "      <td>0.229712</td>\n",
       "      <td>63.0</td>\n",
       "      <td>50.0</td>\n",
       "      <td>0.024720</td>\n",
       "      <td>1305.0</td>\n",
       "      <td>12764.326278</td>\n",
       "      <td>6418.672862</td>\n",
       "      <td>5998.527006</td>\n",
       "      <td>7.0</td>\n",
       "      <td>...</td>\n",
       "      <td>CA</td>\n",
       "      <td>BC</td>\n",
       "      <td>INTERNET</td>\n",
       "      <td>linux</td>\n",
       "      <td>1</td>\n",
       "      <td>0</td>\n",
       "      <td>1</td>\n",
       "      <td>1</td>\n",
       "      <td>0</td>\n",
       "      <td>0</td>\n",
       "    </tr>\n",
       "    <tr>\n",
       "      <th>822700</th>\n",
       "      <td>0.2</td>\n",
       "      <td>0.928428</td>\n",
       "      <td>24.0</td>\n",
       "      <td>70.0</td>\n",
       "      <td>0.014153</td>\n",
       "      <td>833.0</td>\n",
       "      <td>9717.635327</td>\n",
       "      <td>6342.913428</td>\n",
       "      <td>4814.609668</td>\n",
       "      <td>1.0</td>\n",
       "      <td>...</td>\n",
       "      <td>CC</td>\n",
       "      <td>BD</td>\n",
       "      <td>INTERNET</td>\n",
       "      <td>other</td>\n",
       "      <td>0</td>\n",
       "      <td>1</td>\n",
       "      <td>0</td>\n",
       "      <td>0</td>\n",
       "      <td>0</td>\n",
       "      <td>1</td>\n",
       "    </tr>\n",
       "    <tr>\n",
       "      <th>914415</th>\n",
       "      <td>0.1</td>\n",
       "      <td>0.658630</td>\n",
       "      <td>2.0</td>\n",
       "      <td>40.0</td>\n",
       "      <td>0.045801</td>\n",
       "      <td>237.0</td>\n",
       "      <td>2201.833206</td>\n",
       "      <td>2753.815567</td>\n",
       "      <td>3076.055489</td>\n",
       "      <td>14.0</td>\n",
       "      <td>...</td>\n",
       "      <td>CA</td>\n",
       "      <td>BC</td>\n",
       "      <td>INTERNET</td>\n",
       "      <td>other</td>\n",
       "      <td>1</td>\n",
       "      <td>1</td>\n",
       "      <td>1</td>\n",
       "      <td>0</td>\n",
       "      <td>0</td>\n",
       "      <td>1</td>\n",
       "    </tr>\n",
       "    <tr>\n",
       "      <th>581307</th>\n",
       "      <td>0.8</td>\n",
       "      <td>0.774858</td>\n",
       "      <td>122.0</td>\n",
       "      <td>30.0</td>\n",
       "      <td>0.005569</td>\n",
       "      <td>895.0</td>\n",
       "      <td>5377.254660</td>\n",
       "      <td>4551.599208</td>\n",
       "      <td>4223.827504</td>\n",
       "      <td>0.0</td>\n",
       "      <td>...</td>\n",
       "      <td>CA</td>\n",
       "      <td>BE</td>\n",
       "      <td>INTERNET</td>\n",
       "      <td>other</td>\n",
       "      <td>0</td>\n",
       "      <td>0</td>\n",
       "      <td>1</td>\n",
       "      <td>1</td>\n",
       "      <td>0</td>\n",
       "      <td>1</td>\n",
       "    </tr>\n",
       "    <tr>\n",
       "      <th>603136</th>\n",
       "      <td>0.9</td>\n",
       "      <td>0.993460</td>\n",
       "      <td>9.0</td>\n",
       "      <td>20.0</td>\n",
       "      <td>0.010832</td>\n",
       "      <td>4105.0</td>\n",
       "      <td>7428.775954</td>\n",
       "      <td>4872.930234</td>\n",
       "      <td>4250.760719</td>\n",
       "      <td>14.0</td>\n",
       "      <td>...</td>\n",
       "      <td>CB</td>\n",
       "      <td>BC</td>\n",
       "      <td>INTERNET</td>\n",
       "      <td>linux</td>\n",
       "      <td>1</td>\n",
       "      <td>1</td>\n",
       "      <td>1</td>\n",
       "      <td>1</td>\n",
       "      <td>0</td>\n",
       "      <td>0</td>\n",
       "    </tr>\n",
       "  </tbody>\n",
       "</table>\n",
       "<p>5 rows × 28 columns</p>\n",
       "</div>"
      ],
      "text/plain": [
       "        income  name_email_similarity  current_address_months_count  \\\n",
       "39111      0.7               0.229712                          63.0   \n",
       "822700     0.2               0.928428                          24.0   \n",
       "914415     0.1               0.658630                           2.0   \n",
       "581307     0.8               0.774858                         122.0   \n",
       "603136     0.9               0.993460                           9.0   \n",
       "\n",
       "        customer_age  days_since_request  zip_count_4w   velocity_6h  \\\n",
       "39111           50.0            0.024720        1305.0  12764.326278   \n",
       "822700          70.0            0.014153         833.0   9717.635327   \n",
       "914415          40.0            0.045801         237.0   2201.833206   \n",
       "581307          30.0            0.005569         895.0   5377.254660   \n",
       "603136          20.0            0.010832        4105.0   7428.775954   \n",
       "\n",
       "        velocity_24h  velocity_4w  bank_branch_count_8w  ...  \\\n",
       "39111    6418.672862  5998.527006                   7.0  ...   \n",
       "822700   6342.913428  4814.609668                   1.0  ...   \n",
       "914415   2753.815567  3076.055489                  14.0  ...   \n",
       "581307   4551.599208  4223.827504                   0.0  ...   \n",
       "603136   4872.930234  4250.760719                  14.0  ...   \n",
       "\n",
       "        employment_status  housing_status    source  device_os  email_is_free  \\\n",
       "39111                  CA              BC  INTERNET      linux              1   \n",
       "822700                 CC              BD  INTERNET      other              0   \n",
       "914415                 CA              BC  INTERNET      other              1   \n",
       "581307                 CA              BE  INTERNET      other              0   \n",
       "603136                 CB              BC  INTERNET      linux              1   \n",
       "\n",
       "        phone_home_valid  phone_mobile_valid has_other_cards foreign_request  \\\n",
       "39111                  0                   1               1               0   \n",
       "822700                 1                   0               0               0   \n",
       "914415                 1                   1               0               0   \n",
       "581307                 0                   1               1               0   \n",
       "603136                 1                   1               1               0   \n",
       "\n",
       "       keep_alive_session  \n",
       "39111                   0  \n",
       "822700                  1  \n",
       "914415                  1  \n",
       "581307                  1  \n",
       "603136                  0  \n",
       "\n",
       "[5 rows x 28 columns]"
      ]
     },
     "execution_count": 70,
     "metadata": {},
     "output_type": "execute_result"
    }
   ],
   "source": [
    "# Combine numerical and categorical features and binary features\n",
    "X_train_imputed = pd.concat([X_train_numeric, X_train_categorical, X_train_bin], axis=1)\n",
    "X_test_imputed = pd.concat([X_test_numeric, X_test_categorical, X_test_bin], axis=1)\n",
    "\n",
    "print(\"Imputed Training Data:\")\n",
    "X_train_imputed.head()\n",
    "\n",
    "# print(\"\\nImputed Test Data:\")\n",
    "# print(X_test_imputed.head())"
   ]
  },
  {
   "cell_type": "code",
   "execution_count": 71,
   "metadata": {},
   "outputs": [
    {
     "data": {
      "text/plain": [
       "income                              0\n",
       "name_email_similarity               0\n",
       "current_address_months_count        0\n",
       "customer_age                        0\n",
       "days_since_request                  0\n",
       "zip_count_4w                        0\n",
       "velocity_6h                         0\n",
       "velocity_24h                        0\n",
       "velocity_4w                         0\n",
       "bank_branch_count_8w                0\n",
       "date_of_birth_distinct_emails_4w    0\n",
       "credit_risk_score                   0\n",
       "bank_months_count                   0\n",
       "proposed_credit_limit               0\n",
       "session_length_in_minutes           0\n",
       "device_distinct_emails_8w           0\n",
       "month                               0\n",
       "payment_type                        0\n",
       "employment_status                   0\n",
       "housing_status                      0\n",
       "source                              0\n",
       "device_os                           0\n",
       "email_is_free                       0\n",
       "phone_home_valid                    0\n",
       "phone_mobile_valid                  0\n",
       "has_other_cards                     0\n",
       "foreign_request                     0\n",
       "keep_alive_session                  0\n",
       "dtype: int64"
      ]
     },
     "execution_count": 71,
     "metadata": {},
     "output_type": "execute_result"
    }
   ],
   "source": [
    "X_train_imputed.isna().sum()"
   ]
  },
  {
   "cell_type": "markdown",
   "metadata": {},
   "source": [
    "- No more misssing value"
   ]
  },
  {
   "cell_type": "markdown",
   "metadata": {},
   "source": [
    "### 2.2 Data Scalling and Encoding"
   ]
  },
  {
   "cell_type": "code",
   "execution_count": 72,
   "metadata": {},
   "outputs": [],
   "source": [
    "from sklearn.preprocessing import RobustScaler, OneHotEncoder"
   ]
  },
  {
   "cell_type": "code",
   "execution_count": 73,
   "metadata": {},
   "outputs": [],
   "source": [
    "# a. Scale Numerical Features\n",
    "# Initialize the scaler\n",
    "scaler = RobustScaler()\n",
    "\n",
    "# Fit the scaler on the training data\n",
    "scaler.fit(X_train_imputed[num_features])\n",
    "\n",
    "# Transform both training and test data\n",
    "X_train_scaled = pd.DataFrame(\n",
    "    scaler.transform(X_train_imputed[num_features]),\n",
    "    columns=num_features,\n",
    "    index=X_train_imputed.index\n",
    ")\n",
    "\n",
    "X_test_scaled = pd.DataFrame(\n",
    "    scaler.transform(X_test_imputed[num_features]),\n",
    "    columns=num_features,\n",
    "    index=X_test_imputed.index\n",
    ")"
   ]
  },
  {
   "cell_type": "code",
   "execution_count": 74,
   "metadata": {},
   "outputs": [
    {
     "name": "stderr",
     "output_type": "stream",
     "text": [
      "d:\\project\\Credit_Fraud_endToEnd\\venv\\lib\\site-packages\\sklearn\\preprocessing\\_encoders.py:975: FutureWarning: `sparse` was renamed to `sparse_output` in version 1.2 and will be removed in 1.4. `sparse_output` is ignored unless you leave `sparse` to its default value.\n",
      "  warnings.warn(\n"
     ]
    }
   ],
   "source": [
    "# b. Encode Categorical Features\n",
    "# Initialize the encoder\n",
    "encoder = OneHotEncoder(sparse=False)\n",
    "\n",
    "# Fit the encoder on the training data\n",
    "encoder.fit(X_train_imputed[cat_features])\n",
    "\n",
    "# Transform both training and test data\n",
    "X_train_encoded = pd.DataFrame(\n",
    "    encoder.transform(X_train_imputed[cat_features]),\n",
    "    columns=encoder.get_feature_names_out(cat_features),\n",
    "    index=X_train_imputed.index\n",
    ")\n",
    "\n",
    "X_test_encoded = pd.DataFrame(\n",
    "    encoder.transform(X_test_imputed[cat_features]),\n",
    "    columns=encoder.get_feature_names_out(cat_features),\n",
    "    index=X_test_imputed.index\n",
    ")\n"
   ]
  },
  {
   "cell_type": "code",
   "execution_count": 75,
   "metadata": {},
   "outputs": [
    {
     "data": {
      "text/plain": [
       "((800000, 26), (800000, 17), (800000, 6))"
      ]
     },
     "execution_count": 75,
     "metadata": {},
     "output_type": "execute_result"
    }
   ],
   "source": [
    "X_train_encoded.shape, X_train_scaled.shape, X_train_bin.shape"
   ]
  },
  {
   "cell_type": "code",
   "execution_count": 76,
   "metadata": {},
   "outputs": [
    {
     "name": "stdout",
     "output_type": "stream",
     "text": [
      "Preprocessed Training Data:\n"
     ]
    },
    {
     "data": {
      "text/html": [
       "<div>\n",
       "<style scoped>\n",
       "    .dataframe tbody tr th:only-of-type {\n",
       "        vertical-align: middle;\n",
       "    }\n",
       "\n",
       "    .dataframe tbody tr th {\n",
       "        vertical-align: top;\n",
       "    }\n",
       "\n",
       "    .dataframe thead th {\n",
       "        text-align: right;\n",
       "    }\n",
       "</style>\n",
       "<table border=\"1\" class=\"dataframe\">\n",
       "  <thead>\n",
       "    <tr style=\"text-align: right;\">\n",
       "      <th></th>\n",
       "      <th>income</th>\n",
       "      <th>name_email_similarity</th>\n",
       "      <th>current_address_months_count</th>\n",
       "      <th>customer_age</th>\n",
       "      <th>days_since_request</th>\n",
       "      <th>zip_count_4w</th>\n",
       "      <th>velocity_6h</th>\n",
       "      <th>velocity_24h</th>\n",
       "      <th>velocity_4w</th>\n",
       "      <th>bank_branch_count_8w</th>\n",
       "      <th>...</th>\n",
       "      <th>device_os_macintosh</th>\n",
       "      <th>device_os_other</th>\n",
       "      <th>device_os_windows</th>\n",
       "      <th>device_os_x11</th>\n",
       "      <th>email_is_free</th>\n",
       "      <th>phone_home_valid</th>\n",
       "      <th>phone_mobile_valid</th>\n",
       "      <th>has_other_cards</th>\n",
       "      <th>foreign_request</th>\n",
       "      <th>keep_alive_session</th>\n",
       "    </tr>\n",
       "  </thead>\n",
       "  <tbody>\n",
       "    <tr>\n",
       "      <th>count</th>\n",
       "      <td>800000.000000</td>\n",
       "      <td>8.000000e+05</td>\n",
       "      <td>800000.000000</td>\n",
       "      <td>800000.000000</td>\n",
       "      <td>8.000000e+05</td>\n",
       "      <td>800000.000000</td>\n",
       "      <td>800000.000000</td>\n",
       "      <td>8.000000e+05</td>\n",
       "      <td>8.000000e+05</td>\n",
       "      <td>800000.000000</td>\n",
       "      <td>...</td>\n",
       "      <td>800000.000000</td>\n",
       "      <td>800000.000000</td>\n",
       "      <td>800000.000000</td>\n",
       "      <td>800000.000000</td>\n",
       "      <td>800000.000000</td>\n",
       "      <td>800000.000000</td>\n",
       "      <td>800000.000000</td>\n",
       "      <td>800000.000000</td>\n",
       "      <td>800000.000000</td>\n",
       "      <td>800000.000000</td>\n",
       "    </tr>\n",
       "    <tr>\n",
       "      <th>mean</th>\n",
       "      <td>-0.074280</td>\n",
       "      <td>2.798224e-03</td>\n",
       "      <td>0.307664</td>\n",
       "      <td>0.185004</td>\n",
       "      <td>5.273293e+01</td>\n",
       "      <td>0.295015</td>\n",
       "      <td>0.081889</td>\n",
       "      <td>8.995807e-03</td>\n",
       "      <td>-4.718713e-02</td>\n",
       "      <td>7.304238</td>\n",
       "      <td>...</td>\n",
       "      <td>0.053825</td>\n",
       "      <td>0.342586</td>\n",
       "      <td>0.263595</td>\n",
       "      <td>0.007250</td>\n",
       "      <td>0.530068</td>\n",
       "      <td>0.417243</td>\n",
       "      <td>0.889406</td>\n",
       "      <td>0.222726</td>\n",
       "      <td>0.025313</td>\n",
       "      <td>0.577194</td>\n",
       "    </tr>\n",
       "    <tr>\n",
       "      <th>std</th>\n",
       "      <td>0.580686</td>\n",
       "      <td>5.451920e-01</td>\n",
       "      <td>0.802124</td>\n",
       "      <td>0.601413</td>\n",
       "      <td>2.810498e+02</td>\n",
       "      <td>0.957365</td>\n",
       "      <td>0.708788</td>\n",
       "      <td>6.849424e-01</td>\n",
       "      <td>7.541731e-01</td>\n",
       "      <td>19.145093</td>\n",
       "      <td>...</td>\n",
       "      <td>0.225672</td>\n",
       "      <td>0.474575</td>\n",
       "      <td>0.440582</td>\n",
       "      <td>0.084838</td>\n",
       "      <td>0.499095</td>\n",
       "      <td>0.493104</td>\n",
       "      <td>0.313629</td>\n",
       "      <td>0.416076</td>\n",
       "      <td>0.157073</td>\n",
       "      <td>0.494005</td>\n",
       "    </tr>\n",
       "    <tr>\n",
       "      <th>min</th>\n",
       "      <td>-1.000000</td>\n",
       "      <td>-9.284185e-01</td>\n",
       "      <td>-0.481818</td>\n",
       "      <td>-1.000000</td>\n",
       "      <td>-7.926162e-01</td>\n",
       "      <td>-1.201905</td>\n",
       "      <td>-1.292183</td>\n",
       "      <td>-1.588173e+00</td>\n",
       "      <td>-1.712184e+00</td>\n",
       "      <td>-0.375000</td>\n",
       "      <td>...</td>\n",
       "      <td>0.000000</td>\n",
       "      <td>0.000000</td>\n",
       "      <td>0.000000</td>\n",
       "      <td>0.000000</td>\n",
       "      <td>0.000000</td>\n",
       "      <td>0.000000</td>\n",
       "      <td>0.000000</td>\n",
       "      <td>0.000000</td>\n",
       "      <td>0.000000</td>\n",
       "      <td>0.000000</td>\n",
       "    </tr>\n",
       "    <tr>\n",
       "      <th>25%</th>\n",
       "      <td>-0.600000</td>\n",
       "      <td>-5.034958e-01</td>\n",
       "      <td>-0.300000</td>\n",
       "      <td>-0.500000</td>\n",
       "      <td>-4.172591e-01</td>\n",
       "      <td>-0.351429</td>\n",
       "      <td>-0.443109</td>\n",
       "      <td>-5.359755e-01</td>\n",
       "      <td>-5.291511e-01</td>\n",
       "      <td>-0.333333</td>\n",
       "      <td>...</td>\n",
       "      <td>0.000000</td>\n",
       "      <td>0.000000</td>\n",
       "      <td>0.000000</td>\n",
       "      <td>0.000000</td>\n",
       "      <td>0.000000</td>\n",
       "      <td>0.000000</td>\n",
       "      <td>1.000000</td>\n",
       "      <td>0.000000</td>\n",
       "      <td>0.000000</td>\n",
       "      <td>0.000000</td>\n",
       "    </tr>\n",
       "    <tr>\n",
       "      <th>50%</th>\n",
       "      <td>0.000000</td>\n",
       "      <td>5.234240e-17</td>\n",
       "      <td>0.000000</td>\n",
       "      <td>0.000000</td>\n",
       "      <td>-4.533352e-17</td>\n",
       "      <td>0.000000</td>\n",
       "      <td>0.000000</td>\n",
       "      <td>2.105272e-16</td>\n",
       "      <td>-3.729348e-16</td>\n",
       "      <td>0.000000</td>\n",
       "      <td>...</td>\n",
       "      <td>0.000000</td>\n",
       "      <td>0.000000</td>\n",
       "      <td>0.000000</td>\n",
       "      <td>0.000000</td>\n",
       "      <td>1.000000</td>\n",
       "      <td>0.000000</td>\n",
       "      <td>1.000000</td>\n",
       "      <td>0.000000</td>\n",
       "      <td>0.000000</td>\n",
       "      <td>1.000000</td>\n",
       "    </tr>\n",
       "    <tr>\n",
       "      <th>75%</th>\n",
       "      <td>0.400000</td>\n",
       "      <td>4.965042e-01</td>\n",
       "      <td>0.700000</td>\n",
       "      <td>0.500000</td>\n",
       "      <td>5.827409e-01</td>\n",
       "      <td>0.648571</td>\n",
       "      <td>0.556891</td>\n",
       "      <td>4.640245e-01</td>\n",
       "      <td>4.708489e-01</td>\n",
       "      <td>0.666667</td>\n",
       "      <td>...</td>\n",
       "      <td>0.000000</td>\n",
       "      <td>1.000000</td>\n",
       "      <td>1.000000</td>\n",
       "      <td>0.000000</td>\n",
       "      <td>1.000000</td>\n",
       "      <td>1.000000</td>\n",
       "      <td>1.000000</td>\n",
       "      <td>0.000000</td>\n",
       "      <td>0.000000</td>\n",
       "      <td>1.000000</td>\n",
       "    </tr>\n",
       "    <tr>\n",
       "      <th>max</th>\n",
       "      <td>0.600000</td>\n",
       "      <td>9.574090e-01</td>\n",
       "      <td>3.409091</td>\n",
       "      <td>3.000000</td>\n",
       "      <td>4.099835e+03</td>\n",
       "      <td>5.178095</td>\n",
       "      <td>2.684560</td>\n",
       "      <td>2.201853e+00</td>\n",
       "      <td>1.706794e+00</td>\n",
       "      <td>99.000000</td>\n",
       "      <td>...</td>\n",
       "      <td>1.000000</td>\n",
       "      <td>1.000000</td>\n",
       "      <td>1.000000</td>\n",
       "      <td>1.000000</td>\n",
       "      <td>1.000000</td>\n",
       "      <td>1.000000</td>\n",
       "      <td>1.000000</td>\n",
       "      <td>1.000000</td>\n",
       "      <td>1.000000</td>\n",
       "      <td>1.000000</td>\n",
       "    </tr>\n",
       "  </tbody>\n",
       "</table>\n",
       "<p>8 rows × 49 columns</p>\n",
       "</div>"
      ],
      "text/plain": [
       "              income  name_email_similarity  current_address_months_count  \\\n",
       "count  800000.000000           8.000000e+05                 800000.000000   \n",
       "mean       -0.074280           2.798224e-03                      0.307664   \n",
       "std         0.580686           5.451920e-01                      0.802124   \n",
       "min        -1.000000          -9.284185e-01                     -0.481818   \n",
       "25%        -0.600000          -5.034958e-01                     -0.300000   \n",
       "50%         0.000000           5.234240e-17                      0.000000   \n",
       "75%         0.400000           4.965042e-01                      0.700000   \n",
       "max         0.600000           9.574090e-01                      3.409091   \n",
       "\n",
       "        customer_age  days_since_request   zip_count_4w    velocity_6h  \\\n",
       "count  800000.000000        8.000000e+05  800000.000000  800000.000000   \n",
       "mean        0.185004        5.273293e+01       0.295015       0.081889   \n",
       "std         0.601413        2.810498e+02       0.957365       0.708788   \n",
       "min        -1.000000       -7.926162e-01      -1.201905      -1.292183   \n",
       "25%        -0.500000       -4.172591e-01      -0.351429      -0.443109   \n",
       "50%         0.000000       -4.533352e-17       0.000000       0.000000   \n",
       "75%         0.500000        5.827409e-01       0.648571       0.556891   \n",
       "max         3.000000        4.099835e+03       5.178095       2.684560   \n",
       "\n",
       "       velocity_24h   velocity_4w  bank_branch_count_8w  ...  \\\n",
       "count  8.000000e+05  8.000000e+05         800000.000000  ...   \n",
       "mean   8.995807e-03 -4.718713e-02              7.304238  ...   \n",
       "std    6.849424e-01  7.541731e-01             19.145093  ...   \n",
       "min   -1.588173e+00 -1.712184e+00             -0.375000  ...   \n",
       "25%   -5.359755e-01 -5.291511e-01             -0.333333  ...   \n",
       "50%    2.105272e-16 -3.729348e-16              0.000000  ...   \n",
       "75%    4.640245e-01  4.708489e-01              0.666667  ...   \n",
       "max    2.201853e+00  1.706794e+00             99.000000  ...   \n",
       "\n",
       "       device_os_macintosh  device_os_other  device_os_windows  device_os_x11  \\\n",
       "count        800000.000000    800000.000000      800000.000000  800000.000000   \n",
       "mean              0.053825         0.342586           0.263595       0.007250   \n",
       "std               0.225672         0.474575           0.440582       0.084838   \n",
       "min               0.000000         0.000000           0.000000       0.000000   \n",
       "25%               0.000000         0.000000           0.000000       0.000000   \n",
       "50%               0.000000         0.000000           0.000000       0.000000   \n",
       "75%               0.000000         1.000000           1.000000       0.000000   \n",
       "max               1.000000         1.000000           1.000000       1.000000   \n",
       "\n",
       "       email_is_free  phone_home_valid  phone_mobile_valid  has_other_cards  \\\n",
       "count  800000.000000     800000.000000       800000.000000    800000.000000   \n",
       "mean        0.530068          0.417243            0.889406         0.222726   \n",
       "std         0.499095          0.493104            0.313629         0.416076   \n",
       "min         0.000000          0.000000            0.000000         0.000000   \n",
       "25%         0.000000          0.000000            1.000000         0.000000   \n",
       "50%         1.000000          0.000000            1.000000         0.000000   \n",
       "75%         1.000000          1.000000            1.000000         0.000000   \n",
       "max         1.000000          1.000000            1.000000         1.000000   \n",
       "\n",
       "       foreign_request  keep_alive_session  \n",
       "count    800000.000000       800000.000000  \n",
       "mean          0.025313            0.577194  \n",
       "std           0.157073            0.494005  \n",
       "min           0.000000            0.000000  \n",
       "25%           0.000000            0.000000  \n",
       "50%           0.000000            1.000000  \n",
       "75%           0.000000            1.000000  \n",
       "max           1.000000            1.000000  \n",
       "\n",
       "[8 rows x 49 columns]"
      ]
     },
     "execution_count": 76,
     "metadata": {},
     "output_type": "execute_result"
    }
   ],
   "source": [
    "# Combine scaled numerical and encoded categorical features\n",
    "X_train_preprocessed = pd.concat([X_train_scaled, X_train_encoded, X_train_bin], axis=1)\n",
    "X_test_preprocessed = pd.concat([X_test_scaled, X_test_encoded, X_test_bin], axis=1)\n",
    "\n",
    "print(\"Preprocessed Training Data:\")\n",
    "X_train_preprocessed.describe()"
   ]
  },
  {
   "cell_type": "markdown",
   "metadata": {},
   "source": [
    "- We have finished scalling and encoding the data"
   ]
  },
  {
   "cell_type": "markdown",
   "metadata": {},
   "source": [
    "### 2.3 Features selection"
   ]
  },
  {
   "cell_type": "markdown",
   "metadata": {},
   "source": [
    "#### 2.3.1 Features selection using chi2 and f test"
   ]
  },
  {
   "cell_type": "code",
   "execution_count": 77,
   "metadata": {},
   "outputs": [],
   "source": [
    "from sklearn.feature_selection import SelectKBest, f_classif, chi2\n",
    "# For demonstration, let's train a simple classifier\n",
    "from sklearn.ensemble import RandomForestClassifier\n",
    "from sklearn.metrics import classification_report"
   ]
  },
  {
   "cell_type": "code",
   "execution_count": 78,
   "metadata": {},
   "outputs": [],
   "source": [
    "# feature numerical selection\n",
    "def select_features_f_classif(X_train, y_train, X_test):\n",
    "\tfs = SelectKBest(score_func=f_classif, k='all')\n",
    "\tfs.fit(X_train, y_train)\n",
    "\tX_train_fs = fs.transform(X_train)\n",
    "\tX_test_fs = fs.transform(X_test)\n",
    "\treturn X_train_fs, X_test_fs, fs\n",
    "\n",
    "# categorical feature selection\n",
    "def select_features_chi2(X_train, y_train, X_test):\n",
    "\tfs = SelectKBest(score_func=chi2, k='all')\n",
    "\tfs.fit(X_train, y_train)\n",
    "\tX_train_fs = fs.transform(X_train)\n",
    "\tX_test_fs = fs.transform(X_test)\n",
    "\treturn X_train_fs, X_test_fs, fs"
   ]
  },
  {
   "cell_type": "code",
   "execution_count": 79,
   "metadata": {},
   "outputs": [
    {
     "name": "stdout",
     "output_type": "stream",
     "text": [
      "Features sorted by F Score (Descending):\n",
      "\n",
      "                             Feature      F_Score        p_value\n",
      "0                  credit_risk_score  3999.427892   0.000000e+00\n",
      "1              proposed_credit_limit  3710.984979   0.000000e+00\n",
      "2                       customer_age  3218.444228   0.000000e+00\n",
      "3                             income  1638.735992   0.000000e+00\n",
      "4   date_of_birth_distinct_emails_4w  1515.647607   0.000000e+00\n",
      "5              name_email_similarity  1067.344207  5.906042e-234\n",
      "6          device_distinct_emails_8w  1004.172931  3.049533e-220\n",
      "7       current_address_months_count   860.511963  4.752446e-189\n",
      "8                  bank_months_count   244.564258   4.052413e-55\n",
      "9                        velocity_6h   235.337868   4.157938e-53\n",
      "10                             month   142.034920   9.616608e-33\n",
      "11                       velocity_4w   114.158516   1.207964e-26\n",
      "12              bank_branch_count_8w   111.736530   4.097173e-26\n",
      "13                      velocity_24h    97.922064   4.365101e-23\n",
      "14         session_length_in_minutes    46.382508   9.734829e-12\n",
      "15                      zip_count_4w    27.456301   1.607251e-07\n",
      "16                days_since_request     0.824238   3.639442e-01\n"
     ]
    }
   ],
   "source": [
    "# a. f_classif for Numerical\n",
    "# Initialize SelectKBest for numerical features\n",
    "\n",
    "#Prepare numerical features\n",
    "X_train_num = X_train_preprocessed[num_features]\n",
    "X_test_num = X_test_preprocessed[num_features]\n",
    "\n",
    "X_train_num_fs, X_test_num_fs, num_fs = select_features_f_classif(X_train_num, y_train, X_test_num)\n",
    "\n",
    "import pandas as pd\n",
    "\n",
    "# Create a DataFrame with feature names, F scores, and p-values\n",
    "feature_scores_df = pd.DataFrame({\n",
    "    'Feature': num_fs.feature_names_in_,\n",
    "    'F_Score': num_fs.scores_,\n",
    "    'p_value': num_fs.pvalues_\n",
    "})\n",
    "\n",
    "# Sort the DataFrame by F_Score in descending order\n",
    "feature_scores_sorted = feature_scores_df.sort_values(by='F_Score', ascending=False).reset_index(drop=True)\n",
    "\n",
    "# Step 3: Print the sorted DataFrame\n",
    "print(\"Features sorted by F Score (Descending):\\n\")\n",
    "print(feature_scores_sorted)"
   ]
  },
  {
   "cell_type": "markdown",
   "metadata": {},
   "source": [
    "- Using alpha = 0.05, we reject non-significant feature \"days_since_request\" with p-value (0.3639442)"
   ]
  },
  {
   "cell_type": "code",
   "execution_count": 80,
   "metadata": {},
   "outputs": [
    {
     "name": "stdout",
     "output_type": "stream",
     "text": [
      "Categorical features sorted by Chi-Squared (Descending):\n",
      "\n",
      "                 Feature  Chi-Squared_Score        p_value\n",
      "0      housing_status_BA        8790.840406   0.000000e+00\n",
      "1      device_os_windows        3542.113893   0.000000e+00\n",
      "2        device_os_linux         833.674705  2.574900e-183\n",
      "3      housing_status_BE         700.334706  2.528833e-154\n",
      "4        device_os_other         675.145343  7.597174e-149\n",
      "5      housing_status_BC         673.626752  1.625165e-148\n",
      "6        payment_type_AA         619.972054  7.582900e-137\n",
      "7        payment_type_AC         585.923780  1.929964e-129\n",
      "8   employment_status_CC         529.935285  2.917614e-117\n",
      "9      housing_status_BB         489.585282  1.754083e-108\n",
      "10  employment_status_CF         256.971092   7.848026e-58\n",
      "11  employment_status_CB         167.031160   3.293241e-38\n",
      "12  employment_status_CE         125.877037   3.271384e-29\n",
      "13  employment_status_CD          95.650790   1.370450e-22\n",
      "14  employment_status_CA          66.205556   4.062659e-16\n",
      "15   device_os_macintosh          31.226178   2.296483e-08\n",
      "16        source_TELEAPP           9.890039   1.661758e-03\n",
      "17     housing_status_BD           9.877384   1.673226e-03\n",
      "18     housing_status_BF           5.562652   1.834760e-02\n",
      "19       payment_type_AB           1.827746   1.763940e-01\n",
      "20       payment_type_AE           0.950646   3.295550e-01\n",
      "21       payment_type_AD           0.715690   3.975614e-01\n",
      "22     housing_status_BG           0.648788   4.205464e-01\n",
      "23  employment_status_CG           0.198439   6.559837e-01\n",
      "24       source_INTERNET           0.070345   7.908348e-01\n",
      "25         device_os_x11           0.016876   8.966391e-01\n"
     ]
    }
   ],
   "source": [
    "# b. chi2 for Categorical\n",
    "# Initialize SelectKBest for numerical features\n",
    "\n",
    "#Prepare categorical features\n",
    "X_train_cat = X_train_preprocessed.drop(columns= num_features + binary_features, axis=1)\n",
    "X_test_cat = X_test_preprocessed.drop(columns= num_features + binary_features, axis=1)\n",
    "\n",
    "X_train_cat_fs, X_test_cat_fs, cat_fs = select_features_chi2(X_train_cat, y_train, X_test_cat)\n",
    "\n",
    "import pandas as pd\n",
    "\n",
    "# Create a DataFrame with feature names, F scores, and p-values\n",
    "cat_feature_scores_df = pd.DataFrame({\n",
    "    'Feature': cat_fs.feature_names_in_,\n",
    "    'Chi-Squared_Score': cat_fs.scores_,\n",
    "    'p_value': cat_fs.pvalues_\n",
    "})\n",
    "\n",
    "# Sort the DataFrame by F_Score in descending order\n",
    "cat_feature_scores_sorted = cat_feature_scores_df.sort_values(by='Chi-Squared_Score', ascending=False).reset_index(drop=True)\n",
    "\n",
    "# Step 3: Print the sorted DataFrame\n",
    "print(\"Categorical features sorted by Chi-Squared (Descending):\\n\")\n",
    "print(cat_feature_scores_sorted)"
   ]
  },
  {
   "cell_type": "markdown",
   "metadata": {},
   "source": [
    "Standard Thresholds:\n",
    "\n",
    "- p-value < 0.05: The feature is statistically significant and should be kept.\n",
    "\n",
    "- p-value ≥ 0.05: The feature is not statistically significant and can be dropped.\n",
    "\n",
    "- Features to Keep: All features with p-values less than 0.05. In your case, this includes features from index 0 to 24.\n",
    "\n",
    "- Features to Drop: All features with p-values greater than or equal to 0.05. This includes features from index 25 to 31."
   ]
  },
  {
   "cell_type": "markdown",
   "metadata": {},
   "source": [
    "#### 2.3.2 Use Mutual Information for numerical features"
   ]
  },
  {
   "cell_type": "code",
   "execution_count": 81,
   "metadata": {},
   "outputs": [
    {
     "data": {
      "text/plain": [
       "array([2.66363053e-02, 1.01162685e-03, 2.27009087e-03, 2.21901893e-02,\n",
       "       4.54958815e-04, 0.00000000e+00, 2.83004920e-04, 4.00364442e-04,\n",
       "       3.61011304e-04, 1.02160718e-03, 7.27180003e-03, 2.99600712e-03,\n",
       "       1.54233619e-02, 1.74407125e-02, 1.55915690e-04, 1.23926490e-03,\n",
       "       1.57193916e-02, 3.55646169e-02, 6.80704526e-02, 3.30775986e-02,\n",
       "       7.49745440e-03, 0.00000000e+00, 1.55309081e-01, 1.00449748e-02,\n",
       "       1.62422073e-03, 7.63401221e-04, 8.12030821e-04, 2.39154380e-03,\n",
       "       0.00000000e+00, 1.90441713e-02, 3.65272502e-02, 6.96787820e-02,\n",
       "       7.01059391e-04, 1.57284511e-02, 1.26059578e-04, 3.10177286e-05,\n",
       "       1.67639504e-01, 2.75043689e-04, 5.70166505e-02, 3.06856348e-03,\n",
       "       6.03656449e-02, 3.74626694e-02, 1.00347415e-05, 1.22130109e-01,\n",
       "       8.59291031e-02, 1.41887885e-01, 2.72238433e-02, 7.76376050e-04,\n",
       "       1.34872282e-01])"
      ]
     },
     "execution_count": 81,
     "metadata": {},
     "output_type": "execute_result"
    }
   ],
   "source": [
    "# a. Mutual information \n",
    "from sklearn.feature_selection import mutual_info_classif\n",
    "#Prepare numerical features\n",
    "\n",
    "mutual_info = mutual_info_classif(X_train_preprocessed, y_train)\n",
    "mutual_info"
   ]
  },
  {
   "cell_type": "code",
   "execution_count": 82,
   "metadata": {},
   "outputs": [
    {
     "data": {
      "text/plain": [
       "source_INTERNET                     0.167640\n",
       "employment_status_CA                0.155309\n",
       "phone_mobile_valid                  0.141888\n",
       "keep_alive_session                  0.134872\n",
       "email_is_free                       0.122130\n",
       "phone_home_valid                    0.085929\n",
       "housing_status_BC                   0.069679\n",
       "payment_type_AB                     0.068070\n",
       "device_os_other                     0.060366\n",
       "device_os_linux                     0.057017\n",
       "device_os_windows                   0.037463\n",
       "housing_status_BB                   0.036527\n",
       "payment_type_AA                     0.035565\n",
       "payment_type_AC                     0.033078\n",
       "has_other_cards                     0.027224\n",
       "income                              0.026636\n",
       "customer_age                        0.022190\n",
       "housing_status_BA                   0.019044\n",
       "proposed_credit_limit               0.017441\n",
       "housing_status_BE                   0.015728\n",
       "month                               0.015719\n",
       "bank_months_count                   0.015423\n",
       "employment_status_CB                0.010045\n",
       "payment_type_AD                     0.007497\n",
       "date_of_birth_distinct_emails_4w    0.007272\n",
       "device_os_macintosh                 0.003069\n",
       "credit_risk_score                   0.002996\n",
       "employment_status_CF                0.002392\n",
       "current_address_months_count        0.002270\n",
       "employment_status_CC                0.001624\n",
       "device_distinct_emails_8w           0.001239\n",
       "bank_branch_count_8w                0.001022\n",
       "name_email_similarity               0.001012\n",
       "employment_status_CE                0.000812\n",
       "foreign_request                     0.000776\n",
       "employment_status_CD                0.000763\n",
       "housing_status_BD                   0.000701\n",
       "days_since_request                  0.000455\n",
       "velocity_24h                        0.000400\n",
       "velocity_4w                         0.000361\n",
       "velocity_6h                         0.000283\n",
       "source_TELEAPP                      0.000275\n",
       "session_length_in_minutes           0.000156\n",
       "housing_status_BF                   0.000126\n",
       "housing_status_BG                   0.000031\n",
       "device_os_x11                       0.000010\n",
       "zip_count_4w                        0.000000\n",
       "payment_type_AE                     0.000000\n",
       "employment_status_CG                0.000000\n",
       "dtype: float64"
      ]
     },
     "execution_count": 82,
     "metadata": {},
     "output_type": "execute_result"
    }
   ],
   "source": [
    "mutual_info = pd.Series(mutual_info)\n",
    "mutual_info.index = X_train_preprocessed.columns\n",
    "mutual_info.sort_values(ascending=False)"
   ]
  },
  {
   "cell_type": "code",
   "execution_count": 83,
   "metadata": {},
   "outputs": [
    {
     "data": {
      "text/plain": [
       "<Axes: >"
      ]
     },
     "execution_count": 83,
     "metadata": {},
     "output_type": "execute_result"
    },
    {
     "data": {
      "image/png": "[encoded data removed]",
      "text/plain": [
       "<Figure size 2000x800 with 1 Axes>"
      ]
     },
     "metadata": {},
     "output_type": "display_data"
    }
   ],
   "source": [
    "mutual_info.sort_values(ascending=False).plot.bar(figsize=(20, 8))"
   ]
  },
  {
   "cell_type": "markdown",
   "metadata": {},
   "source": [
    "#### Insight\n",
    "- For now, I will choose top 30 categorical features."
   ]
  },
  {
   "cell_type": "code",
   "execution_count": 86,
   "metadata": {},
   "outputs": [
    {
     "name": "stdout",
     "output_type": "stream",
     "text": [
      "['bank_branch_count_8w', 'name_email_similarity', 'employment_status_CE', 'foreign_request', 'employment_status_CD', 'housing_status_BD', 'days_since_request', 'velocity_24h', 'velocity_4w', 'velocity_6h', 'source_TELEAPP', 'session_length_in_minutes', 'housing_status_BF', 'housing_status_BG', 'device_os_x11', 'zip_count_4w', 'payment_type_AE', 'employment_status_CG']\n",
      "18\n"
     ]
    }
   ],
   "source": [
    "feature_to_drop = mutual_info.sort_values(ascending=False)[31:].index.tolist()\n",
    "print(feature_to_drop)\n",
    "print(len(feature_to_drop))"
   ]
  },
  {
   "cell_type": "code",
   "execution_count": 87,
   "metadata": {},
   "outputs": [
    {
     "data": {
      "text/plain": [
       "((800000, 31), (200000, 31))"
      ]
     },
     "execution_count": 87,
     "metadata": {},
     "output_type": "execute_result"
    }
   ],
   "source": [
    "# Drop 7 categorical features and 1 numerical feature\n",
    "\n",
    "df_train_drop = X_train_preprocessed.drop(columns=feature_to_drop, axis=1, inplace=True)\n",
    "df_test_drop = X_test_preprocessed.drop(columns=feature_to_drop, axis=1, inplace=True)\n",
    "X_train_preprocessed.shape, X_test_preprocessed.shape"
   ]
  },
  {
   "cell_type": "markdown",
   "metadata": {},
   "source": [
    "source: https://guhanesvar.medium.com/feature-selection-based-on-mutual-information-gain-for-classification-and-regression-d0f86ea5262a"
   ]
  },
  {
   "cell_type": "markdown",
   "metadata": {},
   "source": [
    "## 3. Model Trainning"
   ]
  },
  {
   "cell_type": "markdown",
   "metadata": {},
   "source": [
    "#### We will perform sampling technique such as NearMiss or SMOTE to address class imbalance. "
   ]
  },
  {
   "cell_type": "code",
   "execution_count": 91,
   "metadata": {},
   "outputs": [],
   "source": [
    "# Imbalanced-learn for NearMiss and Pipeline\n",
    "from imblearn.pipeline import Pipeline as ImbPipeline\n",
    "from imblearn.under_sampling import NearMiss\n",
    "from imblearn.over_sampling import SMOTE\n",
    "\n",
    "#Grid SearchCV\n",
    "from sklearn.model_selection import GridSearchCV, StratifiedKFold\n",
    "\n",
    "# Scoring\n",
    "from sklearn.metrics import make_scorer, fbeta_score\n",
    "from sklearn.metrics import classification_report, confusion_matrix, roc_curve, roc_auc_score\n",
    "\n",
    "#Model\n",
    "from lightgbm import LGBMClassifier as lgb\n",
    "from sklearn.linear_model import LogisticRegression\n"
   ]
  },
  {
   "cell_type": "markdown",
   "metadata": {},
   "source": [
    "#### Sampling"
   ]
  },
  {
   "cell_type": "markdown",
   "metadata": {},
   "source": [
    "#### Let's try to compare the performance of undersampling and oversampling with our baseline model logistic regression"
   ]
  },
  {
   "cell_type": "code",
   "execution_count": 108,
   "metadata": {},
   "outputs": [
    {
     "name": "stdout",
     "output_type": "stream",
     "text": [
      "After OverSampling, the shape of train_X: (1582354, 31)\n",
      "After OverSampling, the shape of train_y: (1582354,) \n",
      "\n",
      "After UnderSampling, the shape of train_X: (17646, 31)\n",
      "After UnderSampling, the shape of train_y: (17646,) \n",
      "\n"
     ]
    }
   ],
   "source": [
    "near_miss_obj = NearMiss()\n",
    "smote_obj = SMOTE()\n",
    "#smoteen_obj = SMOTEENN()\n",
    "\n",
    "X_train_over, y_train_res_over = smote_obj.fit_resample(X_train_preprocessed, y_train.ravel())\n",
    "X_train_under, y_train_res_under = near_miss_obj.fit_resample(X_train_preprocessed, y_train.ravel())\n",
    "\n",
    "print('After OverSampling, the shape of train_X: {}'.format(X_train_over.shape))\n",
    "print('After OverSampling, the shape of train_y: {} \\n'.format(y_train_res_over.shape))\n",
    "print('After UnderSampling, the shape of train_X: {}'.format(X_train_under.shape))\n",
    "print('After UnderSampling, the shape of train_y: {} \\n'.format(y_train_res_under.shape))"
   ]
  },
  {
   "cell_type": "code",
   "execution_count": 111,
   "metadata": {},
   "outputs": [
    {
     "data": {
      "text/html": [
       "<style>#sk-container-id-5 {color: black;}#sk-container-id-5 pre{padding: 0;}#sk-container-id-5 div.sk-toggleable {background-color: white;}#sk-container-id-5 label.sk-toggleable__label {cursor: pointer;display: block;width: 100%;margin-bottom: 0;padding: 0.3em;box-sizing: border-box;text-align: center;}#sk-container-id-5 label.sk-toggleable__label-arrow:before {content: \"▸\";float: left;margin-right: 0.25em;color: #696969;}#sk-container-id-5 label.sk-toggleable__label-arrow:hover:before {color: black;}#sk-container-id-5 div.sk-estimator:hover label.sk-toggleable__label-arrow:before {color: black;}#sk-container-id-5 div.sk-toggleable__content {max-height: 0;max-width: 0;overflow: hidden;text-align: left;background-color: #f0f8ff;}#sk-container-id-5 div.sk-toggleable__content pre {margin: 0.2em;color: black;border-radius: 0.25em;background-color: #f0f8ff;}#sk-container-id-5 input.sk-toggleable__control:checked~div.sk-toggleable__content {max-height: 200px;max-width: 100%;overflow: auto;}#sk-container-id-5 input.sk-toggleable__control:checked~label.sk-toggleable__label-arrow:before {content: \"▾\";}#sk-container-id-5 div.sk-estimator input.sk-toggleable__control:checked~label.sk-toggleable__label {background-color: #d4ebff;}#sk-container-id-5 div.sk-label input.sk-toggleable__control:checked~label.sk-toggleable__label {background-color: #d4ebff;}#sk-container-id-5 input.sk-hidden--visually {border: 0;clip: rect(1px 1px 1px 1px);clip: rect(1px, 1px, 1px, 1px);height: 1px;margin: -1px;overflow: hidden;padding: 0;position: absolute;width: 1px;}#sk-container-id-5 div.sk-estimator {font-family: monospace;background-color: #f0f8ff;border: 1px dotted black;border-radius: 0.25em;box-sizing: border-box;margin-bottom: 0.5em;}#sk-container-id-5 div.sk-estimator:hover {background-color: #d4ebff;}#sk-container-id-5 div.sk-parallel-item::after {content: \"\";width: 100%;border-bottom: 1px solid gray;flex-grow: 1;}#sk-container-id-5 div.sk-label:hover label.sk-toggleable__label {background-color: #d4ebff;}#sk-container-id-5 div.sk-serial::before {content: \"\";position: absolute;border-left: 1px solid gray;box-sizing: border-box;top: 0;bottom: 0;left: 50%;z-index: 0;}#sk-container-id-5 div.sk-serial {display: flex;flex-direction: column;align-items: center;background-color: white;padding-right: 0.2em;padding-left: 0.2em;position: relative;}#sk-container-id-5 div.sk-item {position: relative;z-index: 1;}#sk-container-id-5 div.sk-parallel {display: flex;align-items: stretch;justify-content: center;background-color: white;position: relative;}#sk-container-id-5 div.sk-item::before, #sk-container-id-5 div.sk-parallel-item::before {content: \"\";position: absolute;border-left: 1px solid gray;box-sizing: border-box;top: 0;bottom: 0;left: 50%;z-index: -1;}#sk-container-id-5 div.sk-parallel-item {display: flex;flex-direction: column;z-index: 1;position: relative;background-color: white;}#sk-container-id-5 div.sk-parallel-item:first-child::after {align-self: flex-end;width: 50%;}#sk-container-id-5 div.sk-parallel-item:last-child::after {align-self: flex-start;width: 50%;}#sk-container-id-5 div.sk-parallel-item:only-child::after {width: 0;}#sk-container-id-5 div.sk-dashed-wrapped {border: 1px dashed gray;margin: 0 0.4em 0.5em 0.4em;box-sizing: border-box;padding-bottom: 0.4em;background-color: white;}#sk-container-id-5 div.sk-label label {font-family: monospace;font-weight: bold;display: inline-block;line-height: 1.2em;}#sk-container-id-5 div.sk-label-container {text-align: center;}#sk-container-id-5 div.sk-container {/* jupyter's `normalize.less` sets `[hidden] { display: none; }` but bootstrap.min.css set `[hidden] { display: none !important; }` so we also need the `!important` here to be able to override the default hidden behavior on the sphinx rendered scikit-learn.org. See: https://github.com/scikit-learn/scikit-learn/issues/21755 */display: inline-block !important;position: relative;}#sk-container-id-5 div.sk-text-repr-fallback {display: none;}</style><div id=\"sk-container-id-5\" class=\"sk-top-container\"><div class=\"sk-text-repr-fallback\"><pre>LogisticRegression(max_iter=1000000)</pre><b>In a Jupyter environment, please rerun this cell to show the HTML representation or trust the notebook. <br />On GitHub, the HTML representation is unable to render, please try loading this page with nbviewer.org.</b></div><div class=\"sk-container\" hidden><div class=\"sk-item\"><div class=\"sk-estimator sk-toggleable\"><input class=\"sk-toggleable__control sk-hidden--visually\" id=\"sk-estimator-id-5\" type=\"checkbox\" checked><label for=\"sk-estimator-id-5\" class=\"sk-toggleable__label sk-toggleable__label-arrow\">LogisticRegression</label><div class=\"sk-toggleable__content\"><pre>LogisticRegression(max_iter=1000000)</pre></div></div></div></div></div>"
      ],
      "text/plain": [
       "LogisticRegression(max_iter=1000000)"
      ]
     },
     "execution_count": 111,
     "metadata": {},
     "output_type": "execute_result"
    }
   ],
   "source": [
    "logis_smote_model = LogisticRegression(max_iter = 1000000, solver=\"saga\")\n",
    "logis_smote_model.fit(X_train_over, y_train_res_over)\n",
    "\n",
    "logis_nearmiss_model = logis_model = LogisticRegression(max_iter = 1000000)\n",
    "logis_nearmiss_model.fit(X_train_under, y_train_res_under)"
   ]
  },
  {
   "cell_type": "code",
   "execution_count": 112,
   "metadata": {},
   "outputs": [
    {
     "name": "stdout",
     "output_type": "stream",
     "text": [
      "Classification Report for Logistic Regression with Oversampling:\n",
      "              precision    recall  f1-score   support\n",
      "\n",
      "           0       1.00      0.82      0.90    197794\n",
      "           1       0.04      0.73      0.08      2206\n",
      "\n",
      "    accuracy                           0.82    200000\n",
      "   macro avg       0.52      0.78      0.49    200000\n",
      "weighted avg       0.99      0.82      0.89    200000\n",
      "\n",
      "Classification Report for Logistic Regression with Undersampling:\n",
      "              precision    recall  f1-score   support\n",
      "\n",
      "           0       0.98      0.14      0.24    197794\n",
      "           1       0.01      0.79      0.02      2206\n",
      "\n",
      "    accuracy                           0.15    200000\n",
      "   macro avg       0.50      0.46      0.13    200000\n",
      "weighted avg       0.97      0.15      0.24    200000\n",
      "\n"
     ]
    }
   ],
   "source": [
    "y_pred_logis_smote = logis_smote_model.predict(X_test_preprocessed)\n",
    "smote_report = classification_report(y_test, y_pred_logis_smote)\n",
    "print(f\"Classification Report for Logistic Regression with Oversampling:\\n{smote_report}\")\n",
    "\n",
    "y_pred_logis_nearmiss = logis_nearmiss_model.predict(X_test_preprocessed)\n",
    "nearmiss_report = classification_report(y_test, y_pred_logis_nearmiss)\n",
    "print(f\"Classification Report for Logistic Regression with Undersampling:\\n{nearmiss_report}\")\n",
    "\n"
   ]
  },
  {
   "cell_type": "markdown",
   "metadata": {},
   "source": [
    "#### Insights\n",
    "\n",
    "**Oversampling**\n",
    "\n",
    "- Oversampling performs **better overall**, with **higher accuracy** and a reasonable trade-off between recall and precision for the minority class.\n",
    "\n",
    "**Undersampling**\n",
    "- Undersampling struggles with majority class recall and precision while slightly improving minority class recall.\n",
    "\n",
    "\n",
    "=> We will choose oversampling as our main sampling method"
   ]
  },
  {
   "cell_type": "code",
   "execution_count": 114,
   "metadata": {},
   "outputs": [
    {
     "data": {
      "image/png": "[encoded data removed]",
      "text/plain": [
       "<Figure size 800x600 with 2 Axes>"
      ]
     },
     "metadata": {},
     "output_type": "display_data"
    }
   ],
   "source": [
    "cm_losgitic = confusion_matrix(y_test, y_pred_logis_smote)\n",
    "# 5. Visualize the confusion matrix using Seaborn's heatmap\n",
    "plt.figure(figsize=(8, 6))\n",
    "sns.heatmap(cm_losgitic, annot=True, fmt='d', cmap='Blues', xticklabels=['Non-Fraud', 'Fraud'], yticklabels=['Non-Fraud', 'Fraud'])\n",
    "plt.xlabel('Predicted Label')\n",
    "plt.ylabel('True Label')\n",
    "plt.title('Confusion Matrix for Logistic Regerssion with Oversampling')\n",
    "plt.show()  \n"
   ]
  },
  {
   "cell_type": "code",
   "execution_count": 105,
   "metadata": {},
   "outputs": [],
   "source": [
    "#predict probability\n",
    "y_pred_prob = logis_model.predict_proba(X_test_preprocessed)\n",
    "# retrieve just the probabilities for the positive class\n",
    "pos_probs = y_pred_prob[:, 1]\n"
   ]
  },
  {
   "cell_type": "code",
   "execution_count": 115,
   "metadata": {},
   "outputs": [
    {
     "data": {
      "image/png": "[encoded data removed]",
      "text/plain": [
       "<Figure size 640x480 with 1 Axes>"
      ]
     },
     "metadata": {},
     "output_type": "display_data"
    },
    {
     "name": "stdout",
     "output_type": "stream",
     "text": [
      "Logistic ROC AUC 0.857\n"
     ]
    }
   ],
   "source": [
    "from matplotlib import pyplot\n",
    "# plot no skill roc curve\n",
    "pyplot.plot([0, 1], [0, 1], linestyle='--', label='No Skill')\n",
    "# calculate roc curve for model\n",
    "fpr, tpr, _ = roc_curve(y_test, pos_probs)\n",
    "# plot model roc curve\n",
    "pyplot.plot(fpr, tpr, marker='.', label='Logistic')\n",
    "# axis labels\n",
    "pyplot.xlabel('False Positive Rate')\n",
    "pyplot.ylabel('True Positive Rate')\n",
    "# show the legend\n",
    "pyplot.legend()\n",
    "# show the plot\n",
    "pyplot.show()\n",
    "# calculate roc auc\n",
    "roc_auc = roc_auc_score(y_test, pos_probs)\n",
    "print('Logistic ROC AUC %.3f' % roc_auc)"
   ]
  },
  {
   "cell_type": "markdown",
   "metadata": {},
   "source": [
    "An ROC curve (or receiver operating characteristic curve) is a plot that summarizes the performance of a binary classification model on the positive class.\n",
    "\n",
    "The x-axis indicates the False Positive Rate and the y-axis indicates the True Positive Rate."
   ]
  },
  {
   "cell_type": "markdown",
   "metadata": {},
   "source": [
    "source: https://machinelearningmastery.com/roc-curves-and-precision-recall-curves-for-imbalanced-classification/"
   ]
  },
  {
   "cell_type": "markdown",
   "metadata": {},
   "source": [
    "#### Let's try to fit different models and evaluate their performance"
   ]
  },
  {
   "cell_type": "markdown",
   "metadata": {},
   "source": [
    "- For the sake of efficiency, I will try different models and chose the best model for hyperparameter tunning"
   ]
  },
  {
   "cell_type": "code",
   "execution_count": 123,
   "metadata": {},
   "outputs": [],
   "source": [
    "from sklearn.model_selection import cross_val_score\n",
    "from sklearn.metrics import make_scorer, roc_auc_score\n",
    "from imblearn.over_sampling import SMOTE\n",
    "import sys\n",
    "import os"
   ]
  },
  {
   "cell_type": "markdown",
   "metadata": {},
   "source": [
    "#### Scoring Metric: ROC AUC\n",
    "\n",
    "- Why: To balance the trade off between TPR and FPR. We want to caught fraud application but at the same time we don't want to reject many good applications"
   ]
  },
  {
   "cell_type": "code",
   "execution_count": 127,
   "metadata": {},
   "outputs": [],
   "source": [
    "# Eval_models function from utils.py\n",
    "\n",
    "def eval_models(X_train, y_train, X_test, y_test, models):\n",
    "    report = {}\n",
    "    \n",
    "    for i in range(len(list(models))):\n",
    "        model = list(models.values())[i]\n",
    "        model_name = list(models.keys())[i]\n",
    "        \n",
    "        # Define pipeline\n",
    "        final_pipeline = ImbPipeline([\n",
    "            ('resampler', SMOTE()),\n",
    "            ('classifier', model)\n",
    "        ])\n",
    "        # Choose scoring metric\n",
    "        scorer = make_scorer(roc_auc_score, needs_proba=True)\n",
    "        \n",
    "        # Cross-validation\n",
    "        skf = StratifiedKFold(n_splits=3, shuffle= True, random_state=42 )\n",
    "        cv_scores = cross_val_score(final_pipeline, X_train, y_train, cv=skf, scoring=scorer, n_jobs=-1)\n",
    "        \n",
    "        #fit on full training set and test performance\n",
    "        final_pipeline.fit(X_train, y_train)\n",
    "        test_score = roc_auc_score(y_test, final_pipeline.predict_proba(X_test)[:, 1]) \n",
    "        \n",
    "        # Save results\n",
    "        report[model_name] = {\n",
    "            'cv_mean': np.mean(cv_scores),\n",
    "            'cv_std': np.std(cv_scores),\n",
    "            'test_score': test_score\n",
    "        }\n",
    "        print(f\"{model_name} - CV Mean: {np.mean(cv_scores):.4f}, Test Score: {test_score:.4f}\")\n",
    "    return report\n"
   ]
  },
  {
   "cell_type": "markdown",
   "metadata": {},
   "source": [
    "#### Remark\n",
    "**Resampling in Each Fold:**\n",
    "\n",
    "- Currently, SMOTE is applied in the pipeline, which is correct, but ensure that SMOTE is applied within each fold of cross-validation to avoid data leakage.\n",
    "\n",
    "source:https://www.kaggle.com/code/janiobachmann/credit-fraud-dealing-with-imbalanced-datasets"
   ]
  },
  {
   "cell_type": "code",
   "execution_count": 128,
   "metadata": {},
   "outputs": [
    {
     "name": "stdout",
     "output_type": "stream",
     "text": [
      "RandomForestClassifier - CV Mean: 0.8358, Test Score: 0.8448\n",
      "LightGBM - CV Mean: 0.8676, Test Score: 0.8711\n",
      "LogisticRegression - CV Mean: 0.8532, Test Score: 0.8568\n"
     ]
    }
   ],
   "source": [
    "models = {\n",
    "    \"RandomForestClassifier\": RandomForestClassifier(random_state=42),\n",
    "    \"LightGBM\": lgb(),\n",
    "    \"LogisticRegression\": LogisticRegression(max_iter= 1000000)\n",
    "}\n",
    "\n",
    "report = eval_models(X_train_preprocessed, y_train, X_test_preprocessed, y_test, models)\n"
   ]
  },
  {
   "cell_type": "markdown",
   "metadata": {},
   "source": [
    "#### LighGBM has the highest Test Score (0.8711), let's print out model metric and try to tune the model for better result!"
   ]
  },
  {
   "cell_type": "code",
   "execution_count": 140,
   "metadata": {},
   "outputs": [
    {
     "data": {
      "text/html": [
       "<style>#sk-container-id-8 {color: black;}#sk-container-id-8 pre{padding: 0;}#sk-container-id-8 div.sk-toggleable {background-color: white;}#sk-container-id-8 label.sk-toggleable__label {cursor: pointer;display: block;width: 100%;margin-bottom: 0;padding: 0.3em;box-sizing: border-box;text-align: center;}#sk-container-id-8 label.sk-toggleable__label-arrow:before {content: \"▸\";float: left;margin-right: 0.25em;color: #696969;}#sk-container-id-8 label.sk-toggleable__label-arrow:hover:before {color: black;}#sk-container-id-8 div.sk-estimator:hover label.sk-toggleable__label-arrow:before {color: black;}#sk-container-id-8 div.sk-toggleable__content {max-height: 0;max-width: 0;overflow: hidden;text-align: left;background-color: #f0f8ff;}#sk-container-id-8 div.sk-toggleable__content pre {margin: 0.2em;color: black;border-radius: 0.25em;background-color: #f0f8ff;}#sk-container-id-8 input.sk-toggleable__control:checked~div.sk-toggleable__content {max-height: 200px;max-width: 100%;overflow: auto;}#sk-container-id-8 input.sk-toggleable__control:checked~label.sk-toggleable__label-arrow:before {content: \"▾\";}#sk-container-id-8 div.sk-estimator input.sk-toggleable__control:checked~label.sk-toggleable__label {background-color: #d4ebff;}#sk-container-id-8 div.sk-label input.sk-toggleable__control:checked~label.sk-toggleable__label {background-color: #d4ebff;}#sk-container-id-8 input.sk-hidden--visually {border: 0;clip: rect(1px 1px 1px 1px);clip: rect(1px, 1px, 1px, 1px);height: 1px;margin: -1px;overflow: hidden;padding: 0;position: absolute;width: 1px;}#sk-container-id-8 div.sk-estimator {font-family: monospace;background-color: #f0f8ff;border: 1px dotted black;border-radius: 0.25em;box-sizing: border-box;margin-bottom: 0.5em;}#sk-container-id-8 div.sk-estimator:hover {background-color: #d4ebff;}#sk-container-id-8 div.sk-parallel-item::after {content: \"\";width: 100%;border-bottom: 1px solid gray;flex-grow: 1;}#sk-container-id-8 div.sk-label:hover label.sk-toggleable__label {background-color: #d4ebff;}#sk-container-id-8 div.sk-serial::before {content: \"\";position: absolute;border-left: 1px solid gray;box-sizing: border-box;top: 0;bottom: 0;left: 50%;z-index: 0;}#sk-container-id-8 div.sk-serial {display: flex;flex-direction: column;align-items: center;background-color: white;padding-right: 0.2em;padding-left: 0.2em;position: relative;}#sk-container-id-8 div.sk-item {position: relative;z-index: 1;}#sk-container-id-8 div.sk-parallel {display: flex;align-items: stretch;justify-content: center;background-color: white;position: relative;}#sk-container-id-8 div.sk-item::before, #sk-container-id-8 div.sk-parallel-item::before {content: \"\";position: absolute;border-left: 1px solid gray;box-sizing: border-box;top: 0;bottom: 0;left: 50%;z-index: -1;}#sk-container-id-8 div.sk-parallel-item {display: flex;flex-direction: column;z-index: 1;position: relative;background-color: white;}#sk-container-id-8 div.sk-parallel-item:first-child::after {align-self: flex-end;width: 50%;}#sk-container-id-8 div.sk-parallel-item:last-child::after {align-self: flex-start;width: 50%;}#sk-container-id-8 div.sk-parallel-item:only-child::after {width: 0;}#sk-container-id-8 div.sk-dashed-wrapped {border: 1px dashed gray;margin: 0 0.4em 0.5em 0.4em;box-sizing: border-box;padding-bottom: 0.4em;background-color: white;}#sk-container-id-8 div.sk-label label {font-family: monospace;font-weight: bold;display: inline-block;line-height: 1.2em;}#sk-container-id-8 div.sk-label-container {text-align: center;}#sk-container-id-8 div.sk-container {/* jupyter's `normalize.less` sets `[hidden] { display: none; }` but bootstrap.min.css set `[hidden] { display: none !important; }` so we also need the `!important` here to be able to override the default hidden behavior on the sphinx rendered scikit-learn.org. See: https://github.com/scikit-learn/scikit-learn/issues/21755 */display: inline-block !important;position: relative;}#sk-container-id-8 div.sk-text-repr-fallback {display: none;}</style><div id=\"sk-container-id-8\" class=\"sk-top-container\"><div class=\"sk-text-repr-fallback\"><pre>LGBMClassifier()</pre><b>In a Jupyter environment, please rerun this cell to show the HTML representation or trust the notebook. <br />On GitHub, the HTML representation is unable to render, please try loading this page with nbviewer.org.</b></div><div class=\"sk-container\" hidden><div class=\"sk-item\"><div class=\"sk-estimator sk-toggleable\"><input class=\"sk-toggleable__control sk-hidden--visually\" id=\"sk-estimator-id-8\" type=\"checkbox\" checked><label for=\"sk-estimator-id-8\" class=\"sk-toggleable__label sk-toggleable__label-arrow\">LGBMClassifier</label><div class=\"sk-toggleable__content\"><pre>LGBMClassifier()</pre></div></div></div></div></div>"
      ],
      "text/plain": [
       "LGBMClassifier()"
      ]
     },
     "execution_count": 140,
     "metadata": {},
     "output_type": "execute_result"
    }
   ],
   "source": [
    "# Fit model with LightGBM\n",
    "lgb_model = lgb()\n",
    "lgb_model.fit(X_train_over, y_train_res_over)"
   ]
  },
  {
   "cell_type": "code",
   "execution_count": 154,
   "metadata": {},
   "outputs": [
    {
     "name": "stdout",
     "output_type": "stream",
     "text": [
      "Classification Report for LightGBM with Oversampling:\n",
      "              precision    recall  f1-score   support\n",
      "\n",
      "           0       0.99      1.00      0.99    197794\n",
      "           1       0.29      0.08      0.13      2206\n",
      "\n",
      "    accuracy                           0.99    200000\n",
      "   macro avg       0.64      0.54      0.56    200000\n",
      "weighted avg       0.98      0.99      0.98    200000\n",
      "\n"
     ]
    }
   ],
   "source": [
    "#Predict\n",
    "y_pred_lgb = lgb_model.predict(X_test_preprocessed)\n",
    "lgb_report = classification_report(y_test, y_pred_lgb)\n",
    "print(f\"Classification Report for LightGBM with Oversampling:\\n{lgb_report}\")"
   ]
  },
  {
   "cell_type": "markdown",
   "metadata": {},
   "source": [
    "#### Insights\n",
    "- Recall score is very low, this is probably due to threshold at 0.5 is not optimal for LIGHTGBM"
   ]
  },
  {
   "cell_type": "markdown",
   "metadata": {},
   "source": [
    "#### Let's plot precision-recall curve for Positive class"
   ]
  },
  {
   "cell_type": "code",
   "execution_count": 143,
   "metadata": {},
   "outputs": [
    {
     "data": {
      "image/png": "[encoded data removed]",
      "text/plain": [
       "<Figure size 640x480 with 1 Axes>"
      ]
     },
     "metadata": {},
     "output_type": "display_data"
    }
   ],
   "source": [
    "from sklearn.metrics import precision_recall_curve\n",
    "\n",
    "y_pred_probs = lgb_model.predict_proba(X_test_preprocessed)[:, 1]  # Predicted probabilities for the positive class\n",
    "precisions, recalls, thresholds = precision_recall_curve(y_test, y_pred_probs)\n",
    "\n",
    "# Plot Precision-Recall curve\n",
    "import matplotlib.pyplot as plt\n",
    "plt.plot(recalls, precisions)\n",
    "plt.xlabel('Recall')\n",
    "plt.ylabel('Precision')\n",
    "plt.title('Precision-Recall Curve')\n",
    "plt.show()\n"
   ]
  },
  {
   "cell_type": "code",
   "execution_count": 162,
   "metadata": {},
   "outputs": [
    {
     "name": "stdout",
     "output_type": "stream",
     "text": [
      "Classification Report for LightGBM with Oversampling at 0.04 threshold:\n",
      "              precision    recall  f1-score   support\n",
      "\n",
      "           0       1.00      0.82      0.90    197794\n",
      "           1       0.04      0.77      0.08      2206\n",
      "\n",
      "    accuracy                           0.82    200000\n",
      "   macro avg       0.52      0.79      0.49    200000\n",
      "weighted avg       0.99      0.82      0.89    200000\n",
      "\n"
     ]
    }
   ],
   "source": [
    "optimal_threshold = 0.04  # Example threshold based on the curve\n",
    "y_pred_adjusted = (y_pred_probs >= optimal_threshold).astype(int)\n",
    "\n",
    "adjusted_report = classification_report(y_test, y_pred_adjusted)\n",
    "print(f\"Classification Report for LightGBM with Oversampling at 0.04 threshold:\\n{adjusted_report}\")\n"
   ]
  },
  {
   "cell_type": "markdown",
   "metadata": {},
   "source": [
    "#### Insights\n",
    "1. Improved Fraud Detection (Recall):\n",
    "\n",
    "- The recall for Class 1 (fraud cases) **increased to 77%**, meaning the model now detects most fraud cases. This is a significant improvement over the earlier recall (likely **near 8%** or so when using the default threshold of 0.5).\n",
    "\n",
    "2. Precision Tradeoff:\n",
    "- Precision for fraud cases dropped to 4%, indicating that many non-fraud cases are misclassified as fraud (false positives). This is the expected tradeoff when adjusting the threshold to prioritize recall in highly imbalanced datasets.\n",
    "\n",
    "3. Accuracy\n",
    "- Achieve good overall accuracy (0.82)."
   ]
  },
  {
   "cell_type": "code",
   "execution_count": 161,
   "metadata": {},
   "outputs": [
    {
     "data": {
      "image/png": "[encoded data removed]",
      "text/plain": [
       "<Figure size 800x600 with 2 Axes>"
      ]
     },
     "metadata": {},
     "output_type": "display_data"
    }
   ],
   "source": [
    "cm_lgbm = confusion_matrix(y_test, y_pred_adjusted)\n",
    "# 5. Visualize the confusion matrix using Seaborn's heatmap\n",
    "plt.figure(figsize=(8, 6))\n",
    "sns.heatmap(cm_lgbm, annot=True, fmt='d', cmap='Blues', xticklabels=['Non-Fraud', 'Fraud'], yticklabels=['Non-Fraud', 'Fraud'])\n",
    "plt.xlabel('Predicted Label')\n",
    "plt.ylabel('True Label')\n",
    "plt.title('Confusion Matrix for LightGBM with Oversampling')\n",
    "plt.show()  "
   ]
  },
  {
   "cell_type": "markdown",
   "metadata": {},
   "source": []
  }
 ],
 "metadata": {
  "kernelspec": {
   "display_name": "Python 3",
   "language": "python",
   "name": "python3"
  },
  "language_info": {
   "codemirror_mode": {
    "name": "ipython",
    "version": 3
   },
   "file_extension": ".py",
   "mimetype": "text/x-python",
   "name": "python",
   "nbconvert_exporter": "python",
   "pygments_lexer": "ipython3",
   "version": "3.8.0"
  }
 },
 "nbformat": 4,
 "nbformat_minor": 2
}
